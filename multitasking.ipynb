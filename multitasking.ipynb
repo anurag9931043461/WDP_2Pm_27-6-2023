{
 "cells": [
  {
   "cell_type": "code",
   "execution_count": 2,
   "id": "c24070fd-a294-43bc-92a5-9d0f0c728697",
   "metadata": {},
   "outputs": [
    {
     "name": "stdout",
     "output_type": "stream",
     "text": [
      "Hello world\n",
      "this is krishna\n"
     ]
    },
    {
     "ename": "ZeroDivisionError",
     "evalue": "division by zero",
     "output_type": "error",
     "traceback": [
      "\u001b[1;31m---------------------------------------------------------------------------\u001b[0m",
      "\u001b[1;31mZeroDivisionError\u001b[0m                         Traceback (most recent call last)",
      "Cell \u001b[1;32mIn[2], line 3\u001b[0m\n\u001b[0;32m      1\u001b[0m \u001b[38;5;28mprint\u001b[39m(\u001b[38;5;124m\"\u001b[39m\u001b[38;5;124mHello world\u001b[39m\u001b[38;5;124m\"\u001b[39m)\n\u001b[0;32m      2\u001b[0m \u001b[38;5;28mprint\u001b[39m(\u001b[38;5;124m\"\u001b[39m\u001b[38;5;124mthis is krishna\u001b[39m\u001b[38;5;124m\"\u001b[39m)\n\u001b[1;32m----> 3\u001b[0m \u001b[38;5;28mprint\u001b[39m(\u001b[38;5;241;43m2\u001b[39;49m\u001b[38;5;241;43m/\u001b[39;49m\u001b[38;5;241;43m0\u001b[39;49m)\n\u001b[0;32m      4\u001b[0m \u001b[38;5;28mprint\u001b[39m(\u001b[38;5;124m\"\u001b[39m\u001b[38;5;124mHello world\u001b[39m\u001b[38;5;124m\"\u001b[39m)\n",
      "\u001b[1;31mZeroDivisionError\u001b[0m: division by zero"
     ]
    }
   ],
   "source": [
    "print(\"Hello world\")\n",
    "print(\"this is krishna\")\n",
    "print(2/0)\n",
    "print(\"Hello world\")"
   ]
  },
  {
   "cell_type": "code",
   "execution_count": 4,
   "id": "e1fcc786-2835-4961-b787-30c90fb4bdee",
   "metadata": {},
   "outputs": [],
   "source": [
    "def intro():\n",
    "    print(\"I am krishna\")"
   ]
  },
  {
   "cell_type": "code",
   "execution_count": 6,
   "id": "bcad05db-5ca0-4552-a601-71a86cc85124",
   "metadata": {},
   "outputs": [],
   "source": [
    "def div():\n",
    "    print(2/0)"
   ]
  },
  {
   "cell_type": "code",
   "execution_count": 7,
   "id": "41fc354f-27ee-4d66-94e0-0dd199d57fbf",
   "metadata": {},
   "outputs": [],
   "source": [
    "def hello():\n",
    "    print(\"Hello world\")"
   ]
  },
  {
   "cell_type": "code",
   "execution_count": 3,
   "id": "d37e760c-ff59-44ee-9136-bfa29ca18abb",
   "metadata": {},
   "outputs": [],
   "source": [
    "from threading import Thread"
   ]
  },
  {
   "cell_type": "code",
   "execution_count": 11,
   "id": "9545f64a-7afd-4f2e-8c48-b3f2e79141a0",
   "metadata": {},
   "outputs": [],
   "source": [
    "t1=Thread(target=intro,name=\"intro\")\n",
    "t2=Thread(target=div,name=\"division\")\n",
    "t3=Thread(target=hello,name=\"hello\")"
   ]
  },
  {
   "cell_type": "code",
   "execution_count": 12,
   "id": "cc6fb738-15d5-44ce-9b13-700e5a03e14f",
   "metadata": {},
   "outputs": [
    {
     "name": "stderr",
     "output_type": "stream",
     "text": [
      "Exception in thread division:\n",
      "Traceback (most recent call last):\n",
      "  File \"C:\\Users\\Ducat\\AppData\\Local\\Programs\\Python\\Python311\\Lib\\threading.py\", line 1038, in _bootstrap_inner\n",
      "    self.run()\n",
      "  File \"C:\\Users\\Ducat\\AppData\\Local\\Programs\\Python\\Python311\\Lib\\threading.py\", line 975, in run\n",
      "    self._target(*self._args, **self._kwargs)\n",
      "  File \"C:\\Users\\Ducat\\AppData\\Local\\Temp\\ipykernel_2492\\1046203753.py\", line 2, in div\n",
      "ZeroDivisionError: division by zero\n"
     ]
    },
    {
     "name": "stdout",
     "output_type": "stream",
     "text": [
      "I am krishna\n",
      "Hello world\n"
     ]
    }
   ],
   "source": [
    "t1.start()\n",
    "t2.start()\n",
    "t3.start()"
   ]
  },
  {
   "cell_type": "code",
   "execution_count": 20,
   "id": "b126cabe-f0da-430c-a6a8-f08551b2465e",
   "metadata": {},
   "outputs": [],
   "source": [
    "import time\n",
    "\n",
    "def ashish():\n",
    "    for i in range(100):\n",
    "        print(\"Salam\")\n",
    "        time.sleep(1000)       "
   ]
  },
  {
   "cell_type": "code",
   "execution_count": 21,
   "id": "aaa75b36-5696-4a08-ad2c-f28340fc1c54",
   "metadata": {},
   "outputs": [],
   "source": [
    "def anurag():\n",
    "    for i in range(100):\n",
    "        print(\"Namaste\")\n",
    "        time.sleep(800)"
   ]
  },
  {
   "cell_type": "code",
   "execution_count": 22,
   "id": "9b42463c-e2d3-4abf-917f-84892459a032",
   "metadata": {},
   "outputs": [],
   "source": [
    "t1=Thread(target=ashish,name=\"ashish\")\n",
    "t2=Thread(target=anurag,name=\"anurag\")"
   ]
  },
  {
   "cell_type": "code",
   "execution_count": 23,
   "id": "b4fa92c6-3a74-4c30-8eb5-a71a105330dd",
   "metadata": {},
   "outputs": [
    {
     "name": "stdout",
     "output_type": "stream",
     "text": [
      "Salam\n",
      "Namaste\n",
      "Namaste\n"
     ]
    }
   ],
   "source": [
    "\n",
    "t1.start()\n",
    "t2.start()"
   ]
  },
  {
   "cell_type": "code",
   "execution_count": null,
   "id": "5bd0bdb0-c349-40e7-aca8-2612ae72281c",
   "metadata": {},
   "outputs": [],
   "source": []
  }
 ],
 "metadata": {
  "kernelspec": {
   "display_name": "Python 3 (ipykernel)",
   "language": "python",
   "name": "python3"
  },
  "language_info": {
   "codemirror_mode": {
    "name": "ipython",
    "version": 3
   },
   "file_extension": ".py",
   "mimetype": "text/x-python",
   "name": "python",
   "nbconvert_exporter": "python",
   "pygments_lexer": "ipython3",
   "version": "3.11.4"
  }
 },
 "nbformat": 4,
 "nbformat_minor": 5
}
