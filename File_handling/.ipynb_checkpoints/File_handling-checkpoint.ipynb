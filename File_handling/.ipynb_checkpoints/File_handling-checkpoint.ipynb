{
 "cells": [
  {
   "cell_type": "markdown",
   "id": "d31e1229-f762-46b3-a0a1-b16bf471c48d",
   "metadata": {},
   "source": [
    "# file_handling_perameter:"
   ]
  },
  {
   "cell_type": "markdown",
   "id": "328b06f6-ef84-43ba-b746-2be92b8c2d49",
   "metadata": {},
   "source": [
    "x: create a new file\n",
    "\n",
    "r: read\n",
    "\n",
    "w: write\n",
    "\n",
    "a: append\n",
    "\n",
    "rb:"
   ]
  },
  {
   "cell_type": "code",
   "execution_count": 2,
   "id": "4fdcfb4b-070f-487c-b359-52d40db1ecc6",
   "metadata": {},
   "outputs": [],
   "source": [
    "f1=open(\"File_handling/xyz.txt\",mode=\"x\")\n",
    "f1.close()"
   ]
  },
  {
   "cell_type": "code",
   "execution_count": 3,
   "id": "b2de86e4-8cd1-41ed-bdc4-df31f85cfdaf",
   "metadata": {
    "scrolled": true
   },
   "outputs": [
    {
     "ename": "FileExistsError",
     "evalue": "[Errno 17] File exists: 'File_handling/xyz.txt'",
     "output_type": "error",
     "traceback": [
      "\u001b[1;31m---------------------------------------------------------------------------\u001b[0m",
      "\u001b[1;31mFileExistsError\u001b[0m                           Traceback (most recent call last)",
      "Cell \u001b[1;32mIn[3], line 1\u001b[0m\n\u001b[1;32m----> 1\u001b[0m f1\u001b[38;5;241m=\u001b[39m\u001b[38;5;28;43mopen\u001b[39;49m\u001b[43m(\u001b[49m\u001b[38;5;124;43m\"\u001b[39;49m\u001b[38;5;124;43mFile_handling/xyz.txt\u001b[39;49m\u001b[38;5;124;43m\"\u001b[39;49m\u001b[43m,\u001b[49m\u001b[43mmode\u001b[49m\u001b[38;5;241;43m=\u001b[39;49m\u001b[38;5;124;43m\"\u001b[39;49m\u001b[38;5;124;43mx\u001b[39;49m\u001b[38;5;124;43m\"\u001b[39;49m\u001b[43m)\u001b[49m\n\u001b[0;32m      2\u001b[0m f1\u001b[38;5;241m.\u001b[39mclose()\n",
      "File \u001b[1;32m~\\AppData\\Local\\Programs\\Python\\Python311\\Lib\\site-packages\\IPython\\core\\interactiveshell.py:284\u001b[0m, in \u001b[0;36m_modified_open\u001b[1;34m(file, *args, **kwargs)\u001b[0m\n\u001b[0;32m    277\u001b[0m \u001b[38;5;28;01mif\u001b[39;00m file \u001b[38;5;129;01min\u001b[39;00m {\u001b[38;5;241m0\u001b[39m, \u001b[38;5;241m1\u001b[39m, \u001b[38;5;241m2\u001b[39m}:\n\u001b[0;32m    278\u001b[0m     \u001b[38;5;28;01mraise\u001b[39;00m \u001b[38;5;167;01mValueError\u001b[39;00m(\n\u001b[0;32m    279\u001b[0m         \u001b[38;5;124mf\u001b[39m\u001b[38;5;124m\"\u001b[39m\u001b[38;5;124mIPython won\u001b[39m\u001b[38;5;124m'\u001b[39m\u001b[38;5;124mt let you open fd=\u001b[39m\u001b[38;5;132;01m{\u001b[39;00mfile\u001b[38;5;132;01m}\u001b[39;00m\u001b[38;5;124m by default \u001b[39m\u001b[38;5;124m\"\u001b[39m\n\u001b[0;32m    280\u001b[0m         \u001b[38;5;124m\"\u001b[39m\u001b[38;5;124mas it is likely to crash IPython. If you know what you are doing, \u001b[39m\u001b[38;5;124m\"\u001b[39m\n\u001b[0;32m    281\u001b[0m         \u001b[38;5;124m\"\u001b[39m\u001b[38;5;124myou can use builtins\u001b[39m\u001b[38;5;124m'\u001b[39m\u001b[38;5;124m open.\u001b[39m\u001b[38;5;124m\"\u001b[39m\n\u001b[0;32m    282\u001b[0m     )\n\u001b[1;32m--> 284\u001b[0m \u001b[38;5;28;01mreturn\u001b[39;00m \u001b[43mio_open\u001b[49m\u001b[43m(\u001b[49m\u001b[43mfile\u001b[49m\u001b[43m,\u001b[49m\u001b[43m \u001b[49m\u001b[38;5;241;43m*\u001b[39;49m\u001b[43margs\u001b[49m\u001b[43m,\u001b[49m\u001b[43m \u001b[49m\u001b[38;5;241;43m*\u001b[39;49m\u001b[38;5;241;43m*\u001b[39;49m\u001b[43mkwargs\u001b[49m\u001b[43m)\u001b[49m\n",
      "\u001b[1;31mFileExistsError\u001b[0m: [Errno 17] File exists: 'File_handling/xyz.txt'"
     ]
    }
   ],
   "source": [
    "f1=open(\"File_handling/xyz.txt\",mode=\"x\")\n",
    "f1.close()"
   ]
  },
  {
   "cell_type": "code",
   "execution_count": 4,
   "id": "aa19af37-339b-47e5-a4dd-8f5009c9f2fe",
   "metadata": {},
   "outputs": [
    {
     "name": "stdout",
     "output_type": "stream",
     "text": [
      "[Errno 17] File exists: 'File_handling/xyz.txt'\n"
     ]
    }
   ],
   "source": [
    "try:\n",
    "    f1=open(\"File_handling/xyz.txt\",mode=\"x\")\n",
    "except FileExistsError as e:\n",
    "    print(e)\n",
    "finally:\n",
    "    f1.close()\n"
   ]
  },
  {
   "cell_type": "code",
   "execution_count": 12,
   "id": "62a68075-d0fa-4b66-a2af-81663ffa7568",
   "metadata": {},
   "outputs": [],
   "source": [
    "k=0\n",
    "while k<=10: \n",
    "    try:\n",
    "        f1=open(f\"File_handling/{k}.txt\",mode=\"x\")\n",
    "        \n",
    "    except FileExistsError :\n",
    "        print(\"File already exist\")\n",
    "    finally:\n",
    "        f1.close()\n",
    "    k=k+1"
   ]
  },
  {
   "cell_type": "code",
   "execution_count": null,
   "id": "0a34f6ff-c4c4-4ea9-9896-df556c633b64",
   "metadata": {},
   "outputs": [],
   "source": [
    "try:\n",
    "    f1=open(\"File_handling/xyz.txt\",mode=\"x\")\n",
    "except FileExistsError as e:\n",
    "    print(e)\n",
    "finally:\n",
    "    f1.close()"
   ]
  },
  {
   "cell_type": "code",
   "execution_count": null,
   "id": "9eec3815-34c1-4c73-a9f7-7fefe9377bc2",
   "metadata": {},
   "outputs": [],
   "source": []
  },
  {
   "cell_type": "code",
   "execution_count": null,
   "id": "6fa83ccb-ab36-4ede-a5fb-0632f76215dc",
   "metadata": {},
   "outputs": [],
   "source": []
  },
  {
   "cell_type": "code",
   "execution_count": null,
   "id": "5c1dd781-32ab-4534-8419-fbd71f257347",
   "metadata": {},
   "outputs": [],
   "source": []
  },
  {
   "cell_type": "code",
   "execution_count": null,
   "id": "bec29545-fdbf-4082-9c6b-7c3346135769",
   "metadata": {},
   "outputs": [],
   "source": []
  }
 ],
 "metadata": {
  "kernelspec": {
   "display_name": "Python 3 (ipykernel)",
   "language": "python",
   "name": "python3"
  },
  "language_info": {
   "codemirror_mode": {
    "name": "ipython",
    "version": 3
   },
   "file_extension": ".py",
   "mimetype": "text/x-python",
   "name": "python",
   "nbconvert_exporter": "python",
   "pygments_lexer": "ipython3",
   "version": "3.11.5"
  }
 },
 "nbformat": 4,
 "nbformat_minor": 5
}
