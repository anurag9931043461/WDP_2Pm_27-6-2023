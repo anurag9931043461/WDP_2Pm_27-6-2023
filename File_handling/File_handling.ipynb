{
 "cells": [
  {
   "cell_type": "markdown",
   "id": "d31e1229-f762-46b3-a0a1-b16bf471c48d",
   "metadata": {},
   "source": [
    "# file_handling_perameter:"
   ]
  },
  {
   "cell_type": "markdown",
   "id": "328b06f6-ef84-43ba-b746-2be92b8c2d49",
   "metadata": {},
   "source": [
    "x: create a new file\n",
    "\n",
    "r: read\n",
    "\n",
    "w: write\n",
    "\n",
    "a: append\n",
    "\n",
    "rb:"
   ]
  },
  {
   "cell_type": "code",
   "execution_count": 2,
   "id": "4fdcfb4b-070f-487c-b359-52d40db1ecc6",
   "metadata": {},
   "outputs": [],
   "source": [
    "f1=open(\"File_handling/xyz.txt\",mode=\"x\")\n",
    "f1.close()"
   ]
  },
  {
   "cell_type": "code",
   "execution_count": 3,
   "id": "b2de86e4-8cd1-41ed-bdc4-df31f85cfdaf",
   "metadata": {
    "scrolled": true
   },
   "outputs": [
    {
     "ename": "FileExistsError",
     "evalue": "[Errno 17] File exists: 'File_handling/xyz.txt'",
     "output_type": "error",
     "traceback": [
      "\u001b[1;31m---------------------------------------------------------------------------\u001b[0m",
      "\u001b[1;31mFileExistsError\u001b[0m                           Traceback (most recent call last)",
      "Cell \u001b[1;32mIn[3], line 1\u001b[0m\n\u001b[1;32m----> 1\u001b[0m f1\u001b[38;5;241m=\u001b[39m\u001b[38;5;28;43mopen\u001b[39;49m\u001b[43m(\u001b[49m\u001b[38;5;124;43m\"\u001b[39;49m\u001b[38;5;124;43mFile_handling/xyz.txt\u001b[39;49m\u001b[38;5;124;43m\"\u001b[39;49m\u001b[43m,\u001b[49m\u001b[43mmode\u001b[49m\u001b[38;5;241;43m=\u001b[39;49m\u001b[38;5;124;43m\"\u001b[39;49m\u001b[38;5;124;43mx\u001b[39;49m\u001b[38;5;124;43m\"\u001b[39;49m\u001b[43m)\u001b[49m\n\u001b[0;32m      2\u001b[0m f1\u001b[38;5;241m.\u001b[39mclose()\n",
      "File \u001b[1;32m~\\AppData\\Local\\Programs\\Python\\Python311\\Lib\\site-packages\\IPython\\core\\interactiveshell.py:284\u001b[0m, in \u001b[0;36m_modified_open\u001b[1;34m(file, *args, **kwargs)\u001b[0m\n\u001b[0;32m    277\u001b[0m \u001b[38;5;28;01mif\u001b[39;00m file \u001b[38;5;129;01min\u001b[39;00m {\u001b[38;5;241m0\u001b[39m, \u001b[38;5;241m1\u001b[39m, \u001b[38;5;241m2\u001b[39m}:\n\u001b[0;32m    278\u001b[0m     \u001b[38;5;28;01mraise\u001b[39;00m \u001b[38;5;167;01mValueError\u001b[39;00m(\n\u001b[0;32m    279\u001b[0m         \u001b[38;5;124mf\u001b[39m\u001b[38;5;124m\"\u001b[39m\u001b[38;5;124mIPython won\u001b[39m\u001b[38;5;124m'\u001b[39m\u001b[38;5;124mt let you open fd=\u001b[39m\u001b[38;5;132;01m{\u001b[39;00mfile\u001b[38;5;132;01m}\u001b[39;00m\u001b[38;5;124m by default \u001b[39m\u001b[38;5;124m\"\u001b[39m\n\u001b[0;32m    280\u001b[0m         \u001b[38;5;124m\"\u001b[39m\u001b[38;5;124mas it is likely to crash IPython. If you know what you are doing, \u001b[39m\u001b[38;5;124m\"\u001b[39m\n\u001b[0;32m    281\u001b[0m         \u001b[38;5;124m\"\u001b[39m\u001b[38;5;124myou can use builtins\u001b[39m\u001b[38;5;124m'\u001b[39m\u001b[38;5;124m open.\u001b[39m\u001b[38;5;124m\"\u001b[39m\n\u001b[0;32m    282\u001b[0m     )\n\u001b[1;32m--> 284\u001b[0m \u001b[38;5;28;01mreturn\u001b[39;00m \u001b[43mio_open\u001b[49m\u001b[43m(\u001b[49m\u001b[43mfile\u001b[49m\u001b[43m,\u001b[49m\u001b[43m \u001b[49m\u001b[38;5;241;43m*\u001b[39;49m\u001b[43margs\u001b[49m\u001b[43m,\u001b[49m\u001b[43m \u001b[49m\u001b[38;5;241;43m*\u001b[39;49m\u001b[38;5;241;43m*\u001b[39;49m\u001b[43mkwargs\u001b[49m\u001b[43m)\u001b[49m\n",
      "\u001b[1;31mFileExistsError\u001b[0m: [Errno 17] File exists: 'File_handling/xyz.txt'"
     ]
    }
   ],
   "source": [
    "f1=open(\"File_handling/xyz.txt\",mode=\"x\")\n",
    "f1.close()"
   ]
  },
  {
   "cell_type": "code",
   "execution_count": 4,
   "id": "aa19af37-339b-47e5-a4dd-8f5009c9f2fe",
   "metadata": {},
   "outputs": [
    {
     "name": "stdout",
     "output_type": "stream",
     "text": [
      "[Errno 17] File exists: 'File_handling/xyz.txt'\n"
     ]
    }
   ],
   "source": [
    "try:\n",
    "    f1=open(\"File_handling/xyz.txt\",mode=\"x\")\n",
    "except FileExistsError as e:\n",
    "    print(e)\n",
    "finally:\n",
    "    f1.close()\n"
   ]
  },
  {
   "cell_type": "code",
   "execution_count": 12,
   "id": "62a68075-d0fa-4b66-a2af-81663ffa7568",
   "metadata": {},
   "outputs": [],
   "source": [
    "k=0\n",
    "while k<=10: \n",
    "    try:\n",
    "        f1=open(f\"File_handling/{k}.txt\",mode=\"x\")\n",
    "        \n",
    "    except FileExistsError :\n",
    "        print(\"File already exist\")\n",
    "    finally:\n",
    "        f1.close()\n",
    "    k=k+1"
   ]
  },
  {
   "cell_type": "code",
   "execution_count": null,
   "id": "0a34f6ff-c4c4-4ea9-9896-df556c633b64",
   "metadata": {},
   "outputs": [],
   "source": [
    "try:\n",
    "    f1=open(\"File_handling/xyz.txt\",mode=\"x\")\n",
    "except FileExistsError as e:\n",
    "    print(e)\n",
    "finally:\n",
    "    f1.close()"
   ]
  },
  {
   "cell_type": "code",
   "execution_count": 25,
   "id": "9eec3815-34c1-4c73-a9f7-7fefe9377bc2",
   "metadata": {},
   "outputs": [],
   "source": [
    "f2=open(\"File_handling/xyz.txt\",'r')"
   ]
  },
  {
   "cell_type": "code",
   "execution_count": 26,
   "id": "6fa83ccb-ab36-4ede-a5fb-0632f76215dc",
   "metadata": {},
   "outputs": [
    {
     "data": {
      "text/plain": [
       "'this is kr'"
      ]
     },
     "execution_count": 26,
     "metadata": {},
     "output_type": "execute_result"
    }
   ],
   "source": [
    "f2.read(10)"
   ]
  },
  {
   "cell_type": "code",
   "execution_count": 27,
   "id": "5c1dd781-32ab-4534-8419-fbd71f257347",
   "metadata": {},
   "outputs": [
    {
     "data": {
      "text/plain": [
       "'ishna kuma'"
      ]
     },
     "execution_count": 27,
     "metadata": {},
     "output_type": "execute_result"
    }
   ],
   "source": [
    "f2.read(10)"
   ]
  },
  {
   "cell_type": "code",
   "execution_count": 28,
   "id": "bec29545-fdbf-4082-9c6b-7c3346135769",
   "metadata": {},
   "outputs": [
    {
     "name": "stdout",
     "output_type": "stream",
     "text": [
      "r .\n",
      "krishna kumar is no more beacuse of Ashu.\n",
      "Krishna is buried inside Bharat land.\n",
      "\n"
     ]
    }
   ],
   "source": [
    "print(f2.read(100))"
   ]
  },
  {
   "cell_type": "code",
   "execution_count": 23,
   "id": "1bbc9316-0d66-449c-b950-5b53d1c57403",
   "metadata": {},
   "outputs": [],
   "source": [
    "f2.close()"
   ]
  },
  {
   "cell_type": "code",
   "execution_count": 29,
   "id": "d4e86b34-5bd6-4bf3-9a05-8b1a3e1e7afb",
   "metadata": {},
   "outputs": [],
   "source": [
    "f2=open(\"File_handling/xyz.txt\",'r')"
   ]
  },
  {
   "cell_type": "code",
   "execution_count": 30,
   "id": "27fefa25-fee3-452b-9eb4-d3385fee092f",
   "metadata": {},
   "outputs": [
    {
     "data": {
      "text/plain": [
       "'this is kr'"
      ]
     },
     "execution_count": 30,
     "metadata": {},
     "output_type": "execute_result"
    }
   ],
   "source": [
    "f2.read(10)"
   ]
  },
  {
   "cell_type": "code",
   "execution_count": 32,
   "id": "7a8cfc2b-a935-45dc-8816-08a4d33f9ecd",
   "metadata": {},
   "outputs": [
    {
     "data": {
      "text/plain": [
       "0"
      ]
     },
     "execution_count": 32,
     "metadata": {},
     "output_type": "execute_result"
    }
   ],
   "source": [
    "f2.seek(0)"
   ]
  },
  {
   "cell_type": "code",
   "execution_count": 33,
   "id": "995ba6fb-e646-45df-9fe4-693c5cc611cd",
   "metadata": {},
   "outputs": [
    {
     "data": {
      "text/plain": [
       "'this is krishna kumar .\\nkrishna kumar is no more beacuse of Ashu.\\nKrishna is buried inside Bharat land.\\n'"
      ]
     },
     "execution_count": 33,
     "metadata": {},
     "output_type": "execute_result"
    }
   ],
   "source": [
    "f2.read()"
   ]
  },
  {
   "cell_type": "code",
   "execution_count": 35,
   "id": "f5042842-a45d-4e71-962d-d5ca6189e005",
   "metadata": {},
   "outputs": [
    {
     "data": {
      "text/plain": [
       "0"
      ]
     },
     "execution_count": 35,
     "metadata": {},
     "output_type": "execute_result"
    }
   ],
   "source": [
    "f2.seek(0)"
   ]
  },
  {
   "cell_type": "code",
   "execution_count": 36,
   "id": "19074e2d-a451-4fc6-b0c8-0d5ef997c529",
   "metadata": {},
   "outputs": [
    {
     "data": {
      "text/plain": [
       "'this is krishna kumar .\\n'"
      ]
     },
     "execution_count": 36,
     "metadata": {},
     "output_type": "execute_result"
    }
   ],
   "source": [
    "f2.readline()"
   ]
  },
  {
   "cell_type": "code",
   "execution_count": 37,
   "id": "7920bdf9-61b1-41cb-9375-fe261a9d78c2",
   "metadata": {},
   "outputs": [
    {
     "name": "stdout",
     "output_type": "stream",
     "text": [
      "krishna kumar is no more beacuse of Ashu.\n",
      "\n"
     ]
    }
   ],
   "source": [
    "print(f2.readline())"
   ]
  },
  {
   "cell_type": "code",
   "execution_count": 38,
   "id": "2c274ad7-6eed-49b4-9a8c-ae7dc9e3355e",
   "metadata": {},
   "outputs": [
    {
     "data": {
      "text/plain": [
       "['Krishna is buried inside Bharat land.\\n']"
      ]
     },
     "execution_count": 38,
     "metadata": {},
     "output_type": "execute_result"
    }
   ],
   "source": [
    "f2.readlines()"
   ]
  },
  {
   "cell_type": "code",
   "execution_count": 39,
   "id": "c360d71d-6be4-4186-91d7-835e740ef9bd",
   "metadata": {},
   "outputs": [
    {
     "data": {
      "text/plain": [
       "0"
      ]
     },
     "execution_count": 39,
     "metadata": {},
     "output_type": "execute_result"
    }
   ],
   "source": [
    "f2.seek(0)"
   ]
  },
  {
   "cell_type": "code",
   "execution_count": 40,
   "id": "8f78add0-38f8-4f88-b8ee-b44d573b9ab8",
   "metadata": {},
   "outputs": [
    {
     "data": {
      "text/plain": [
       "['this is krishna kumar .\\n',\n",
       " 'krishna kumar is no more beacuse of Ashu.\\n',\n",
       " 'Krishna is buried inside Bharat land.\\n']"
      ]
     },
     "execution_count": 40,
     "metadata": {},
     "output_type": "execute_result"
    }
   ],
   "source": [
    "f2.readlines()"
   ]
  },
  {
   "cell_type": "code",
   "execution_count": 41,
   "id": "397a6c65-1a84-4ee3-a9e1-a993c8c03c06",
   "metadata": {},
   "outputs": [],
   "source": [
    "f2.close()"
   ]
  },
  {
   "cell_type": "markdown",
   "id": "9d08b7c9-7d60-4ae7-bdd2-5e0d1201005d",
   "metadata": {},
   "source": [
    "# write  w"
   ]
  },
  {
   "cell_type": "code",
   "execution_count": 43,
   "id": "542b41cf-7856-441d-8685-9ceb37f1c140",
   "metadata": {},
   "outputs": [],
   "source": [
    "f3=open(\"File_handling/klm.txt\",'w')"
   ]
  },
  {
   "cell_type": "code",
   "execution_count": 44,
   "id": "3ef97c3a-c18a-444f-94af-7b85f7eb9daf",
   "metadata": {},
   "outputs": [],
   "source": [
    "f3.close()"
   ]
  },
  {
   "cell_type": "code",
   "execution_count": 45,
   "id": "721640bd-8cb4-43e3-94d1-b831fd391233",
   "metadata": {},
   "outputs": [],
   "source": [
    "f4=open(\"File_handling/xyz.txt\",'w')"
   ]
  },
  {
   "cell_type": "code",
   "execution_count": 46,
   "id": "f93bb186-2c05-4988-952a-6f449181fc60",
   "metadata": {},
   "outputs": [
    {
     "data": {
      "text/plain": [
       "21"
      ]
     },
     "execution_count": 46,
     "metadata": {},
     "output_type": "execute_result"
    }
   ],
   "source": [
    "f4.write(\"This is krishna kumar\")"
   ]
  },
  {
   "cell_type": "code",
   "execution_count": 47,
   "id": "209578c7-7634-4720-8226-c7578d2a5050",
   "metadata": {},
   "outputs": [
    {
     "data": {
      "text/plain": [
       "15"
      ]
     },
     "execution_count": 47,
     "metadata": {},
     "output_type": "execute_result"
    }
   ],
   "source": [
    "f4.write(\"i am AI trainer\")"
   ]
  },
  {
   "cell_type": "code",
   "execution_count": 48,
   "id": "98abf795-6a11-46f0-90fe-ff65b4dc8f47",
   "metadata": {},
   "outputs": [],
   "source": [
    "f4.close()"
   ]
  },
  {
   "cell_type": "code",
   "execution_count": 49,
   "id": "9234f2c1-9ef9-4ab0-ac27-754cc8177ab1",
   "metadata": {},
   "outputs": [],
   "source": [
    "f5=open(\"File_handling/xyz.txt\",'w')"
   ]
  },
  {
   "cell_type": "code",
   "execution_count": 50,
   "id": "0cbaaeaa-96e5-4b01-b96e-f6b04fdf28d3",
   "metadata": {},
   "outputs": [],
   "source": [
    "f5.close()"
   ]
  },
  {
   "cell_type": "code",
   "execution_count": 51,
   "id": "3ecbba85-f8a0-4b10-ac4a-71a7f81e88d8",
   "metadata": {},
   "outputs": [],
   "source": [
    "f5=open(\"File_handling/xyz.py\",'w')"
   ]
  },
  {
   "cell_type": "code",
   "execution_count": 53,
   "id": "71af0315-70e1-47ac-b085-4a7af4c44f7b",
   "metadata": {},
   "outputs": [],
   "source": [
    "f6=open(\"File_handling/xyz.txt\",'a')"
   ]
  },
  {
   "cell_type": "code",
   "execution_count": 54,
   "id": "d1320ee7-2d5e-4d37-b98b-37dc0cf711ff",
   "metadata": {},
   "outputs": [],
   "source": [
    "f6.close()"
   ]
  },
  {
   "cell_type": "code",
   "execution_count": 55,
   "id": "e62f77de-0790-4d5a-8f7b-3f5a56f5edfa",
   "metadata": {},
   "outputs": [],
   "source": [
    "f6=open(\"File_handling/xyz.txt\",'a')"
   ]
  },
  {
   "cell_type": "code",
   "execution_count": null,
   "id": "05af463f-49f6-414f-a826-d8cef91735ec",
   "metadata": {},
   "outputs": [],
   "source": []
  }
 ],
 "metadata": {
  "kernelspec": {
   "display_name": "Python 3 (ipykernel)",
   "language": "python",
   "name": "python3"
  },
  "language_info": {
   "codemirror_mode": {
    "name": "ipython",
    "version": 3
   },
   "file_extension": ".py",
   "mimetype": "text/x-python",
   "name": "python",
   "nbconvert_exporter": "python",
   "pygments_lexer": "ipython3",
   "version": "3.11.5"
  }
 },
 "nbformat": 4,
 "nbformat_minor": 5
}
