{
 "cells": [
  {
   "cell_type": "markdown",
   "id": "fc16484f-7909-4983-8c96-14627dbb2d5b",
   "metadata": {},
   "source": [
    "casting: casting is a process to convert one datatype to another data type"
   ]
  },
  {
   "cell_type": "code",
   "execution_count": 2,
   "id": "169d540d-a2ad-4b71-9f2e-45d39759417c",
   "metadata": {},
   "outputs": [],
   "source": [
    "a=10"
   ]
  },
  {
   "cell_type": "code",
   "execution_count": 4,
   "id": "53bb0073-40a5-44af-93fe-ad1cae3b0b9f",
   "metadata": {},
   "outputs": [
    {
     "name": "stdout",
     "output_type": "stream",
     "text": [
      "<class 'int'>\n",
      "10\n"
     ]
    }
   ],
   "source": [
    "print(type(a))\n",
    "print(a)"
   ]
  },
  {
   "cell_type": "markdown",
   "id": "1e759cac-77eb-4da2-aa17-8d8a6283b49e",
   "metadata": {},
   "source": [
    "### conversion of integer datatype to float datatype"
   ]
  },
  {
   "cell_type": "code",
   "execution_count": 7,
   "id": "42a7ce51-a427-43d7-b686-0abcb26bf442",
   "metadata": {},
   "outputs": [
    {
     "name": "stdout",
     "output_type": "stream",
     "text": [
      "10.0\n",
      "<class 'float'>\n"
     ]
    }
   ],
   "source": [
    "b=float(a)\n",
    "print(b)\n",
    "print(type(b))"
   ]
  },
  {
   "cell_type": "code",
   "execution_count": 8,
   "id": "bf2d4ef3-a1b8-48cc-a55c-0efe7da567af",
   "metadata": {},
   "outputs": [
    {
     "name": "stdout",
     "output_type": "stream",
     "text": [
      "10\n"
     ]
    }
   ],
   "source": [
    "print(a)"
   ]
  },
  {
   "cell_type": "markdown",
   "id": "df0a29b5-537a-41ce-94bc-3a92b054b3a9",
   "metadata": {},
   "source": [
    "### conversion of integer to string"
   ]
  },
  {
   "cell_type": "code",
   "execution_count": 9,
   "id": "e1a10e97-3dc5-4956-a308-e050f4ad8f97",
   "metadata": {},
   "outputs": [
    {
     "name": "stdout",
     "output_type": "stream",
     "text": [
      "10\n"
     ]
    }
   ],
   "source": [
    "print(a)"
   ]
  },
  {
   "cell_type": "code",
   "execution_count": 11,
   "id": "79c64e28-39d9-4f7d-98e6-732efe582f53",
   "metadata": {},
   "outputs": [
    {
     "name": "stdout",
     "output_type": "stream",
     "text": [
      "<class 'str'>\n",
      "10\n"
     ]
    }
   ],
   "source": [
    "c=str(a)\n",
    "print(type(c))\n",
    "print(c)"
   ]
  },
  {
   "cell_type": "code",
   "execution_count": 17,
   "id": "ae099b02-93d4-48d4-898f-905caf15fea8",
   "metadata": {},
   "outputs": [
    {
     "name": "stdout",
     "output_type": "stream",
     "text": [
      "10 <class 'int'>\n",
      "10.0 <class 'float'>\n",
      "10 <class 'str'>\n"
     ]
    }
   ],
   "source": [
    "print(a, type(a))\n",
    "print(b, type(b))\n",
    "print(c, type(c))"
   ]
  },
  {
   "cell_type": "markdown",
   "id": "9818bd2d-b42d-418f-86ae-a026770ff21e",
   "metadata": {},
   "source": [
    "### conversion of float to int or str"
   ]
  },
  {
   "cell_type": "code",
   "execution_count": 19,
   "id": "5a7bc70d-c5c7-44e7-8838-85e42ae082a6",
   "metadata": {},
   "outputs": [
    {
     "name": "stdout",
     "output_type": "stream",
     "text": [
      "10.0 <class 'float'>\n"
     ]
    }
   ],
   "source": [
    "d=10.00\n",
    "print(d,type(d))\n"
   ]
  },
  {
   "cell_type": "markdown",
   "id": "aa8059e2-39ee-4d2c-8060-13da944a9f18",
   "metadata": {},
   "source": [
    "### conversion of float to integer"
   ]
  },
  {
   "cell_type": "code",
   "execution_count": 21,
   "id": "6e674b64-4880-404f-a206-b43767d5a68e",
   "metadata": {},
   "outputs": [
    {
     "name": "stdout",
     "output_type": "stream",
     "text": [
      "10 <class 'int'>\n"
     ]
    }
   ],
   "source": [
    "e=int(d)\n",
    "print(e, type(e))"
   ]
  },
  {
   "cell_type": "markdown",
   "id": "b3559c1a-5e8b-4994-a8b1-7b722bf94e69",
   "metadata": {},
   "source": [
    "### conversion of float to str"
   ]
  },
  {
   "cell_type": "code",
   "execution_count": 24,
   "id": "dec35cb7-71d6-49dc-a24b-24f133cbdeb2",
   "metadata": {},
   "outputs": [
    {
     "name": "stdout",
     "output_type": "stream",
     "text": [
      "10.0 <class 'str'>\n"
     ]
    },
    {
     "data": {
      "text/plain": [
       "'10.0'"
      ]
     },
     "execution_count": 24,
     "metadata": {},
     "output_type": "execute_result"
    }
   ],
   "source": [
    "f=str(d)  #10.0\n",
    "print(f,type(f))\n",
    "f"
   ]
  },
  {
   "cell_type": "code",
   "execution_count": 26,
   "id": "861ac518-7965-42e7-8887-a16ede611c74",
   "metadata": {},
   "outputs": [
    {
     "name": "stdout",
     "output_type": "stream",
     "text": [
      "<class 'int'> 10\n"
     ]
    }
   ],
   "source": [
    "g=\"10\"\n",
    "h=int(g)\n",
    "print(type(h),h)"
   ]
  },
  {
   "cell_type": "code",
   "execution_count": 28,
   "id": "baf58bae-39c1-4fbf-b768-28b287a212e5",
   "metadata": {},
   "outputs": [
    {
     "name": "stdout",
     "output_type": "stream",
     "text": [
      "<class 'float'> 10.0\n"
     ]
    }
   ],
   "source": [
    "i=float(g)\n",
    "print(type(i),i)"
   ]
  },
  {
   "cell_type": "code",
   "execution_count": 29,
   "id": "97d42b8a-2cb6-470e-84ec-34d19226a7c1",
   "metadata": {},
   "outputs": [
    {
     "ename": "ValueError",
     "evalue": "invalid literal for int() with base 10: '10.0'",
     "output_type": "error",
     "traceback": [
      "\u001b[1;31m---------------------------------------------------------------------------\u001b[0m",
      "\u001b[1;31mValueError\u001b[0m                                Traceback (most recent call last)",
      "Cell \u001b[1;32mIn[29], line 2\u001b[0m\n\u001b[0;32m      1\u001b[0m j\u001b[38;5;241m=\u001b[39m\u001b[38;5;124m\"\u001b[39m\u001b[38;5;124m10.0\u001b[39m\u001b[38;5;124m\"\u001b[39m\n\u001b[1;32m----> 2\u001b[0m \u001b[38;5;28;43mint\u001b[39;49m\u001b[43m(\u001b[49m\u001b[43mj\u001b[49m\u001b[43m)\u001b[49m\n",
      "\u001b[1;31mValueError\u001b[0m: invalid literal for int() with base 10: '10.0'"
     ]
    }
   ],
   "source": [
    "j=\"10.0\"\n",
    "int(j)"
   ]
  },
  {
   "cell_type": "code",
   "execution_count": 31,
   "id": "266aa4cb-00e0-4581-ae12-eecfcfa102a4",
   "metadata": {},
   "outputs": [
    {
     "name": "stdout",
     "output_type": "stream",
     "text": [
      "10.0 <class 'float'>\n"
     ]
    }
   ],
   "source": [
    "j=\"10.0\"\n",
    "k=float(j)\n",
    "print(k,type(k))"
   ]
  },
  {
   "cell_type": "code",
   "execution_count": 32,
   "id": "86150744-5e9c-4054-be3c-dbba51793600",
   "metadata": {},
   "outputs": [
    {
     "name": "stdout",
     "output_type": "stream",
     "text": [
      "10 <class 'int'>\n"
     ]
    }
   ],
   "source": [
    "l=int(k)\n",
    "print(l,type(l))"
   ]
  },
  {
   "cell_type": "code",
   "execution_count": 35,
   "id": "076acb04-d7eb-432e-92c5-ca7b58d02c18",
   "metadata": {},
   "outputs": [
    {
     "name": "stdout",
     "output_type": "stream",
     "text": [
      "10.0 <class 'float'>\n",
      "10 <class 'int'>\n"
     ]
    }
   ],
   "source": [
    "m=float(j)\n",
    "print(m,type(m))\n",
    "n=int(m)\n",
    "print(n,type(n))"
   ]
  },
  {
   "cell_type": "code",
   "execution_count": 36,
   "id": "aad6e0c6-f990-4e14-8661-02055a17ee5d",
   "metadata": {},
   "outputs": [
    {
     "data": {
      "text/plain": [
       "'10.0'"
      ]
     },
     "execution_count": 36,
     "metadata": {},
     "output_type": "execute_result"
    }
   ],
   "source": [
    "j"
   ]
  },
  {
   "cell_type": "code",
   "execution_count": 37,
   "id": "ca0c8841-7241-454d-af5b-ee9053570a7f",
   "metadata": {},
   "outputs": [
    {
     "data": {
      "text/plain": [
       "10"
      ]
     },
     "execution_count": 37,
     "metadata": {},
     "output_type": "execute_result"
    }
   ],
   "source": [
    "int(float(j))"
   ]
  },
  {
   "cell_type": "code",
   "execution_count": 39,
   "id": "8169a624-feca-43d6-87d5-bf4383d7e559",
   "metadata": {},
   "outputs": [],
   "source": [
    "z=\"10.09\""
   ]
  },
  {
   "cell_type": "code",
   "execution_count": 40,
   "id": "8caa72a5-6fcf-4754-8301-7af0199b852c",
   "metadata": {},
   "outputs": [],
   "source": [
    "n=eval(z)"
   ]
  },
  {
   "cell_type": "code",
   "execution_count": 42,
   "id": "0f4c1585-4b9c-4f38-bba1-3bebcede73f8",
   "metadata": {},
   "outputs": [
    {
     "name": "stdout",
     "output_type": "stream",
     "text": [
      "10.09 <class 'float'>\n"
     ]
    }
   ],
   "source": [
    "print(n,type(n))"
   ]
  },
  {
   "cell_type": "code",
   "execution_count": 43,
   "id": "6c0e4a9d-3038-4096-8d22-33a374e21843",
   "metadata": {},
   "outputs": [
    {
     "name": "stdout",
     "output_type": "stream",
     "text": [
      "22 <class 'int'>\n"
     ]
    }
   ],
   "source": [
    "y=\"22\"\n",
    "k=eval(y)\n",
    "print(k,type(k))"
   ]
  },
  {
   "cell_type": "markdown",
   "id": "1e7486a6-fb5d-46e2-b69c-e73d693c6b3b",
   "metadata": {},
   "source": [
    "# eval(): eval() function is use for conversion of string to float and int(both)"
   ]
  },
  {
   "cell_type": "markdown",
   "id": "5ff7edd7-f5f2-4149-9bf3-0265da9c02a4",
   "metadata": {},
   "source": [
    "Casting on collection kind datatype(List, tuple, set,frozenset)"
   ]
  },
  {
   "cell_type": "raw",
   "id": "fd0c0d28-c98e-4967-84b3-4b3bd5ddfe31",
   "metadata": {},
   "source": [
    "# List to tuple"
   ]
  },
  {
   "cell_type": "code",
   "execution_count": 1,
   "id": "d4925bd3-5d83-4db1-8d63-489ff274e157",
   "metadata": {},
   "outputs": [],
   "source": [
    "a=[\"krishna\",\"Arjun\",\"Nakul\",\"Bhim\"]"
   ]
  },
  {
   "cell_type": "code",
   "execution_count": 2,
   "id": "d3c1c1ff-bacc-4cd4-a23f-c29038ec7d46",
   "metadata": {
    "tags": []
   },
   "outputs": [
    {
     "name": "stdout",
     "output_type": "stream",
     "text": [
      "['krishna', 'Arjun', 'Nakul', 'Bhim']\n"
     ]
    }
   ],
   "source": [
    "print(a)"
   ]
  },
  {
   "cell_type": "code",
   "execution_count": 3,
   "id": "0c9a6f74-bb96-448a-9498-f724d478dd30",
   "metadata": {
    "tags": []
   },
   "outputs": [],
   "source": [
    "a.append(\"Ram\")"
   ]
  },
  {
   "cell_type": "code",
   "execution_count": 4,
   "id": "93167149-9257-4030-ab65-57dcbcf3d7f9",
   "metadata": {
    "tags": []
   },
   "outputs": [
    {
     "name": "stdout",
     "output_type": "stream",
     "text": [
      "['krishna', 'Arjun', 'Nakul', 'Bhim', 'Ram']\n"
     ]
    }
   ],
   "source": [
    "print(a)"
   ]
  },
  {
   "cell_type": "code",
   "execution_count": 6,
   "id": "76337efb-1d72-4308-9b24-0086dbb069b1",
   "metadata": {
    "tags": []
   },
   "outputs": [],
   "source": [
    "b=tuple(a)"
   ]
  },
  {
   "cell_type": "code",
   "execution_count": 7,
   "id": "514e3c44-3f83-46c9-83bc-057917569f06",
   "metadata": {
    "tags": []
   },
   "outputs": [
    {
     "name": "stdout",
     "output_type": "stream",
     "text": [
      "('krishna', 'Arjun', 'Nakul', 'Bhim', 'Ram')\n"
     ]
    }
   ],
   "source": [
    "print(b)"
   ]
  },
  {
   "cell_type": "markdown",
   "id": "ba740344-b571-4cd7-ad5a-8ef92314e942",
   "metadata": {},
   "source": [
    "# List to set"
   ]
  },
  {
   "cell_type": "code",
   "execution_count": 8,
   "id": "8a48c734-6ad3-4470-9b3a-06423b408a5b",
   "metadata": {
    "tags": []
   },
   "outputs": [],
   "source": [
    "a=[\"krishna\",\"Arjun\",\"Nakul\",\"Bhim\"]"
   ]
  },
  {
   "cell_type": "code",
   "execution_count": 9,
   "id": "109060a5-76bb-4500-88fa-fb6254ba0676",
   "metadata": {
    "tags": []
   },
   "outputs": [],
   "source": [
    "a.append(\"krishna\")"
   ]
  },
  {
   "cell_type": "code",
   "execution_count": 14,
   "id": "8ffed69c-b7a2-48c2-bead-7ea7ba13d8b6",
   "metadata": {
    "tags": []
   },
   "outputs": [
    {
     "name": "stdout",
     "output_type": "stream",
     "text": [
      "['krishna', 'Arjun', 'Nakul', 'Bhim', 'krishna']\n"
     ]
    }
   ],
   "source": [
    "print(a)"
   ]
  },
  {
   "cell_type": "code",
   "execution_count": 15,
   "id": "a697eddf-c551-41ab-a1f0-5f459a582d22",
   "metadata": {
    "tags": []
   },
   "outputs": [],
   "source": [
    "b=set(a)"
   ]
  },
  {
   "cell_type": "code",
   "execution_count": 16,
   "id": "8043c41b-8d3f-4013-96eb-adb34e4b5290",
   "metadata": {
    "tags": []
   },
   "outputs": [
    {
     "name": "stdout",
     "output_type": "stream",
     "text": [
      "{'krishna', 'Bhim', 'Nakul', 'Arjun'}\n"
     ]
    }
   ],
   "source": [
    "print(b)"
   ]
  },
  {
   "cell_type": "markdown",
   "id": "698dac10-4de4-46bd-8988-218baecd9ba3",
   "metadata": {
    "tags": []
   },
   "source": [
    "# List to frozenset()"
   ]
  },
  {
   "cell_type": "code",
   "execution_count": 18,
   "id": "b8d3e82c-328e-424a-8c03-80c2b7ab2b5f",
   "metadata": {
    "tags": []
   },
   "outputs": [],
   "source": [
    "a=[\"krishna\",\"Arjun\",\"Nakul\",\"Bhim\"]"
   ]
  },
  {
   "cell_type": "code",
   "execution_count": 20,
   "id": "85cd72df-2187-4a2b-9160-c917cab729c2",
   "metadata": {
    "tags": []
   },
   "outputs": [],
   "source": [
    "a.append(\"Arjun\")"
   ]
  },
  {
   "cell_type": "code",
   "execution_count": 21,
   "id": "8812a99f-700e-49a0-9b9f-1667d669c19c",
   "metadata": {
    "tags": []
   },
   "outputs": [
    {
     "name": "stdout",
     "output_type": "stream",
     "text": [
      "['krishna', 'Arjun', 'Nakul', 'Bhim', 'Arjun']\n"
     ]
    }
   ],
   "source": [
    "print(a)"
   ]
  },
  {
   "cell_type": "code",
   "execution_count": 23,
   "id": "6495dc65-02b9-4c95-aab7-1b617759ebb4",
   "metadata": {
    "tags": []
   },
   "outputs": [],
   "source": [
    "b=frozenset(a)"
   ]
  },
  {
   "cell_type": "code",
   "execution_count": 24,
   "id": "ce7e2611-98d9-4e5a-92f1-2b35bd047786",
   "metadata": {
    "tags": []
   },
   "outputs": [
    {
     "data": {
      "text/plain": [
       "frozenset({'Arjun', 'Bhim', 'Nakul', 'krishna'})"
      ]
     },
     "execution_count": 24,
     "metadata": {},
     "output_type": "execute_result"
    }
   ],
   "source": [
    "b"
   ]
  },
  {
   "cell_type": "markdown",
   "id": "cece8683-4d2d-4cb9-be5a-83b96f1ab425",
   "metadata": {},
   "source": [
    "# tuple to list, set, frozenset"
   ]
  },
  {
   "cell_type": "code",
   "execution_count": 31,
   "id": "b2782486-58d8-42e9-b959-3f73214fbbaa",
   "metadata": {
    "tags": []
   },
   "outputs": [],
   "source": [
    "a=(\"krishna\",\"Arjun\",\"Nakul\",\"Bhim\",\"krishna\")"
   ]
  },
  {
   "cell_type": "code",
   "execution_count": 32,
   "id": "f2a25d43-d1d3-4761-b994-09606e1bb484",
   "metadata": {
    "tags": []
   },
   "outputs": [
    {
     "name": "stdout",
     "output_type": "stream",
     "text": [
      "('krishna', 'Arjun', 'Nakul', 'Bhim', 'krishna')\n"
     ]
    }
   ],
   "source": [
    "print(a)"
   ]
  },
  {
   "cell_type": "code",
   "execution_count": null,
   "id": "ebecefe4-ddc4-4b65-9fa0-58baaacc0fa1",
   "metadata": {},
   "outputs": [],
   "source": []
  },
  {
   "cell_type": "code",
   "execution_count": 27,
   "id": "2dcf4615-3287-49b6-a0a6-8011ca876831",
   "metadata": {
    "tags": []
   },
   "outputs": [],
   "source": [
    "# to list"
   ]
  },
  {
   "cell_type": "code",
   "execution_count": 35,
   "id": "c60c6e91-056c-4062-870a-d915823585b7",
   "metadata": {
    "tags": []
   },
   "outputs": [],
   "source": [
    "b=list(a)"
   ]
  },
  {
   "cell_type": "code",
   "execution_count": 36,
   "id": "8a23c982-973d-4d13-b8bd-8420234b7ed4",
   "metadata": {
    "tags": []
   },
   "outputs": [
    {
     "data": {
      "text/plain": [
       "['krishna', 'Arjun', 'Nakul', 'Bhim', 'krishna']"
      ]
     },
     "execution_count": 36,
     "metadata": {},
     "output_type": "execute_result"
    }
   ],
   "source": [
    "b"
   ]
  },
  {
   "cell_type": "code",
   "execution_count": 37,
   "id": "c78cc97b-9e47-4efe-a3f9-46e3cf923e03",
   "metadata": {
    "tags": []
   },
   "outputs": [],
   "source": [
    "b.append(\"Monty\")"
   ]
  },
  {
   "cell_type": "code",
   "execution_count": 38,
   "id": "250b4aa2-5c67-42f6-b497-f13018084cfa",
   "metadata": {
    "tags": []
   },
   "outputs": [
    {
     "name": "stdout",
     "output_type": "stream",
     "text": [
      "['krishna', 'Arjun', 'Nakul', 'Bhim', 'krishna', 'Monty']\n"
     ]
    }
   ],
   "source": [
    "print(b)"
   ]
  },
  {
   "cell_type": "code",
   "execution_count": 39,
   "id": "1445597e-38d0-44b3-8dbf-d8d4ef518a34",
   "metadata": {
    "tags": []
   },
   "outputs": [],
   "source": [
    "a=tuple(b)"
   ]
  },
  {
   "cell_type": "code",
   "execution_count": 40,
   "id": "247961f3-badc-4b7d-9a96-a7ed78a02e85",
   "metadata": {
    "tags": []
   },
   "outputs": [
    {
     "name": "stdout",
     "output_type": "stream",
     "text": [
      "('krishna', 'Arjun', 'Nakul', 'Bhim', 'krishna', 'Monty')\n"
     ]
    }
   ],
   "source": [
    "print(a)"
   ]
  },
  {
   "cell_type": "code",
   "execution_count": 42,
   "id": "19a6ef56-c28d-40b7-a925-40bb0d45a345",
   "metadata": {
    "tags": []
   },
   "outputs": [],
   "source": [
    "# to frozenset()"
   ]
  },
  {
   "cell_type": "code",
   "execution_count": 43,
   "id": "e7bd1b51-3b33-460c-8efe-9da226636c72",
   "metadata": {
    "tags": []
   },
   "outputs": [
    {
     "name": "stdout",
     "output_type": "stream",
     "text": [
      "('krishna', 'Arjun', 'Nakul', 'Bhim', 'krishna', 'Monty')\n"
     ]
    }
   ],
   "source": [
    "print(a)"
   ]
  },
  {
   "cell_type": "code",
   "execution_count": 44,
   "id": "d54056fb-3e40-4c16-8ab3-658b91869882",
   "metadata": {
    "tags": []
   },
   "outputs": [
    {
     "data": {
      "text/plain": [
       "{'Arjun', 'Bhim', 'Monty', 'Nakul', 'krishna'}"
      ]
     },
     "execution_count": 44,
     "metadata": {},
     "output_type": "execute_result"
    }
   ],
   "source": [
    "set(a)"
   ]
  },
  {
   "cell_type": "code",
   "execution_count": 45,
   "id": "006f321a-4744-49f6-af4e-a538dd70eed8",
   "metadata": {
    "tags": []
   },
   "outputs": [
    {
     "name": "stdout",
     "output_type": "stream",
     "text": [
      "('krishna', 'Arjun', 'Nakul', 'Bhim', 'krishna', 'Monty')\n"
     ]
    }
   ],
   "source": [
    "print(a)"
   ]
  },
  {
   "cell_type": "code",
   "execution_count": 49,
   "id": "01055b8b-1e30-4df7-b1dd-7a7f36c1ab49",
   "metadata": {
    "tags": []
   },
   "outputs": [
    {
     "data": {
      "text/plain": [
       "frozenset({'Arjun', 'Bhim', 'Monty', 'Nakul', 'krishna'})"
      ]
     },
     "execution_count": 49,
     "metadata": {},
     "output_type": "execute_result"
    }
   ],
   "source": [
    "frozenset(a)"
   ]
  },
  {
   "cell_type": "code",
   "execution_count": 47,
   "id": "7295a001-ee3d-453a-a5fa-c593f1cec585",
   "metadata": {
    "tags": []
   },
   "outputs": [],
   "source": [
    "# frozenset to list, tuple , set"
   ]
  },
  {
   "cell_type": "code",
   "execution_count": 50,
   "id": "af1bf1c7-38a1-49be-ab14-545aaf710496",
   "metadata": {
    "tags": []
   },
   "outputs": [],
   "source": [
    "a=frozenset({'Arjun', 'Bhim', 'Monty', 'Nakul', 'krishna'})"
   ]
  },
  {
   "cell_type": "code",
   "execution_count": 51,
   "id": "221ab5b2-b09c-4165-a9b9-d43661322ae2",
   "metadata": {
    "tags": []
   },
   "outputs": [
    {
     "name": "stdout",
     "output_type": "stream",
     "text": [
      "frozenset({'Bhim', 'Nakul', 'Arjun', 'Monty', 'krishna'})\n"
     ]
    }
   ],
   "source": [
    "print(a)"
   ]
  },
  {
   "cell_type": "code",
   "execution_count": 52,
   "id": "6b310b31-89ab-404e-9c6f-3eb86907db4d",
   "metadata": {
    "tags": []
   },
   "outputs": [
    {
     "data": {
      "text/plain": [
       "{'Arjun', 'Bhim', 'Monty', 'Nakul', 'krishna'}"
      ]
     },
     "execution_count": 52,
     "metadata": {},
     "output_type": "execute_result"
    }
   ],
   "source": [
    "set(a)"
   ]
  },
  {
   "cell_type": "code",
   "execution_count": 53,
   "id": "c7b9222b-60f3-4dcb-b353-4f3fc565a431",
   "metadata": {
    "tags": []
   },
   "outputs": [
    {
     "data": {
      "text/plain": [
       "['Bhim', 'Nakul', 'Arjun', 'Monty', 'krishna']"
      ]
     },
     "execution_count": 53,
     "metadata": {},
     "output_type": "execute_result"
    }
   ],
   "source": [
    "list(a)"
   ]
  },
  {
   "cell_type": "code",
   "execution_count": 54,
   "id": "94e4f60d-f185-4358-97c0-aad952be0303",
   "metadata": {
    "tags": []
   },
   "outputs": [
    {
     "data": {
      "text/plain": [
       "('Bhim', 'Nakul', 'Arjun', 'Monty', 'krishna')"
      ]
     },
     "execution_count": 54,
     "metadata": {},
     "output_type": "execute_result"
    }
   ],
   "source": [
    "tuple(a)"
   ]
  },
  {
   "cell_type": "code",
   "execution_count": 55,
   "id": "c56255a8-3f1c-4a74-82a7-9fa8bd9ea8a9",
   "metadata": {
    "tags": []
   },
   "outputs": [],
   "source": [
    "a=10"
   ]
  },
  {
   "cell_type": "code",
   "execution_count": 57,
   "id": "dfa646dc-78b8-4b28-9080-aae0f013dc47",
   "metadata": {
    "tags": []
   },
   "outputs": [],
   "source": [
    "# integer to bool"
   ]
  },
  {
   "cell_type": "code",
   "execution_count": 58,
   "id": "6ab2107a-47e9-469e-8fa4-ab165c65dd68",
   "metadata": {
    "tags": []
   },
   "outputs": [
    {
     "data": {
      "text/plain": [
       "True"
      ]
     },
     "execution_count": 58,
     "metadata": {},
     "output_type": "execute_result"
    }
   ],
   "source": [
    "bool(a)"
   ]
  },
  {
   "cell_type": "code",
   "execution_count": 59,
   "id": "baf64320-8668-4fa1-b2f1-f2c135e74e31",
   "metadata": {
    "tags": []
   },
   "outputs": [],
   "source": [
    "a=0"
   ]
  },
  {
   "cell_type": "code",
   "execution_count": 60,
   "id": "2f8bc1a7-75f3-4d42-93d2-07f45c009ac1",
   "metadata": {
    "tags": []
   },
   "outputs": [
    {
     "data": {
      "text/plain": [
       "False"
      ]
     },
     "execution_count": 60,
     "metadata": {},
     "output_type": "execute_result"
    }
   ],
   "source": [
    "bool(a)"
   ]
  },
  {
   "cell_type": "code",
   "execution_count": null,
   "id": "380a6d15-cb8f-4057-9f8e-712248ab5661",
   "metadata": {},
   "outputs": [],
   "source": []
  }
 ],
 "metadata": {
  "kernelspec": {
   "display_name": "Python 3 (ipykernel)",
   "language": "python",
   "name": "python3"
  },
  "language_info": {
   "codemirror_mode": {
    "name": "ipython",
    "version": 3
   },
   "file_extension": ".py",
   "mimetype": "text/x-python",
   "name": "python",
   "nbconvert_exporter": "python",
   "pygments_lexer": "ipython3",
   "version": "3.11.3"
  }
 },
 "nbformat": 4,
 "nbformat_minor": 5
}
