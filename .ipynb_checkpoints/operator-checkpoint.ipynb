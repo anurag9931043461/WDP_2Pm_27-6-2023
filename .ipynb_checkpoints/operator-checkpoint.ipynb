{
 "cells": [
  {
   "cell_type": "markdown",
   "id": "8117bf0c-cbe9-4bab-8635-8b361dacd1b4",
   "metadata": {},
   "source": [
    "# Arithmetic operators\n",
    "\n",
    "# Assignment operators\n",
    "\n",
    "# Comparison operators\n",
    "\n",
    "# Logical operators\n",
    "\n",
    "# Identity operators\n",
    "\n",
    "# Membership operators\n",
    "\n",
    "# Bitwise operators\n"
   ]
  },
  {
   "cell_type": "code",
   "execution_count": 3,
   "id": "ee6abda3-2cb5-455b-ad24-8d12a3728c1e",
   "metadata": {},
   "outputs": [],
   "source": [
    "# Arithmetic operators +,-,/,*,**,%,//"
   ]
  },
  {
   "cell_type": "code",
   "execution_count": 4,
   "id": "91744fef-c0d8-456c-b042-4c0fd5a21634",
   "metadata": {},
   "outputs": [],
   "source": [
    "a=10\n",
    "b=20"
   ]
  },
  {
   "cell_type": "code",
   "execution_count": 5,
   "id": "0164a42f-761f-4f35-a0be-342c7d342a73",
   "metadata": {},
   "outputs": [
    {
     "name": "stdout",
     "output_type": "stream",
     "text": [
      "30\n"
     ]
    }
   ],
   "source": [
    "print(a+b)"
   ]
  },
  {
   "cell_type": "code",
   "execution_count": 6,
   "id": "6c90cafe-d749-4bf0-9018-4d1022688b85",
   "metadata": {},
   "outputs": [
    {
     "name": "stdout",
     "output_type": "stream",
     "text": [
      "-10\n"
     ]
    }
   ],
   "source": [
    "print(a-b)"
   ]
  },
  {
   "cell_type": "code",
   "execution_count": 7,
   "id": "71a24ec5-d565-47d1-94a8-0c423f80cb45",
   "metadata": {},
   "outputs": [
    {
     "name": "stdout",
     "output_type": "stream",
     "text": [
      "0.5\n"
     ]
    }
   ],
   "source": [
    "print(a/b)"
   ]
  },
  {
   "cell_type": "code",
   "execution_count": 8,
   "id": "c4960b4b-1b50-40a7-9d84-45152cfafb19",
   "metadata": {},
   "outputs": [
    {
     "name": "stdout",
     "output_type": "stream",
     "text": [
      "0\n"
     ]
    }
   ],
   "source": [
    "print(a//b)  # floor division"
   ]
  },
  {
   "cell_type": "code",
   "execution_count": 9,
   "id": "65340900-9399-477c-a6d7-d68bd866b329",
   "metadata": {},
   "outputs": [
    {
     "name": "stdout",
     "output_type": "stream",
     "text": [
      "2\n"
     ]
    }
   ],
   "source": [
    "print(b//a)"
   ]
  },
  {
   "cell_type": "code",
   "execution_count": 10,
   "id": "9f8c59a5-c77b-4319-b091-3583db7b1b13",
   "metadata": {},
   "outputs": [
    {
     "data": {
      "text/plain": [
       "10"
      ]
     },
     "execution_count": 10,
     "metadata": {},
     "output_type": "execute_result"
    }
   ],
   "source": [
    "a%b"
   ]
  },
  {
   "cell_type": "code",
   "execution_count": 11,
   "id": "7cef3f41-b063-45e6-bb35-23888eeefd74",
   "metadata": {},
   "outputs": [
    {
     "data": {
      "text/plain": [
       "0"
      ]
     },
     "execution_count": 11,
     "metadata": {},
     "output_type": "execute_result"
    }
   ],
   "source": [
    "b%a"
   ]
  },
  {
   "cell_type": "code",
   "execution_count": 12,
   "id": "86926768-d36d-4fad-8fef-5e32dbc23bde",
   "metadata": {},
   "outputs": [
    {
     "data": {
      "text/plain": [
       "1"
      ]
     },
     "execution_count": 12,
     "metadata": {},
     "output_type": "execute_result"
    }
   ],
   "source": [
    "10%3"
   ]
  },
  {
   "cell_type": "code",
   "execution_count": 14,
   "id": "bab66e9b-420a-4618-a121-490890894b06",
   "metadata": {},
   "outputs": [
    {
     "name": "stdout",
     "output_type": "stream",
     "text": [
      "200\n"
     ]
    }
   ],
   "source": [
    "print(a*b)"
   ]
  },
  {
   "cell_type": "code",
   "execution_count": 15,
   "id": "11674c9d-02f3-41f0-a1b1-aeb555ebf549",
   "metadata": {},
   "outputs": [
    {
     "data": {
      "text/plain": [
       "10"
      ]
     },
     "execution_count": 15,
     "metadata": {},
     "output_type": "execute_result"
    }
   ],
   "source": [
    "10**1"
   ]
  },
  {
   "cell_type": "code",
   "execution_count": 16,
   "id": "dbb72ea0-ec27-4246-b59b-5f40a2dcaeac",
   "metadata": {},
   "outputs": [
    {
     "data": {
      "text/plain": [
       "100"
      ]
     },
     "execution_count": 16,
     "metadata": {},
     "output_type": "execute_result"
    }
   ],
   "source": [
    "10**2"
   ]
  },
  {
   "cell_type": "code",
   "execution_count": 17,
   "id": "00be7f66-89ea-40e7-9b13-a545820d7a80",
   "metadata": {},
   "outputs": [
    {
     "data": {
      "text/plain": [
       "1000"
      ]
     },
     "execution_count": 17,
     "metadata": {},
     "output_type": "execute_result"
    }
   ],
   "source": [
    "10**3"
   ]
  },
  {
   "cell_type": "code",
   "execution_count": 18,
   "id": "d71723db-d441-4c17-93e5-ea8030594e5f",
   "metadata": {},
   "outputs": [
    {
     "data": {
      "text/plain": [
       "100000000000000000000"
      ]
     },
     "execution_count": 18,
     "metadata": {},
     "output_type": "execute_result"
    }
   ],
   "source": [
    "a**b"
   ]
  },
  {
   "cell_type": "markdown",
   "id": "ca35e1b3-a11d-4dc9-a473-9bf5ea0895d2",
   "metadata": {},
   "source": [
    "# Assignment operators"
   ]
  },
  {
   "cell_type": "code",
   "execution_count": 27,
   "id": "96333b05-b3d0-4f78-9b96-8264ab707f79",
   "metadata": {},
   "outputs": [],
   "source": [
    "# =,+=,-=,/=,*=,**=,//=,%="
   ]
  },
  {
   "cell_type": "code",
   "execution_count": 20,
   "id": "6aae8ccb-c02f-4d99-9f6e-9add1135e48c",
   "metadata": {},
   "outputs": [],
   "source": [
    "a=10"
   ]
  },
  {
   "cell_type": "code",
   "execution_count": 21,
   "id": "574e3a64-01d2-4560-bea2-e0d8a148f6e3",
   "metadata": {},
   "outputs": [],
   "source": [
    "a=a+1"
   ]
  },
  {
   "cell_type": "code",
   "execution_count": 22,
   "id": "fe3401bf-17bb-484d-878e-8329135ca4f9",
   "metadata": {},
   "outputs": [
    {
     "name": "stdout",
     "output_type": "stream",
     "text": [
      "11\n"
     ]
    }
   ],
   "source": [
    "print(a)"
   ]
  },
  {
   "cell_type": "code",
   "execution_count": 23,
   "id": "e2c0e276-9507-4e52-80f3-9f9086df74ef",
   "metadata": {},
   "outputs": [],
   "source": [
    "a+=2"
   ]
  },
  {
   "cell_type": "code",
   "execution_count": 24,
   "id": "fc78c7b4-6c6a-4089-9030-552a975a2d48",
   "metadata": {},
   "outputs": [
    {
     "name": "stdout",
     "output_type": "stream",
     "text": [
      "13\n"
     ]
    }
   ],
   "source": [
    "print(a)"
   ]
  },
  {
   "cell_type": "code",
   "execution_count": 25,
   "id": "0f003e67-fdce-4e2f-938d-c78c0d6f47d6",
   "metadata": {},
   "outputs": [],
   "source": [
    "a=a+4   #a+=4"
   ]
  },
  {
   "cell_type": "code",
   "execution_count": 26,
   "id": "3c242a04-2f93-4db5-b66f-a651c027d784",
   "metadata": {},
   "outputs": [
    {
     "name": "stdout",
     "output_type": "stream",
     "text": [
      "17\n"
     ]
    }
   ],
   "source": [
    "print(a)"
   ]
  },
  {
   "cell_type": "code",
   "execution_count": 28,
   "id": "6158432f-40ae-465b-b380-38350cda520e",
   "metadata": {},
   "outputs": [],
   "source": [
    "a=a-4"
   ]
  },
  {
   "cell_type": "code",
   "execution_count": 29,
   "id": "02fef6a4-2c56-477b-b35b-feea1646a82c",
   "metadata": {},
   "outputs": [
    {
     "name": "stdout",
     "output_type": "stream",
     "text": [
      "13\n"
     ]
    }
   ],
   "source": [
    "print(a)"
   ]
  },
  {
   "cell_type": "code",
   "execution_count": 30,
   "id": "a0e6f8dd-2b5a-42ca-be3c-4d6ce1fced11",
   "metadata": {},
   "outputs": [],
   "source": [
    "a-=2"
   ]
  },
  {
   "cell_type": "code",
   "execution_count": 31,
   "id": "0c412fad-87fe-4b14-b11f-55dca778e0ec",
   "metadata": {},
   "outputs": [
    {
     "name": "stdout",
     "output_type": "stream",
     "text": [
      "11\n"
     ]
    }
   ],
   "source": [
    "print(a)"
   ]
  },
  {
   "cell_type": "code",
   "execution_count": 32,
   "id": "ac65291f-bca3-4649-aa8f-ad96f3549ccc",
   "metadata": {},
   "outputs": [],
   "source": [
    "a/=11     #a=a/11"
   ]
  },
  {
   "cell_type": "code",
   "execution_count": 33,
   "id": "7b0440f8-b80f-445c-9a12-101f383f0690",
   "metadata": {},
   "outputs": [
    {
     "name": "stdout",
     "output_type": "stream",
     "text": [
      "1.0\n"
     ]
    }
   ],
   "source": [
    "print(a)"
   ]
  },
  {
   "cell_type": "code",
   "execution_count": 34,
   "id": "7f936784-4171-4143-b835-a8f243158882",
   "metadata": {},
   "outputs": [],
   "source": [
    "a//=0.2    #a=a//0.2"
   ]
  },
  {
   "cell_type": "code",
   "execution_count": 35,
   "id": "cec48e02-f226-4019-afbe-f712964f95da",
   "metadata": {},
   "outputs": [
    {
     "name": "stdout",
     "output_type": "stream",
     "text": [
      "4.0\n"
     ]
    }
   ],
   "source": [
    "print(a)"
   ]
  },
  {
   "cell_type": "code",
   "execution_count": 36,
   "id": "87043785-ad5c-4b1e-a2d5-2a7c6944ba70",
   "metadata": {},
   "outputs": [
    {
     "data": {
      "text/plain": [
       "4.0"
      ]
     },
     "execution_count": 36,
     "metadata": {},
     "output_type": "execute_result"
    }
   ],
   "source": [
    "1//0.2"
   ]
  },
  {
   "cell_type": "code",
   "execution_count": 38,
   "id": "17af65fa-2bc1-4fb9-996e-99ecbf2341c0",
   "metadata": {},
   "outputs": [
    {
     "data": {
      "text/plain": [
       "1.0"
      ]
     },
     "execution_count": 38,
     "metadata": {},
     "output_type": "execute_result"
    }
   ],
   "source": [
    "0.2*5"
   ]
  },
  {
   "cell_type": "code",
   "execution_count": 39,
   "id": "6e179bd5-7364-4d15-8fbf-311f9ec6e6fb",
   "metadata": {},
   "outputs": [],
   "source": [
    "a=10//3"
   ]
  },
  {
   "cell_type": "code",
   "execution_count": 40,
   "id": "39911cc7-1a49-4673-9c86-f58b9c5926ed",
   "metadata": {},
   "outputs": [
    {
     "name": "stdout",
     "output_type": "stream",
     "text": [
      "3\n"
     ]
    }
   ],
   "source": [
    "print(a)"
   ]
  },
  {
   "cell_type": "code",
   "execution_count": 41,
   "id": "95879444-89ef-4e03-9f7e-9dc0778d54b5",
   "metadata": {},
   "outputs": [],
   "source": [
    "a//=2  # a=a//2"
   ]
  },
  {
   "cell_type": "code",
   "execution_count": 42,
   "id": "d4213504-2a31-4ba9-a8a6-06ac68d207d5",
   "metadata": {},
   "outputs": [
    {
     "name": "stdout",
     "output_type": "stream",
     "text": [
      "1\n"
     ]
    }
   ],
   "source": [
    "print(a)"
   ]
  },
  {
   "cell_type": "code",
   "execution_count": 43,
   "id": "524704cd-c1ba-40f4-888f-6d2c4bcbb404",
   "metadata": {},
   "outputs": [],
   "source": [
    "a=10"
   ]
  },
  {
   "cell_type": "code",
   "execution_count": 44,
   "id": "92282c72-3f28-4c0f-884f-c04e1bf2eea5",
   "metadata": {},
   "outputs": [],
   "source": [
    "a*=2    #a=a*2"
   ]
  },
  {
   "cell_type": "code",
   "execution_count": 45,
   "id": "1e619de2-4bca-416a-a653-4f960708206b",
   "metadata": {},
   "outputs": [
    {
     "name": "stdout",
     "output_type": "stream",
     "text": [
      "20\n"
     ]
    }
   ],
   "source": [
    "print(a)"
   ]
  },
  {
   "cell_type": "code",
   "execution_count": 46,
   "id": "c65f19c8-4fff-4fc3-b0c6-3a150c763bbd",
   "metadata": {},
   "outputs": [],
   "source": [
    "a**=2      #a=a**2"
   ]
  },
  {
   "cell_type": "code",
   "execution_count": 47,
   "id": "a64eb960-54e2-4e24-9a9d-126272a56923",
   "metadata": {},
   "outputs": [
    {
     "name": "stdout",
     "output_type": "stream",
     "text": [
      "400\n"
     ]
    }
   ],
   "source": [
    "print(a)"
   ]
  },
  {
   "cell_type": "code",
   "execution_count": 48,
   "id": "11bc1698-7318-49bc-a80d-9d14d0adc50e",
   "metadata": {},
   "outputs": [
    {
     "data": {
      "text/plain": [
       "13.333333333333334"
      ]
     },
     "execution_count": 48,
     "metadata": {},
     "output_type": "execute_result"
    }
   ],
   "source": [
    "400/30"
   ]
  },
  {
   "cell_type": "code",
   "execution_count": 49,
   "id": "560feffa-d784-47c7-9033-dd3cb85bee7f",
   "metadata": {},
   "outputs": [
    {
     "data": {
      "text/plain": [
       "400"
      ]
     },
     "execution_count": 49,
     "metadata": {},
     "output_type": "execute_result"
    }
   ],
   "source": [
    "a"
   ]
  },
  {
   "cell_type": "code",
   "execution_count": 51,
   "id": "1f1684df-fa22-4c4d-8af4-fa8d563980af",
   "metadata": {},
   "outputs": [],
   "source": [
    "a%=30      #a=a%30"
   ]
  },
  {
   "cell_type": "code",
   "execution_count": 52,
   "id": "76f9c2d7-e480-4a65-b96b-52f7f86d7777",
   "metadata": {},
   "outputs": [
    {
     "name": "stdout",
     "output_type": "stream",
     "text": [
      "10\n"
     ]
    }
   ],
   "source": [
    "print(a)"
   ]
  },
  {
   "cell_type": "markdown",
   "id": "28a934fb-2673-4cd5-9d8d-ed5abfc928f9",
   "metadata": {},
   "source": [
    "# Comparison operators"
   ]
  },
  {
   "cell_type": "code",
   "execution_count": 53,
   "id": "898a783d-4cf6-41ea-b3a8-3520567a19fb",
   "metadata": {},
   "outputs": [],
   "source": [
    "# ==,<=,>=,!=,>,<"
   ]
  },
  {
   "cell_type": "code",
   "execution_count": 54,
   "id": "5415d415-4ea3-4dc9-90c7-d7546758b830",
   "metadata": {},
   "outputs": [
    {
     "data": {
      "text/plain": [
       "True"
      ]
     },
     "execution_count": 54,
     "metadata": {},
     "output_type": "execute_result"
    }
   ],
   "source": [
    "10==10"
   ]
  },
  {
   "cell_type": "code",
   "execution_count": 56,
   "id": "ece6f32d-bd7e-4c30-9c98-e8ff2ed210b0",
   "metadata": {},
   "outputs": [
    {
     "data": {
      "text/plain": [
       "False"
      ]
     },
     "execution_count": 56,
     "metadata": {},
     "output_type": "execute_result"
    }
   ],
   "source": [
    "10!=10"
   ]
  },
  {
   "cell_type": "code",
   "execution_count": 57,
   "id": "bf1ae99e-a04d-4731-b472-094f46b342b1",
   "metadata": {},
   "outputs": [
    {
     "data": {
      "text/plain": [
       "True"
      ]
     },
     "execution_count": 57,
     "metadata": {},
     "output_type": "execute_result"
    }
   ],
   "source": [
    "10!=20"
   ]
  },
  {
   "cell_type": "code",
   "execution_count": 58,
   "id": "85908304-20a3-4764-adc7-9290d1b9eebe",
   "metadata": {},
   "outputs": [
    {
     "data": {
      "text/plain": [
       "True"
      ]
     },
     "execution_count": 58,
     "metadata": {},
     "output_type": "execute_result"
    }
   ],
   "source": [
    "10<20"
   ]
  },
  {
   "cell_type": "code",
   "execution_count": 59,
   "id": "d413c1ff-92a6-472b-9410-c38db34e9f50",
   "metadata": {},
   "outputs": [
    {
     "data": {
      "text/plain": [
       "True"
      ]
     },
     "execution_count": 59,
     "metadata": {},
     "output_type": "execute_result"
    }
   ],
   "source": [
    "20>10"
   ]
  },
  {
   "cell_type": "code",
   "execution_count": 60,
   "id": "e03f728f-5414-41d4-84e1-bc9db157dc99",
   "metadata": {},
   "outputs": [
    {
     "data": {
      "text/plain": [
       "True"
      ]
     },
     "execution_count": 60,
     "metadata": {},
     "output_type": "execute_result"
    }
   ],
   "source": [
    "10>=10"
   ]
  },
  {
   "cell_type": "code",
   "execution_count": 61,
   "id": "356f6bd2-d138-486a-b8dd-030ee7baa28e",
   "metadata": {},
   "outputs": [
    {
     "data": {
      "text/plain": [
       "False"
      ]
     },
     "execution_count": 61,
     "metadata": {},
     "output_type": "execute_result"
    }
   ],
   "source": [
    "10>=11"
   ]
  },
  {
   "cell_type": "code",
   "execution_count": 62,
   "id": "f03953e8-538a-4387-8a10-8bdb0660065d",
   "metadata": {},
   "outputs": [
    {
     "data": {
      "text/plain": [
       "True"
      ]
     },
     "execution_count": 62,
     "metadata": {},
     "output_type": "execute_result"
    }
   ],
   "source": [
    "10<=10"
   ]
  },
  {
   "cell_type": "markdown",
   "id": "82f387aa-e125-4c49-aafa-cf6f500e6dc8",
   "metadata": {},
   "source": [
    "# Logical operators"
   ]
  },
  {
   "cell_type": "code",
   "execution_count": 63,
   "id": "6c6e72bf-7716-428b-9640-1ca5b045eb70",
   "metadata": {},
   "outputs": [],
   "source": [
    "# and, or, not"
   ]
  },
  {
   "cell_type": "code",
   "execution_count": 65,
   "id": "05acf12a-9250-4681-b3b2-984ece303567",
   "metadata": {},
   "outputs": [],
   "source": [
    "p=10==10\n",
    "q=20==20"
   ]
  },
  {
   "cell_type": "code",
   "execution_count": 66,
   "id": "204b2361-787c-4860-89ee-35751de72aa5",
   "metadata": {},
   "outputs": [
    {
     "data": {
      "text/plain": [
       "True"
      ]
     },
     "execution_count": 66,
     "metadata": {},
     "output_type": "execute_result"
    }
   ],
   "source": [
    "p or q"
   ]
  },
  {
   "cell_type": "code",
   "execution_count": 67,
   "id": "17c63619-dd6e-4dbe-8635-bb4e5a4a2a4f",
   "metadata": {},
   "outputs": [],
   "source": [
    "p=10==10\n",
    "q=20!=20"
   ]
  },
  {
   "cell_type": "code",
   "execution_count": 68,
   "id": "5e90f907-b336-4c93-ba68-c36dfdf2818f",
   "metadata": {},
   "outputs": [
    {
     "data": {
      "text/plain": [
       "True"
      ]
     },
     "execution_count": 68,
     "metadata": {},
     "output_type": "execute_result"
    }
   ],
   "source": [
    "p or q"
   ]
  },
  {
   "cell_type": "code",
   "execution_count": 70,
   "id": "43e238b5-4c01-4e00-a6a4-33d86dceab79",
   "metadata": {},
   "outputs": [],
   "source": [
    "p=10!=10\n",
    "q=20==20"
   ]
  },
  {
   "cell_type": "code",
   "execution_count": 71,
   "id": "41e6c13f-fb7b-4ecc-9fed-770240814767",
   "metadata": {},
   "outputs": [
    {
     "data": {
      "text/plain": [
       "True"
      ]
     },
     "execution_count": 71,
     "metadata": {},
     "output_type": "execute_result"
    }
   ],
   "source": [
    "p or q"
   ]
  },
  {
   "cell_type": "code",
   "execution_count": 72,
   "id": "79515b18-27e0-4534-9a41-22ae93313026",
   "metadata": {},
   "outputs": [],
   "source": [
    "p=10!=10\n",
    "q=20!=20"
   ]
  },
  {
   "cell_type": "code",
   "execution_count": 73,
   "id": "f5c42759-e2e6-42c1-847d-ede4d295a535",
   "metadata": {},
   "outputs": [
    {
     "data": {
      "text/plain": [
       "False"
      ]
     },
     "execution_count": 73,
     "metadata": {},
     "output_type": "execute_result"
    }
   ],
   "source": [
    "p or q"
   ]
  },
  {
   "cell_type": "code",
   "execution_count": 74,
   "id": "250627f0-88d3-48b2-8dac-9efc0671540a",
   "metadata": {},
   "outputs": [],
   "source": [
    "p=10==10\n",
    "q=20==20"
   ]
  },
  {
   "cell_type": "code",
   "execution_count": 77,
   "id": "ce6c5e51-2e72-400b-b58f-cb8b230708da",
   "metadata": {},
   "outputs": [
    {
     "data": {
      "text/plain": [
       "True"
      ]
     },
     "execution_count": 77,
     "metadata": {},
     "output_type": "execute_result"
    }
   ],
   "source": [
    "p and q"
   ]
  },
  {
   "cell_type": "code",
   "execution_count": 78,
   "id": "595aa6e7-23e3-454e-b928-47e6494a9a5c",
   "metadata": {},
   "outputs": [],
   "source": [
    "p=10==10\n",
    "q=20!=20"
   ]
  },
  {
   "cell_type": "code",
   "execution_count": 79,
   "id": "95c1cb7f-96fb-42d4-9fc7-b767f93b5a3d",
   "metadata": {},
   "outputs": [
    {
     "data": {
      "text/plain": [
       "False"
      ]
     },
     "execution_count": 79,
     "metadata": {},
     "output_type": "execute_result"
    }
   ],
   "source": [
    "p and q"
   ]
  },
  {
   "cell_type": "code",
   "execution_count": 80,
   "id": "53d2e957-5c0c-4dd2-b926-b0c51a126cc7",
   "metadata": {},
   "outputs": [],
   "source": [
    "p=10!=10\n",
    "q=20==20"
   ]
  },
  {
   "cell_type": "code",
   "execution_count": 81,
   "id": "56b67cc8-4766-432b-b073-3de531ba7238",
   "metadata": {},
   "outputs": [
    {
     "data": {
      "text/plain": [
       "False"
      ]
     },
     "execution_count": 81,
     "metadata": {},
     "output_type": "execute_result"
    }
   ],
   "source": [
    "p and q"
   ]
  },
  {
   "cell_type": "code",
   "execution_count": 82,
   "id": "5e9ce383-9b39-4727-b0f0-f4eeb8a55b85",
   "metadata": {},
   "outputs": [],
   "source": [
    "p=10!=10\n",
    "q=20!=20"
   ]
  },
  {
   "cell_type": "code",
   "execution_count": 83,
   "id": "f0696f9a-902c-4922-8ecd-6c00bec68274",
   "metadata": {},
   "outputs": [
    {
     "data": {
      "text/plain": [
       "False"
      ]
     },
     "execution_count": 83,
     "metadata": {},
     "output_type": "execute_result"
    }
   ],
   "source": [
    "p and q"
   ]
  },
  {
   "cell_type": "code",
   "execution_count": 84,
   "id": "1e28337f-bd49-45d7-be4b-c871d0bb6d19",
   "metadata": {},
   "outputs": [
    {
     "data": {
      "text/plain": [
       "True"
      ]
     },
     "execution_count": 84,
     "metadata": {},
     "output_type": "execute_result"
    }
   ],
   "source": [
    "not(p and q)"
   ]
  },
  {
   "cell_type": "code",
   "execution_count": 85,
   "id": "b53b87f7-b7c8-49d7-a1bf-633690ac8e1e",
   "metadata": {},
   "outputs": [],
   "source": [
    "p=10==10\n",
    "q=20==20"
   ]
  },
  {
   "cell_type": "code",
   "execution_count": 87,
   "id": "c4ef4b31-f4e5-4803-901e-cb43f5b1cb30",
   "metadata": {},
   "outputs": [
    {
     "data": {
      "text/plain": [
       "False"
      ]
     },
     "execution_count": 87,
     "metadata": {},
     "output_type": "execute_result"
    }
   ],
   "source": [
    "not(p and q)"
   ]
  },
  {
   "cell_type": "markdown",
   "id": "c2ea7ff6-fd78-4789-bb3c-b57dd84bbfc0",
   "metadata": {},
   "source": [
    "# Identity operators : is, is not"
   ]
  },
  {
   "cell_type": "code",
   "execution_count": 2,
   "id": "79d3f374-ba64-4a08-828d-a7285202066c",
   "metadata": {},
   "outputs": [
    {
     "name": "stderr",
     "output_type": "stream",
     "text": [
      "<>:1: SyntaxWarning: \"is\" with a literal. Did you mean \"==\"?\n",
      "<>:1: SyntaxWarning: \"is\" with a literal. Did you mean \"==\"?\n",
      "C:\\Users\\Ducat\\AppData\\Local\\Temp\\ipykernel_1692\\3585426024.py:1: SyntaxWarning: \"is\" with a literal. Did you mean \"==\"?\n",
      "  \"python\" is \"python\"\n"
     ]
    },
    {
     "data": {
      "text/plain": [
       "True"
      ]
     },
     "execution_count": 2,
     "metadata": {},
     "output_type": "execute_result"
    }
   ],
   "source": [
    "\"python\" is \"python\""
   ]
  },
  {
   "cell_type": "code",
   "execution_count": 3,
   "id": "26fc2a0e-297e-4e4c-b9cb-14f98ec57109",
   "metadata": {},
   "outputs": [
    {
     "data": {
      "text/plain": [
       "True"
      ]
     },
     "execution_count": 3,
     "metadata": {},
     "output_type": "execute_result"
    }
   ],
   "source": [
    "\"python\" ==\"python\""
   ]
  },
  {
   "cell_type": "code",
   "execution_count": 4,
   "id": "6e6988f0-1107-4b46-a89e-32468bf6ccd0",
   "metadata": {},
   "outputs": [
    {
     "name": "stderr",
     "output_type": "stream",
     "text": [
      "<>:1: SyntaxWarning: \"is not\" with a literal. Did you mean \"!=\"?\n",
      "<>:1: SyntaxWarning: \"is not\" with a literal. Did you mean \"!=\"?\n",
      "C:\\Users\\Ducat\\AppData\\Local\\Temp\\ipykernel_1692\\2415332973.py:1: SyntaxWarning: \"is not\" with a literal. Did you mean \"!=\"?\n",
      "  \"python\" is not \"python\"\n"
     ]
    },
    {
     "data": {
      "text/plain": [
       "False"
      ]
     },
     "execution_count": 4,
     "metadata": {},
     "output_type": "execute_result"
    }
   ],
   "source": [
    "\"python\" is not \"python\""
   ]
  },
  {
   "cell_type": "code",
   "execution_count": 5,
   "id": "2881751c-1e0f-41ab-b064-a6b6d9a4ed77",
   "metadata": {},
   "outputs": [
    {
     "data": {
      "text/plain": [
       "False"
      ]
     },
     "execution_count": 5,
     "metadata": {},
     "output_type": "execute_result"
    }
   ],
   "source": [
    "\"python\" != \"python\""
   ]
  },
  {
   "cell_type": "markdown",
   "id": "d3672b61-fd0e-49e5-8ad8-96ab6fa4fbb2",
   "metadata": {},
   "source": [
    "# Membership operators : in, not in"
   ]
  },
  {
   "cell_type": "code",
   "execution_count": 6,
   "id": "4915e173-dc26-4b1d-96d0-7fe33855d4c9",
   "metadata": {},
   "outputs": [
    {
     "data": {
      "text/plain": [
       "True"
      ]
     },
     "execution_count": 6,
     "metadata": {},
     "output_type": "execute_result"
    }
   ],
   "source": [
    "\"python\" in \"python is funny language\""
   ]
  },
  {
   "cell_type": "code",
   "execution_count": 7,
   "id": "378783bd-6192-43d4-a262-ff5613519503",
   "metadata": {},
   "outputs": [
    {
     "data": {
      "text/plain": [
       "False"
      ]
     },
     "execution_count": 7,
     "metadata": {},
     "output_type": "execute_result"
    }
   ],
   "source": [
    "\"python\" in \"Python is funny language\""
   ]
  },
  {
   "cell_type": "code",
   "execution_count": 8,
   "id": "3f3c7dc8-60c8-4b04-85b7-be7ae0e00ae0",
   "metadata": {},
   "outputs": [
    {
     "data": {
      "text/plain": [
       "True"
      ]
     },
     "execution_count": 8,
     "metadata": {},
     "output_type": "execute_result"
    }
   ],
   "source": [
    "\"python\" not in \"Python is funny language\""
   ]
  },
  {
   "cell_type": "code",
   "execution_count": 10,
   "id": "d10bec26-839c-4cd3-9754-f803d126df48",
   "metadata": {},
   "outputs": [],
   "source": [
    "# Bitwise Operator;  ~,|(bitwise or),&(and), >>,<<"
   ]
  },
  {
   "cell_type": "code",
   "execution_count": 11,
   "id": "1753dbd7-c5f2-482a-9ca7-e76e7fdc00c7",
   "metadata": {},
   "outputs": [],
   "source": [
    "a=11"
   ]
  },
  {
   "cell_type": "code",
   "execution_count": 12,
   "id": "a57195a2-11dc-435f-a4a4-52ff46cbf719",
   "metadata": {},
   "outputs": [
    {
     "data": {
      "text/plain": [
       "-12"
      ]
     },
     "execution_count": 12,
     "metadata": {},
     "output_type": "execute_result"
    }
   ],
   "source": [
    "~a"
   ]
  },
  {
   "cell_type": "code",
   "execution_count": 13,
   "id": "189bc316-4f93-48c5-863b-262ca9ad4751",
   "metadata": {},
   "outputs": [
    {
     "data": {
      "text/plain": [
       "11"
      ]
     },
     "execution_count": 13,
     "metadata": {},
     "output_type": "execute_result"
    }
   ],
   "source": [
    "10|11"
   ]
  },
  {
   "cell_type": "code",
   "execution_count": 14,
   "id": "2381894a-f616-42f0-b3cd-c759c05004ad",
   "metadata": {},
   "outputs": [
    {
     "data": {
      "text/plain": [
       "10"
      ]
     },
     "execution_count": 14,
     "metadata": {},
     "output_type": "execute_result"
    }
   ],
   "source": [
    "10&11"
   ]
  },
  {
   "cell_type": "code",
   "execution_count": 15,
   "id": "1ddc9a26-31f5-410c-9d57-59caca5b4a0b",
   "metadata": {},
   "outputs": [
    {
     "data": {
      "text/plain": [
       "2"
      ]
     },
     "execution_count": 15,
     "metadata": {},
     "output_type": "execute_result"
    }
   ],
   "source": [
    "10>>2"
   ]
  },
  {
   "cell_type": "code",
   "execution_count": 16,
   "id": "6c1d7a10-d2b0-4788-82db-8e8b4e385ef7",
   "metadata": {},
   "outputs": [
    {
     "data": {
      "text/plain": [
       "40"
      ]
     },
     "execution_count": 16,
     "metadata": {},
     "output_type": "execute_result"
    }
   ],
   "source": [
    "10<<2"
   ]
  },
  {
   "cell_type": "code",
   "execution_count": null,
   "id": "cdfef4e4-70d7-49a6-ad73-d71b3db7a9dc",
   "metadata": {},
   "outputs": [],
   "source": []
  }
 ],
 "metadata": {
  "kernelspec": {
   "display_name": "Python 3 (ipykernel)",
   "language": "python",
   "name": "python3"
  },
  "language_info": {
   "codemirror_mode": {
    "name": "ipython",
    "version": 3
   },
   "file_extension": ".py",
   "mimetype": "text/x-python",
   "name": "python",
   "nbconvert_exporter": "python",
   "pygments_lexer": "ipython3",
   "version": "3.11.4"
  }
 },
 "nbformat": 4,
 "nbformat_minor": 5
}
