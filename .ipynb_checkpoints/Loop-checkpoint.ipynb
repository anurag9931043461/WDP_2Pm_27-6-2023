{
 "cells": [
  {
   "cell_type": "raw",
   "id": "bb482e42-22ec-471d-b95e-11a2728cb298",
   "metadata": {},
   "source": [
    "# There are two type of loop\n",
    "\n",
    "    > For loop\n",
    "        > single for loop\n",
    "        > nested for loop\n",
    "        > Pattern using single for loop\n",
    "        > Pattern using nested for loop\n",
    "        > range()\n",
    "        > iterable\n",
    "        > break\n",
    "        > continue\n",
    "        > pass\n",
    "        > comprehension\n",
    "            > list comprehension\n",
    "            > set comprehension\n",
    "            > forzenset comprehension\n",
    "            > tuple comprehension\n",
    "            > dictionary comprehension\n",
    "                              \n",
    "    > while loop\n",
    "        > sigle while loop\n",
    "        > nested while loop\n",
    "        > pattern using single while loop\n",
    "        > pattern using nested while loop\n",
    "        > break \n",
    "        > continue\n",
    "        > pass\n",
    "        > while loop does not support comprehension\n"
   ]
  },
  {
   "cell_type": "code",
   "execution_count": 1,
   "id": "f944b3bc-42b4-4dbb-8e1f-ddaa1256a7e1",
   "metadata": {},
   "outputs": [],
   "source": [
    "a=[3,4,2,4,5,6]"
   ]
  },
  {
   "cell_type": "code",
   "execution_count": 2,
   "id": "0d784dde-5d10-4821-af57-36f2401c3268",
   "metadata": {},
   "outputs": [
    {
     "name": "stdout",
     "output_type": "stream",
     "text": [
      "hello world\n",
      "hello world\n",
      "hello world\n",
      "hello world\n",
      "hello world\n",
      "hello world\n",
      "hello world\n",
      "hello world\n",
      "hello world\n"
     ]
    }
   ],
   "source": [
    "i=1\n",
    "while i<10:\n",
    "    print(\"hello world\")\n",
    "    i=i+1"
   ]
  },
  {
   "cell_type": "code",
   "execution_count": null,
   "id": "385f73bd-0435-4f7f-9de7-1fa0a2f10106",
   "metadata": {},
   "outputs": [],
   "source": [
    "i=1                        #initializer\n",
    "while i<10:                # while condition\n",
    "    print(\"hello world\")   #statement(s)\n",
    "    i=i+2                  #increment/decrement"
   ]
  },
  {
   "cell_type": "code",
   "execution_count": 3,
   "id": "5147b8ed-353c-4f63-b055-760345a75fb1",
   "metadata": {},
   "outputs": [
    {
     "data": {
      "text/plain": [
       "42000.0"
      ]
     },
     "execution_count": 3,
     "metadata": {},
     "output_type": "execute_result"
    }
   ],
   "source": [
    "42e3"
   ]
  },
  {
   "cell_type": "code",
   "execution_count": 1,
   "id": "db185185-c87c-4875-82ef-000ed34b0bf1",
   "metadata": {},
   "outputs": [
    {
     "name": "stdout",
     "output_type": "stream",
     "text": [
      "1 hello world\n",
      "3 hello world\n",
      "4 hello world\n",
      "6 hello world\n",
      "7 hello world\n",
      "8 hello world\n",
      "9 hello world\n"
     ]
    }
   ],
   "source": [
    "i=1                        #initializer\n",
    "while i<10:                # while condition\n",
    "    if i==2 or i==5:\n",
    "        i=i+1\n",
    "        continue\n",
    "    print(i,\"hello world\")   #statement(s)\n",
    "    i+=1                  #increment/decrement"
   ]
  },
  {
   "cell_type": "code",
   "execution_count": 5,
   "id": "c0fa102f-f86c-4ea2-b605-d18a7cbaa262",
   "metadata": {},
   "outputs": [
    {
     "name": "stdout",
     "output_type": "stream",
     "text": [
      "1 hello world\n",
      "3 hello world\n",
      "4 hello world\n",
      "6 hello world\n",
      "7 hello world\n",
      "10 hello world\n",
      "12 hello world\n",
      "13 hello world\n",
      "14 hello world\n",
      "15 hello world\n",
      "17 hello world\n",
      "18 hello world\n",
      "19 hello world\n"
     ]
    }
   ],
   "source": [
    "i=1                        #initializer\n",
    "while i<20:                # while condition\n",
    "    if i in [2,5,8,9,11,16]:\n",
    "        i=i+1\n",
    "        continue\n",
    "    print(i,\"hello world\")   #statement(s)\n",
    "    i=i+1                    #increment/decrement"
   ]
  },
  {
   "cell_type": "code",
   "execution_count": 3,
   "id": "d34e7c34-0a8c-42b7-b930-bb0d8aa3e9e8",
   "metadata": {},
   "outputs": [
    {
     "name": "stdout",
     "output_type": "stream",
     "text": [
      "1 hello world\n",
      "2 hello world\n",
      "3 hello world\n",
      "4 hello world\n"
     ]
    }
   ],
   "source": [
    "i=1                        \n",
    "while i<20:                \n",
    "    if i == 5:\n",
    "        break\n",
    "    print(i,\"hello world\")   \n",
    "    i=i+1  "
   ]
  },
  {
   "cell_type": "code",
   "execution_count": 7,
   "id": "c0703ea4-9ab4-473c-9c34-a474cbd85fa2",
   "metadata": {},
   "outputs": [
    {
     "name": "stdout",
     "output_type": "stream",
     "text": [
      "hello world\n",
      "Hello world\n"
     ]
    }
   ],
   "source": [
    "i=1\n",
    "while i<20:\n",
    "    if i==5:\n",
    "        print(\"hello world\")\n",
    "    i=i+1\n",
    "print(\"Hello world\")"
   ]
  },
  {
   "cell_type": "code",
   "execution_count": 15,
   "id": "34768daf-b578-4a2d-b758-6a64cb20567c",
   "metadata": {},
   "outputs": [
    {
     "name": "stdout",
     "output_type": "stream",
     "text": [
      "hello world\n"
     ]
    }
   ],
   "source": [
    "i=1\n",
    "while i<20:\n",
    "    if i==5:\n",
    "        pass     \n",
    "    i=i+1\n",
    "print(\"hello world\")"
   ]
  },
  {
   "cell_type": "markdown",
   "id": "846bcc9f-0742-4fc3-baa5-2f9c296b20e8",
   "metadata": {},
   "source": [
    "# nested while loop"
   ]
  },
  {
   "cell_type": "code",
   "execution_count": 19,
   "id": "e6eb5b78-9707-47d8-acd4-ee9054ca94e4",
   "metadata": {},
   "outputs": [
    {
     "name": "stdout",
     "output_type": "stream",
     "text": [
      "1 hello world\n",
      "1 hello world\n",
      "1 hello world\n",
      "1 hello world\n",
      "2 hello world\n",
      "2 hello world\n",
      "2 hello world\n",
      "2 hello world\n",
      "3 hello world\n",
      "3 hello world\n",
      "3 hello world\n",
      "3 hello world\n",
      "4 hello world\n",
      "4 hello world\n",
      "4 hello world\n",
      "4 hello world\n"
     ]
    }
   ],
   "source": [
    "i=1\n",
    "while i<5:\n",
    "    j=1\n",
    "    while j<5:\n",
    "        print(i,\"hello world\")\n",
    "        j=j+1\n",
    "    i+=1"
   ]
  },
  {
   "cell_type": "code",
   "execution_count": 1,
   "id": "667e649c-1016-4b1c-8b96-1d0ec717c038",
   "metadata": {},
   "outputs": [
    {
     "name": "stdout",
     "output_type": "stream",
     "text": [
      "*\n",
      "*\n",
      "*\n",
      "*\n"
     ]
    }
   ],
   "source": [
    "i=1\n",
    "while i<5:\n",
    "    print(\"*\")\n",
    "    i=i+1"
   ]
  },
  {
   "cell_type": "code",
   "execution_count": 3,
   "id": "33dff470-0c43-4d9e-a289-05736767379c",
   "metadata": {},
   "outputs": [
    {
     "name": "stdout",
     "output_type": "stream",
     "text": [
      "*\n",
      "**\n",
      "***\n",
      "****\n",
      "*****\n"
     ]
    }
   ],
   "source": [
    "print(\"*\")\n",
    "print(\"**\")\n",
    "print(\"***\")\n",
    "print(\"****\")\n",
    "print(\"*****\")"
   ]
  },
  {
   "cell_type": "code",
   "execution_count": 6,
   "id": "44b0125f-67b9-4827-97fe-767bb6490bbc",
   "metadata": {},
   "outputs": [
    {
     "name": "stdout",
     "output_type": "stream",
     "text": [
      "*\n",
      "**\n",
      "***\n",
      "****\n",
      "*****\n"
     ]
    }
   ],
   "source": [
    "print(\"*\"*1)\n",
    "print(\"*\"*2)\n",
    "print(\"*\"*3)\n",
    "print(\"*\"*4)\n",
    "print(\"*\"*5)"
   ]
  },
  {
   "cell_type": "code",
   "execution_count": 16,
   "id": "d328b3b3-fad0-43e9-b8e8-3d7c6f2f370a",
   "metadata": {},
   "outputs": [
    {
     "name": "stdout",
     "output_type": "stream",
     "text": [
      "* \n",
      "* * \n",
      "* * * \n",
      "* * * * \n",
      "* * * * * \n"
     ]
    }
   ],
   "source": [
    "i=1\n",
    "while i<6:\n",
    "    print(\"*\"*i)\n",
    "    i+=1"
   ]
  },
  {
   "cell_type": "code",
   "execution_count": 13,
   "id": "41d6ec63-48e7-4c0f-8178-c4a8567553c7",
   "metadata": {},
   "outputs": [
    {
     "name": "stdout",
     "output_type": "stream",
     "text": [
      "*****\n",
      "****\n",
      "***\n",
      "**\n",
      "*\n"
     ]
    }
   ],
   "source": [
    "i=5\n",
    "while i>0:\n",
    "   print(\"*\"*i)\n",
    "   i=i-1"
   ]
  },
  {
   "cell_type": "code",
   "execution_count": 15,
   "id": "5d0a803b-3837-4835-a700-5e36ff80c182",
   "metadata": {},
   "outputs": [
    {
     "name": "stdout",
     "output_type": "stream",
     "text": [
      "*****\n",
      "****\n",
      "***\n",
      "**\n",
      "*\n"
     ]
    }
   ],
   "source": [
    "i=1\n",
    "while i<6:\n",
    "    print(\"*\"*(6-i))\n",
    "    i+=1"
   ]
  },
  {
   "cell_type": "code",
   "execution_count": 1,
   "id": "4dd337c3-3523-4efd-b9b0-93d369065c61",
   "metadata": {},
   "outputs": [
    {
     "name": "stdout",
     "output_type": "stream",
     "text": [
      "    *\n",
      "   **\n",
      "  ***\n",
      " ****\n",
      "*****\n"
     ]
    }
   ],
   "source": [
    "print(\" \"*4+\"*\"*1)\n",
    "print(\" \"*3+\"*\"*2)\n",
    "print(\" \"*2+\"*\"*3)\n",
    "print(\" \"*1+\"*\"*4)\n",
    "print(\" \"*0+\"*\"*5)"
   ]
  },
  {
   "cell_type": "code",
   "execution_count": 11,
   "id": "ad5360b8-153b-4a7f-9cfb-60cb126810fb",
   "metadata": {},
   "outputs": [
    {
     "name": "stdout",
     "output_type": "stream",
     "text": [
      "    *\n",
      "   ***\n",
      "  *****\n",
      " *******\n",
      "*********\n"
     ]
    }
   ],
   "source": [
    "i=1\n",
    "k=0\n",
    "while i<=5:\n",
    "    print(\" \"*(5-i)+\"*\"*i+\"*\"*(k))\n",
    "    i=i+1\n",
    "    k=k+1"
   ]
  },
  {
   "cell_type": "code",
   "execution_count": 17,
   "id": "df35dadb-a8b7-4982-a453-1afefcd687da",
   "metadata": {},
   "outputs": [
    {
     "name": "stdout",
     "output_type": "stream",
     "text": [
      "    *\n",
      "   ***\n",
      "  *****\n",
      " *******\n",
      "*********\n"
     ]
    }
   ],
   "source": [
    "i=1\n",
    "while i<=5:\n",
    "    print(\" \"*(5-i)+\"*\"*(2*i-1))\n",
    "    i=i+1"
   ]
  },
  {
   "cell_type": "code",
   "execution_count": 18,
   "id": "583482fc-a9e5-426a-aa85-ed004358b801",
   "metadata": {},
   "outputs": [
    {
     "name": "stdout",
     "output_type": "stream",
     "text": [
      "    *\n",
      "   ***\n",
      "  *****\n",
      " *******\n",
      "*********\n"
     ]
    }
   ],
   "source": [
    "i=1\n",
    "while i<=5:\n",
    "    print(\" \"*(5-i)+\"*\"*(2*i-1))\n",
    "    i=i+1"
   ]
  },
  {
   "cell_type": "code",
   "execution_count": 21,
   "id": "83093da3-29c7-45ce-acff-0ee71aeff872",
   "metadata": {},
   "outputs": [
    {
     "name": "stdout",
     "output_type": "stream",
     "text": [
      "*********\n",
      " *******\n",
      "  *****\n",
      "   ***\n",
      "    *\n",
      "   ***\n",
      "  *****\n",
      " *******\n",
      "*********\n"
     ]
    }
   ],
   "source": [
    "i=1\n",
    "while i<=5:\n",
    "    print(\" \"*(i-1)+\"*\"*(2*(6-i)-1))\n",
    "    i=i+1\n",
    "i=1\n",
    "while i<=5:\n",
    "    if i==1:\n",
    "        i=i+1\n",
    "        continue\n",
    "    print(\" \"*(5-i)+\"*\"*(2*i-1))\n",
    "    i=i+1"
   ]
  },
  {
   "cell_type": "code",
   "execution_count": 29,
   "id": "0b01dc4b-91d4-4cc2-90fd-6a77c1797c92",
   "metadata": {},
   "outputs": [
    {
     "name": "stdout",
     "output_type": "stream",
     "text": [
      "*********\n",
      " *******\n",
      "  *****\n",
      "   ***\n",
      "    *\n",
      "   ***\n",
      "  *****\n",
      " *******\n",
      "*********\n"
     ]
    }
   ],
   "source": [
    "i=1\n",
    "while i<=9:\n",
    "    if i<=5:\n",
    "        print(\" \"*(i-1)+\"*\"*(2*(6-i)-1))\n",
    "    else:\n",
    "        print(\" \"*(9-i)+\"*\"*((2*i)-9))\n",
    "    i=i+1"
   ]
  },
  {
   "cell_type": "markdown",
   "id": "47397b7c-b0e3-4ec9-8462-d27fd47d89d3",
   "metadata": {},
   "source": [
    "# pattern using nested while loop"
   ]
  },
  {
   "cell_type": "code",
   "execution_count": 3,
   "id": "d593df98-78f6-466a-a8e6-bd1525e72999",
   "metadata": {},
   "outputs": [
    {
     "name": "stdout",
     "output_type": "stream",
     "text": [
      "*\n",
      "*\n",
      "*\n",
      "*\n",
      "*\n",
      "*\n",
      "*\n",
      "*\n",
      "*\n",
      "*\n",
      "*\n",
      "*\n",
      "*\n",
      "*\n",
      "*\n",
      "*\n",
      "*\n",
      "*\n",
      "*\n",
      "*\n",
      "*\n",
      "*\n",
      "*\n",
      "*\n",
      "*\n"
     ]
    }
   ],
   "source": [
    "i=0\n",
    "while i<5:\n",
    "    j=0\n",
    "    while j<5:\n",
    "        print(\"*\")\n",
    "        j=j+1\n",
    "    i=i+1"
   ]
  },
  {
   "cell_type": "code",
   "execution_count": 10,
   "id": "dfdad7f9-ab44-4750-9dc8-007f18ef09ff",
   "metadata": {},
   "outputs": [
    {
     "name": "stdout",
     "output_type": "stream",
     "text": [
      "*****\n",
      "*****\n",
      "*****\n",
      "*****\n",
      "*****"
     ]
    }
   ],
   "source": [
    "j=0\n",
    "while j<5:\n",
    "    print(\"*\",end=\"\")\n",
    "    j=j+1\n",
    "print()\n",
    "j=0\n",
    "while j<5:\n",
    "    print(\"*\",end=\"\")\n",
    "    j=j+1\n",
    "print()\n",
    "j=0\n",
    "while j<5:\n",
    "    print(\"*\",end=\"\")\n",
    "    j=j+1\n",
    "print()\n",
    "j=0\n",
    "while j<5:\n",
    "    print(\"*\",end=\"\")\n",
    "    j=j+1\n",
    "print()\n",
    "j=0\n",
    "while j<5:\n",
    "    print(\"*\",end=\"\")\n",
    "    j=j+1"
   ]
  },
  {
   "cell_type": "code",
   "execution_count": 13,
   "id": "843433a1-1de3-460e-a957-0a3e32de430d",
   "metadata": {},
   "outputs": [
    {
     "name": "stdout",
     "output_type": "stream",
     "text": [
      "*\n",
      "**\n",
      "***\n",
      "****\n",
      "*****\n"
     ]
    }
   ],
   "source": [
    "i=0\n",
    "while i<5:\n",
    "    j=0\n",
    "    while j<i+1:\n",
    "        print(\"*\",end=\"\")\n",
    "        j=j+1\n",
    "    print()\n",
    "    i=i+1"
   ]
  },
  {
   "cell_type": "code",
   "execution_count": 15,
   "id": "8cb938f9-001b-4825-b718-e117ec521a88",
   "metadata": {},
   "outputs": [
    {
     "name": "stdout",
     "output_type": "stream",
     "text": [
      "*\n",
      "**\n",
      "***\n",
      "****\n",
      "*****\n"
     ]
    }
   ],
   "source": [
    "i=0\n",
    "while i<5:\n",
    "    j=0\n",
    "    while j<=i:\n",
    "        print(\"*\",end=\"\")\n",
    "        j=j+1\n",
    "    print()\n",
    "    i=i+1"
   ]
  },
  {
   "cell_type": "code",
   "execution_count": 5,
   "id": "dce17dbd-005f-4909-9516-11f475b049d5",
   "metadata": {},
   "outputs": [
    {
     "name": "stdout",
     "output_type": "stream",
     "text": [
      "*****\n",
      "****\n",
      "***\n",
      "**\n",
      "*\n"
     ]
    }
   ],
   "source": [
    "i=0\n",
    "while i<=4:\n",
    "    j=4\n",
    "    while j>=i:\n",
    "        print(\"*\",end=\"\")\n",
    "        j=j-1\n",
    "    print()\n",
    "    i=i+1\n",
    "\n",
    "    "
   ]
  },
  {
   "cell_type": "code",
   "execution_count": null,
   "id": "ec1002b0-839b-48b4-9e9c-03be7e9fbc0f",
   "metadata": {},
   "outputs": [],
   "source": []
  },
  {
   "cell_type": "raw",
   "id": "34fc28d6-58a9-4302-a5e9-52d72b758ca9",
   "metadata": {},
   "source": [
    "#Loop\n",
    "\n",
    "    > For loop\n",
    "        > simple for loop\n",
    "        > nested for loop\n",
    "        > pattern using single for loop\n",
    "        > pattern using nested for loop\n",
    "        > list comprehension\n",
    "        > set comprehension\n",
    "        > dictionary comprehension\n",
    "        > tuple comprehension(generator object )\n",
    "\n"
   ]
  },
  {
   "cell_type": "raw",
   "id": "2231e77e-a40b-4bf0-8a8a-abc561ff4f01",
   "metadata": {},
   "source": [
    "> iterable:those datatype which contain a magic methods/dunder methods called \n",
    "        def __iter__() are called iterable.\n",
    "example: str,list, tuple,set,frozenset,dictionary"
   ]
  },
  {
   "cell_type": "code",
   "execution_count": 1,
   "id": "7ef3fc1f-00de-4b00-a446-a088c6d07363",
   "metadata": {},
   "outputs": [],
   "source": [
    "a=[]"
   ]
  },
  {
   "cell_type": "code",
   "execution_count": 2,
   "id": "e97a16c4-8585-4450-b4af-9ac8f7cb1d90",
   "metadata": {},
   "outputs": [],
   "source": [
    "a.append(10)"
   ]
  },
  {
   "cell_type": "code",
   "execution_count": 3,
   "id": "eb12add1-02ce-43f4-8b31-08541c3f44ec",
   "metadata": {},
   "outputs": [
    {
     "name": "stdout",
     "output_type": "stream",
     "text": [
      "[10]\n"
     ]
    }
   ],
   "source": [
    "print(a)"
   ]
  },
  {
   "cell_type": "code",
   "execution_count": 4,
   "id": "db4c830a-6379-45fb-b6e2-c6172ed3a1ed",
   "metadata": {},
   "outputs": [
    {
     "data": {
      "text/plain": [
       "['__add__',\n",
       " '__class__',\n",
       " '__class_getitem__',\n",
       " '__contains__',\n",
       " '__delattr__',\n",
       " '__delitem__',\n",
       " '__dir__',\n",
       " '__doc__',\n",
       " '__eq__',\n",
       " '__format__',\n",
       " '__ge__',\n",
       " '__getattribute__',\n",
       " '__getitem__',\n",
       " '__getstate__',\n",
       " '__gt__',\n",
       " '__hash__',\n",
       " '__iadd__',\n",
       " '__imul__',\n",
       " '__init__',\n",
       " '__init_subclass__',\n",
       " '__iter__',\n",
       " '__le__',\n",
       " '__len__',\n",
       " '__lt__',\n",
       " '__mul__',\n",
       " '__ne__',\n",
       " '__new__',\n",
       " '__reduce__',\n",
       " '__reduce_ex__',\n",
       " '__repr__',\n",
       " '__reversed__',\n",
       " '__rmul__',\n",
       " '__setattr__',\n",
       " '__setitem__',\n",
       " '__sizeof__',\n",
       " '__str__',\n",
       " '__subclasshook__',\n",
       " 'append',\n",
       " 'clear',\n",
       " 'copy',\n",
       " 'count',\n",
       " 'extend',\n",
       " 'index',\n",
       " 'insert',\n",
       " 'pop',\n",
       " 'remove',\n",
       " 'reverse',\n",
       " 'sort']"
      ]
     },
     "execution_count": 4,
     "metadata": {},
     "output_type": "execute_result"
    }
   ],
   "source": [
    "dir(a)"
   ]
  },
  {
   "cell_type": "code",
   "execution_count": 5,
   "id": "2590df92-9c09-428d-8e43-e24203b37448",
   "metadata": {},
   "outputs": [
    {
     "name": "stdout",
     "output_type": "stream",
     "text": [
      "Help on list object:\n",
      "\n",
      "class list(object)\n",
      " |  list(iterable=(), /)\n",
      " |  \n",
      " |  Built-in mutable sequence.\n",
      " |  \n",
      " |  If no argument is given, the constructor creates a new empty list.\n",
      " |  The argument must be an iterable if specified.\n",
      " |  \n",
      " |  Methods defined here:\n",
      " |  \n",
      " |  __add__(self, value, /)\n",
      " |      Return self+value.\n",
      " |  \n",
      " |  __contains__(self, key, /)\n",
      " |      Return key in self.\n",
      " |  \n",
      " |  __delitem__(self, key, /)\n",
      " |      Delete self[key].\n",
      " |  \n",
      " |  __eq__(self, value, /)\n",
      " |      Return self==value.\n",
      " |  \n",
      " |  __ge__(self, value, /)\n",
      " |      Return self>=value.\n",
      " |  \n",
      " |  __getattribute__(self, name, /)\n",
      " |      Return getattr(self, name).\n",
      " |  \n",
      " |  __getitem__(...)\n",
      " |      x.__getitem__(y) <==> x[y]\n",
      " |  \n",
      " |  __gt__(self, value, /)\n",
      " |      Return self>value.\n",
      " |  \n",
      " |  __iadd__(self, value, /)\n",
      " |      Implement self+=value.\n",
      " |  \n",
      " |  __imul__(self, value, /)\n",
      " |      Implement self*=value.\n",
      " |  \n",
      " |  __init__(self, /, *args, **kwargs)\n",
      " |      Initialize self.  See help(type(self)) for accurate signature.\n",
      " |  \n",
      " |  __iter__(self, /)\n",
      " |      Implement iter(self).\n",
      " |  \n",
      " |  __le__(self, value, /)\n",
      " |      Return self<=value.\n",
      " |  \n",
      " |  __len__(self, /)\n",
      " |      Return len(self).\n",
      " |  \n",
      " |  __lt__(self, value, /)\n",
      " |      Return self<value.\n",
      " |  \n",
      " |  __mul__(self, value, /)\n",
      " |      Return self*value.\n",
      " |  \n",
      " |  __ne__(self, value, /)\n",
      " |      Return self!=value.\n",
      " |  \n",
      " |  __repr__(self, /)\n",
      " |      Return repr(self).\n",
      " |  \n",
      " |  __reversed__(self, /)\n",
      " |      Return a reverse iterator over the list.\n",
      " |  \n",
      " |  __rmul__(self, value, /)\n",
      " |      Return value*self.\n",
      " |  \n",
      " |  __setitem__(self, key, value, /)\n",
      " |      Set self[key] to value.\n",
      " |  \n",
      " |  __sizeof__(self, /)\n",
      " |      Return the size of the list in memory, in bytes.\n",
      " |  \n",
      " |  append(self, object, /)\n",
      " |      Append object to the end of the list.\n",
      " |  \n",
      " |  clear(self, /)\n",
      " |      Remove all items from list.\n",
      " |  \n",
      " |  copy(self, /)\n",
      " |      Return a shallow copy of the list.\n",
      " |  \n",
      " |  count(self, value, /)\n",
      " |      Return number of occurrences of value.\n",
      " |  \n",
      " |  extend(self, iterable, /)\n",
      " |      Extend list by appending elements from the iterable.\n",
      " |  \n",
      " |  index(self, value, start=0, stop=9223372036854775807, /)\n",
      " |      Return first index of value.\n",
      " |      \n",
      " |      Raises ValueError if the value is not present.\n",
      " |  \n",
      " |  insert(self, index, object, /)\n",
      " |      Insert object before index.\n",
      " |  \n",
      " |  pop(self, index=-1, /)\n",
      " |      Remove and return item at index (default last).\n",
      " |      \n",
      " |      Raises IndexError if list is empty or index is out of range.\n",
      " |  \n",
      " |  remove(self, value, /)\n",
      " |      Remove first occurrence of value.\n",
      " |      \n",
      " |      Raises ValueError if the value is not present.\n",
      " |  \n",
      " |  reverse(self, /)\n",
      " |      Reverse *IN PLACE*.\n",
      " |  \n",
      " |  sort(self, /, *, key=None, reverse=False)\n",
      " |      Sort the list in ascending order and return None.\n",
      " |      \n",
      " |      The sort is in-place (i.e. the list itself is modified) and stable (i.e. the\n",
      " |      order of two equal elements is maintained).\n",
      " |      \n",
      " |      If a key function is given, apply it once to each list item and sort them,\n",
      " |      ascending or descending, according to their function values.\n",
      " |      \n",
      " |      The reverse flag can be set to sort in descending order.\n",
      " |  \n",
      " |  ----------------------------------------------------------------------\n",
      " |  Class methods defined here:\n",
      " |  \n",
      " |  __class_getitem__(...) from builtins.type\n",
      " |      See PEP 585\n",
      " |  \n",
      " |  ----------------------------------------------------------------------\n",
      " |  Static methods defined here:\n",
      " |  \n",
      " |  __new__(*args, **kwargs) from builtins.type\n",
      " |      Create and return a new object.  See help(type) for accurate signature.\n",
      " |  \n",
      " |  ----------------------------------------------------------------------\n",
      " |  Data and other attributes defined here:\n",
      " |  \n",
      " |  __hash__ = None\n",
      "\n"
     ]
    }
   ],
   "source": [
    "help(a)"
   ]
  },
  {
   "cell_type": "code",
   "execution_count": 7,
   "id": "1e6ae027-32fc-485e-b89b-c5ad3db9c072",
   "metadata": {},
   "outputs": [
    {
     "name": "stdout",
     "output_type": "stream",
     "text": [
      "[10]\n"
     ]
    }
   ],
   "source": [
    "print(a)"
   ]
  },
  {
   "cell_type": "code",
   "execution_count": 8,
   "id": "9402c461-0b84-45a9-95a1-f63bb79cf949",
   "metadata": {},
   "outputs": [
    {
     "data": {
      "text/plain": [
       "[10, 10, 11]"
      ]
     },
     "execution_count": 8,
     "metadata": {},
     "output_type": "execute_result"
    }
   ],
   "source": [
    "a+[10,11]"
   ]
  },
  {
   "cell_type": "code",
   "execution_count": 9,
   "id": "67b5dced-03b0-465c-bc40-09cc1dc618e4",
   "metadata": {},
   "outputs": [],
   "source": [
    "b=\"krishna\""
   ]
  },
  {
   "cell_type": "code",
   "execution_count": 10,
   "id": "608d7ba9-93bb-467a-b7c8-4f771d3c7c5a",
   "metadata": {},
   "outputs": [
    {
     "data": {
      "text/plain": [
       "['__add__',\n",
       " '__class__',\n",
       " '__contains__',\n",
       " '__delattr__',\n",
       " '__dir__',\n",
       " '__doc__',\n",
       " '__eq__',\n",
       " '__format__',\n",
       " '__ge__',\n",
       " '__getattribute__',\n",
       " '__getitem__',\n",
       " '__getnewargs__',\n",
       " '__getstate__',\n",
       " '__gt__',\n",
       " '__hash__',\n",
       " '__init__',\n",
       " '__init_subclass__',\n",
       " '__iter__',\n",
       " '__le__',\n",
       " '__len__',\n",
       " '__lt__',\n",
       " '__mod__',\n",
       " '__mul__',\n",
       " '__ne__',\n",
       " '__new__',\n",
       " '__reduce__',\n",
       " '__reduce_ex__',\n",
       " '__repr__',\n",
       " '__rmod__',\n",
       " '__rmul__',\n",
       " '__setattr__',\n",
       " '__sizeof__',\n",
       " '__str__',\n",
       " '__subclasshook__',\n",
       " 'capitalize',\n",
       " 'casefold',\n",
       " 'center',\n",
       " 'count',\n",
       " 'encode',\n",
       " 'endswith',\n",
       " 'expandtabs',\n",
       " 'find',\n",
       " 'format',\n",
       " 'format_map',\n",
       " 'index',\n",
       " 'isalnum',\n",
       " 'isalpha',\n",
       " 'isascii',\n",
       " 'isdecimal',\n",
       " 'isdigit',\n",
       " 'isidentifier',\n",
       " 'islower',\n",
       " 'isnumeric',\n",
       " 'isprintable',\n",
       " 'isspace',\n",
       " 'istitle',\n",
       " 'isupper',\n",
       " 'join',\n",
       " 'ljust',\n",
       " 'lower',\n",
       " 'lstrip',\n",
       " 'maketrans',\n",
       " 'partition',\n",
       " 'removeprefix',\n",
       " 'removesuffix',\n",
       " 'replace',\n",
       " 'rfind',\n",
       " 'rindex',\n",
       " 'rjust',\n",
       " 'rpartition',\n",
       " 'rsplit',\n",
       " 'rstrip',\n",
       " 'split',\n",
       " 'splitlines',\n",
       " 'startswith',\n",
       " 'strip',\n",
       " 'swapcase',\n",
       " 'title',\n",
       " 'translate',\n",
       " 'upper',\n",
       " 'zfill']"
      ]
     },
     "execution_count": 10,
     "metadata": {},
     "output_type": "execute_result"
    }
   ],
   "source": [
    "dir(b)"
   ]
  },
  {
   "cell_type": "raw",
   "id": "d61944e0-bbb4-4e89-97a4-0a81e7e6ecf0",
   "metadata": {},
   "source": [
    "#syntex of for loop\n",
    "\n",
    "for condition:\n",
    "    statement(s)"
   ]
  },
  {
   "cell_type": "code",
   "execution_count": 11,
   "id": "8ffdbd49-1db3-4a67-aa85-19d3d740d42d",
   "metadata": {},
   "outputs": [],
   "source": [
    "a=[1,2,3,4,5,6,7,8,9]"
   ]
  },
  {
   "cell_type": "code",
   "execution_count": 12,
   "id": "e3ce5dff-92f1-41d2-addc-a6547ba748ee",
   "metadata": {},
   "outputs": [
    {
     "name": "stdout",
     "output_type": "stream",
     "text": [
      "[1, 2, 3, 4, 5, 6, 7, 8, 9]\n"
     ]
    }
   ],
   "source": [
    "print(a)"
   ]
  },
  {
   "cell_type": "code",
   "execution_count": 19,
   "id": "bfba60f8-7558-4798-a9a1-9e49f5ee3d42",
   "metadata": {},
   "outputs": [
    {
     "name": "stdout",
     "output_type": "stream",
     "text": [
      "1\n",
      "2\n",
      "3\n",
      "4\n",
      "5\n",
      "6\n",
      "7\n",
      "8\n",
      "9\n"
     ]
    }
   ],
   "source": [
    "for i in a:\n",
    "    print(i)"
   ]
  },
  {
   "cell_type": "code",
   "execution_count": 20,
   "id": "929d6110-7e66-4d0e-aa59-5d6db364d036",
   "metadata": {},
   "outputs": [
    {
     "name": "stdout",
     "output_type": "stream",
     "text": [
      "1 hello world\n",
      "2 hello world\n",
      "3 hello world\n",
      "4 hello world\n",
      "5 hello world\n",
      "6 hello world\n",
      "7 hello world\n",
      "8 hello world\n",
      "9 hello world\n"
     ]
    }
   ],
   "source": [
    "for i in a:\n",
    "    print(i,\"hello world\")"
   ]
  },
  {
   "cell_type": "code",
   "execution_count": 21,
   "id": "2d768ed0-bbac-4c11-bc84-8065a0ed831c",
   "metadata": {},
   "outputs": [
    {
     "name": "stdout",
     "output_type": "stream",
     "text": [
      "1 hello world 2 hello world 3 hello world 4 hello world 5 hello world 6 hello world 7 hello world 8 hello world 9 hello world "
     ]
    }
   ],
   "source": [
    "a=[1,2,3,4,5,6,7,8,9]\n",
    "for i in a:\n",
    "    print(i,\"hello world\",end=\" \")"
   ]
  },
  {
   "cell_type": "code",
   "execution_count": 25,
   "id": "69bef5e5-f525-42e2-9d33-714c7b155ea5",
   "metadata": {},
   "outputs": [
    {
     "data": {
      "text/plain": [
       "range(1, 10, 2)"
      ]
     },
     "execution_count": 25,
     "metadata": {},
     "output_type": "execute_result"
    }
   ],
   "source": [
    "range(1,10,2)"
   ]
  },
  {
   "cell_type": "code",
   "execution_count": 26,
   "id": "29085f40-a8f6-4a8f-ad0c-fa22edc152b3",
   "metadata": {},
   "outputs": [
    {
     "name": "stdout",
     "output_type": "stream",
     "text": [
      "1 hello world 2 hello world 3 hello world 4 hello world 5 hello world 6 hello world 7 hello world 8 hello world 9 hello world "
     ]
    }
   ],
   "source": [
    "a=range(1,10)\n",
    "for i in a:\n",
    "    print(i,\"hello world\",end=\" \")"
   ]
  },
  {
   "cell_type": "code",
   "execution_count": 27,
   "id": "9ba6993a-e7f9-499f-bd89-4fbb7b65479c",
   "metadata": {},
   "outputs": [
    {
     "name": "stdout",
     "output_type": "stream",
     "text": [
      "1 hello world\n",
      "2 hello world\n",
      "3 hello world\n",
      "4 hello world\n",
      "5 hello world\n",
      "6 hello world\n",
      "7 hello world\n",
      "8 hello world\n",
      "9 hello world\n"
     ]
    }
   ],
   "source": [
    "a=range(1,10)\n",
    "for i in a:\n",
    "    print(i,\"hello world\")"
   ]
  },
  {
   "cell_type": "code",
   "execution_count": 30,
   "id": "894b7a90-2366-4d61-9f9c-67d9f7a0cca5",
   "metadata": {
    "scrolled": true
   },
   "outputs": [
    {
     "name": "stdout",
     "output_type": "stream",
     "text": [
      "1\n",
      "3\n",
      "5\n",
      "7\n",
      "9\n",
      "11\n",
      "13\n",
      "15\n",
      "17\n",
      "19\n",
      "21\n",
      "23\n",
      "25\n",
      "27\n",
      "29\n",
      "31\n",
      "33\n",
      "35\n",
      "37\n",
      "39\n",
      "41\n",
      "43\n",
      "45\n",
      "47\n",
      "49\n",
      "51\n",
      "53\n",
      "55\n",
      "57\n",
      "59\n",
      "61\n",
      "63\n",
      "65\n",
      "67\n",
      "69\n",
      "71\n",
      "73\n",
      "75\n",
      "77\n",
      "79\n",
      "81\n",
      "83\n",
      "85\n",
      "87\n",
      "89\n",
      "91\n",
      "93\n",
      "95\n",
      "97\n",
      "99\n"
     ]
    }
   ],
   "source": [
    "a=range(1,100,2)\n",
    "for i in a:\n",
    "    print(i)"
   ]
  },
  {
   "cell_type": "code",
   "execution_count": 31,
   "id": "3e2855f2-4a90-4333-b106-7c3893477343",
   "metadata": {
    "scrolled": true
   },
   "outputs": [
    {
     "name": "stdout",
     "output_type": "stream",
     "text": [
      "0\n",
      "2\n",
      "4\n",
      "6\n",
      "8\n",
      "10\n",
      "12\n",
      "14\n",
      "16\n",
      "18\n",
      "20\n",
      "22\n",
      "24\n",
      "26\n",
      "28\n",
      "30\n",
      "32\n",
      "34\n",
      "36\n",
      "38\n",
      "40\n",
      "42\n",
      "44\n",
      "46\n",
      "48\n",
      "50\n",
      "52\n",
      "54\n",
      "56\n",
      "58\n",
      "60\n",
      "62\n",
      "64\n",
      "66\n",
      "68\n",
      "70\n",
      "72\n",
      "74\n",
      "76\n",
      "78\n",
      "80\n",
      "82\n",
      "84\n",
      "86\n",
      "88\n",
      "90\n",
      "92\n",
      "94\n",
      "96\n",
      "98\n"
     ]
    }
   ],
   "source": [
    "a=range(0,100,2)\n",
    "for i in a:\n",
    "    print(i)"
   ]
  },
  {
   "cell_type": "code",
   "execution_count": 32,
   "id": "ab688fe3-9105-447b-bc9a-d81222ad3769",
   "metadata": {},
   "outputs": [
    {
     "name": "stdin",
     "output_type": "stream",
     "text": [
      "Enter a number: 2\n"
     ]
    },
    {
     "name": "stdout",
     "output_type": "stream",
     "text": [
      "2\n",
      "22\n",
      "222\n",
      "2222\n",
      "22222\n",
      "222222\n",
      "2222222\n",
      "22222222\n",
      "222222222\n",
      "2222222222\n"
     ]
    }
   ],
   "source": [
    "user=input(\"Enter a number:\")#'2'\n",
    "a=range(1,11)\n",
    "for i in a:\n",
    "    print(user*i)"
   ]
  },
  {
   "cell_type": "code",
   "execution_count": 33,
   "id": "20565e3f-54bc-4a19-b3bd-28c12e518db9",
   "metadata": {},
   "outputs": [
    {
     "name": "stdin",
     "output_type": "stream",
     "text": [
      "Enter a number: 2\n"
     ]
    },
    {
     "name": "stdout",
     "output_type": "stream",
     "text": [
      "2\n",
      "4\n",
      "6\n",
      "8\n",
      "10\n",
      "12\n",
      "14\n",
      "16\n",
      "18\n",
      "20\n"
     ]
    }
   ],
   "source": [
    "user=int(input(\"Enter a number:\"))#'2'--> 2\n",
    "a=range(1,11)\n",
    "for i in a:\n",
    "    print(user*i)"
   ]
  },
  {
   "cell_type": "code",
   "execution_count": 34,
   "id": "9f725730-577b-42fa-afd2-c947813036f3",
   "metadata": {},
   "outputs": [
    {
     "name": "stdin",
     "output_type": "stream",
     "text": [
      "Enter a number: 2\n"
     ]
    },
    {
     "name": "stdout",
     "output_type": "stream",
     "text": [
      "{user}*{i}={user*i}\n",
      "{user}*{i}={user*i}\n",
      "{user}*{i}={user*i}\n",
      "{user}*{i}={user*i}\n",
      "{user}*{i}={user*i}\n",
      "{user}*{i}={user*i}\n",
      "{user}*{i}={user*i}\n",
      "{user}*{i}={user*i}\n",
      "{user}*{i}={user*i}\n",
      "{user}*{i}={user*i}\n"
     ]
    }
   ],
   "source": [
    "user=int(input(\"Enter a number:\"))#'2'--> 2\n",
    "a=range(1,11)\n",
    "for i in a:\n",
    "    print(\"{user}*{i}={user*i}\")"
   ]
  },
  {
   "cell_type": "code",
   "execution_count": 35,
   "id": "b00d453a-2ef2-47fa-92d1-92a105890071",
   "metadata": {},
   "outputs": [
    {
     "name": "stdin",
     "output_type": "stream",
     "text": [
      "Enter a number: 2\n"
     ]
    },
    {
     "name": "stdout",
     "output_type": "stream",
     "text": [
      "2*1=2\n",
      "2*2=4\n",
      "2*3=6\n",
      "2*4=8\n",
      "2*5=10\n",
      "2*6=12\n",
      "2*7=14\n",
      "2*8=16\n",
      "2*9=18\n",
      "2*10=20\n"
     ]
    }
   ],
   "source": [
    "user=int(input(\"Enter a number:\"))#'2'--> 2\n",
    "a=range(1,11)\n",
    "for i in a:\n",
    "    print(f\"{user}*{i}={user*i}\")"
   ]
  },
  {
   "cell_type": "code",
   "execution_count": 36,
   "id": "6de0114e-68f1-495d-a1ec-97afdde66f48",
   "metadata": {},
   "outputs": [
    {
     "name": "stdin",
     "output_type": "stream",
     "text": [
      "Enter a number: 2\n"
     ]
    },
    {
     "name": "stdout",
     "output_type": "stream",
     "text": [
      "2*1=2\n",
      "2*2=4\n",
      "2*3=6\n",
      "2*4=8\n",
      "2*5=10\n",
      "2*6=12\n",
      "2*7=14\n",
      "2*8=16\n",
      "2*9=18\n",
      "2*10=20\n"
     ]
    }
   ],
   "source": [
    "user=int(input(\"Enter a number:\"))#'2'--> 2\n",
    "a=range(1,11)\n",
    "for i in a:\n",
    "    print(\"{}*{}={}\".format(user,i,user*i))"
   ]
  },
  {
   "cell_type": "code",
   "execution_count": 37,
   "id": "64574f60-06cc-45de-a866-71f719dac523",
   "metadata": {},
   "outputs": [
    {
     "name": "stdin",
     "output_type": "stream",
     "text": [
      "Enter a number: 3\n"
     ]
    },
    {
     "name": "stdout",
     "output_type": "stream",
     "text": [
      "3*1=3\n",
      "3*2=6\n",
      "3*3=9\n",
      "3*4=12\n",
      "3*5=15\n",
      "3*6=18\n",
      "3*7=21\n",
      "3*8=24\n",
      "3*9=27\n",
      "3*10=30\n"
     ]
    }
   ],
   "source": [
    "user=int(input(\"Enter a number:\"))#'2'--> 2\n",
    "a=range(1,11)\n",
    "for i in a:\n",
    "    print(F\"{user}*{i}={user*i}\")"
   ]
  },
  {
   "cell_type": "code",
   "execution_count": 46,
   "id": "9dce61d6-7513-4aab-8b4a-e7ca825ce2ea",
   "metadata": {},
   "outputs": [
    {
     "name": "stdout",
     "output_type": "stream",
     "text": [
      "*\n",
      "**\n",
      "***\n",
      "****\n",
      "*****\n"
     ]
    }
   ],
   "source": [
    "for i in range(1,6):\n",
    "    print(\"*\"*i)"
   ]
  },
  {
   "cell_type": "code",
   "execution_count": 45,
   "id": "d196a635-c7ca-49ab-8053-4280f7febcf5",
   "metadata": {},
   "outputs": [
    {
     "name": "stdout",
     "output_type": "stream",
     "text": [
      "*\n",
      "**\n",
      "***\n",
      "****\n",
      "*****\n"
     ]
    }
   ],
   "source": [
    "print(\"*\"*1)\n",
    "print(\"*\"*2)\n",
    "print(\"*\"*3)\n",
    "print(\"*\"*4)\n",
    "print(\"*\"*5)"
   ]
  },
  {
   "cell_type": "code",
   "execution_count": 44,
   "id": "e385f0d3-ca31-4a95-bc71-3e0a79343254",
   "metadata": {},
   "outputs": [
    {
     "data": {
      "text/plain": [
       "'*****'"
      ]
     },
     "execution_count": 44,
     "metadata": {},
     "output_type": "execute_result"
    }
   ],
   "source": [
    "\"*\"*5"
   ]
  },
  {
   "cell_type": "markdown",
   "id": "4cc9069a-494e-4e69-86ae-b226e57e33f3",
   "metadata": {},
   "source": [
    "# nested for loop"
   ]
  },
  {
   "cell_type": "code",
   "execution_count": 7,
   "id": "f9a77aa5-913d-4588-84b6-df2edd84846b",
   "metadata": {},
   "outputs": [
    {
     "name": "stdout",
     "output_type": "stream",
     "text": [
      "*\n",
      "**\n",
      "***\n",
      "****\n",
      "*****\n"
     ]
    }
   ],
   "source": [
    "for i in range(1):\n",
    "    print(\"*\",end=\"\")\n",
    "print()\n",
    "for i in range(2):\n",
    "    print(\"*\",end=\"\")\n",
    "print()\n",
    "for i in range(3):\n",
    "    print(\"*\",end=\"\")\n",
    "print()\n",
    "for i in range(4):\n",
    "    print(\"*\",end=\"\")\n",
    "print()\n",
    "for i in range(5):\n",
    "    print(\"*\",end=\"\")\n",
    "print()"
   ]
  },
  {
   "cell_type": "code",
   "execution_count": 9,
   "id": "3945e81a-5766-4105-babc-d7024148a677",
   "metadata": {},
   "outputs": [
    {
     "name": "stdout",
     "output_type": "stream",
     "text": [
      "*\n",
      "**\n",
      "***\n",
      "****\n",
      "*****\n"
     ]
    }
   ],
   "source": [
    "for j in range(5):\n",
    "    for i in range(j+1):\n",
    "        print(\"*\",end=\"\")\n",
    "    print()"
   ]
  },
  {
   "cell_type": "markdown",
   "id": "6fd08a56-4c32-40d4-b269-d5edc29f6a2d",
   "metadata": {},
   "source": [
    "> break(Loop)\n",
    "\n",
    "> continue(Loop)\n",
    "\n",
    "> pass(can use in any block)"
   ]
  },
  {
   "cell_type": "markdown",
   "id": "1b1a28d3-5f4e-4ae4-85e6-5783d60f5343",
   "metadata": {},
   "source": [
    "# pass"
   ]
  },
  {
   "cell_type": "code",
   "execution_count": 11,
   "id": "e481f9de-0f24-46a8-b12b-4580ca6c8285",
   "metadata": {},
   "outputs": [
    {
     "data": {
      "text/plain": [
       "True"
      ]
     },
     "execution_count": 11,
     "metadata": {},
     "output_type": "execute_result"
    }
   ],
   "source": [
    "10==10"
   ]
  },
  {
   "cell_type": "code",
   "execution_count": 14,
   "id": "72f14a71-5be9-4194-9146-bdafcc860b11",
   "metadata": {},
   "outputs": [
    {
     "name": "stdout",
     "output_type": "stream",
     "text": [
      "hello world\n",
      "hello world\n",
      "hello world\n",
      "hello world\n"
     ]
    }
   ],
   "source": [
    "if 10==10:\n",
    "    print(\"hello world\")\n",
    "    print(\"hello world\")\n",
    "    print(\"hello world\")\n",
    "    print(\"hello world\")\n",
    "else:\n",
    "    print(\"bye\")"
   ]
  },
  {
   "cell_type": "code",
   "execution_count": 18,
   "id": "13cf9c18-7e9b-44fc-8620-aa87e84b8e64",
   "metadata": {},
   "outputs": [],
   "source": [
    "if 10==10:\n",
    "    pass\n",
    "else:\n",
    "    print(\"bye\")"
   ]
  },
  {
   "cell_type": "code",
   "execution_count": 21,
   "id": "09afbb06-a4d3-41b6-9fb1-71d8e10eab3e",
   "metadata": {},
   "outputs": [
    {
     "name": "stdout",
     "output_type": "stream",
     "text": [
      "Hello world\n"
     ]
    }
   ],
   "source": [
    "if 10==10:\n",
    "    pass\n",
    "else:\n",
    "    print(\"bye\")\n",
    "print(\"Hello world\")"
   ]
  },
  {
   "cell_type": "code",
   "execution_count": 22,
   "id": "6098bc8f-b8fd-40a2-ba08-1a77d0eb7d06",
   "metadata": {},
   "outputs": [
    {
     "name": "stdout",
     "output_type": "stream",
     "text": [
      "Hello world\n"
     ]
    }
   ],
   "source": [
    "if 10==10:\n",
    "    pass\n",
    "else:\n",
    "    pass\n",
    "print(\"Hello world\")"
   ]
  },
  {
   "cell_type": "code",
   "execution_count": 23,
   "id": "b4997789-38d4-4a91-80fc-6d6487ca2440",
   "metadata": {},
   "outputs": [
    {
     "ename": "IndentationError",
     "evalue": "expected an indented block after 'else' statement on line 3 (188926911.py, line 5)",
     "output_type": "error",
     "traceback": [
      "\u001b[1;36m  Cell \u001b[1;32mIn[23], line 5\u001b[1;36m\u001b[0m\n\u001b[1;33m    print(\"Hello world\")\u001b[0m\n\u001b[1;37m    ^\u001b[0m\n\u001b[1;31mIndentationError\u001b[0m\u001b[1;31m:\u001b[0m expected an indented block after 'else' statement on line 3\n"
     ]
    }
   ],
   "source": [
    "if 10==10:\n",
    "    pass\n",
    "else:\n",
    "    \n",
    "print(\"Hello world\")"
   ]
  },
  {
   "cell_type": "code",
   "execution_count": 24,
   "id": "390e65ce-7e1a-41ef-b2e5-071b9836d2fb",
   "metadata": {},
   "outputs": [
    {
     "name": "stdout",
     "output_type": "stream",
     "text": [
      "Hello world\n"
     ]
    }
   ],
   "source": [
    "if 10==10:\n",
    "    pass\n",
    "else:\n",
    "    pass\n",
    "print(\"Hello world\")"
   ]
  },
  {
   "cell_type": "markdown",
   "id": "acbca651-09c8-480e-9c27-db873d54e1a4",
   "metadata": {},
   "source": [
    "# break\n",
    "\n",
    "> always use inside a loop"
   ]
  },
  {
   "cell_type": "code",
   "execution_count": 27,
   "id": "e7d82b5e-77ba-44d4-8d6c-e5925f700def",
   "metadata": {},
   "outputs": [
    {
     "name": "stdout",
     "output_type": "stream",
     "text": [
      "0 hello world\n",
      "1 hello world\n",
      "2 hello world\n",
      "3 hello world\n",
      "4 hello world\n"
     ]
    }
   ],
   "source": [
    "for i in range(0,5,1):\n",
    "    print(i,\"hello world\")"
   ]
  },
  {
   "cell_type": "code",
   "execution_count": 28,
   "id": "d8ff5152-88aa-41d0-83ff-cda35c09648e",
   "metadata": {},
   "outputs": [
    {
     "name": "stdout",
     "output_type": "stream",
     "text": [
      "0 hello world\n",
      "1 hello world\n"
     ]
    }
   ],
   "source": [
    "for i in range(0,5,1):\n",
    "    if i==2:\n",
    "        break\n",
    "    print(i,\"hello world\")"
   ]
  },
  {
   "cell_type": "code",
   "execution_count": 29,
   "id": "cc0905fb-183e-42bd-9529-34b35c3c2083",
   "metadata": {},
   "outputs": [
    {
     "name": "stdout",
     "output_type": "stream",
     "text": [
      "0 hello world\n",
      "1 hello world\n",
      "2 hello world\n"
     ]
    }
   ],
   "source": [
    "for i in range(0,5,1):\n",
    "    print(i,\"hello world\")\n",
    "    if i==2:\n",
    "        break\n"
   ]
  },
  {
   "cell_type": "markdown",
   "id": "17325ab0-42a5-4623-809a-84bee6c77c67",
   "metadata": {},
   "source": [
    "# continue\n",
    "\n",
    "> Always use inside loop"
   ]
  },
  {
   "cell_type": "code",
   "execution_count": 30,
   "id": "73ad2956-fcd5-4bce-beac-41495cb05f30",
   "metadata": {},
   "outputs": [
    {
     "name": "stdout",
     "output_type": "stream",
     "text": [
      "0 hello world\n",
      "1 hello world\n",
      "2 hello world\n",
      "3 hello world\n",
      "4 hello world\n"
     ]
    }
   ],
   "source": [
    "for i in range(0,5,1):\n",
    "    # if i==2:\n",
    "    #     continue\n",
    "    print(i,\"hello world\")"
   ]
  },
  {
   "cell_type": "code",
   "execution_count": 31,
   "id": "5ce4444a-7d3a-4069-afaa-9529490d82dd",
   "metadata": {},
   "outputs": [
    {
     "name": "stdout",
     "output_type": "stream",
     "text": [
      "0 hello world\n",
      "1 hello world\n",
      "2 hello world\n",
      "4 hello world\n"
     ]
    }
   ],
   "source": [
    "for i in range(0,5,1):\n",
    "    if i==3:\n",
    "        continue\n",
    "    print(i,\"hello world\")"
   ]
  },
  {
   "cell_type": "code",
   "execution_count": 32,
   "id": "3264cab3-fa18-4928-a895-46807f418388",
   "metadata": {},
   "outputs": [
    {
     "name": "stdout",
     "output_type": "stream",
     "text": [
      "0 hello world\n",
      "1 hello world\n",
      "2 hello world\n",
      "3 hello world\n",
      "4 hello world\n"
     ]
    }
   ],
   "source": [
    "for i in range(0,5,1):\n",
    "    print(i,\"hello world\")\n",
    "    if i==3:\n",
    "        continue\n",
    "    "
   ]
  },
  {
   "cell_type": "markdown",
   "id": "c9c6400e-a278-4f9e-b764-01b025303362",
   "metadata": {},
   "source": [
    "# comprehension\n",
    "            > list comprehension\n",
    "            \n",
    "            > set comprehension\n",
    "            \n",
    "            > forzenset comprehension\n",
    "            \n",
    "            > tuple comprehension(generator object: to get the value of gernerator object we use next(),__next__())\n",
    "            \n",
    "            > dictionary comprehension"
   ]
  },
  {
   "cell_type": "code",
   "execution_count": null,
   "id": "ed929e81-d4e1-4598-9a09-5dc884b04573",
   "metadata": {},
   "outputs": [],
   "source": []
  },
  {
   "cell_type": "code",
   "execution_count": 1,
   "id": "fca0582d-05f7-4a68-8e5b-2136512b4e47",
   "metadata": {},
   "outputs": [
    {
     "name": "stdout",
     "output_type": "stream",
     "text": [
      "0\n",
      "1\n",
      "2\n",
      "3\n",
      "4\n",
      "5\n",
      "6\n",
      "7\n",
      "8\n",
      "9\n"
     ]
    }
   ],
   "source": [
    "for i in range(0,10,1):\n",
    "    print(i)"
   ]
  },
  {
   "cell_type": "code",
   "execution_count": 2,
   "id": "ea2df3f8-e812-4f0a-9cd1-461ee44c20ec",
   "metadata": {},
   "outputs": [
    {
     "name": "stdout",
     "output_type": "stream",
     "text": [
      "0 1 2 3 4 5 6 7 8 9 "
     ]
    }
   ],
   "source": [
    "for i in range(0,10,1):\n",
    "    print(i,end=\" \")\n"
   ]
  },
  {
   "cell_type": "markdown",
   "id": "068c9d9a-bb2f-4d77-a7f3-bfc3f8faf939",
   "metadata": {},
   "source": [
    "# list comprehension"
   ]
  },
  {
   "cell_type": "code",
   "execution_count": 7,
   "id": "4b51e70b-cb90-4094-99ca-80898e1f35bc",
   "metadata": {},
   "outputs": [],
   "source": [
    "a=[]\n",
    "for i in range(0,10,1):\n",
    "    a.append(i)"
   ]
  },
  {
   "cell_type": "code",
   "execution_count": null,
   "id": "e187b3f8-bd4e-4cd8-bc40-41ba577b1b7f",
   "metadata": {},
   "outputs": [],
   "source": [
    "print(a)"
   ]
  },
  {
   "cell_type": "code",
   "execution_count": 10,
   "id": "31885d2c-90cf-4cd5-b34e-a0a5e6124bd8",
   "metadata": {},
   "outputs": [],
   "source": [
    "b=[i for i in range(0,10,1)]"
   ]
  },
  {
   "cell_type": "code",
   "execution_count": 11,
   "id": "3f4f7aa9-3452-49d4-b31f-f5a7f17d9aee",
   "metadata": {},
   "outputs": [
    {
     "name": "stdout",
     "output_type": "stream",
     "text": [
      "[0, 1, 2, 3, 4, 5, 6, 7, 8, 9]\n"
     ]
    }
   ],
   "source": [
    "print(b)"
   ]
  },
  {
   "cell_type": "markdown",
   "id": "365dc1f4-75d5-4a84-852c-033a66b0c81f",
   "metadata": {},
   "source": [
    "# set comprehension"
   ]
  },
  {
   "cell_type": "code",
   "execution_count": 12,
   "id": "068dea54-7200-423b-8fa7-3643d548df07",
   "metadata": {},
   "outputs": [
    {
     "name": "stdout",
     "output_type": "stream",
     "text": [
      "{0, 1, 2, 3, 4, 5, 6, 7, 8, 9}\n"
     ]
    }
   ],
   "source": [
    "a=set()\n",
    "for i in range(0,10,1):\n",
    "    a.add(i)\n",
    "print(a)"
   ]
  },
  {
   "cell_type": "code",
   "execution_count": 17,
   "id": "40c1b34f-c572-40ec-a42e-90b2f7426b67",
   "metadata": {},
   "outputs": [
    {
     "name": "stdout",
     "output_type": "stream",
     "text": [
      "{0, 1, 2, 3, 4, 5, 6, 7, 8, 9}\n"
     ]
    }
   ],
   "source": [
    "b={i for i in range(0,10,1)}\n",
    "print(b)"
   ]
  },
  {
   "cell_type": "markdown",
   "id": "4c56c306-2cd6-49ac-aeb2-f8333965c826",
   "metadata": {},
   "source": [
    "# dictionary comprehension"
   ]
  },
  {
   "cell_type": "code",
   "execution_count": 22,
   "id": "b23186f9-f496-4596-b7b2-3d40738357ad",
   "metadata": {},
   "outputs": [],
   "source": [
    "a=[1,2,3,4,5]\n",
    "b=[\"krishna\",\"Shyam\",\"Mohan\",\"Murli\",\"Radhey\"]\n"
   ]
  },
  {
   "cell_type": "code",
   "execution_count": 24,
   "id": "fa93df2f-940c-4f7f-a8b1-14cc55bc5bab",
   "metadata": {},
   "outputs": [],
   "source": [
    "d={}\n",
    "for i,j in zip(a,b):\n",
    "    d.update({i:j})"
   ]
  },
  {
   "cell_type": "code",
   "execution_count": 25,
   "id": "fa1dca5f-e156-42eb-9eee-5d38970c5269",
   "metadata": {},
   "outputs": [
    {
     "name": "stdout",
     "output_type": "stream",
     "text": [
      "{1: 'krishna', 2: 'Shyam', 3: 'Mohan', 4: 'Murli', 5: 'Radhey'}\n"
     ]
    }
   ],
   "source": [
    "print(d)"
   ]
  },
  {
   "cell_type": "code",
   "execution_count": 26,
   "id": "6ee188fe-4ac9-476c-b319-3cc5c5ac933b",
   "metadata": {},
   "outputs": [
    {
     "name": "stdout",
     "output_type": "stream",
     "text": [
      "{1: 'krishna', 2: 'Shyam', 3: 'Mohan', 4: 'Murli', 5: 'Radhey'}\n"
     ]
    }
   ],
   "source": [
    "a=[1,2,3,4,5]\n",
    "b=[\"krishna\",\"Shyam\",\"Mohan\",\"Murli\",\"Radhey\"]\n",
    "d={}\n",
    "for i,j in zip(a,b):\n",
    "    d.update({i:j})\n",
    "print(d)"
   ]
  },
  {
   "cell_type": "code",
   "execution_count": 27,
   "id": "cc4152e2-3292-4b7d-a90c-01eff2337dd5",
   "metadata": {},
   "outputs": [
    {
     "name": "stdout",
     "output_type": "stream",
     "text": [
      "{1: 'krishna', 2: 'Shyam', 3: 'Mohan', 4: 'Murli', 5: 'Radhey'}\n"
     ]
    }
   ],
   "source": [
    "d={i:j for i,j in zip([1,2,3,4,5],[\"krishna\",\"Shyam\",\"Mohan\",\"Murli\",\"Radhey\"])}\n",
    "print(d)"
   ]
  },
  {
   "cell_type": "markdown",
   "id": "087bf0c1-77ed-4db1-9448-3e8aa71fdf1e",
   "metadata": {},
   "source": [
    "# frozenset comprehension"
   ]
  },
  {
   "cell_type": "code",
   "execution_count": 31,
   "id": "25f8a825-b198-473f-8eff-de2edbfbd350",
   "metadata": {},
   "outputs": [
    {
     "name": "stdout",
     "output_type": "stream",
     "text": [
      "frozenset({1})\n"
     ]
    }
   ],
   "source": [
    "a=frozenset()\n",
    "a=a.union({1})\n",
    "print(a)"
   ]
  },
  {
   "cell_type": "code",
   "execution_count": 32,
   "id": "7e558484-cf98-4709-a78c-9ae041ac8d36",
   "metadata": {},
   "outputs": [
    {
     "name": "stdout",
     "output_type": "stream",
     "text": [
      "frozenset({1})\n"
     ]
    }
   ],
   "source": [
    "print(a)"
   ]
  },
  {
   "cell_type": "code",
   "execution_count": 33,
   "id": "a50d688b-37a8-4209-b039-768132e8dd6b",
   "metadata": {},
   "outputs": [
    {
     "name": "stdout",
     "output_type": "stream",
     "text": [
      "frozenset({0, 1, 2, 3, 4, 5, 6, 7, 8, 9})\n"
     ]
    }
   ],
   "source": [
    "a=frozenset()\n",
    "for i in range(0,10,1):\n",
    "    a=a.union({i})\n",
    "print(a)"
   ]
  },
  {
   "cell_type": "code",
   "execution_count": 34,
   "id": "05e42d3a-32c4-4676-bf57-0ce1decc5012",
   "metadata": {},
   "outputs": [],
   "source": [
    "b=frozenset({i for i in range(0,10,1)})"
   ]
  },
  {
   "cell_type": "code",
   "execution_count": 35,
   "id": "eff3bbab-9d14-42c2-9ef9-fd9607df3e15",
   "metadata": {},
   "outputs": [
    {
     "name": "stdout",
     "output_type": "stream",
     "text": [
      "frozenset({0, 1, 2, 3, 4, 5, 6, 7, 8, 9})\n"
     ]
    }
   ],
   "source": [
    "print(b)"
   ]
  },
  {
   "cell_type": "markdown",
   "id": "f6c7a0ab-d5a9-4cd6-9eed-dcbe3bcde9a1",
   "metadata": {},
   "source": [
    "# tuple comprehension"
   ]
  },
  {
   "cell_type": "code",
   "execution_count": 42,
   "id": "4e36749d-e0ab-49f3-a8dd-b66a553984f2",
   "metadata": {},
   "outputs": [
    {
     "name": "stdout",
     "output_type": "stream",
     "text": [
      "(0, 1, 2, 3, 4, 5, 6, 7, 8, 9)\n"
     ]
    }
   ],
   "source": [
    "a=()\n",
    "for i in range(0,10,1):\n",
    "    a=a+(i,)\n",
    "print(a)"
   ]
  },
  {
   "cell_type": "code",
   "execution_count": 40,
   "id": "b1fd9aa0-8035-4563-b7aa-aa3575066a43",
   "metadata": {},
   "outputs": [],
   "source": [
    "a=()\n",
    "a=a+(1,)"
   ]
  },
  {
   "cell_type": "code",
   "execution_count": 41,
   "id": "1bd257a9-e0c7-46e0-8866-290c24f7fe16",
   "metadata": {},
   "outputs": [
    {
     "name": "stdout",
     "output_type": "stream",
     "text": [
      "(1,)\n"
     ]
    }
   ],
   "source": [
    "print(a)"
   ]
  },
  {
   "cell_type": "code",
   "execution_count": 43,
   "id": "ea45d410-e05c-42a7-a5ee-43a9c43619f8",
   "metadata": {},
   "outputs": [
    {
     "name": "stdout",
     "output_type": "stream",
     "text": [
      "<generator object <genexpr> at 0x00000122E55858A0>\n"
     ]
    }
   ],
   "source": [
    "b=(i for i in range(0,10,1))\n",
    "print(b)"
   ]
  },
  {
   "cell_type": "code",
   "execution_count": 44,
   "id": "4beee65b-1ba0-495d-a538-31a0731d1055",
   "metadata": {},
   "outputs": [
    {
     "data": {
      "text/plain": [
       "0"
      ]
     },
     "execution_count": 44,
     "metadata": {},
     "output_type": "execute_result"
    }
   ],
   "source": [
    "next(b)"
   ]
  },
  {
   "cell_type": "code",
   "execution_count": 45,
   "id": "2e07eb21-cd58-4e5f-9461-72f796ccd7f4",
   "metadata": {},
   "outputs": [
    {
     "data": {
      "text/plain": [
       "1"
      ]
     },
     "execution_count": 45,
     "metadata": {},
     "output_type": "execute_result"
    }
   ],
   "source": [
    "next(b)"
   ]
  },
  {
   "cell_type": "code",
   "execution_count": 54,
   "id": "f8a36fc1-9e30-411a-8f7e-16ee86b465df",
   "metadata": {},
   "outputs": [
    {
     "ename": "StopIteration",
     "evalue": "",
     "output_type": "error",
     "traceback": [
      "\u001b[1;31m---------------------------------------------------------------------------\u001b[0m",
      "\u001b[1;31mStopIteration\u001b[0m                             Traceback (most recent call last)",
      "Cell \u001b[1;32mIn[54], line 1\u001b[0m\n\u001b[1;32m----> 1\u001b[0m \u001b[38;5;28;43mnext\u001b[39;49m\u001b[43m(\u001b[49m\u001b[43mb\u001b[49m\u001b[43m)\u001b[49m\n",
      "\u001b[1;31mStopIteration\u001b[0m: "
     ]
    }
   ],
   "source": [
    "next(b)"
   ]
  }
 ],
 "metadata": {
  "kernelspec": {
   "display_name": "Python 3 (ipykernel)",
   "language": "python",
   "name": "python3"
  },
  "language_info": {
   "codemirror_mode": {
    "name": "ipython",
    "version": 3
   },
   "file_extension": ".py",
   "mimetype": "text/x-python",
   "name": "python",
   "nbconvert_exporter": "python",
   "pygments_lexer": "ipython3",
   "version": "3.11.4"
  }
 },
 "nbformat": 4,
 "nbformat_minor": 5
}
