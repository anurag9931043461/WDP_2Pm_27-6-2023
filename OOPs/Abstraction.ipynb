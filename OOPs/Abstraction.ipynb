{
 "cells": [
  {
   "cell_type": "code",
   "execution_count": 8,
   "id": "ae4c3759-e00f-434e-98dc-1066a39cf645",
   "metadata": {},
   "outputs": [],
   "source": [
    "class Krishna:\n",
    "    def ashish(self):\n",
    "        print(\"Ashish is a iron man\")"
   ]
  },
  {
   "cell_type": "code",
   "execution_count": 9,
   "id": "aca05813-01fc-43db-9039-3381b7010901",
   "metadata": {},
   "outputs": [],
   "source": [
    "tinku=Krishna()"
   ]
  },
  {
   "cell_type": "code",
   "execution_count": 14,
   "id": "751fd085-c8e0-4f98-840c-625a119c6b6b",
   "metadata": {},
   "outputs": [
    {
     "name": "stdout",
     "output_type": "stream",
     "text": [
      "Ashish is a iron man\n"
     ]
    }
   ],
   "source": [
    "tinku.ashish()"
   ]
  },
  {
   "cell_type": "code",
   "execution_count": 15,
   "id": "cd74112f-870a-4a62-874c-f09862715725",
   "metadata": {},
   "outputs": [],
   "source": [
    "class ATM:\n",
    "    def withdrawal(self):   # krishna\n",
    "        pass\n",
    "    def deposit(self):   #Ashish\n",
    "        pass"
   ]
  },
  {
   "cell_type": "code",
   "execution_count": 20,
   "id": "d702c636-f547-45ae-8477-09b7c72b312c",
   "metadata": {},
   "outputs": [],
   "source": [
    "xyz=ATM()"
   ]
  },
  {
   "cell_type": "code",
   "execution_count": 21,
   "id": "a78887b5-ea2b-4b3e-8694-9206b4011330",
   "metadata": {},
   "outputs": [],
   "source": [
    "xyz.deposit()"
   ]
  },
  {
   "cell_type": "code",
   "execution_count": 22,
   "id": "52f4fe0c-8f58-43b2-b340-daeacfd2b1b3",
   "metadata": {},
   "outputs": [],
   "source": [
    "xyz.withdrawal()"
   ]
  },
  {
   "cell_type": "code",
   "execution_count": 28,
   "id": "e60ea894-f4f5-4aee-b05a-6b42f093e73a",
   "metadata": {},
   "outputs": [],
   "source": [
    "from abc import ABC,abstractmethod"
   ]
  },
  {
   "cell_type": "code",
   "execution_count": 31,
   "id": "3c05531e-8f79-44d0-8def-24cccf3b9aa4",
   "metadata": {},
   "outputs": [],
   "source": [
    "class ATM(ABC):\n",
    "    @abstractmethod\n",
    "    def withdrawal(self):   # krishna\n",
    "        pass\n",
    "    def deposit(self):   #Ashish\n",
    "        pass"
   ]
  },
  {
   "cell_type": "code",
   "execution_count": 32,
   "id": "0f9bc342-9c50-4b32-9c04-234295359711",
   "metadata": {},
   "outputs": [
    {
     "ename": "TypeError",
     "evalue": "Can't instantiate abstract class ATM with abstract method withdrawal",
     "output_type": "error",
     "traceback": [
      "\u001b[1;31m---------------------------------------------------------------------------\u001b[0m",
      "\u001b[1;31mTypeError\u001b[0m                                 Traceback (most recent call last)",
      "Cell \u001b[1;32mIn[32], line 1\u001b[0m\n\u001b[1;32m----> 1\u001b[0m krishna\u001b[38;5;241m=\u001b[39m\u001b[43mATM\u001b[49m\u001b[43m(\u001b[49m\u001b[43m)\u001b[49m\n",
      "\u001b[1;31mTypeError\u001b[0m: Can't instantiate abstract class ATM with abstract method withdrawal"
     ]
    }
   ],
   "source": [
    "krishna=ATM()"
   ]
  },
  {
   "cell_type": "code",
   "execution_count": 35,
   "id": "f7ee2262-4cc9-4cf1-aa25-26d9590b448e",
   "metadata": {},
   "outputs": [],
   "source": [
    "class ATM2(ATM):\n",
    "    def withdrawal(self):\n",
    "        print(\"welcome to withdrawal section\")"
   ]
  },
  {
   "cell_type": "code",
   "execution_count": 36,
   "id": "6329aa59-cc21-4d99-9148-daf9d9ff0f12",
   "metadata": {},
   "outputs": [],
   "source": [
    "krishna=ATM2()"
   ]
  },
  {
   "cell_type": "code",
   "execution_count": 37,
   "id": "e0098dd9-9df8-4834-b49b-4941efeb4530",
   "metadata": {},
   "outputs": [
    {
     "name": "stdout",
     "output_type": "stream",
     "text": [
      "welcome to withdrawal section\n"
     ]
    }
   ],
   "source": [
    "krishna.withdrawal()"
   ]
  },
  {
   "cell_type": "code",
   "execution_count": 38,
   "id": "2f80d3f5-4f23-448b-b434-6d259b46fed1",
   "metadata": {},
   "outputs": [],
   "source": [
    "class ATM(ABC):\n",
    "    @abstractmethod\n",
    "    def withdrawal(self):   # krishna\n",
    "        pass\n",
    "    @abstractmethod\n",
    "    def deposit(self):   #Ashish\n",
    "        pass"
   ]
  },
  {
   "cell_type": "code",
   "execution_count": 40,
   "id": "c94f8de8-3608-474c-a6a9-59efd8e79f6f",
   "metadata": {},
   "outputs": [],
   "source": [
    "class ATM2(ATM):\n",
    "    def withrawal(self):\n",
    "        print(\"Welcome to withdral section\")\n",
    "    def deposit(self):\n",
    "        pass"
   ]
  },
  {
   "cell_type": "code",
   "execution_count": 41,
   "id": "a7c37d17-b65e-44f6-bce3-61a8c3131279",
   "metadata": {},
   "outputs": [
    {
     "ename": "TypeError",
     "evalue": "Can't instantiate abstract class ATM2 with abstract methods deposit, withdrawal",
     "output_type": "error",
     "traceback": [
      "\u001b[1;31m---------------------------------------------------------------------------\u001b[0m",
      "\u001b[1;31mTypeError\u001b[0m                                 Traceback (most recent call last)",
      "Cell \u001b[1;32mIn[41], line 1\u001b[0m\n\u001b[1;32m----> 1\u001b[0m krishna\u001b[38;5;241m=\u001b[39m\u001b[43mATM2\u001b[49m\u001b[43m(\u001b[49m\u001b[43m)\u001b[49m\n",
      "\u001b[1;31mTypeError\u001b[0m: Can't instantiate abstract class ATM2 with abstract methods deposit, withdrawal"
     ]
    }
   ],
   "source": [
    "krishna=ATM2()"
   ]
  },
  {
   "cell_type": "code",
   "execution_count": 43,
   "id": "f6bb456a-fd16-42fc-9d93-069d4154f670",
   "metadata": {},
   "outputs": [],
   "source": [
    "class ATM3(ATM):\n",
    "    def withdrawal(self):\n",
    "        pass\n",
    "    def deposit(self):\n",
    "        print(\"Welcome to deposite section\")"
   ]
  },
  {
   "cell_type": "code",
   "execution_count": 44,
   "id": "993042f7-ed3e-4df6-8873-334e1fce912e",
   "metadata": {},
   "outputs": [],
   "source": [
    "Ashish=ATM3()"
   ]
  },
  {
   "cell_type": "code",
   "execution_count": 45,
   "id": "325fcb0b-2ede-4cb7-8237-cb57d3ad98f8",
   "metadata": {},
   "outputs": [
    {
     "name": "stdout",
     "output_type": "stream",
     "text": [
      "Welcome to deposite section\n"
     ]
    }
   ],
   "source": [
    "Ashish.deposit()"
   ]
  },
  {
   "cell_type": "code",
   "execution_count": null,
   "id": "08c507d3-9bc6-465f-af4b-9d56b2da3e3f",
   "metadata": {},
   "outputs": [],
   "source": []
  }
 ],
 "metadata": {
  "kernelspec": {
   "display_name": "Python 3 (ipykernel)",
   "language": "python",
   "name": "python3"
  },
  "language_info": {
   "codemirror_mode": {
    "name": "ipython",
    "version": 3
   },
   "file_extension": ".py",
   "mimetype": "text/x-python",
   "name": "python",
   "nbconvert_exporter": "python",
   "pygments_lexer": "ipython3",
   "version": "3.11.5"
  }
 },
 "nbformat": 4,
 "nbformat_minor": 5
}
