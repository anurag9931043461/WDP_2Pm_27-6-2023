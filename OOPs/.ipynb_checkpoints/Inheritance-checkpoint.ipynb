{
 "cells": [
  {
   "cell_type": "markdown",
   "id": "9ade6200-4968-4f9e-8c4a-e147222f8afa",
   "metadata": {},
   "source": [
    "# inheritance"
   ]
  },
  {
   "cell_type": "code",
   "execution_count": 13,
   "id": "79a76db3-2832-4b67-b475-16f513ba130f",
   "metadata": {},
   "outputs": [],
   "source": [
    "class Bhanupratap:\n",
    "    def __init__(self):\n",
    "        print(\"I am Bhanupratap\")\n",
    "    def car(self):\n",
    "        print(\"I have a car\")\n",
    "class HiraThakur(Bhanupratap):\n",
    "    def __init__(self):\n",
    "        print(\"I am hira thakur\")\n",
    "    def bus(self):\n",
    "        print(\"bus\")\n",
    "\n",
    "class ChhotaBhanu(HiraThakur):\n",
    "    def __init__(self):\n",
    "        print(\"chhota bhanu\")\n",
    "    def toy(self):\n",
    "        print(\"I have a car\")"
   ]
  },
  {
   "cell_type": "code",
   "execution_count": 14,
   "id": "ce4990f9-12cd-403a-ac7a-4f336f16f5ce",
   "metadata": {},
   "outputs": [
    {
     "name": "stdout",
     "output_type": "stream",
     "text": [
      "I am Bhanupratap\n"
     ]
    }
   ],
   "source": [
    "dada=Bhanupratap()"
   ]
  },
  {
   "cell_type": "code",
   "execution_count": 15,
   "id": "6c5d90cc-ee4d-44fa-964f-8e28a5c0a6af",
   "metadata": {},
   "outputs": [
    {
     "name": "stdout",
     "output_type": "stream",
     "text": [
      "I have a car\n"
     ]
    }
   ],
   "source": [
    "dada.car()"
   ]
  },
  {
   "cell_type": "code",
   "execution_count": 16,
   "id": "66a99e30-c7ca-492d-a365-c20f781df31c",
   "metadata": {},
   "outputs": [
    {
     "name": "stdout",
     "output_type": "stream",
     "text": [
      "I am hira thakur\n"
     ]
    }
   ],
   "source": [
    "father=HiraThakur()"
   ]
  },
  {
   "cell_type": "code",
   "execution_count": 17,
   "id": "b31d3cf9-58cc-4e86-bdee-9d54ebb99950",
   "metadata": {},
   "outputs": [
    {
     "name": "stdout",
     "output_type": "stream",
     "text": [
      "I have a car\n"
     ]
    }
   ],
   "source": [
    "father.car()"
   ]
  },
  {
   "cell_type": "code",
   "execution_count": 18,
   "id": "0d32d661-19c1-4962-9b07-c7f58b06456b",
   "metadata": {},
   "outputs": [
    {
     "name": "stdout",
     "output_type": "stream",
     "text": [
      "chhota bhanu\n"
     ]
    }
   ],
   "source": [
    "child=ChhotaBhanu()"
   ]
  },
  {
   "cell_type": "code",
   "execution_count": 7,
   "id": "33ff8491-35bc-49e5-b4aa-f73dbef41155",
   "metadata": {},
   "outputs": [
    {
     "name": "stdout",
     "output_type": "stream",
     "text": [
      "I have a car\n"
     ]
    }
   ],
   "source": [
    "child."
   ]
  },
  {
   "cell_type": "code",
   "execution_count": 26,
   "id": "720675b9-b492-49cf-b22f-74726b84e34b",
   "metadata": {},
   "outputs": [],
   "source": [
    "# zomato\n",
    "\n",
    "class Login_register:\n",
    "    def login(self):\n",
    "        print(\"Welcome to login section\")\n",
    "\n",
    "    def register(self):\n",
    "        print(\"Welcome to register section\")\n",
    "\n",
    "class buyer(Login_register):\n",
    "    def payment(self):\n",
    "        print(\"payment done\")\n",
    "\n",
    "class seller(Login_register):\n",
    "    def collection(self):\n",
    "        print(\"payment recieved\")"
   ]
  },
  {
   "cell_type": "code",
   "execution_count": 27,
   "id": "d07d9d25-8a11-40f9-9291-95026b18ed7e",
   "metadata": {},
   "outputs": [],
   "source": [
    "krishna=buyer()"
   ]
  },
  {
   "cell_type": "code",
   "execution_count": 28,
   "id": "d47318b8-86f2-4574-b32c-91e4658395a4",
   "metadata": {},
   "outputs": [
    {
     "name": "stdout",
     "output_type": "stream",
     "text": [
      "Welcome to login section\n"
     ]
    }
   ],
   "source": [
    "krishna.login()"
   ]
  },
  {
   "cell_type": "code",
   "execution_count": 29,
   "id": "39631c1d-551e-4b53-82cc-3cdd32514ba5",
   "metadata": {},
   "outputs": [],
   "source": [
    "deepak=seller()"
   ]
  },
  {
   "cell_type": "markdown",
   "id": "0be1cb57-e5fc-4a9e-a825-3939b21392eb",
   "metadata": {},
   "source": [
    "# single level inheritance"
   ]
  },
  {
   "cell_type": "code",
   "execution_count": 3,
   "id": "d8229c49-5803-43dc-92da-4b4fc875eebb",
   "metadata": {},
   "outputs": [],
   "source": [
    "class Father:\n",
    "    def __init__(self):\n",
    "        pass\n",
    "    def car(self):\n",
    "        print(\"I have a car\")\n",
    "        "
   ]
  },
  {
   "cell_type": "code",
   "execution_count": 8,
   "id": "30517ac4-dbda-4fc5-9d43-65242341a674",
   "metadata": {},
   "outputs": [],
   "source": [
    "class Child(Father):\n",
    "    def toy(self):\n",
    "        print(\"Child has a toy\")"
   ]
  },
  {
   "cell_type": "code",
   "execution_count": 9,
   "id": "45309a73-5bbf-4862-8357-c5fe0de02720",
   "metadata": {},
   "outputs": [],
   "source": [
    "krishna=Child()"
   ]
  },
  {
   "cell_type": "code",
   "execution_count": 11,
   "id": "d65c9356-fa1c-4cda-ad8d-66ad7830aff9",
   "metadata": {},
   "outputs": [
    {
     "name": "stdout",
     "output_type": "stream",
     "text": [
      "Child has a toy\n",
      "I have a car\n"
     ]
    }
   ],
   "source": [
    "krishna.toy()\n",
    "krishna.car()"
   ]
  },
  {
   "cell_type": "markdown",
   "id": "74fa1ba5-af75-423f-b329-24d05d45da36",
   "metadata": {},
   "source": [
    "# multi-level inheritance"
   ]
  },
  {
   "cell_type": "code",
   "execution_count": 12,
   "id": "0bda4f38-5d2e-4243-a82a-7476802f6d04",
   "metadata": {},
   "outputs": [],
   "source": [
    "class Grandfather:\n",
    "    def landlord(self):\n",
    "        print(\"Grandfather is landlord\")"
   ]
  },
  {
   "cell_type": "code",
   "execution_count": 19,
   "id": "bf589aba-3a7f-46f0-8c91-ed903297d4fc",
   "metadata": {},
   "outputs": [],
   "source": [
    "class Father(Grandfather):\n",
    "    def car(self):\n",
    "        print(\"Father has a car\")"
   ]
  },
  {
   "cell_type": "code",
   "execution_count": 20,
   "id": "032e2e05-4048-4351-b592-5c293c576f62",
   "metadata": {},
   "outputs": [],
   "source": [
    "class Child(Father):\n",
    "    def toy(self):\n",
    "        print(\"Child has a toy\")"
   ]
  },
  {
   "cell_type": "code",
   "execution_count": 21,
   "id": "0199d0b7-198a-4b52-9e54-5579379fda65",
   "metadata": {},
   "outputs": [],
   "source": [
    "krishna=Child()"
   ]
  },
  {
   "cell_type": "code",
   "execution_count": 24,
   "id": "0fce9abe-7689-4697-8145-d78e721b3992",
   "metadata": {},
   "outputs": [
    {
     "name": "stdout",
     "output_type": "stream",
     "text": [
      "Father has a car\n",
      "Grandfather is landlord\n",
      "Child has a toy\n"
     ]
    }
   ],
   "source": [
    "krishna.car()\n",
    "krishna.landlord()\n",
    "krishna.toy()"
   ]
  },
  {
   "cell_type": "markdown",
   "id": "208c4d15-ab51-4712-aaa4-acfe1c93d279",
   "metadata": {},
   "source": [
    "# multiple inheritance"
   ]
  },
  {
   "cell_type": "code",
   "execution_count": 26,
   "id": "c442228b-58ac-4c53-8f75-325fb437e05d",
   "metadata": {},
   "outputs": [],
   "source": [
    "class Grandfather:\n",
    "    def landlord(self):\n",
    "        print(\"Grandfather is a landlord\")"
   ]
  },
  {
   "cell_type": "code",
   "execution_count": 27,
   "id": "8e7be715-b951-4f96-a4ae-99a20ab60625",
   "metadata": {},
   "outputs": [],
   "source": [
    "class Father:\n",
    "    def car(self):\n",
    "        print(\"Father has a car\")"
   ]
  },
  {
   "cell_type": "code",
   "execution_count": 29,
   "id": "4483bb68-9a58-4725-b0d1-fdb8605bda8c",
   "metadata": {},
   "outputs": [],
   "source": [
    "class Mother:\n",
    "    def jwellery(self):\n",
    "        print(\"Mother has a necklace\")"
   ]
  },
  {
   "cell_type": "code",
   "execution_count": 31,
   "id": "1a7aefa6-70d3-4a57-bed2-8bb961e65c59",
   "metadata": {},
   "outputs": [],
   "source": [
    "class Child(Grandfather,Father,Mother):\n",
    "    def toy(self):\n",
    "        print(\"I have a toy\")"
   ]
  },
  {
   "cell_type": "code",
   "execution_count": 32,
   "id": "ac46dafd-3fdf-4f44-90bb-dc4adff43698",
   "metadata": {},
   "outputs": [],
   "source": [
    "ashish=Child()"
   ]
  },
  {
   "cell_type": "code",
   "execution_count": 36,
   "id": "4ea3e34a-881e-4291-b14e-3594f233bc17",
   "metadata": {},
   "outputs": [
    {
     "name": "stdout",
     "output_type": "stream",
     "text": [
      "Father has a car\n",
      "Mother has a necklace\n",
      "Grandfather is a landlord\n",
      "I have a toy\n"
     ]
    }
   ],
   "source": [
    "ashish.car()\n",
    "ashish.jwellery()\n",
    "ashish.landlord()\n",
    "ashish.toy()"
   ]
  },
  {
   "cell_type": "markdown",
   "id": "b64364eb-c191-4d3f-ab21-108a0333b44a",
   "metadata": {},
   "source": [
    "# Hybrid inheritance"
   ]
  },
  {
   "cell_type": "code",
   "execution_count": 49,
   "id": "59a64d87-f50c-4981-a4b7-7341f3df3e6e",
   "metadata": {},
   "outputs": [],
   "source": [
    "class A:\n",
    "    def __init__(self):\n",
    "        pass\n",
    "    def a(self):\n",
    "        print(\"I am a\")\n",
    "        "
   ]
  },
  {
   "cell_type": "code",
   "execution_count": 50,
   "id": "93613fab-6e0d-46d6-962e-82ed9f06b8f1",
   "metadata": {},
   "outputs": [],
   "source": [
    "class D:\n",
    "    def d(self):\n",
    "        print(\"I am d\")"
   ]
  },
  {
   "cell_type": "code",
   "execution_count": 51,
   "id": "4c260434-04e5-479d-8af1-6ea36ad12ab9",
   "metadata": {},
   "outputs": [],
   "source": [
    "class C(D):\n",
    "    def c(self):\n",
    "        print(\"I am c\")"
   ]
  },
  {
   "cell_type": "code",
   "execution_count": 52,
   "id": "d464fec6-350f-4174-889e-0cd148839ab6",
   "metadata": {},
   "outputs": [],
   "source": [
    "class B(A,C):\n",
    "    def b(self):\n",
    "        print(\"I am b\")"
   ]
  },
  {
   "cell_type": "code",
   "execution_count": null,
   "id": "f74655f2-56ec-4c7b-bee1-51001b6a8d55",
   "metadata": {},
   "outputs": [],
   "source": []
  },
  {
   "cell_type": "code",
   "execution_count": 53,
   "id": "38a88feb-3ee9-41ec-a102-79852173b5f2",
   "metadata": {},
   "outputs": [],
   "source": [
    "krishna=B()"
   ]
  },
  {
   "cell_type": "code",
   "execution_count": 54,
   "id": "6e120aa8-aa4c-43f4-8c70-e58d6b8cab1a",
   "metadata": {},
   "outputs": [
    {
     "name": "stdout",
     "output_type": "stream",
     "text": [
      "I am d\n"
     ]
    }
   ],
   "source": [
    "krishna.d()"
   ]
  },
  {
   "cell_type": "code",
   "execution_count": 71,
   "id": "c358fb5a-d6a7-4e3d-a5fc-5b89c6f6a640",
   "metadata": {},
   "outputs": [],
   "source": [
    "class Grandfather:\n",
    "    def pay(self):\n",
    "        print(\"grandfather give me money\")\n",
    "class Mother:\n",
    "    def pay(self):\n",
    "        print(\"mother give me money\")\n",
    "class Father:\n",
    "    def pay(self):\n",
    "        print(\"Father give me money\")"
   ]
  },
  {
   "cell_type": "code",
   "execution_count": 75,
   "id": "23688a06-540f-41e1-a91b-d5c258c29192",
   "metadata": {},
   "outputs": [],
   "source": [
    "class krishna(Father,Grandfather,Mother):\n",
    "    def gift(self):\n",
    "        print(\"I will give a git to aishu\")"
   ]
  },
  {
   "cell_type": "code",
   "execution_count": 76,
   "id": "a81f98ef-57a0-4419-b0ea-8480c2c11ea8",
   "metadata": {},
   "outputs": [],
   "source": [
    "new=krishna()"
   ]
  },
  {
   "cell_type": "code",
   "execution_count": 77,
   "id": "e6128137-4567-4919-bc72-672164eca611",
   "metadata": {},
   "outputs": [
    {
     "name": "stdout",
     "output_type": "stream",
     "text": [
      "Father give me money\n"
     ]
    }
   ],
   "source": [
    "new.pay()"
   ]
  }
 ],
 "metadata": {
  "kernelspec": {
   "display_name": "Python 3 (ipykernel)",
   "language": "python",
   "name": "python3"
  },
  "language_info": {
   "codemirror_mode": {
    "name": "ipython",
    "version": 3
   },
   "file_extension": ".py",
   "mimetype": "text/x-python",
   "name": "python",
   "nbconvert_exporter": "python",
   "pygments_lexer": "ipython3",
   "version": "3.11.5"
  }
 },
 "nbformat": 4,
 "nbformat_minor": 5
}
