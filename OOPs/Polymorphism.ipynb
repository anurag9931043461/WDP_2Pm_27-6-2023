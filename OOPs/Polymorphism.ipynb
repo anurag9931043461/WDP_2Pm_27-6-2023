{
 "cells": [
  {
   "cell_type": "code",
   "execution_count": 1,
   "id": "c0f03afd-2368-41c0-93d7-81ba1c8913c4",
   "metadata": {},
   "outputs": [],
   "source": [
    "a=10"
   ]
  },
  {
   "cell_type": "code",
   "execution_count": 2,
   "id": "c030efbe-8b48-4c83-98c4-3a0788925607",
   "metadata": {},
   "outputs": [],
   "source": [
    "a=20"
   ]
  },
  {
   "cell_type": "code",
   "execution_count": 3,
   "id": "ceeeff67-6539-4bde-8917-6a30737b8275",
   "metadata": {},
   "outputs": [
    {
     "name": "stdout",
     "output_type": "stream",
     "text": [
      "20\n"
     ]
    }
   ],
   "source": [
    "print(a)"
   ]
  },
  {
   "cell_type": "code",
   "execution_count": 6,
   "id": "e682dd65-f8cf-4a57-8ba8-9715c9229457",
   "metadata": {},
   "outputs": [],
   "source": [
    "def area(b,h):\n",
    "    result=(1/2)*b*h\n",
    "    print(result)"
   ]
  },
  {
   "cell_type": "code",
   "execution_count": 7,
   "id": "91352024-8d45-4744-a3ef-9c2c6d4f195e",
   "metadata": {},
   "outputs": [
    {
     "name": "stdout",
     "output_type": "stream",
     "text": [
      "25.0\n"
     ]
    }
   ],
   "source": [
    "area(10,5)"
   ]
  },
  {
   "cell_type": "code",
   "execution_count": 9,
   "id": "ac2120d8-66cc-4f20-b71c-7af51f267f45",
   "metadata": {},
   "outputs": [],
   "source": [
    "def area(a):\n",
    "    result=a*a\n",
    "    print(result)"
   ]
  },
  {
   "cell_type": "code",
   "execution_count": 10,
   "id": "64b1f8a4-40a8-4b2d-8232-cca4f9188661",
   "metadata": {},
   "outputs": [
    {
     "name": "stdout",
     "output_type": "stream",
     "text": [
      "100\n"
     ]
    }
   ],
   "source": [
    "area(10)"
   ]
  },
  {
   "cell_type": "code",
   "execution_count": 11,
   "id": "6565d300-170d-4c26-97fa-26f73b899f17",
   "metadata": {},
   "outputs": [
    {
     "ename": "TypeError",
     "evalue": "area() takes 1 positional argument but 2 were given",
     "output_type": "error",
     "traceback": [
      "\u001b[1;31m---------------------------------------------------------------------------\u001b[0m",
      "\u001b[1;31mTypeError\u001b[0m                                 Traceback (most recent call last)",
      "Cell \u001b[1;32mIn[11], line 1\u001b[0m\n\u001b[1;32m----> 1\u001b[0m \u001b[43marea\u001b[49m\u001b[43m(\u001b[49m\u001b[38;5;241;43m10\u001b[39;49m\u001b[43m,\u001b[49m\u001b[38;5;241;43m5\u001b[39;49m\u001b[43m)\u001b[49m\n",
      "\u001b[1;31mTypeError\u001b[0m: area() takes 1 positional argument but 2 were given"
     ]
    }
   ],
   "source": [
    "area(10,5)"
   ]
  },
  {
   "cell_type": "code",
   "execution_count": 15,
   "id": "af81b9c5-aeec-49b6-a76d-897a593d250b",
   "metadata": {},
   "outputs": [],
   "source": [
    "def area(b,h=0):\n",
    "    if h==0:\n",
    "        a=b\n",
    "        result=a*a\n",
    "        print(result)\n",
    "    else:\n",
    "        result=(1/2)*b*h\n",
    "        print(result)\n",
    "    \n",
    "    "
   ]
  },
  {
   "cell_type": "code",
   "execution_count": 16,
   "id": "b05bf09e-177a-45e9-a71b-2af50d872e6a",
   "metadata": {},
   "outputs": [
    {
     "name": "stdout",
     "output_type": "stream",
     "text": [
      "25.0\n"
     ]
    }
   ],
   "source": [
    "area(10,5)"
   ]
  },
  {
   "cell_type": "code",
   "execution_count": 17,
   "id": "e443497e-724b-403e-a2e4-787df379ba9e",
   "metadata": {},
   "outputs": [
    {
     "name": "stdout",
     "output_type": "stream",
     "text": [
      "100\n"
     ]
    }
   ],
   "source": [
    "area(10)"
   ]
  },
  {
   "cell_type": "code",
   "execution_count": 20,
   "id": "2a6dbf5d-1533-4cd6-9320-93555e286106",
   "metadata": {},
   "outputs": [],
   "source": [
    "class Pattern:\n",
    "    def area(self,b,h=0):\n",
    "        if h==0:\n",
    "            a=b\n",
    "            result=a*a\n",
    "            print(result)\n",
    "        else:\n",
    "            result=(1/2)*b*h\n",
    "            print(result)"
   ]
  },
  {
   "cell_type": "code",
   "execution_count": 21,
   "id": "39a56d60-dea3-4025-9cea-eb53e830f2a0",
   "metadata": {},
   "outputs": [],
   "source": [
    "solid=Pattern()"
   ]
  },
  {
   "cell_type": "code",
   "execution_count": 22,
   "id": "541a2a2e-1bfa-4354-9c40-0fca93c4af8a",
   "metadata": {},
   "outputs": [
    {
     "name": "stdout",
     "output_type": "stream",
     "text": [
      "100\n"
     ]
    }
   ],
   "source": [
    "solid.area(10)"
   ]
  },
  {
   "cell_type": "code",
   "execution_count": 23,
   "id": "d126cc35-d8a7-4ae1-95be-64a7d65559d3",
   "metadata": {},
   "outputs": [
    {
     "name": "stdout",
     "output_type": "stream",
     "text": [
      "25.0\n"
     ]
    }
   ],
   "source": [
    "solid.area(10,5)"
   ]
  },
  {
   "cell_type": "code",
   "execution_count": null,
   "id": "3a979c74-654d-450d-8526-ef7fc1c85708",
   "metadata": {},
   "outputs": [],
   "source": [
    "python support overriding \n",
    "python doesnot support overloading"
   ]
  }
 ],
 "metadata": {
  "kernelspec": {
   "display_name": "Python 3 (ipykernel)",
   "language": "python",
   "name": "python3"
  },
  "language_info": {
   "codemirror_mode": {
    "name": "ipython",
    "version": 3
   },
   "file_extension": ".py",
   "mimetype": "text/x-python",
   "name": "python",
   "nbconvert_exporter": "python",
   "pygments_lexer": "ipython3",
   "version": "3.11.5"
  }
 },
 "nbformat": 4,
 "nbformat_minor": 5
}
