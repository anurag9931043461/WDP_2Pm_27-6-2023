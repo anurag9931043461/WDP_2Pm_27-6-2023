{
 "cells": [
  {
   "cell_type": "code",
   "execution_count": 1,
   "id": "18c51704-d3df-4ed6-8467-14e4ffbf8d17",
   "metadata": {
    "tags": []
   },
   "outputs": [
    {
     "name": "stdout",
     "output_type": "stream",
     "text": [
      "Collecting mysql-connector\n",
      "  Downloading mysql-connector-2.2.9.tar.gz (11.9 MB)\n",
      "     ---------------------------------------- 0.0/11.9 MB ? eta -:--:--\n",
      "     ---------------------------------------- 0.0/11.9 MB ? eta -:--:--\n",
      "     ---------------------------------------- 0.0/11.9 MB ? eta -:--:--\n",
      "     --------------------------------------- 0.0/11.9 MB 279.3 kB/s eta 0:00:43\n",
      "     --------------------------------------- 0.1/11.9 MB 476.3 kB/s eta 0:00:25\n",
      "     - -------------------------------------- 0.3/11.9 MB 1.5 MB/s eta 0:00:08\n",
      "     - -------------------------------------- 0.6/11.9 MB 2.2 MB/s eta 0:00:06\n",
      "     -- ------------------------------------- 0.7/11.9 MB 2.3 MB/s eta 0:00:05\n",
      "     -- ------------------------------------- 0.8/11.9 MB 2.2 MB/s eta 0:00:05\n",
      "     -- ------------------------------------- 0.9/11.9 MB 2.2 MB/s eta 0:00:06\n",
      "     --- ------------------------------------ 1.1/11.9 MB 2.5 MB/s eta 0:00:05\n",
      "     ----- ---------------------------------- 1.6/11.9 MB 3.1 MB/s eta 0:00:04\n",
      "     ------ --------------------------------- 2.0/11.9 MB 3.6 MB/s eta 0:00:03\n",
      "     -------- ------------------------------- 2.5/11.9 MB 4.2 MB/s eta 0:00:03\n",
      "     --------- ------------------------------ 2.9/11.9 MB 4.5 MB/s eta 0:00:02\n",
      "     ----------- ---------------------------- 3.3/11.9 MB 4.8 MB/s eta 0:00:02\n",
      "     ------------- -------------------------- 3.9/11.9 MB 5.2 MB/s eta 0:00:02\n",
      "     -------------- ------------------------- 4.3/11.9 MB 5.5 MB/s eta 0:00:02\n",
      "     ---------------- ----------------------- 4.9/11.9 MB 5.9 MB/s eta 0:00:02\n",
      "     ------------------ --------------------- 5.4/11.9 MB 6.1 MB/s eta 0:00:02\n",
      "     ------------------- -------------------- 5.8/11.9 MB 6.3 MB/s eta 0:00:01\n",
      "     --------------------- ------------------ 6.4/11.9 MB 6.6 MB/s eta 0:00:01\n",
      "     ----------------------- ---------------- 7.0/11.9 MB 6.9 MB/s eta 0:00:01\n",
      "     ------------------------- -------------- 7.5/11.9 MB 7.1 MB/s eta 0:00:01\n",
      "     --------------------------- ------------ 8.1/11.9 MB 7.3 MB/s eta 0:00:01\n",
      "     ---------------------------- ----------- 8.6/11.9 MB 7.4 MB/s eta 0:00:01\n",
      "     ------------------------------ --------- 9.1/11.9 MB 7.6 MB/s eta 0:00:01\n",
      "     -------------------------------- ------- 9.7/11.9 MB 7.8 MB/s eta 0:00:01\n",
      "     ---------------------------------- ----- 10.1/11.9 MB 7.8 MB/s eta 0:00:01\n",
      "     ----------------------------------- ---- 10.6/11.9 MB 9.2 MB/s eta 0:00:01\n",
      "     ------------------------------------ -- 11.2/11.9 MB 10.7 MB/s eta 0:00:01\n",
      "     --------------------------------------  11.7/11.9 MB 10.7 MB/s eta 0:00:01\n",
      "     --------------------------------------  11.8/11.9 MB 10.9 MB/s eta 0:00:01\n",
      "     --------------------------------------  11.8/11.9 MB 10.9 MB/s eta 0:00:01\n",
      "     --------------------------------------  11.8/11.9 MB 10.9 MB/s eta 0:00:01\n",
      "     --------------------------------------  11.8/11.9 MB 10.9 MB/s eta 0:00:01\n",
      "     --------------------------------------  11.8/11.9 MB 10.9 MB/s eta 0:00:01\n",
      "     --------------------------------------  11.8/11.9 MB 10.9 MB/s eta 0:00:01\n",
      "     --------------------------------------  11.8/11.9 MB 10.9 MB/s eta 0:00:01\n",
      "     --------------------------------------  11.8/11.9 MB 10.9 MB/s eta 0:00:01\n",
      "     ---------------------------------------- 11.9/11.9 MB 7.4 MB/s eta 0:00:00\n",
      "  Preparing metadata (setup.py): started\n",
      "  Preparing metadata (setup.py): finished with status 'done'\n",
      "Building wheels for collected packages: mysql-connector\n",
      "  Building wheel for mysql-connector (setup.py): started\n",
      "  Building wheel for mysql-connector (setup.py): finished with status 'done'\n",
      "  Created wheel for mysql-connector: filename=mysql_connector-2.2.9-cp311-cp311-win_amd64.whl size=247958 sha256=501106a76c50d94d32ad1e7859808f31246a230d7c6629948ef80ed731cacef0\n",
      "  Stored in directory: c:\\users\\nnkri\\appdata\\local\\pip\\cache\\wheels\\17\\cd\\ed\\2d49e9bac69cf09382e4c7cc20a2511202b48324b87db26019\n",
      "Successfully built mysql-connector\n",
      "Installing collected packages: mysql-connector\n",
      "Successfully installed mysql-connector-2.2.9\n",
      "Note: you may need to restart the kernel to use updated packages.\n"
     ]
    }
   ],
   "source": [
    "pip install mysql-connector"
   ]
  },
  {
   "cell_type": "code",
   "execution_count": 6,
   "id": "4fcfd227-ffb2-464e-a452-44595cff2a89",
   "metadata": {
    "tags": []
   },
   "outputs": [
    {
     "name": "stdout",
     "output_type": "stream",
     "text": [
      "Collecting mysql-connector-python\n",
      "  Obtaining dependency information for mysql-connector-python from https://files.pythonhosted.org/packages/d3/b8/6798a0f91e595c0704a94c1e32a00ca930f77cb8f0f96c7e4dad4f9db1fe/mysql_connector_python-8.1.0-cp311-cp311-win_amd64.whl.metadata\n",
      "  Downloading mysql_connector_python-8.1.0-cp311-cp311-win_amd64.whl.metadata (2.1 kB)\n",
      "Collecting protobuf<=4.21.12,>=4.21.1 (from mysql-connector-python)\n",
      "  Downloading protobuf-4.21.12-cp310-abi3-win_amd64.whl (527 kB)\n",
      "     ---------------------------------------- 0.0/527.0 kB ? eta -:--:--\n",
      "     ---------------------------------------- 0.0/527.0 kB ? eta -:--:--\n",
      "      --------------------------------------- 10.2/527.0 kB ? eta -:--:--\n",
      "     ---- -------------------------------- 61.4/527.0 kB 544.7 kB/s eta 0:00:01\n",
      "     -------------------- ----------------- 286.7/527.0 kB 2.0 MB/s eta 0:00:01\n",
      "     -------------------------------------- 527.0/527.0 kB 2.8 MB/s eta 0:00:00\n",
      "Downloading mysql_connector_python-8.1.0-cp311-cp311-win_amd64.whl (10.8 MB)\n",
      "   ---------------------------------------- 0.0/10.8 MB ? eta -:--:--\n",
      "   - -------------------------------------- 0.4/10.8 MB 7.6 MB/s eta 0:00:02\n",
      "   -- ------------------------------------- 0.8/10.8 MB 8.3 MB/s eta 0:00:02\n",
      "   ---- ----------------------------------- 1.2/10.8 MB 8.8 MB/s eta 0:00:02\n",
      "   ------ --------------------------------- 1.7/10.8 MB 9.0 MB/s eta 0:00:02\n",
      "   -------- ------------------------------- 2.2/10.8 MB 9.4 MB/s eta 0:00:01\n",
      "   ---------- ----------------------------- 2.8/10.8 MB 9.8 MB/s eta 0:00:01\n",
      "   ------------ --------------------------- 3.3/10.8 MB 10.0 MB/s eta 0:00:01\n",
      "   -------------- ------------------------- 3.8/10.8 MB 10.1 MB/s eta 0:00:01\n",
      "   --------------- ------------------------ 4.3/10.8 MB 10.2 MB/s eta 0:00:01\n",
      "   ----------------- ---------------------- 4.8/10.8 MB 10.3 MB/s eta 0:00:01\n",
      "   ------------------- -------------------- 5.4/10.8 MB 10.4 MB/s eta 0:00:01\n",
      "   --------------------- ------------------ 5.9/10.8 MB 10.5 MB/s eta 0:00:01\n",
      "   ----------------------- ---------------- 6.5/10.8 MB 10.6 MB/s eta 0:00:01\n",
      "   ------------------------- -------------- 6.8/10.8 MB 10.4 MB/s eta 0:00:01\n",
      "   -------------------------- ------------- 7.1/10.8 MB 10.1 MB/s eta 0:00:01\n",
      "   --------------------------- ------------ 7.4/10.8 MB 9.9 MB/s eta 0:00:01\n",
      "   ----------------------------- ---------- 7.9/10.8 MB 10.0 MB/s eta 0:00:01\n",
      "   ------------------------------- -------- 8.5/10.8 MB 10.0 MB/s eta 0:00:01\n",
      "   --------------------------------- ------ 9.0/10.8 MB 10.1 MB/s eta 0:00:01\n",
      "   ----------------------------------- ---- 9.5/10.8 MB 10.2 MB/s eta 0:00:01\n",
      "   ------------------------------------- -- 10.1/10.8 MB 10.2 MB/s eta 0:00:01\n",
      "   ---------------------------------------  10.6/10.8 MB 10.4 MB/s eta 0:00:01\n",
      "   ---------------------------------------  10.8/10.8 MB 10.4 MB/s eta 0:00:01\n",
      "   ---------------------------------------  10.8/10.8 MB 10.4 MB/s eta 0:00:01\n",
      "   ---------------------------------------- 10.8/10.8 MB 9.6 MB/s eta 0:00:00\n",
      "Installing collected packages: protobuf, mysql-connector-python\n",
      "Successfully installed mysql-connector-python-8.1.0 protobuf-4.21.12\n",
      "Note: you may need to restart the kernel to use updated packages.\n"
     ]
    }
   ],
   "source": [
    "pip install mysql-connector-python"
   ]
  },
  {
   "cell_type": "markdown",
   "id": "0c5aba33-22f1-4e95-86ac-f948c614188b",
   "metadata": {},
   "source": [
    "# python connection with mysql datatype"
   ]
  },
  {
   "cell_type": "code",
   "execution_count": 1,
   "id": "a36d7b04-b190-420a-97c8-153ed5c8ae33",
   "metadata": {
    "tags": []
   },
   "outputs": [],
   "source": [
    "import mysql.connector as sql"
   ]
  },
  {
   "cell_type": "code",
   "execution_count": 2,
   "id": "b5aadf6e-9b73-4657-bdfb-6a53696b1f63",
   "metadata": {
    "tags": []
   },
   "outputs": [],
   "source": [
    "db=sql.connect(host=\"localhost\",user=\"root\",password=\"root\",port=\"3306\",database=\"Wd2\")"
   ]
  },
  {
   "cell_type": "code",
   "execution_count": 3,
   "id": "f57fe144-49a5-4bdd-ba0a-39cbe703cb58",
   "metadata": {},
   "outputs": [],
   "source": [
    "cur=db.cursor()"
   ]
  },
  {
   "cell_type": "code",
   "execution_count": 4,
   "id": "7d79a4f5-44f8-492f-9857-8f5be762d379",
   "metadata": {
    "tags": []
   },
   "outputs": [],
   "source": [
    "cur.execute(\"Show databases\")"
   ]
  },
  {
   "cell_type": "code",
   "execution_count": 5,
   "id": "1a890da8-0e1e-4fa7-a4f3-d621a80a86c5",
   "metadata": {
    "tags": []
   },
   "outputs": [
    {
     "name": "stdout",
     "output_type": "stream",
     "text": [
      "('information_schema',)\n",
      "('mysql',)\n",
      "('performance_schema',)\n",
      "('sakila',)\n",
      "('sys',)\n",
      "('wd12',)\n",
      "('wd2',)\n",
      "('wd5',)\n",
      "('wd7',)\n",
      "('we10',)\n",
      "('we2',)\n",
      "('we4',)\n",
      "('world',)\n"
     ]
    }
   ],
   "source": [
    "for i in cur:\n",
    "    print(i)"
   ]
  },
  {
   "cell_type": "code",
   "execution_count": 6,
   "id": "c7bf041e-a4f3-42d2-a060-7f0af2dfc782",
   "metadata": {
    "tags": []
   },
   "outputs": [],
   "source": [
    "cur.execute(\"use wd2\")"
   ]
  },
  {
   "cell_type": "code",
   "execution_count": 7,
   "id": "2704e73f-4d11-4a04-bf79-6b157661e4ed",
   "metadata": {
    "tags": []
   },
   "outputs": [],
   "source": [
    "cur.execute(\"show tables\")"
   ]
  },
  {
   "cell_type": "code",
   "execution_count": 8,
   "id": "943f6f36-bfdf-4d7f-8ad2-f50e70da9c30",
   "metadata": {
    "tags": []
   },
   "outputs": [
    {
     "name": "stdout",
     "output_type": "stream",
     "text": [
      "('college',)\n",
      "('dt',)\n",
      "('event',)\n",
      "('hostel',)\n",
      "('hostel2',)\n",
      "('new',)\n"
     ]
    }
   ],
   "source": [
    "for i in cur:\n",
    "    print(i)"
   ]
  },
  {
   "cell_type": "code",
   "execution_count": 9,
   "id": "a3eb72f1-72aa-424d-88ee-db5fe7acdfee",
   "metadata": {
    "tags": []
   },
   "outputs": [],
   "source": [
    "cur.execute(\"Select * from college\")"
   ]
  },
  {
   "cell_type": "code",
   "execution_count": 10,
   "id": "9d889dee-17e5-4338-a902-6d72f864c378",
   "metadata": {
    "tags": []
   },
   "outputs": [
    {
     "name": "stdout",
     "output_type": "stream",
     "text": [
      "(1, 'krishna', 'MCA')\n",
      "(2, 'Mohan', 'BCA')\n",
      "(3, 'Sohan', 'BBA')\n",
      "(4, 'Monu', 'B Sc.')\n",
      "(5, 'Moni', 'M Sc.')\n"
     ]
    }
   ],
   "source": [
    "for i in cur:\n",
    "    print(i)"
   ]
  },
  {
   "cell_type": "code",
   "execution_count": 11,
   "id": "41709886-34c0-4dd1-b770-8a2b3cc7df25",
   "metadata": {
    "tags": []
   },
   "outputs": [],
   "source": [
    "cur.execute(\"desc dt\")"
   ]
  },
  {
   "cell_type": "code",
   "execution_count": 12,
   "id": "1b1a2734-cfac-4f9c-b5cf-1a91a8d7a2a7",
   "metadata": {
    "tags": []
   },
   "outputs": [
    {
     "name": "stdout",
     "output_type": "stream",
     "text": [
      "('date1', b'date', 'YES', '', None, '')\n",
      "('time1', b'time', 'YES', '', None, '')\n",
      "('datetime1', b'datetime', 'YES', '', None, '')\n"
     ]
    }
   ],
   "source": [
    "for i in cur:\n",
    "    print(i)"
   ]
  },
  {
   "cell_type": "code",
   "execution_count": 16,
   "id": "8f5144db-a939-41ab-9122-540ec51d6de4",
   "metadata": {
    "tags": []
   },
   "outputs": [
    {
     "name": "stdin",
     "output_type": "stream",
     "text": [
      "Enter your amount: 100000\n"
     ]
    },
    {
     "name": "stdout",
     "output_type": "stream",
     "text": [
      "payment failed\n"
     ]
    }
   ],
   "source": [
    "user=eval(input(\"Enter your amount:\"))\n",
    "if user<10000:\n",
    "    print(\"payment successful\")\n",
    "    cur.execute(\"insert into dt values(curdate(),curtime(),now())\")\n",
    "else:\n",
    "    print(\"payment failed\")\n",
    "    cur.execute(\"insert into dt values(curdate(),curtime(),now())\")"
   ]
  },
  {
   "cell_type": "code",
   "execution_count": 17,
   "id": "4d51504c-d378-4dfc-aad4-17e3da6f2079",
   "metadata": {
    "tags": []
   },
   "outputs": [],
   "source": [
    "cur.execute(\"select * from dt\")"
   ]
  },
  {
   "cell_type": "code",
   "execution_count": 18,
   "id": "cf2477c1-dc54-4b8d-8213-4f21031ae252",
   "metadata": {
    "tags": []
   },
   "outputs": [
    {
     "name": "stdout",
     "output_type": "stream",
     "text": [
      "(datetime.date(2023, 10, 3), datetime.timedelta(seconds=11861), datetime.datetime(2023, 10, 3, 3, 17, 41))\n",
      "(datetime.date(2023, 10, 3), datetime.timedelta(seconds=11861), datetime.datetime(2023, 10, 3, 3, 17, 41))\n",
      "(datetime.date(2023, 10, 3), datetime.timedelta(seconds=11861), datetime.datetime(2023, 10, 3, 3, 17, 41))\n",
      "(datetime.date(2023, 10, 3), datetime.timedelta(seconds=55398), datetime.datetime(2023, 10, 3, 15, 23, 18))\n",
      "(datetime.date(2023, 10, 9), datetime.timedelta(seconds=55938), datetime.datetime(2023, 10, 9, 15, 32, 18))\n",
      "(datetime.date(2023, 10, 9), datetime.timedelta(seconds=55991), datetime.datetime(2023, 10, 9, 15, 33, 11))\n"
     ]
    }
   ],
   "source": [
    "for i in cur:\n",
    "    print(i)"
   ]
  },
  {
   "cell_type": "code",
   "execution_count": null,
   "id": "7f1afaa6-1b31-41fd-8e46-8144659933af",
   "metadata": {},
   "outputs": [],
   "source": []
  }
 ],
 "metadata": {
  "kernelspec": {
   "display_name": "Python 3 (ipykernel)",
   "language": "python",
   "name": "python3"
  },
  "language_info": {
   "codemirror_mode": {
    "name": "ipython",
    "version": 3
   },
   "file_extension": ".py",
   "mimetype": "text/x-python",
   "name": "python",
   "nbconvert_exporter": "python",
   "pygments_lexer": "ipython3",
   "version": "3.11.5"
  }
 },
 "nbformat": 4,
 "nbformat_minor": 5
}
