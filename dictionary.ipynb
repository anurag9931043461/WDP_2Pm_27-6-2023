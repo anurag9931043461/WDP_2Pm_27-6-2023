{
 "cells": [
  {
   "cell_type": "markdown",
   "id": "3366afcb-01a8-4b30-bbaa-2b99460b585e",
   "metadata": {},
   "source": [
    "# dictionary\n",
    "\n",
    "> dictionary constructor is dict()\n",
    "\n",
    "> dictionary literal is {}\n",
    "\n",
    "> dictionary doesnot support concatination.\n",
    "\n",
    "> dictionary does not support indexing\n",
    "\n",
    "> dictionary is a combination of key and value\n",
    "\n",
    "> dictionary key act as index values.\n",
    "\n",
    "> dictionary key must be unique\n",
    "\n",
    "> dictionary is mutable.\n",
    "\n",
    "> dictionary key must be immutable datatype\n",
    "\n",
    "> dictionary methods."
   ]
  },
  {
   "cell_type": "code",
   "execution_count": 1,
   "id": "7e6c20a5-0239-444b-bc72-35ba8990cbb9",
   "metadata": {},
   "outputs": [],
   "source": [
    "a={1:\"Krishna\",2:\"Mohan\",3:\"Shyam\",4:\"Vishnu\"}"
   ]
  },
  {
   "cell_type": "code",
   "execution_count": 2,
   "id": "db1f2a10-bb0f-465b-94a0-a0ca1d445f86",
   "metadata": {},
   "outputs": [],
   "source": [
    "b={1,2,3,4,5,6}"
   ]
  },
  {
   "cell_type": "code",
   "execution_count": 16,
   "id": "63506767-e44c-47b2-b6c5-631760f44a55",
   "metadata": {},
   "outputs": [
    {
     "name": "stdout",
     "output_type": "stream",
     "text": [
      "a krishna <class 'str'>\n",
      "b {'krishna'} <class 'set'>\n",
      "{'krishna'}\n"
     ]
    }
   ],
   "source": [
    "a=\"krishna\"\n",
    "print(\"a\",a,type(a))\n",
    "b={a}\n",
    "print(\"b\",b,type(b))\n",
    "print(b)     # string is immutable "
   ]
  },
  {
   "cell_type": "code",
   "execution_count": 17,
   "id": "ade3dc16-0add-4cfd-90ec-27eebc6f3a5a",
   "metadata": {},
   "outputs": [
    {
     "name": "stdout",
     "output_type": "stream",
     "text": [
      "a 10 <class 'int'>\n",
      "b {10} <class 'set'>\n",
      "{10}\n"
     ]
    }
   ],
   "source": [
    "a=10\n",
    "print(\"a\",a,type(a))\n",
    "b={a}\n",
    "print(\"b\",b,type(b))\n",
    "print(b)     #int is immutable"
   ]
  },
  {
   "cell_type": "code",
   "execution_count": 18,
   "id": "f0019e8f-0d13-417f-800a-ea89abef2039",
   "metadata": {},
   "outputs": [
    {
     "name": "stdout",
     "output_type": "stream",
     "text": [
      "a (1, 2, 3) <class 'tuple'>\n",
      "b {(1, 2, 3)} <class 'set'>\n",
      "{(1, 2, 3)}\n"
     ]
    }
   ],
   "source": [
    "a=(1,2,3)\n",
    "print(\"a\",a,type(a))\n",
    "b={a}\n",
    "print(\"b\",b,type(b))\n",
    "print(b)#float is immutable"
   ]
  },
  {
   "cell_type": "code",
   "execution_count": 19,
   "id": "e51db59f-1d72-4298-8f8a-cd383d3487f3",
   "metadata": {},
   "outputs": [
    {
     "name": "stdout",
     "output_type": "stream",
     "text": [
      "a frozenset({1, 2, 3}) <class 'frozenset'>\n",
      "b {frozenset({1, 2, 3})} <class 'set'>\n",
      "{frozenset({1, 2, 3})}\n"
     ]
    }
   ],
   "source": [
    "a=frozenset([1,2,3])\n",
    "print(\"a\",a,type(a))\n",
    "b={a}\n",
    "print(\"b\",b,type(b))\n",
    "print(b)"
   ]
  },
  {
   "cell_type": "code",
   "execution_count": 20,
   "id": "301cdb2d-6f91-4d9d-a90f-4fafb19a7b0b",
   "metadata": {},
   "outputs": [
    {
     "name": "stdout",
     "output_type": "stream",
     "text": [
      "a krishna <class 'str'>\n",
      "b {'krishna'} <class 'set'>\n",
      "{'krishna'}\n"
     ]
    }
   ],
   "source": [
    "a=\"krishna\"\n",
    "print(\"a\",a,type(a))\n",
    "b={a}\n",
    "print(\"b\",b,type(b))\n",
    "print(b)"
   ]
  },
  {
   "cell_type": "code",
   "execution_count": 21,
   "id": "caeb090e-8988-49bb-9e34-2c3880ad95e2",
   "metadata": {},
   "outputs": [
    {
     "name": "stdout",
     "output_type": "stream",
     "text": [
      "a ['krishna'] <class 'list'>\n"
     ]
    },
    {
     "ename": "TypeError",
     "evalue": "unhashable type: 'list'",
     "output_type": "error",
     "traceback": [
      "\u001b[1;31m---------------------------------------------------------------------------\u001b[0m",
      "\u001b[1;31mTypeError\u001b[0m                                 Traceback (most recent call last)",
      "Cell \u001b[1;32mIn[21], line 3\u001b[0m\n\u001b[0;32m      1\u001b[0m a\u001b[38;5;241m=\u001b[39m[\u001b[38;5;124m\"\u001b[39m\u001b[38;5;124mkrishna\u001b[39m\u001b[38;5;124m\"\u001b[39m]\n\u001b[0;32m      2\u001b[0m \u001b[38;5;28mprint\u001b[39m(\u001b[38;5;124m\"\u001b[39m\u001b[38;5;124ma\u001b[39m\u001b[38;5;124m\"\u001b[39m,a,\u001b[38;5;28mtype\u001b[39m(a))\n\u001b[1;32m----> 3\u001b[0m b\u001b[38;5;241m=\u001b[39m{a}\n\u001b[0;32m      4\u001b[0m \u001b[38;5;28mprint\u001b[39m(\u001b[38;5;124m\"\u001b[39m\u001b[38;5;124mb\u001b[39m\u001b[38;5;124m\"\u001b[39m,b,\u001b[38;5;28mtype\u001b[39m(b))\n\u001b[0;32m      5\u001b[0m \u001b[38;5;28mprint\u001b[39m(b)\n",
      "\u001b[1;31mTypeError\u001b[0m: unhashable type: 'list'"
     ]
    }
   ],
   "source": [
    "a=[\"krishna\"]\n",
    "print(\"a\",a,type(a))\n",
    "b={a}\n",
    "print(\"b\",b,type(b))\n",
    "print(b)"
   ]
  },
  {
   "cell_type": "code",
   "execution_count": 22,
   "id": "db037da7-938e-4d9c-ae60-c51a06bbe24b",
   "metadata": {},
   "outputs": [
    {
     "name": "stdout",
     "output_type": "stream",
     "text": [
      "a {'krishna'} <class 'set'>\n"
     ]
    },
    {
     "ename": "TypeError",
     "evalue": "unhashable type: 'set'",
     "output_type": "error",
     "traceback": [
      "\u001b[1;31m---------------------------------------------------------------------------\u001b[0m",
      "\u001b[1;31mTypeError\u001b[0m                                 Traceback (most recent call last)",
      "Cell \u001b[1;32mIn[22], line 3\u001b[0m\n\u001b[0;32m      1\u001b[0m a\u001b[38;5;241m=\u001b[39m{\u001b[38;5;124m\"\u001b[39m\u001b[38;5;124mkrishna\u001b[39m\u001b[38;5;124m\"\u001b[39m}\n\u001b[0;32m      2\u001b[0m \u001b[38;5;28mprint\u001b[39m(\u001b[38;5;124m\"\u001b[39m\u001b[38;5;124ma\u001b[39m\u001b[38;5;124m\"\u001b[39m,a,\u001b[38;5;28mtype\u001b[39m(a))\n\u001b[1;32m----> 3\u001b[0m b\u001b[38;5;241m=\u001b[39m{a}\n\u001b[0;32m      4\u001b[0m \u001b[38;5;28mprint\u001b[39m(\u001b[38;5;124m\"\u001b[39m\u001b[38;5;124mb\u001b[39m\u001b[38;5;124m\"\u001b[39m,b,\u001b[38;5;28mtype\u001b[39m(b))\n\u001b[0;32m      5\u001b[0m \u001b[38;5;28mprint\u001b[39m(b)\n",
      "\u001b[1;31mTypeError\u001b[0m: unhashable type: 'set'"
     ]
    }
   ],
   "source": [
    "a={\"krishna\"}\n",
    "print(\"a\",a,type(a))\n",
    "b={a}\n",
    "print(\"b\",b,type(b))\n",
    "print(b)"
   ]
  },
  {
   "cell_type": "code",
   "execution_count": 23,
   "id": "2402e27a-996b-4f5c-95c5-f24ef924b778",
   "metadata": {},
   "outputs": [
    {
     "name": "stdout",
     "output_type": "stream",
     "text": [
      "a {1: 'krishna'} <class 'dict'>\n"
     ]
    },
    {
     "ename": "TypeError",
     "evalue": "unhashable type: 'dict'",
     "output_type": "error",
     "traceback": [
      "\u001b[1;31m---------------------------------------------------------------------------\u001b[0m",
      "\u001b[1;31mTypeError\u001b[0m                                 Traceback (most recent call last)",
      "Cell \u001b[1;32mIn[23], line 3\u001b[0m\n\u001b[0;32m      1\u001b[0m a\u001b[38;5;241m=\u001b[39m{\u001b[38;5;241m1\u001b[39m:\u001b[38;5;124m\"\u001b[39m\u001b[38;5;124mkrishna\u001b[39m\u001b[38;5;124m\"\u001b[39m}\n\u001b[0;32m      2\u001b[0m \u001b[38;5;28mprint\u001b[39m(\u001b[38;5;124m\"\u001b[39m\u001b[38;5;124ma\u001b[39m\u001b[38;5;124m\"\u001b[39m,a,\u001b[38;5;28mtype\u001b[39m(a))\n\u001b[1;32m----> 3\u001b[0m b\u001b[38;5;241m=\u001b[39m{a}\n\u001b[0;32m      4\u001b[0m \u001b[38;5;28mprint\u001b[39m(\u001b[38;5;124m\"\u001b[39m\u001b[38;5;124mb\u001b[39m\u001b[38;5;124m\"\u001b[39m,b,\u001b[38;5;28mtype\u001b[39m(b))\n\u001b[0;32m      5\u001b[0m \u001b[38;5;28mprint\u001b[39m(b)\n",
      "\u001b[1;31mTypeError\u001b[0m: unhashable type: 'dict'"
     ]
    }
   ],
   "source": [
    "a={1:\"krishna\"}\n",
    "print(\"a\",a,type(a))\n",
    "b={a}\n",
    "print(\"b\",b,type(b))\n",
    "print(b)"
   ]
  },
  {
   "cell_type": "code",
   "execution_count": 26,
   "id": "71b87d55-5554-4e76-8b70-b50997b78ed8",
   "metadata": {},
   "outputs": [
    {
     "name": "stdout",
     "output_type": "stream",
     "text": [
      "<class 'dict'>\n",
      "{}\n"
     ]
    }
   ],
   "source": [
    "a=dict()\n",
    "print(type(a))\n",
    "print(a)"
   ]
  },
  {
   "cell_type": "code",
   "execution_count": 27,
   "id": "94c398b8-c419-4f59-a2db-014baeb0f5f3",
   "metadata": {},
   "outputs": [
    {
     "name": "stdout",
     "output_type": "stream",
     "text": [
      "<class 'dict'>\n",
      "{}\n"
     ]
    }
   ],
   "source": [
    "b={}\n",
    "print(type(b))\n",
    "print(b)"
   ]
  },
  {
   "cell_type": "code",
   "execution_count": 28,
   "id": "96068403-9afa-4736-8fb6-ddcef500dd8a",
   "metadata": {},
   "outputs": [],
   "source": [
    "c={1:\"krishna\",2:\"kumar\"}\n",
    "d={3:\"Vishnu\",4:\"Prajapati\"}"
   ]
  },
  {
   "cell_type": "code",
   "execution_count": 31,
   "id": "d894670f-ea6b-4365-886a-18d8351bee2d",
   "metadata": {},
   "outputs": [
    {
     "ename": "TypeError",
     "evalue": "unsupported operand type(s) for +: 'dict' and 'dict'",
     "output_type": "error",
     "traceback": [
      "\u001b[1;31m---------------------------------------------------------------------------\u001b[0m",
      "\u001b[1;31mTypeError\u001b[0m                                 Traceback (most recent call last)",
      "Cell \u001b[1;32mIn[31], line 1\u001b[0m\n\u001b[1;32m----> 1\u001b[0m \u001b[38;5;28mprint\u001b[39m(\u001b[43mc\u001b[49m\u001b[38;5;241;43m+\u001b[39;49m\u001b[43md\u001b[49m)\n",
      "\u001b[1;31mTypeError\u001b[0m: unsupported operand type(s) for +: 'dict' and 'dict'"
     ]
    }
   ],
   "source": [
    "print(c+d)     # dictionary doesnot support concatination"
   ]
  },
  {
   "cell_type": "code",
   "execution_count": 32,
   "id": "263c6bc7-742d-42d3-937c-ac8c87d2608c",
   "metadata": {},
   "outputs": [],
   "source": [
    "a={1:\"Krishna\",2:\"Mohan\",3:\"Shyam\",4:\"Vishnu\"}"
   ]
  },
  {
   "cell_type": "code",
   "execution_count": 33,
   "id": "0f722f52-5c16-443a-93e2-ee5d77a80395",
   "metadata": {},
   "outputs": [
    {
     "data": {
      "text/plain": [
       "'Krishna'"
      ]
     },
     "execution_count": 33,
     "metadata": {},
     "output_type": "execute_result"
    }
   ],
   "source": [
    "a[1]"
   ]
  },
  {
   "cell_type": "code",
   "execution_count": 38,
   "id": "7bb0d1f1-52d6-445d-b4df-f3bccf138228",
   "metadata": {},
   "outputs": [],
   "source": [
    "a={1:\"Krishna\",2:\"Mohan\",3:\"Shyam\",4:\"Vishnu\",1:\"Rohan\"}"
   ]
  },
  {
   "cell_type": "code",
   "execution_count": 39,
   "id": "03424d7b-a9bd-4e74-bb0e-087a873a05ea",
   "metadata": {},
   "outputs": [
    {
     "name": "stdout",
     "output_type": "stream",
     "text": [
      "{1: 'Rohan', 2: 'Mohan', 3: 'Shyam', 4: 'Vishnu'}\n"
     ]
    }
   ],
   "source": [
    "print(a)"
   ]
  },
  {
   "cell_type": "code",
   "execution_count": 40,
   "id": "3aaf361a-d370-4de5-90f0-32b97603f098",
   "metadata": {},
   "outputs": [],
   "source": [
    "b={1:{\"Sudent\":\"Krishna\",\"Mother\":\"Suman\",\"Father\":\"Sunil\"},\n",
    "  2:{\"Sudent\":\"Vishnu\",\"Mother\":\"Sumitra\",\"Father\":\"abc\"}}"
   ]
  },
  {
   "cell_type": "code",
   "execution_count": 41,
   "id": "8dab5d59-194f-4965-bc82-f6f1b3f1477f",
   "metadata": {},
   "outputs": [
    {
     "name": "stdout",
     "output_type": "stream",
     "text": [
      "{1: {'Sudent': 'Krishna', 'Mother': 'Suman', 'Father': 'Sunil'}, 2: {'Sudent': 'Vishnu', 'Mother': 'Sumitra', 'Father': 'abc'}}\n"
     ]
    }
   ],
   "source": [
    "print(b)"
   ]
  },
  {
   "cell_type": "code",
   "execution_count": 42,
   "id": "5cba574d-8db6-415a-87e8-f5dbe69050a0",
   "metadata": {},
   "outputs": [
    {
     "data": {
      "text/plain": [
       "{'Sudent': 'Krishna', 'Mother': 'Suman', 'Father': 'Sunil'}"
      ]
     },
     "execution_count": 42,
     "metadata": {},
     "output_type": "execute_result"
    }
   ],
   "source": [
    "b[1]"
   ]
  },
  {
   "cell_type": "code",
   "execution_count": 43,
   "id": "a1f4e8a0-c534-4d06-9bae-41e383b9c5c4",
   "metadata": {},
   "outputs": [
    {
     "data": {
      "text/plain": [
       "{'Sudent': 'Vishnu', 'Mother': 'Sumitra', 'Father': 'abc'}"
      ]
     },
     "execution_count": 43,
     "metadata": {},
     "output_type": "execute_result"
    }
   ],
   "source": [
    "b[2]"
   ]
  },
  {
   "cell_type": "code",
   "execution_count": 44,
   "id": "8e7a022c-007e-4a01-8339-d1f03793e822",
   "metadata": {},
   "outputs": [
    {
     "data": {
      "text/plain": [
       "{1: {'Sudent': 'Krishna', 'Mother': 'Suman', 'Father': 'Sunil'},\n",
       " 2: {'Sudent': 'Vishnu', 'Mother': 'Sumitra', 'Father': 'abc'}}"
      ]
     },
     "execution_count": 44,
     "metadata": {},
     "output_type": "execute_result"
    }
   ],
   "source": [
    "b"
   ]
  },
  {
   "cell_type": "code",
   "execution_count": 45,
   "id": "637e2453-7868-4ca9-971b-4a2147d4b594",
   "metadata": {},
   "outputs": [
    {
     "data": {
      "text/plain": [
       "{'Sudent': 'Krishna', 'Mother': 'Suman', 'Father': 'Sunil'}"
      ]
     },
     "execution_count": 45,
     "metadata": {},
     "output_type": "execute_result"
    }
   ],
   "source": [
    "b[1]"
   ]
  },
  {
   "cell_type": "code",
   "execution_count": 46,
   "id": "97b01edc-40fc-4b27-9d87-510f5eb8a96e",
   "metadata": {},
   "outputs": [
    {
     "data": {
      "text/plain": [
       "'Krishna'"
      ]
     },
     "execution_count": 46,
     "metadata": {},
     "output_type": "execute_result"
    }
   ],
   "source": [
    "b[1]['Sudent']"
   ]
  },
  {
   "cell_type": "code",
   "execution_count": 47,
   "id": "154e83c6-3353-46aa-bbfe-bbdfca024c41",
   "metadata": {},
   "outputs": [
    {
     "ename": "TypeError",
     "evalue": "unhashable type: 'list'",
     "output_type": "error",
     "traceback": [
      "\u001b[1;31m---------------------------------------------------------------------------\u001b[0m",
      "\u001b[1;31mTypeError\u001b[0m                                 Traceback (most recent call last)",
      "Cell \u001b[1;32mIn[47], line 1\u001b[0m\n\u001b[1;32m----> 1\u001b[0m e\u001b[38;5;241m=\u001b[39m{[\u001b[38;5;241m1\u001b[39m,\u001b[38;5;241m2\u001b[39m,\u001b[38;5;241m3\u001b[39m]:\u001b[38;5;124m\"\u001b[39m\u001b[38;5;124mabc\u001b[39m\u001b[38;5;124m\"\u001b[39m}\n",
      "\u001b[1;31mTypeError\u001b[0m: unhashable type: 'list'"
     ]
    }
   ],
   "source": [
    "e={[1,2,3]:\"abc\"}"
   ]
  },
  {
   "cell_type": "code",
   "execution_count": 48,
   "id": "45ab0ea9-671b-4cf8-8729-83fdb1149c5e",
   "metadata": {},
   "outputs": [
    {
     "ename": "TypeError",
     "evalue": "unhashable type: 'set'",
     "output_type": "error",
     "traceback": [
      "\u001b[1;31m---------------------------------------------------------------------------\u001b[0m",
      "\u001b[1;31mTypeError\u001b[0m                                 Traceback (most recent call last)",
      "Cell \u001b[1;32mIn[48], line 1\u001b[0m\n\u001b[1;32m----> 1\u001b[0m e\u001b[38;5;241m=\u001b[39m{{\u001b[38;5;241m1\u001b[39m,\u001b[38;5;241m2\u001b[39m,\u001b[38;5;241m3\u001b[39m}:\u001b[38;5;124m\"\u001b[39m\u001b[38;5;124mabc\u001b[39m\u001b[38;5;124m\"\u001b[39m}\n",
      "\u001b[1;31mTypeError\u001b[0m: unhashable type: 'set'"
     ]
    }
   ],
   "source": [
    "e={{1,2,3}:\"abc\"}"
   ]
  },
  {
   "cell_type": "code",
   "execution_count": 49,
   "id": "23d2685b-a143-4156-9d29-fc277e791e2d",
   "metadata": {},
   "outputs": [
    {
     "ename": "TypeError",
     "evalue": "unhashable type: 'dict'",
     "output_type": "error",
     "traceback": [
      "\u001b[1;31m---------------------------------------------------------------------------\u001b[0m",
      "\u001b[1;31mTypeError\u001b[0m                                 Traceback (most recent call last)",
      "Cell \u001b[1;32mIn[49], line 1\u001b[0m\n\u001b[1;32m----> 1\u001b[0m e\u001b[38;5;241m=\u001b[39m{{\u001b[38;5;241m1\u001b[39m:\u001b[38;5;124m\"\u001b[39m\u001b[38;5;124mkrishna\u001b[39m\u001b[38;5;124m\"\u001b[39m}:\u001b[38;5;124m\"\u001b[39m\u001b[38;5;124mabc\u001b[39m\u001b[38;5;124m\"\u001b[39m}\n",
      "\u001b[1;31mTypeError\u001b[0m: unhashable type: 'dict'"
     ]
    }
   ],
   "source": [
    "e={{1:\"krishna\"}:\"abc\"}"
   ]
  },
  {
   "cell_type": "code",
   "execution_count": 50,
   "id": "d20eb942-9de4-4964-85d0-8310fa2eb257",
   "metadata": {},
   "outputs": [],
   "source": [
    "a={1:[\"krishna\",\"Suman\",\"Sunil\"],2:{\"Vishnu\",\"Sumitra\",\"abc\"},\n",
    "  3:(\"Vicky\",\"Suman\",\"Sunil\"),4:{\"name\":\"Mohan\",\"mother\":\"Sita\",\"father\":\"Ram\"}}"
   ]
  },
  {
   "cell_type": "code",
   "execution_count": 52,
   "id": "4d98b114-6c33-4a34-b217-316a10266b6b",
   "metadata": {},
   "outputs": [
    {
     "data": {
      "text/plain": [
       "{1: ['krishna', 'Suman', 'Sunil'],\n",
       " 2: {'Sumitra', 'Vishnu', 'abc'},\n",
       " 3: ('Vicky', 'Suman', 'Sunil'),\n",
       " 4: {'name': 'Mohan', 'mother': 'Sita', 'father': 'Ram'}}"
      ]
     },
     "execution_count": 52,
     "metadata": {},
     "output_type": "execute_result"
    }
   ],
   "source": [
    "a"
   ]
  },
  {
   "cell_type": "code",
   "execution_count": 57,
   "id": "7083796e-7c84-4b3e-a21d-96ef7525325e",
   "metadata": {},
   "outputs": [],
   "source": [
    "a={1:\"Krishna\",2:\"Mohan\",3:\"Shyam\",4:\"Vishnu\"}"
   ]
  },
  {
   "cell_type": "code",
   "execution_count": 58,
   "id": "3afd268c-84e3-4940-ab1c-1a953987615f",
   "metadata": {},
   "outputs": [
    {
     "data": {
      "text/plain": [
       "dict_keys([1, 2, 3, 4])"
      ]
     },
     "execution_count": 58,
     "metadata": {},
     "output_type": "execute_result"
    }
   ],
   "source": [
    "a.keys()"
   ]
  },
  {
   "cell_type": "code",
   "execution_count": 59,
   "id": "f8d9a568-bc49-4b6b-b91b-d78d808835a6",
   "metadata": {},
   "outputs": [
    {
     "data": {
      "text/plain": [
       "dict_values(['Krishna', 'Mohan', 'Shyam', 'Vishnu'])"
      ]
     },
     "execution_count": 59,
     "metadata": {},
     "output_type": "execute_result"
    }
   ],
   "source": [
    "a.values()"
   ]
  },
  {
   "cell_type": "code",
   "execution_count": 60,
   "id": "ec916b35-0d58-4d1d-891d-9d8824066135",
   "metadata": {},
   "outputs": [
    {
     "ename": "KeyError",
     "evalue": "5",
     "output_type": "error",
     "traceback": [
      "\u001b[1;31m---------------------------------------------------------------------------\u001b[0m",
      "\u001b[1;31mKeyError\u001b[0m                                  Traceback (most recent call last)",
      "Cell \u001b[1;32mIn[60], line 1\u001b[0m\n\u001b[1;32m----> 1\u001b[0m \u001b[43ma\u001b[49m\u001b[43m[\u001b[49m\u001b[38;5;241;43m5\u001b[39;49m\u001b[43m]\u001b[49m\n",
      "\u001b[1;31mKeyError\u001b[0m: 5"
     ]
    }
   ],
   "source": [
    "a[5]"
   ]
  },
  {
   "cell_type": "code",
   "execution_count": 61,
   "id": "4fbd07d3-1115-4422-9ee5-1b1f7109ecff",
   "metadata": {},
   "outputs": [
    {
     "data": {
      "text/plain": [
       "'Krishna'"
      ]
     },
     "execution_count": 61,
     "metadata": {},
     "output_type": "execute_result"
    }
   ],
   "source": [
    "a.get(1)"
   ]
  },
  {
   "cell_type": "code",
   "execution_count": 62,
   "id": "c061d36e-4f8b-46b6-96b0-da402d70dcf5",
   "metadata": {},
   "outputs": [],
   "source": [
    "a.get(5)"
   ]
  },
  {
   "cell_type": "code",
   "execution_count": 63,
   "id": "0ff79c62-99c3-4dcc-9c07-fb457c21ada9",
   "metadata": {},
   "outputs": [
    {
     "data": {
      "text/plain": [
       "'this number is not available'"
      ]
     },
     "execution_count": 63,
     "metadata": {},
     "output_type": "execute_result"
    }
   ],
   "source": [
    "a.get(5,\"this number is not available\")"
   ]
  },
  {
   "cell_type": "code",
   "execution_count": 64,
   "id": "17efda0f-0051-474a-ba5e-1d3827dac6b0",
   "metadata": {},
   "outputs": [
    {
     "data": {
      "text/plain": [
       "'Krishna'"
      ]
     },
     "execution_count": 64,
     "metadata": {},
     "output_type": "execute_result"
    }
   ],
   "source": [
    "a.get(1,\"this number is not available\")"
   ]
  },
  {
   "cell_type": "code",
   "execution_count": 65,
   "id": "172ce2b7-6ee1-4826-ab28-8de2028d63b8",
   "metadata": {},
   "outputs": [
    {
     "data": {
      "text/plain": [
       "{1: 'Krishna', 2: 'Mohan', 3: 'Shyam', 4: 'Vishnu'}"
      ]
     },
     "execution_count": 65,
     "metadata": {},
     "output_type": "execute_result"
    }
   ],
   "source": [
    "a"
   ]
  },
  {
   "cell_type": "code",
   "execution_count": 66,
   "id": "808d898d-4a3e-4070-bf72-2f5fbc142011",
   "metadata": {},
   "outputs": [
    {
     "ename": "KeyError",
     "evalue": "5",
     "output_type": "error",
     "traceback": [
      "\u001b[1;31m---------------------------------------------------------------------------\u001b[0m",
      "\u001b[1;31mKeyError\u001b[0m                                  Traceback (most recent call last)",
      "Cell \u001b[1;32mIn[66], line 1\u001b[0m\n\u001b[1;32m----> 1\u001b[0m \u001b[43ma\u001b[49m\u001b[38;5;241;43m.\u001b[39;49m\u001b[43mpop\u001b[49m\u001b[43m(\u001b[49m\u001b[38;5;241;43m5\u001b[39;49m\u001b[43m)\u001b[49m\n",
      "\u001b[1;31mKeyError\u001b[0m: 5"
     ]
    }
   ],
   "source": [
    "a.pop(5)"
   ]
  },
  {
   "cell_type": "code",
   "execution_count": 67,
   "id": "80b9df42-48ba-4e35-b66e-af91d5a7ce85",
   "metadata": {},
   "outputs": [
    {
     "data": {
      "text/plain": [
       "'Shyam'"
      ]
     },
     "execution_count": 67,
     "metadata": {},
     "output_type": "execute_result"
    }
   ],
   "source": [
    "a.pop(3)"
   ]
  },
  {
   "cell_type": "code",
   "execution_count": 68,
   "id": "c3d04c08-8796-448a-abf0-b93279351bab",
   "metadata": {},
   "outputs": [
    {
     "name": "stdout",
     "output_type": "stream",
     "text": [
      "{1: 'Krishna', 2: 'Mohan', 4: 'Vishnu'}\n"
     ]
    }
   ],
   "source": [
    "print(a)"
   ]
  },
  {
   "cell_type": "code",
   "execution_count": 69,
   "id": "0a3503ef-ba2c-4cba-b84a-d922626bd6e3",
   "metadata": {},
   "outputs": [
    {
     "ename": "TypeError",
     "evalue": "pop expected at least 1 argument, got 0",
     "output_type": "error",
     "traceback": [
      "\u001b[1;31m---------------------------------------------------------------------------\u001b[0m",
      "\u001b[1;31mTypeError\u001b[0m                                 Traceback (most recent call last)",
      "Cell \u001b[1;32mIn[69], line 1\u001b[0m\n\u001b[1;32m----> 1\u001b[0m \u001b[43ma\u001b[49m\u001b[38;5;241;43m.\u001b[39;49m\u001b[43mpop\u001b[49m\u001b[43m(\u001b[49m\u001b[43m)\u001b[49m\n",
      "\u001b[1;31mTypeError\u001b[0m: pop expected at least 1 argument, got 0"
     ]
    }
   ],
   "source": [
    "a.pop()"
   ]
  },
  {
   "cell_type": "code",
   "execution_count": 70,
   "id": "71af69a6-69d8-4813-9494-28e9a02773df",
   "metadata": {},
   "outputs": [
    {
     "data": {
      "text/plain": [
       "(4, 'Vishnu')"
      ]
     },
     "execution_count": 70,
     "metadata": {},
     "output_type": "execute_result"
    }
   ],
   "source": [
    "a.popitem()"
   ]
  },
  {
   "cell_type": "code",
   "execution_count": 72,
   "id": "3893d2a9-4bba-4a99-a7fd-f9c17b00b23f",
   "metadata": {},
   "outputs": [
    {
     "name": "stdout",
     "output_type": "stream",
     "text": [
      "{1: 'Krishna', 2: 'Mohan'}\n",
      "2547391179328\n"
     ]
    }
   ],
   "source": [
    "print(a)\n",
    "print(id(a))"
   ]
  },
  {
   "cell_type": "code",
   "execution_count": 73,
   "id": "e2bcaf74-0033-48bc-93ca-21af73bedc8e",
   "metadata": {},
   "outputs": [],
   "source": [
    "b=a"
   ]
  },
  {
   "cell_type": "code",
   "execution_count": 74,
   "id": "c8093828-4d8e-4aee-ba05-aec6c7f96d60",
   "metadata": {},
   "outputs": [
    {
     "name": "stdout",
     "output_type": "stream",
     "text": [
      "{1: 'Krishna', 2: 'Mohan'}\n"
     ]
    }
   ],
   "source": [
    "print(b)"
   ]
  },
  {
   "cell_type": "code",
   "execution_count": 75,
   "id": "2dfc2747-e19a-42bd-b796-601b44c2cd12",
   "metadata": {},
   "outputs": [
    {
     "name": "stdout",
     "output_type": "stream",
     "text": [
      "2547391179328\n"
     ]
    }
   ],
   "source": [
    "print(id(b))"
   ]
  },
  {
   "cell_type": "code",
   "execution_count": 76,
   "id": "dcc84580-13cb-4d30-ba99-961911206650",
   "metadata": {},
   "outputs": [],
   "source": [
    "a.update({4:\"ROhan\"})"
   ]
  },
  {
   "cell_type": "code",
   "execution_count": 77,
   "id": "d550d6d0-b220-4693-8232-a4baabd01e69",
   "metadata": {},
   "outputs": [
    {
     "name": "stdout",
     "output_type": "stream",
     "text": [
      "{1: 'Krishna', 2: 'Mohan', 4: 'ROhan'}\n"
     ]
    }
   ],
   "source": [
    "print(a)"
   ]
  },
  {
   "cell_type": "code",
   "execution_count": 78,
   "id": "17306c26-be5a-477e-abd7-2c1b4925ef3c",
   "metadata": {},
   "outputs": [
    {
     "name": "stdout",
     "output_type": "stream",
     "text": [
      "{1: 'Krishna', 2: 'Mohan', 4: 'ROhan'}\n"
     ]
    }
   ],
   "source": [
    "print(b)"
   ]
  },
  {
   "cell_type": "code",
   "execution_count": 79,
   "id": "80090441-0e5d-4289-b751-e9d98a29bb5b",
   "metadata": {},
   "outputs": [],
   "source": [
    "c=a.copy()"
   ]
  },
  {
   "cell_type": "code",
   "execution_count": 82,
   "id": "dbf69327-f15d-40ef-99dc-abe9ffcc56cd",
   "metadata": {},
   "outputs": [
    {
     "name": "stdout",
     "output_type": "stream",
     "text": [
      "2547391179328\n",
      "{1: 'Krishna', 2: 'Mohan', 4: 'ROhan'}\n"
     ]
    }
   ],
   "source": [
    "print(id(a))\n",
    "print(a)"
   ]
  },
  {
   "cell_type": "code",
   "execution_count": 83,
   "id": "788196c6-594c-4209-85d6-c274eb230f6d",
   "metadata": {},
   "outputs": [
    {
     "name": "stdout",
     "output_type": "stream",
     "text": [
      "2547387955520\n",
      "{1: 'Krishna', 2: 'Mohan', 4: 'ROhan'}\n"
     ]
    }
   ],
   "source": [
    "print(id(c))\n",
    "print(c)"
   ]
  },
  {
   "cell_type": "code",
   "execution_count": 84,
   "id": "94eb17f7-4f5c-464e-8fa5-af8fde67d3e2",
   "metadata": {},
   "outputs": [],
   "source": [
    "c.update({5:\"krishna\"})"
   ]
  },
  {
   "cell_type": "code",
   "execution_count": 85,
   "id": "76c83b9c-72e5-41f9-91d0-a7b46c0375de",
   "metadata": {},
   "outputs": [
    {
     "name": "stdout",
     "output_type": "stream",
     "text": [
      "{1: 'Krishna', 2: 'Mohan', 4: 'ROhan', 5: 'krishna'}\n"
     ]
    }
   ],
   "source": [
    "print(c)"
   ]
  },
  {
   "cell_type": "code",
   "execution_count": 86,
   "id": "d45660aa-2384-455a-aa7b-dacfbfaacad8",
   "metadata": {},
   "outputs": [
    {
     "name": "stdout",
     "output_type": "stream",
     "text": [
      "{1: 'Krishna', 2: 'Mohan', 4: 'ROhan'}\n"
     ]
    }
   ],
   "source": [
    "print(a)"
   ]
  },
  {
   "cell_type": "code",
   "execution_count": 87,
   "id": "a3126253-c606-4daa-936d-9ddfc2711f62",
   "metadata": {},
   "outputs": [
    {
     "data": {
      "text/plain": [
       "'N/A'"
      ]
     },
     "execution_count": 87,
     "metadata": {},
     "output_type": "execute_result"
    }
   ],
   "source": [
    "a.setdefault(10,\"N/A\")"
   ]
  },
  {
   "cell_type": "code",
   "execution_count": 88,
   "id": "f4b57b01-e9d3-4609-84c0-618ad02d77fb",
   "metadata": {},
   "outputs": [
    {
     "name": "stdout",
     "output_type": "stream",
     "text": [
      "{1: 'Krishna', 2: 'Mohan', 4: 'ROhan', 10: 'N/A'}\n"
     ]
    }
   ],
   "source": [
    "print(a)"
   ]
  },
  {
   "cell_type": "code",
   "execution_count": 89,
   "id": "fd45bcc7-234f-4c0a-84b0-657f8d2cbc84",
   "metadata": {},
   "outputs": [],
   "source": [
    "a[10]=\"Sohan\""
   ]
  },
  {
   "cell_type": "code",
   "execution_count": 90,
   "id": "2d75385f-2250-40f2-8e20-e0337d5ec538",
   "metadata": {},
   "outputs": [
    {
     "name": "stdout",
     "output_type": "stream",
     "text": [
      "{1: 'Krishna', 2: 'Mohan', 4: 'ROhan', 10: 'Sohan'}\n"
     ]
    }
   ],
   "source": [
    "print(a)"
   ]
  },
  {
   "cell_type": "code",
   "execution_count": 91,
   "id": "5ef69533-73a3-4b3c-9ac5-b45e177b383e",
   "metadata": {},
   "outputs": [],
   "source": [
    "a[1]=\"Nikki\""
   ]
  },
  {
   "cell_type": "code",
   "execution_count": 92,
   "id": "d1541413-b989-49c4-b019-7cf68f26fc18",
   "metadata": {},
   "outputs": [
    {
     "name": "stdout",
     "output_type": "stream",
     "text": [
      "{1: 'Nikki', 2: 'Mohan', 4: 'ROhan', 10: 'Sohan'}\n"
     ]
    }
   ],
   "source": [
    "print(a)"
   ]
  },
  {
   "cell_type": "code",
   "execution_count": 93,
   "id": "0996d7ba-5e78-4097-8b9d-ed0a9d07e5eb",
   "metadata": {},
   "outputs": [],
   "source": [
    "a.update({1:\"krishna\"})"
   ]
  },
  {
   "cell_type": "code",
   "execution_count": 94,
   "id": "fbff4b1b-6a6e-418b-90a3-c9d18a51d9f7",
   "metadata": {},
   "outputs": [
    {
     "name": "stdout",
     "output_type": "stream",
     "text": [
      "{1: 'krishna', 2: 'Mohan', 4: 'ROhan', 10: 'Sohan'}\n"
     ]
    }
   ],
   "source": [
    "print(a)"
   ]
  },
  {
   "cell_type": "code",
   "execution_count": 95,
   "id": "ac9dbff8-4109-4937-91cb-95483b1e4fb4",
   "metadata": {},
   "outputs": [],
   "source": [
    "d={}"
   ]
  },
  {
   "cell_type": "code",
   "execution_count": 98,
   "id": "0b3f003c-5bcb-410f-8543-f493e408391c",
   "metadata": {},
   "outputs": [],
   "source": [
    "e=d.fromkeys([1,2,3,4,5,6,7,8,9,10],\"N/A\")"
   ]
  },
  {
   "cell_type": "code",
   "execution_count": 99,
   "id": "0e361127-8d70-4403-b262-dcaa58e7ba93",
   "metadata": {},
   "outputs": [
    {
     "name": "stdout",
     "output_type": "stream",
     "text": [
      "{1: 'N/A', 2: 'N/A', 3: 'N/A', 4: 'N/A', 5: 'N/A', 6: 'N/A', 7: 'N/A', 8: 'N/A', 9: 'N/A', 10: 'N/A'}\n"
     ]
    }
   ],
   "source": [
    "print(e)"
   ]
  },
  {
   "cell_type": "code",
   "execution_count": 102,
   "id": "6c1b16e2-220a-4059-ac11-4100ee52e380",
   "metadata": {},
   "outputs": [],
   "source": [
    "e[1]=\"Kartik\""
   ]
  },
  {
   "cell_type": "code",
   "execution_count": 103,
   "id": "ea96b83c-fe85-4dda-8ac6-2ba8877f3523",
   "metadata": {},
   "outputs": [
    {
     "name": "stdout",
     "output_type": "stream",
     "text": [
      "{1: 'Kartik', 2: 'N/A', 3: 'N/A', 4: 'N/A', 5: 'N/A', 6: 'N/A', 7: 'N/A', 8: 'N/A', 9: 'N/A', 10: 'N/A'}\n"
     ]
    }
   ],
   "source": [
    "print(e)"
   ]
  },
  {
   "cell_type": "code",
   "execution_count": 105,
   "id": "89dd5393-312b-4c1a-988e-aeec107371f0",
   "metadata": {},
   "outputs": [],
   "source": [
    "e[2]=\"Ashish\""
   ]
  },
  {
   "cell_type": "code",
   "execution_count": 106,
   "id": "d81fbcaa-5eb5-40c0-ae93-24e3800e5d5e",
   "metadata": {},
   "outputs": [
    {
     "name": "stdout",
     "output_type": "stream",
     "text": [
      "{1: 'Kartik', 2: 'Ashish', 3: 'N/A', 4: 'N/A', 5: 'N/A', 6: 'N/A', 7: 'N/A', 8: 'N/A', 9: 'N/A', 10: 'N/A'}\n"
     ]
    }
   ],
   "source": [
    "print(e)"
   ]
  },
  {
   "cell_type": "code",
   "execution_count": 1,
   "id": "68869785-f505-42e3-90c9-0da8d708233e",
   "metadata": {},
   "outputs": [],
   "source": [
    "# setdefault"
   ]
  },
  {
   "cell_type": "code",
   "execution_count": 7,
   "id": "c6d48a32-7408-4fd6-ae30-8395e56440ad",
   "metadata": {},
   "outputs": [],
   "source": [
    "a={1:\"NA\"}"
   ]
  },
  {
   "cell_type": "code",
   "execution_count": 8,
   "id": "92f61658-c5c7-4f8c-8a21-10f957e86fdb",
   "metadata": {},
   "outputs": [
    {
     "data": {
      "text/plain": [
       "{1: 'NA'}"
      ]
     },
     "execution_count": 8,
     "metadata": {},
     "output_type": "execute_result"
    }
   ],
   "source": [
    "a"
   ]
  },
  {
   "cell_type": "code",
   "execution_count": 9,
   "id": "d91b6496-315f-4b4b-b8f5-66b9483fd636",
   "metadata": {},
   "outputs": [
    {
     "data": {
      "text/plain": [
       "'NA'"
      ]
     },
     "execution_count": 9,
     "metadata": {},
     "output_type": "execute_result"
    }
   ],
   "source": [
    "a.setdefault(2,\"NA\")"
   ]
  },
  {
   "cell_type": "code",
   "execution_count": 11,
   "id": "97a1f3fd-4b9a-40a2-aac7-93b2ee547ead",
   "metadata": {},
   "outputs": [
    {
     "data": {
      "text/plain": [
       "{1: 'NA', 2: 'NA'}"
      ]
     },
     "execution_count": 11,
     "metadata": {},
     "output_type": "execute_result"
    }
   ],
   "source": [
    "a"
   ]
  },
  {
   "cell_type": "code",
   "execution_count": 12,
   "id": "9b59c604-5d18-4633-a190-453adf7dc18b",
   "metadata": {},
   "outputs": [],
   "source": [
    "# fromkeys"
   ]
  },
  {
   "cell_type": "code",
   "execution_count": 16,
   "id": "0937d932-ef9e-40b8-a736-ed8a618689a3",
   "metadata": {},
   "outputs": [],
   "source": [
    "b=a.fromkeys([1,2,3,4,5,6,7,8,9,10],\"avaiable\")"
   ]
  },
  {
   "cell_type": "code",
   "execution_count": 18,
   "id": "32040883-b9ef-4402-aa86-eb76666b5878",
   "metadata": {},
   "outputs": [
    {
     "data": {
      "text/plain": [
       "{1: 'avaiable',\n",
       " 2: 'avaiable',\n",
       " 3: 'avaiable',\n",
       " 4: 'avaiable',\n",
       " 5: 'avaiable',\n",
       " 6: 'avaiable',\n",
       " 7: 'avaiable',\n",
       " 8: 'avaiable',\n",
       " 9: 'avaiable',\n",
       " 10: 'avaiable'}"
      ]
     },
     "execution_count": 18,
     "metadata": {},
     "output_type": "execute_result"
    }
   ],
   "source": [
    "b"
   ]
  },
  {
   "cell_type": "code",
   "execution_count": 19,
   "id": "e445ef78-e8a1-46e0-9cda-661f6d94b24f",
   "metadata": {},
   "outputs": [],
   "source": [
    "b[1]=\"krishna\""
   ]
  },
  {
   "cell_type": "code",
   "execution_count": 20,
   "id": "df131f07-78b1-433b-8736-bacd44c7a785",
   "metadata": {},
   "outputs": [
    {
     "data": {
      "text/plain": [
       "{1: 'krishna',\n",
       " 2: 'avaiable',\n",
       " 3: 'avaiable',\n",
       " 4: 'avaiable',\n",
       " 5: 'avaiable',\n",
       " 6: 'avaiable',\n",
       " 7: 'avaiable',\n",
       " 8: 'avaiable',\n",
       " 9: 'avaiable',\n",
       " 10: 'avaiable'}"
      ]
     },
     "execution_count": 20,
     "metadata": {},
     "output_type": "execute_result"
    }
   ],
   "source": [
    "b"
   ]
  },
  {
   "cell_type": "code",
   "execution_count": null,
   "id": "13d9e368-883d-46e5-8c21-7231f79d9185",
   "metadata": {},
   "outputs": [],
   "source": []
  }
 ],
 "metadata": {
  "kernelspec": {
   "display_name": "Python 3 (ipykernel)",
   "language": "python",
   "name": "python3"
  },
  "language_info": {
   "codemirror_mode": {
    "name": "ipython",
    "version": 3
   },
   "file_extension": ".py",
   "mimetype": "text/x-python",
   "name": "python",
   "nbconvert_exporter": "python",
   "pygments_lexer": "ipython3",
   "version": "3.11.5"
  }
 },
 "nbformat": 4,
 "nbformat_minor": 5
}
