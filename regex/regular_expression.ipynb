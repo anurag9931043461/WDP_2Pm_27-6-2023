{
 "cells": [
  {
   "cell_type": "code",
   "execution_count": 1,
   "id": "b22565b9-10b9-490d-afbe-4d0d55124ee2",
   "metadata": {},
   "outputs": [],
   "source": [
    "import re"
   ]
  },
  {
   "cell_type": "markdown",
   "id": "34f81393-8310-47c1-9496-ee8437381e38",
   "metadata": {},
   "source": [
    "findall,search,sub,split"
   ]
  },
  {
   "cell_type": "code",
   "execution_count": 2,
   "id": "cd799cb4-6831-4483-a0a2-8d0c87ed4b6e",
   "metadata": {},
   "outputs": [],
   "source": [
    "a=\"Krishna is an AI Trainer. Krishna is doing MCA.Krishna Located in Rohini sector 17\""
   ]
  },
  {
   "cell_type": "code",
   "execution_count": 3,
   "id": "f9a13363-c245-4902-a5ac-8eaf15918938",
   "metadata": {},
   "outputs": [
    {
     "data": {
      "text/plain": [
       "['Krishna', 'Krishna', 'Krishna']"
      ]
     },
     "execution_count": 3,
     "metadata": {},
     "output_type": "execute_result"
    }
   ],
   "source": [
    "re.findall(\"Krishna\",a)"
   ]
  },
  {
   "cell_type": "code",
   "execution_count": 5,
   "id": "3be9fc31-2610-4256-903d-5f1eba8beecc",
   "metadata": {},
   "outputs": [],
   "source": [
    "b=re.findall(\" \",a)"
   ]
  },
  {
   "cell_type": "code",
   "execution_count": 6,
   "id": "a520101b-ff63-44da-8ae5-59e1735b3430",
   "metadata": {},
   "outputs": [
    {
     "data": {
      "text/plain": [
       "13"
      ]
     },
     "execution_count": 6,
     "metadata": {},
     "output_type": "execute_result"
    }
   ],
   "source": [
    "len(b)"
   ]
  },
  {
   "cell_type": "code",
   "execution_count": 7,
   "id": "0af7ba82-4d6b-4789-b06d-bf65c9dba3dd",
   "metadata": {},
   "outputs": [
    {
     "data": {
      "text/plain": [
       "[' is', ' is']"
      ]
     },
     "execution_count": 7,
     "metadata": {},
     "output_type": "execute_result"
    }
   ],
   "source": [
    "re.findall(\" is\",a)"
   ]
  },
  {
   "cell_type": "code",
   "execution_count": 8,
   "id": "e27f9653-8667-46a1-bdb1-b31ea900fb03",
   "metadata": {},
   "outputs": [
    {
     "data": {
      "text/plain": [
       "['in', 'in', 'in', 'in']"
      ]
     },
     "execution_count": 8,
     "metadata": {},
     "output_type": "execute_result"
    }
   ],
   "source": [
    "re.findall(\"in\",a)"
   ]
  },
  {
   "cell_type": "code",
   "execution_count": 10,
   "id": "f89d9408-7036-4574-905b-357d9bfb0da9",
   "metadata": {},
   "outputs": [
    {
     "name": "stdout",
     "output_type": "stream",
     "text": [
      "['n', 'n', 'n', 'n', 'n', 'n', 'n', 'n']\n"
     ]
    }
   ],
   "source": [
    "cont=[]\n",
    "for i in a:\n",
    "    if i==\"n\":\n",
    "        cont.append(i)\n",
    "print(cont)"
   ]
  },
  {
   "cell_type": "markdown",
   "id": "e75cc915-3e3a-4d7e-ac48-41ae5e3ed017",
   "metadata": {},
   "source": [
    "# search"
   ]
  },
  {
   "cell_type": "code",
   "execution_count": 11,
   "id": "127c82d2-e85c-4259-8fa4-a2146391f096",
   "metadata": {},
   "outputs": [
    {
     "data": {
      "text/plain": [
       "<re.Match object; span=(0, 7), match='Krishna'>"
      ]
     },
     "execution_count": 11,
     "metadata": {},
     "output_type": "execute_result"
    }
   ],
   "source": [
    "re.search(\"Krishna\",a)"
   ]
  },
  {
   "cell_type": "markdown",
   "id": "e325e769-5e52-492c-9612-98c2f794fde8",
   "metadata": {},
   "source": [
    "# sub"
   ]
  },
  {
   "cell_type": "code",
   "execution_count": 18,
   "id": "fcc4faab-2971-48a0-a1f8-c74c81d274b2",
   "metadata": {},
   "outputs": [
    {
     "data": {
      "text/plain": [
       "'23214323.5435334234'"
      ]
     },
     "execution_count": 18,
     "metadata": {},
     "output_type": "execute_result"
    }
   ],
   "source": [
    "a=\"krishna23214323.54353krsfsd34234\"\n",
    "re.sub(\"[A-z]\",\"\",a)"
   ]
  },
  {
   "cell_type": "markdown",
   "id": "eede2fdb-d40c-4a73-9eb8-84a10b5e84f6",
   "metadata": {},
   "source": [
    "# split"
   ]
  },
  {
   "cell_type": "code",
   "execution_count": 20,
   "id": "a98f7b86-7859-4a24-bff7-faabc3cb727d",
   "metadata": {},
   "outputs": [
    {
     "data": {
      "text/plain": [
       "['Krishna',\n",
       " 'is',\n",
       " 'an',\n",
       " 'AI',\n",
       " 'Trainer.',\n",
       " 'Krishna',\n",
       " 'is',\n",
       " 'doing',\n",
       " 'MCA.Krishna',\n",
       " 'Located',\n",
       " 'in',\n",
       " 'Rohini',\n",
       " 'sector',\n",
       " '17']"
      ]
     },
     "execution_count": 20,
     "metadata": {},
     "output_type": "execute_result"
    }
   ],
   "source": [
    "a=\"Krishna is an AI Trainer. Krishna is doing MCA.Krishna Located in Rohini sector 17\"\n",
    "re.split(\" \",a)"
   ]
  },
  {
   "cell_type": "code",
   "execution_count": 31,
   "id": "0dea7381-9f3d-4912-96bd-a0fb8e830b95",
   "metadata": {},
   "outputs": [
    {
     "data": {
      "text/plain": [
       "['Krishna is an AI Trainer $ Krishna is doing MCA.Krishna Located in Rohini sector 17',\n",
       " '']"
      ]
     },
     "execution_count": 31,
     "metadata": {},
     "output_type": "execute_result"
    }
   ],
   "source": [
    "a=\"Krishna is an AI Trainer $ Krishna is doing MCA.Krishna Located in Rohini sector 17\"\n",
    "re.split(\"$\",a)"
   ]
  },
  {
   "cell_type": "code",
   "execution_count": null,
   "id": "084365ed-a76d-43b7-a8bd-8b7356a663dd",
   "metadata": {},
   "outputs": [],
   "source": []
  }
 ],
 "metadata": {
  "kernelspec": {
   "display_name": "Python 3 (ipykernel)",
   "language": "python",
   "name": "python3"
  },
  "language_info": {
   "codemirror_mode": {
    "name": "ipython",
    "version": 3
   },
   "file_extension": ".py",
   "mimetype": "text/x-python",
   "name": "python",
   "nbconvert_exporter": "python",
   "pygments_lexer": "ipython3",
   "version": "3.11.5"
  }
 },
 "nbformat": 4,
 "nbformat_minor": 5
}
