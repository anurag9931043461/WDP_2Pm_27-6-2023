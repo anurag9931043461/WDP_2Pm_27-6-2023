{
 "cells": [
  {
   "cell_type": "code",
   "execution_count": 7,
   "id": "6275f21f-e1d8-4df9-9f39-51d148f428a9",
   "metadata": {},
   "outputs": [
    {
     "name": "stdout",
     "output_type": "stream",
     "text": [
      "hello world\n",
      "Hello world\n",
      "Hello world\n"
     ]
    }
   ],
   "source": [
    "print(\"hello world\")\n",
    "if 10==10:\n",
    "    print(\"Hello world\")\n",
    "    print(\"Hello world\")"
   ]
  },
  {
   "cell_type": "code",
   "execution_count": 6,
   "id": "4945e70d-f121-4d20-b6b9-4e61bc371be0",
   "metadata": {},
   "outputs": [
    {
     "name": "stdout",
     "output_type": "stream",
     "text": [
      "hello world\n",
      "this is true\n",
      "Hello this is krishna\n"
     ]
    }
   ],
   "source": [
    "print(\"hello world\")\n",
    "if 10==10:\n",
    "    print(\"this is true\")\n",
    "    print(\"Hello this is krishna\")\n",
    "else:\n",
    "    print(\"bye\")"
   ]
  },
  {
   "cell_type": "code",
   "execution_count": 15,
   "id": "86bf10a4-915f-44e8-8987-5f1de7511621",
   "metadata": {},
   "outputs": [
    {
     "name": "stdout",
     "output_type": "stream",
     "text": [
      "hello world\n",
      "bye\n"
     ]
    }
   ],
   "source": [
    "print(\"hello world\")\n",
    "if 10!=10:\n",
    "    print(\"this is true\")\n",
    "    print(\"Hello this is krishna\")\n",
    "else:\n",
    "    print(\"bye\")"
   ]
  },
  {
   "cell_type": "code",
   "execution_count": 21,
   "id": "381646c8-e835-4e71-8ece-4232edc345c0",
   "metadata": {},
   "outputs": [
    {
     "name": "stdout",
     "output_type": "stream",
     "text": [
      "hello world\n",
      "bye\n"
     ]
    }
   ],
   "source": [
    "print(\"hello world\")\n",
    "if 10!=10:\n",
    "    print(\"this is true\")\n",
    "    print(\"Hello this is krishna\")\n",
    "else:\n",
    "    print(\"bye\")"
   ]
  },
  {
   "cell_type": "code",
   "execution_count": 22,
   "id": "b9ebeaf0-2805-47d9-8155-9893ba3d71ae",
   "metadata": {},
   "outputs": [],
   "source": [
    "if 10!=10:\n",
    "    print(\"this is true\")\n",
    "    print(\"Hello this is krishna\")\n",
    "# else:\n",
    "#     print(\"bye\")"
   ]
  },
  {
   "cell_type": "code",
   "execution_count": 23,
   "id": "35f12723-c4fe-4729-9b8d-e0673f01b81f",
   "metadata": {},
   "outputs": [
    {
     "name": "stdout",
     "output_type": "stream",
     "text": [
      "this is true\n",
      "Hello this is krishna\n"
     ]
    }
   ],
   "source": [
    "if 10==10:\n",
    "    print(\"this is true\")\n",
    "    print(\"Hello this is krishna\")\n",
    "# else:\n",
    "#     print(\"bye\")"
   ]
  },
  {
   "cell_type": "code",
   "execution_count": 24,
   "id": "b891144a-a42b-4e8d-b866-a8f6164244a4",
   "metadata": {},
   "outputs": [
    {
     "ename": "SyntaxError",
     "evalue": "invalid syntax (1474714733.py, line 1)",
     "output_type": "error",
     "traceback": [
      "\u001b[1;36m  Cell \u001b[1;32mIn[24], line 1\u001b[1;36m\u001b[0m\n\u001b[1;33m    else:\u001b[0m\n\u001b[1;37m    ^\u001b[0m\n\u001b[1;31mSyntaxError\u001b[0m\u001b[1;31m:\u001b[0m invalid syntax\n"
     ]
    }
   ],
   "source": [
    "else:\n",
    "    print(\"bye\")"
   ]
  },
  {
   "cell_type": "code",
   "execution_count": 25,
   "id": "89793ab2-8e6d-4c9a-898d-271de9faeeb6",
   "metadata": {},
   "outputs": [
    {
     "name": "stdout",
     "output_type": "stream",
     "text": [
      "this is true\n",
      "Hello this is krishna\n"
     ]
    }
   ],
   "source": [
    "if 10==10:\n",
    "    print(\"this is true\")\n",
    "    print(\"Hello this is krishna\")\n",
    "else:\n",
    "    print(\"bye\")\n",
    "    print(\"hello\")"
   ]
  },
  {
   "cell_type": "code",
   "execution_count": 26,
   "id": "ff6d4a10-f61c-4af6-bc35-d37b1c29b023",
   "metadata": {},
   "outputs": [
    {
     "name": "stdout",
     "output_type": "stream",
     "text": [
      "bye\n",
      "hello\n"
     ]
    }
   ],
   "source": [
    "if 10!=10:\n",
    "    print(\"this is true\")\n",
    "    print(\"Hello this is krishna\")\n",
    "else:\n",
    "    print(\"bye\")\n",
    "    print(\"hello\")"
   ]
  },
  {
   "cell_type": "code",
   "execution_count": 27,
   "id": "cd433617-932d-48f7-8cba-9ed0c5fc42fe",
   "metadata": {},
   "outputs": [
    {
     "name": "stdin",
     "output_type": "stream",
     "text": [
      "Which path you want to choose:  a\n"
     ]
    },
    {
     "name": "stdout",
     "output_type": "stream",
     "text": [
      "a\n"
     ]
    }
   ],
   "source": [
    "a=input(\"Which path you want to choose: \")\n",
    "print(a)"
   ]
  },
  {
   "cell_type": "code",
   "execution_count": 28,
   "id": "d03a1736-e31c-4bc4-8a51-9944d1c9c996",
   "metadata": {},
   "outputs": [
    {
     "name": "stdin",
     "output_type": "stream",
     "text": [
      "Which path you want to choose:  b\n"
     ]
    },
    {
     "name": "stdout",
     "output_type": "stream",
     "text": [
      "b\n"
     ]
    }
   ],
   "source": [
    "a=input(\"Which path you want to choose: \")\n",
    "print(a)"
   ]
  },
  {
   "cell_type": "code",
   "execution_count": 31,
   "id": "b56f1ef4-765d-4a55-b7b9-5d8eaad78b8f",
   "metadata": {},
   "outputs": [
    {
     "name": "stdin",
     "output_type": "stream",
     "text": [
      "Which path you want to choose:  a\n"
     ]
    },
    {
     "name": "stdout",
     "output_type": "stream",
     "text": [
      "Varanasi\n"
     ]
    }
   ],
   "source": [
    "x=input(\"Which path you want to choose: \")\n",
    "\n",
    "if x==\"a\":\n",
    "    print(\"Varanasi\")\n",
    "else:\n",
    "    print(\"Kanayakumari\")"
   ]
  },
  {
   "cell_type": "code",
   "execution_count": 32,
   "id": "4b33b573-0aba-462f-893c-9bd1242b2c71",
   "metadata": {},
   "outputs": [
    {
     "name": "stdin",
     "output_type": "stream",
     "text": [
      "Which path you want to choose:  b\n"
     ]
    },
    {
     "name": "stdout",
     "output_type": "stream",
     "text": [
      "Kanayakumari\n"
     ]
    }
   ],
   "source": [
    "x=input(\"Which path you want to choose: \")\n",
    "\n",
    "if x==\"a\":\n",
    "    print(\"Varanasi\")\n",
    "else:\n",
    "    print(\"Kanayakumari\")"
   ]
  },
  {
   "cell_type": "code",
   "execution_count": 33,
   "id": "c6c05f97-e2d2-4883-86d2-e9a0064aecf6",
   "metadata": {},
   "outputs": [
    {
     "name": "stdin",
     "output_type": "stream",
     "text": [
      "Enter 1st number: 10\n",
      "Enter 2nd numbers:  20\n"
     ]
    }
   ],
   "source": [
    "num1=int(input(\"Enter 1st number:\"))\n",
    "num2=int(input(\"Enter 2nd numbers: \"))"
   ]
  },
  {
   "cell_type": "code",
   "execution_count": 37,
   "id": "fcaedb62-a275-4976-9c4e-5b56566dd33e",
   "metadata": {},
   "outputs": [
    {
     "name": "stdin",
     "output_type": "stream",
     "text": [
      "Enter 1st number: 10\n",
      "Enter 2nd numbers:  20\n"
     ]
    },
    {
     "name": "stdout",
     "output_type": "stream",
     "text": [
      "30\n"
     ]
    }
   ],
   "source": [
    "num1=int(input(\"Enter 1st number:\"))\n",
    "num2=int(input(\"Enter 2nd numbers: \"))\n",
    "print(num1+num2)"
   ]
  },
  {
   "cell_type": "code",
   "execution_count": 38,
   "id": "ca9c8520-7522-40a9-b39f-61bccf244441",
   "metadata": {},
   "outputs": [
    {
     "name": "stdin",
     "output_type": "stream",
     "text": [
      "Enter 1st number: 10\n",
      "Enter 2nd numbers:  20\n"
     ]
    },
    {
     "name": "stdout",
     "output_type": "stream",
     "text": [
      "30\n",
      "-10\n"
     ]
    }
   ],
   "source": [
    "num1=int(input(\"Enter 1st number:\"))\n",
    "num2=int(input(\"Enter 2nd numbers: \"))\n",
    "print(num1+num2)\n",
    "print(num1-num2)"
   ]
  },
  {
   "cell_type": "code",
   "execution_count": 39,
   "id": "52045802-81ad-47a5-b7f4-c49080e996e6",
   "metadata": {},
   "outputs": [
    {
     "name": "stdin",
     "output_type": "stream",
     "text": [
      "Enter 1st number: 10\n",
      "Enter 2nd numbers:  20\n",
      "Enter your operation +,-: +\n"
     ]
    },
    {
     "name": "stdout",
     "output_type": "stream",
     "text": [
      "30\n"
     ]
    }
   ],
   "source": [
    "num1=int(input(\"Enter 1st number:\"))\n",
    "num2=int(input(\"Enter 2nd numbers: \"))\n",
    "option=input(\"Enter your operation +,-:\")\n",
    "\n",
    "if option==\"+\":\n",
    "    print(num1+num2)\n",
    "else:\n",
    "    print(num1-num2)"
   ]
  },
  {
   "cell_type": "code",
   "execution_count": 40,
   "id": "8b38242e-eb2b-4602-bdd8-f70da2b8ddd9",
   "metadata": {},
   "outputs": [
    {
     "name": "stdin",
     "output_type": "stream",
     "text": [
      "Enter 1st number: 10\n",
      "Enter 2nd numbers:  20\n",
      "Enter your operation +,-: -\n"
     ]
    },
    {
     "name": "stdout",
     "output_type": "stream",
     "text": [
      "-10\n"
     ]
    }
   ],
   "source": [
    "num1=int(input(\"Enter 1st number:\"))\n",
    "num2=int(input(\"Enter 2nd numbers: \"))\n",
    "option=input(\"Enter your operation +,-:\")\n",
    "\n",
    "if option==\"+\":\n",
    "    print(num1+num2)\n",
    "else:\n",
    "    print(num1-num2)"
   ]
  },
  {
   "cell_type": "code",
   "execution_count": 41,
   "id": "212c939e-cbe8-4dfb-97b5-24fef465475b",
   "metadata": {},
   "outputs": [
    {
     "name": "stdin",
     "output_type": "stream",
     "text": [
      "Enter 1st number: 10\n",
      "Enter 2nd numbers:  20\n",
      "Enter your operation +,-: ,jhnbdkfbalksjdfbjkahdsflkjahskjfdh\n"
     ]
    },
    {
     "name": "stdout",
     "output_type": "stream",
     "text": [
      "-10\n"
     ]
    }
   ],
   "source": [
    "num1=int(input(\"Enter 1st number:\"))\n",
    "num2=int(input(\"Enter 2nd numbers: \"))\n",
    "option=input(\"Enter your operation +,-:\")\n",
    "\n",
    "if option==\"+\":\n",
    "    print(num1+num2)\n",
    "else:\n",
    "    print(num1-num2)"
   ]
  },
  {
   "cell_type": "code",
   "execution_count": 43,
   "id": "473b9e9e-cfce-4ab9-b38b-4e5d0add4a9a",
   "metadata": {},
   "outputs": [
    {
     "name": "stdin",
     "output_type": "stream",
     "text": [
      "Enter 1st number: 10\n",
      "Enter 2nd numbers:  20\n",
      "Enter your operation +,-: dliafkhsfkjhalskdjfh\n"
     ]
    }
   ],
   "source": [
    "num1=int(input(\"Enter 1st number:\"))\n",
    "num2=int(input(\"Enter 2nd numbers: \"))\n",
    "option=input(\"Enter your operation +,-:\")\n",
    "\n",
    "if option==\"+\":\n",
    "    print(num1+num2)\n",
    "elif option==\"-\":\n",
    "    print(num1-num2)\n",
    "\n",
    "    "
   ]
  },
  {
   "cell_type": "code",
   "execution_count": 44,
   "id": "9f970bb0-f2b4-4888-bd0c-80a41ae8df9a",
   "metadata": {},
   "outputs": [
    {
     "name": "stdin",
     "output_type": "stream",
     "text": [
      "Enter 1st number: 10\n",
      "Enter 2nd numbers:  20\n",
      "Enter your operation +,-: -\n"
     ]
    },
    {
     "name": "stdout",
     "output_type": "stream",
     "text": [
      "-10\n"
     ]
    }
   ],
   "source": [
    "num1=int(input(\"Enter 1st number:\"))\n",
    "num2=int(input(\"Enter 2nd numbers: \"))\n",
    "option=input(\"Enter your operation +,-:\")\n",
    "\n",
    "if option==\"+\":\n",
    "    print(num1+num2)\n",
    "elif option==\"-\":\n",
    "    print(num1-num2)"
   ]
  },
  {
   "cell_type": "code",
   "execution_count": 45,
   "id": "0c2c719c-7ce7-4d50-8be2-0037dcda5a61",
   "metadata": {},
   "outputs": [
    {
     "name": "stdin",
     "output_type": "stream",
     "text": [
      "Enter 1st number: 10\n",
      "Enter 2nd numbers:  20\n",
      "Enter your operation +,-: +\n"
     ]
    },
    {
     "name": "stdout",
     "output_type": "stream",
     "text": [
      "30\n"
     ]
    }
   ],
   "source": [
    "num1=int(input(\"Enter 1st number:\"))\n",
    "num2=int(input(\"Enter 2nd numbers: \"))\n",
    "option=input(\"Enter your operation +,-:\")\n",
    "\n",
    "if option==\"+\":\n",
    "    print(num1+num2)\n",
    "elif option==\"-\":\n",
    "    print(num1-num2)"
   ]
  },
  {
   "cell_type": "code",
   "execution_count": 8,
   "id": "ff31b1b5-5c6e-496b-b819-45e044cf0c01",
   "metadata": {},
   "outputs": [
    {
     "name": "stdin",
     "output_type": "stream",
     "text": [
      "Enter 1st number: 20\n",
      "Enter 2nd numbers:  10\n",
      "Enter your operation +,-,/,*: +\n"
     ]
    },
    {
     "name": "stdout",
     "output_type": "stream",
     "text": [
      "30\n"
     ]
    }
   ],
   "source": [
    "num1=int(input(\"Enter 1st number:\"))\n",
    "num2=int(input(\"Enter 2nd numbers: \"))\n",
    "option=input(\"Enter your operation +,-,/,*:\")\n",
    "\n",
    "if option==\"+\":\n",
    "    print(num1+num2)\n",
    "elif option==\"-\":\n",
    "    print(num1-num2)\n",
    "elif option==\"/\":\n",
    "    print(num1/num2)\n",
    "elif option==\"*\":\n",
    "    print(num1*num2)\n",
    "    "
   ]
  },
  {
   "cell_type": "code",
   "execution_count": 9,
   "id": "ec74357a-59bb-4be9-a89b-718a05ee73bd",
   "metadata": {},
   "outputs": [
    {
     "name": "stdin",
     "output_type": "stream",
     "text": [
      "Enter 1st number: 20\n",
      "Enter 2nd numbers:  10\n",
      "Enter your operation +,-,/,*: krishna\n"
     ]
    }
   ],
   "source": [
    "num1=int(input(\"Enter 1st number:\"))\n",
    "num2=int(input(\"Enter 2nd numbers: \"))\n",
    "option=input(\"Enter your operation +,-,/,*:\")\n",
    "\n",
    "if option==\"+\":\n",
    "    print(num1+num2)\n",
    "elif option==\"-\":\n",
    "    print(num1-num2)\n",
    "elif option==\"/\":\n",
    "    print(num1/num2)\n",
    "elif option==\"*\":\n",
    "    print(num1*num2)"
   ]
  },
  {
   "cell_type": "code",
   "execution_count": 10,
   "id": "bdd0dd1b-09c6-43c3-b7ac-486258bbe136",
   "metadata": {},
   "outputs": [
    {
     "name": "stdin",
     "output_type": "stream",
     "text": [
      "Enter 1st number: 20\n",
      "Enter 2nd numbers:  10\n",
      "Enter your operation +,-,/,*: krishna\n"
     ]
    },
    {
     "name": "stdout",
     "output_type": "stream",
     "text": [
      "Kindly choose a valid option\n"
     ]
    }
   ],
   "source": [
    "num1=int(input(\"Enter 1st number:\"))\n",
    "num2=int(input(\"Enter 2nd numbers: \"))\n",
    "option=input(\"Enter your operation +,-,/,*:\")\n",
    "\n",
    "if option==\"+\":\n",
    "    print(num1+num2)\n",
    "elif option==\"-\":\n",
    "    print(num1-num2)\n",
    "elif option==\"/\":\n",
    "    print(num1/num2)\n",
    "elif option==\"*\":\n",
    "    print(num1*num2)\n",
    "else:\n",
    "    print(\"Kindly choose a valid option\")"
   ]
  },
  {
   "cell_type": "code",
   "execution_count": 11,
   "id": "6f2bc8b5-b05f-4240-8cba-e1d395b00059",
   "metadata": {},
   "outputs": [],
   "source": [
    "# nested if else, nested if elif else"
   ]
  },
  {
   "cell_type": "code",
   "execution_count": 12,
   "id": "ddc7b702-c1fd-4851-a491-081bfb4df1d9",
   "metadata": {},
   "outputs": [
    {
     "name": "stdin",
     "output_type": "stream",
     "text": [
      "Enter a number : 10\n"
     ]
    },
    {
     "name": "stdout",
     "output_type": "stream",
     "text": [
      "a is positive number\n"
     ]
    }
   ],
   "source": [
    "a=int(input(\"Enter a number :\"))\n",
    "\n",
    "if a>=0:\n",
    "    print(\"a is positive number\")\n",
    "else:\n",
    "    print(\"a is a negative number\")"
   ]
  },
  {
   "cell_type": "code",
   "execution_count": 13,
   "id": "e9260d1c-84a2-4a03-9f65-66f0c21b09ab",
   "metadata": {},
   "outputs": [
    {
     "name": "stdin",
     "output_type": "stream",
     "text": [
      "Enter a number : -10\n"
     ]
    },
    {
     "name": "stdout",
     "output_type": "stream",
     "text": [
      "a is a negative number\n"
     ]
    }
   ],
   "source": [
    "a=int(input(\"Enter a number :\"))\n",
    "\n",
    "if a>=0:\n",
    "    print(\"a is positive number\")\n",
    "else:\n",
    "    print(\"a is a negative number\")"
   ]
  },
  {
   "cell_type": "code",
   "execution_count": 14,
   "id": "4d4a9f47-e30d-4403-afa7-426f1339ed26",
   "metadata": {},
   "outputs": [
    {
     "name": "stdin",
     "output_type": "stream",
     "text": [
      "Enter a number : 11\n"
     ]
    },
    {
     "name": "stdout",
     "output_type": "stream",
     "text": [
      "a is positive number\n",
      "a is odd number\n"
     ]
    }
   ],
   "source": [
    "a=int(input(\"Enter a number :\"))\n",
    "\n",
    "if a>=0:\n",
    "    print(\"a is positive number\")\n",
    "    if a%2==0:\n",
    "        print(\"a is even number\")\n",
    "    else:\n",
    "        print(\"a is odd number\")\n",
    "else:\n",
    "    print(\"a is a negative number\")"
   ]
  },
  {
   "cell_type": "code",
   "execution_count": 15,
   "id": "6e6df07d-0b79-422f-b180-9774ef86605c",
   "metadata": {},
   "outputs": [
    {
     "name": "stdin",
     "output_type": "stream",
     "text": [
      "Enter a number : 10\n"
     ]
    },
    {
     "name": "stdout",
     "output_type": "stream",
     "text": [
      "a is positive number\n",
      "a is even number\n"
     ]
    }
   ],
   "source": [
    "a=int(input(\"Enter a number :\"))\n",
    "\n",
    "if a>=0:\n",
    "    print(\"a is positive number\")\n",
    "    if a%2==0:\n",
    "        print(\"a is even number\")\n",
    "    else:\n",
    "        print(\"a is odd number\")\n",
    "else:\n",
    "    print(\"a is a negative number\") "
   ]
  },
  {
   "cell_type": "code",
   "execution_count": 16,
   "id": "218d497e-e4f2-4190-8a4e-bad5822cddb1",
   "metadata": {},
   "outputs": [],
   "source": [
    "a=\"this is krishna and I am 27\""
   ]
  },
  {
   "cell_type": "code",
   "execution_count": 17,
   "id": "74c95de6-427e-43a1-bc54-86d05064c35a",
   "metadata": {},
   "outputs": [
    {
     "name": "stdout",
     "output_type": "stream",
     "text": [
      "this is krishna and I am 27\n"
     ]
    }
   ],
   "source": [
    "print(a)"
   ]
  },
  {
   "cell_type": "code",
   "execution_count": 18,
   "id": "bc672bad-27a6-4e47-99a5-9d7a30e7548e",
   "metadata": {},
   "outputs": [],
   "source": [
    "b=\"this65654 fo5345od is324 not go342342342od\""
   ]
  },
  {
   "cell_type": "code",
   "execution_count": 19,
   "id": "96dbaeff-18b9-4187-814e-eb586e0b34a6",
   "metadata": {},
   "outputs": [],
   "source": [
    "import re"
   ]
  },
  {
   "cell_type": "code",
   "execution_count": 21,
   "id": "0148caa9-2540-4187-8d85-332457e030f6",
   "metadata": {},
   "outputs": [
    {
     "data": {
      "text/plain": [
       "'this food is not good'"
      ]
     },
     "execution_count": 21,
     "metadata": {},
     "output_type": "execute_result"
    }
   ],
   "source": [
    "re.sub(\"[^a-z ]\",\"\",b)"
   ]
  },
  {
   "cell_type": "code",
   "execution_count": 22,
   "id": "c23cd1b4-72a8-4c0e-9446-cf45d54531bc",
   "metadata": {},
   "outputs": [],
   "source": [
    "a=\"this is krishna and I am 27\""
   ]
  },
  {
   "cell_type": "code",
   "execution_count": 26,
   "id": "5e93b70c-8b7b-4cc8-83df-5896eb53794c",
   "metadata": {},
   "outputs": [
    {
     "name": "stdin",
     "output_type": "stream",
     "text": [
      "Enter your name: rita\n",
      "Enter your age: 34\n"
     ]
    }
   ],
   "source": [
    "name=input(\"Enter your name:\")\n",
    "age=input(\"Enter your age:\")"
   ]
  },
  {
   "cell_type": "code",
   "execution_count": 27,
   "id": "827b07d6-0244-4644-a1c6-9a1fc64c0fff",
   "metadata": {},
   "outputs": [
    {
     "data": {
      "text/plain": [
       "'this is rita and I am 34'"
      ]
     },
     "execution_count": 27,
     "metadata": {},
     "output_type": "execute_result"
    }
   ],
   "source": [
    "\"this is {} and I am {}\".format(name,age)"
   ]
  },
  {
   "cell_type": "code",
   "execution_count": 28,
   "id": "ebc68f4b-2883-4166-b4f7-3d5c68196ca9",
   "metadata": {},
   "outputs": [],
   "source": [
    "# f-string"
   ]
  },
  {
   "cell_type": "code",
   "execution_count": 29,
   "id": "7c58b636-7258-45bf-a513-ee71fc576ff7",
   "metadata": {},
   "outputs": [
    {
     "name": "stdin",
     "output_type": "stream",
     "text": [
      "Enter your name: krishna\n",
      "Enter your age: 27\n"
     ]
    },
    {
     "name": "stdout",
     "output_type": "stream",
     "text": [
      "this is krishna and I am 27\n"
     ]
    }
   ],
   "source": [
    "name=input(\"Enter your name:\")\n",
    "age=input(\"Enter your age:\")\n",
    "print(f\"this is {name} and I am {age}\")"
   ]
  },
  {
   "cell_type": "code",
   "execution_count": 30,
   "id": "7879876c-ed63-427a-9eb2-23494d6bc11b",
   "metadata": {},
   "outputs": [
    {
     "name": "stdin",
     "output_type": "stream",
     "text": [
      "Enter your name: Vicky\n",
      "Enter your age: 21\n"
     ]
    },
    {
     "name": "stdout",
     "output_type": "stream",
     "text": [
      "this is Vicky and I am 21\n"
     ]
    }
   ],
   "source": [
    "name=input(\"Enter your name:\")\n",
    "age=input(\"Enter your age:\")\n",
    "print(F\"this is {name} and I am {age}\")"
   ]
  },
  {
   "cell_type": "code",
   "execution_count": 39,
   "id": "146ea391-acde-486c-a754-2db83560bec7",
   "metadata": {},
   "outputs": [
    {
     "name": "stdin",
     "output_type": "stream",
     "text": [
      "Enter a number: krishna\n"
     ]
    },
    {
     "ename": "ValueError",
     "evalue": "invalid literal for int() with base 10: 'krishna'",
     "output_type": "error",
     "traceback": [
      "\u001b[1;31m---------------------------------------------------------------------------\u001b[0m",
      "\u001b[1;31mValueError\u001b[0m                                Traceback (most recent call last)",
      "Cell \u001b[1;32mIn[39], line 1\u001b[0m\n\u001b[1;32m----> 1\u001b[0m a\u001b[38;5;241m=\u001b[39m\u001b[38;5;28;43mint\u001b[39;49m\u001b[43m(\u001b[49m\u001b[38;5;28;43minput\u001b[39;49m\u001b[43m(\u001b[49m\u001b[38;5;124;43m\"\u001b[39;49m\u001b[38;5;124;43mEnter a number:\u001b[39;49m\u001b[38;5;124;43m\"\u001b[39;49m\u001b[43m)\u001b[49m\u001b[43m)\u001b[49m\n\u001b[0;32m      2\u001b[0m \u001b[38;5;28mprint\u001b[39m(a\u001b[38;5;241m/\u001b[39m\u001b[38;5;241m0\u001b[39m)\n",
      "\u001b[1;31mValueError\u001b[0m: invalid literal for int() with base 10: 'krishna'"
     ]
    }
   ],
   "source": [
    "a=int(input(\"Enter a number:\"))\n",
    "print(a/0)"
   ]
  },
  {
   "cell_type": "code",
   "execution_count": 40,
   "id": "70cf7806-c9ed-44ec-b950-1cf5e27e3569",
   "metadata": {},
   "outputs": [
    {
     "name": "stdin",
     "output_type": "stream",
     "text": [
      "Enter a number : 11\n"
     ]
    },
    {
     "name": "stdout",
     "output_type": "stream",
     "text": [
      "11 is positive number\n",
      "11 is odd number\n"
     ]
    }
   ],
   "source": [
    "a=int(input(\"Enter a number :\"))\n",
    "\n",
    "if a>=0:\n",
    "    print(F\"{a} is positive number\")\n",
    "    if a%2==0:\n",
    "        print(f\"{a} is even number\")\n",
    "    else:\n",
    "        print(\"{} is odd number\".format(a))\n",
    "else:\n",
    "    print(\"{} is a negative number\".format(a)) "
   ]
  },
  {
   "cell_type": "code",
   "execution_count": 41,
   "id": "a5fe5bcf-e8e9-46f2-a95d-83b0b28a6e86",
   "metadata": {},
   "outputs": [
    {
     "name": "stdin",
     "output_type": "stream",
     "text": [
      "Enter a number : -11\n"
     ]
    },
    {
     "name": "stdout",
     "output_type": "stream",
     "text": [
      "-11 is a negative number\n"
     ]
    }
   ],
   "source": [
    "a=int(input(\"Enter a number :\"))\n",
    "\n",
    "if a>=0:\n",
    "    print(F\"{a} is positive number\")\n",
    "    if a%2==0:\n",
    "        print(f\"{a} is even number\")\n",
    "    else:\n",
    "        print(\"{} is odd number\".format(a))\n",
    "else:\n",
    "    print(\"{} is a negative number\".format(a)) \n",
    "    "
   ]
  },
  {
   "cell_type": "code",
   "execution_count": 45,
   "id": "99be14e4-095c-4429-bf09-cf05e96577c7",
   "metadata": {},
   "outputs": [
    {
     "name": "stdin",
     "output_type": "stream",
     "text": [
      "Enter a number : -10\n"
     ]
    },
    {
     "name": "stdout",
     "output_type": "stream",
     "text": [
      "-10 is a negative number\n",
      "-10\n"
     ]
    }
   ],
   "source": [
    "a=int(input(\"Enter a number :\"))\n",
    "\n",
    "if a>=0:\n",
    "    print(F\"{a} is positive number\")\n",
    "    if a%2==0:\n",
    "        print(f\"{a} is even number\")\n",
    "    else:\n",
    "        print(\"{} is odd number\".format(a))\n",
    "else:\n",
    "    print(\"{} is a negative number\".format(a)) \n",
    "    if a>-10:\n",
    "        print(abs(a))\n",
    "    else:\n",
    "        print(a)"
   ]
  },
  {
   "cell_type": "code",
   "execution_count": 46,
   "id": "53d8c006-0722-4921-a128-48e8f3e449a2",
   "metadata": {},
   "outputs": [
    {
     "name": "stdin",
     "output_type": "stream",
     "text": [
      "Enter a number : -9\n"
     ]
    },
    {
     "name": "stdout",
     "output_type": "stream",
     "text": [
      "-9 is a negative number\n",
      "9\n"
     ]
    }
   ],
   "source": [
    "a=int(input(\"Enter a number :\"))\n",
    "\n",
    "if a>=0:\n",
    "    print(F\"{a} is positive number\")\n",
    "    if a%2==0:\n",
    "        print(f\"{a} is even number\")\n",
    "        \n",
    "    else:\n",
    "        print(\"{} is odd number\".format(a))\n",
    "        \n",
    "else:\n",
    "    print(\"{} is a negative number\".format(a)) \n",
    "    if a>-10:\n",
    "        print(abs(a))\n",
    "    else:\n",
    "        print(a)"
   ]
  },
  {
   "cell_type": "markdown",
   "id": "7911d5da-0d13-447a-842c-240881ac5871",
   "metadata": {},
   "source": [
    "# nested if elif else"
   ]
  },
  {
   "cell_type": "code",
   "execution_count": 8,
   "id": "dbf04f4d-8fc4-4ffd-939f-2435607cab6d",
   "metadata": {},
   "outputs": [
    {
     "name": "stdin",
     "output_type": "stream",
     "text": [
      "Enter your age: 4\n"
     ]
    }
   ],
   "source": [
    "user=int(input(\"Enter your age:\"))"
   ]
  },
  {
   "cell_type": "code",
   "execution_count": 9,
   "id": "cb4c7ab4-7518-4cdf-a0cb-b02132a3b526",
   "metadata": {},
   "outputs": [
    {
     "name": "stdout",
     "output_type": "stream",
     "text": [
      "I will give you chocolate\n"
     ]
    }
   ],
   "source": [
    "if user>=0 and user<=5:\n",
    "    print(\"I will give you chocolate\")"
   ]
  },
  {
   "cell_type": "code",
   "execution_count": null,
   "id": "12074fe2-ea2d-4c9e-aef8-c7443bcb5774",
   "metadata": {},
   "outputs": [],
   "source": []
  },
  {
   "cell_type": "code",
   "execution_count": 13,
   "id": "48eaf544-1a09-4019-86cc-930bcb03266a",
   "metadata": {},
   "outputs": [
    {
     "name": "stdin",
     "output_type": "stream",
     "text": [
      "Enter your age: 19\n"
     ]
    }
   ],
   "source": [
    "user=int(input(\"Enter your age:\"))\n",
    "if user>=0 and user<=5:\n",
    "    print(\"I will give you chocolate\")\n",
    "elif user>5 and user<=18:\n",
    "    print(\"I will give you guitar\")"
   ]
  },
  {
   "cell_type": "code",
   "execution_count": 16,
   "id": "6c39223b-821e-4366-809f-1b575b3f685b",
   "metadata": {},
   "outputs": [
    {
     "name": "stdin",
     "output_type": "stream",
     "text": [
      "Enter your age: 1\n"
     ]
    },
    {
     "name": "stdout",
     "output_type": "stream",
     "text": [
      "I will give you chocolate\n"
     ]
    }
   ],
   "source": [
    "user=int(input(\"Enter your age:\"))\n",
    "if user>=0 and user<=5:\n",
    "    print(\"I will give you chocolate\")\n",
    "elif user>5 and user<=18:\n",
    "    print(\"I will give you guitar\")\n",
    "elif user>18:\n",
    "    print(\"I will give you moter cycle\")"
   ]
  },
  {
   "cell_type": "code",
   "execution_count": 18,
   "id": "2201074e-188d-44fc-8b87-d8599d383a40",
   "metadata": {},
   "outputs": [
    {
     "name": "stdin",
     "output_type": "stream",
     "text": [
      "Enter your age: 200\n"
     ]
    }
   ],
   "source": [
    "user=int(input(\"Enter your age:\"))\n",
    "if user>=0 and user<=5:\n",
    "    print(\"I will give you chocolate\")\n",
    "elif user>5 and user<=18:\n",
    "    print(\"I will give you guitar\")\n",
    "elif user>18 and user<=100:\n",
    "    print(\"I will give you moter cycle\")\n",
    "    "
   ]
  },
  {
   "cell_type": "code",
   "execution_count": 19,
   "id": "2bb8a222-9e07-4756-93ab-f8954426cd2f",
   "metadata": {},
   "outputs": [
    {
     "name": "stdin",
     "output_type": "stream",
     "text": [
      "Enter your age: 200\n"
     ]
    },
    {
     "name": "stdout",
     "output_type": "stream",
     "text": [
      "go to hell\n"
     ]
    }
   ],
   "source": [
    "user=int(input(\"Enter your age:\"))\n",
    "if user>=0 and user<=5:\n",
    "    print(\"I will give you chocolate\")\n",
    "elif user>5 and user<=18:\n",
    "    print(\"I will give you guitar\")\n",
    "elif user>18 and user<=100:\n",
    "    print(\"I will give you moter cycle\")\n",
    "else:\n",
    "    print(\"go to hell\")"
   ]
  },
  {
   "cell_type": "code",
   "execution_count": 20,
   "id": "8dc4442f-a532-4d5d-8603-1d1ef89fcf3b",
   "metadata": {},
   "outputs": [
    {
     "name": "stdin",
     "output_type": "stream",
     "text": [
      "Enter your age: -200\n"
     ]
    },
    {
     "name": "stdout",
     "output_type": "stream",
     "text": [
      "go to hell\n"
     ]
    }
   ],
   "source": [
    "user=int(input(\"Enter your age:\"))\n",
    "if user>=0 and user<=5:\n",
    "    print(\"I will give you chocolate\")\n",
    "elif user>5 and user<=18:\n",
    "    print(\"I will give you guitar\")\n",
    "elif user>18 and user<=100:\n",
    "    print(\"I will give you moter cycle\")\n",
    "else:\n",
    "    print(\"go to hell\")"
   ]
  },
  {
   "cell_type": "code",
   "execution_count": 24,
   "id": "33eb3340-a799-4460-b6bb-34278ec9746b",
   "metadata": {},
   "outputs": [
    {
     "name": "stdin",
     "output_type": "stream",
     "text": [
      "Enter your age: 16\n"
     ]
    },
    {
     "name": "stdout",
     "output_type": "stream",
     "text": [
      "I will give you laptop\n"
     ]
    }
   ],
   "source": [
    "user=int(input(\"Enter your age:\"))\n",
    "if user>=0 and user<=5:\n",
    "    print(\"I will give you chocolate\")\n",
    "elif user>5 and user<=18:\n",
    "    if user>5 and user<10:\n",
    "        print(\"I will give you cycle\")\n",
    "    elif user>=10 and user<=15:\n",
    "        print(\"I will give you keypad phone\")\n",
    "    elif user>15 and user<=18:\n",
    "        print(\"I will give you laptop\")\n",
    "elif user>18 and user<=100:\n",
    "    print(\"I will give you moter cycle\")\n",
    "else:\n",
    "    print(\"go to hell\")"
   ]
  },
  {
   "cell_type": "code",
   "execution_count": 26,
   "id": "3b49ab9e-6716-4ec5-bbf8-945560468dd1",
   "metadata": {},
   "outputs": [
    {
     "name": "stdin",
     "output_type": "stream",
     "text": [
      "Enter your age: 40\n"
     ]
    },
    {
     "name": "stdout",
     "output_type": "stream",
     "text": [
      "I will give you scarpio\n"
     ]
    }
   ],
   "source": [
    "user=int(input(\"Enter your age:\"))\n",
    "if user>=0 and user<=5:\n",
    "    print(\"I will give you chocolate\")\n",
    "elif user>5 and user<=18:\n",
    "    if user>5 and user<10:\n",
    "        print(\"I will give you cycle\")\n",
    "    elif user>=10 and user<=15:\n",
    "        print(\"I will give you keypad phone\")\n",
    "    else:\n",
    "        print(\"I will give you laptop\")\n",
    "elif user>18 and user<=100:\n",
    "    if user>18 and user<35:\n",
    "        print(\"I will give you h2r\")\n",
    "    else:\n",
    "        print(\"I will give you scarpio\")\n",
    "else:\n",
    "    print(\"go to hell\")"
   ]
  },
  {
   "cell_type": "code",
   "execution_count": 27,
   "id": "1e1adf03-1280-4592-8ccc-03a4b08534c6",
   "metadata": {},
   "outputs": [],
   "source": [
    "# ternary operator"
   ]
  },
  {
   "cell_type": "code",
   "execution_count": 28,
   "id": "2dcf611d-3254-4bdf-8622-edac3df35a3e",
   "metadata": {},
   "outputs": [
    {
     "name": "stdin",
     "output_type": "stream",
     "text": [
      "Enter your age: 5\n"
     ]
    },
    {
     "name": "stdout",
     "output_type": "stream",
     "text": [
      "I will give you chocolate\n"
     ]
    }
   ],
   "source": [
    "user=int(input(\"Enter your age:\"))\n",
    "if user>=0 and user<=5:\n",
    "    print(\"I will give you chocolate\")\n",
    "else:\n",
    "    print(\"I will give you guitar\")"
   ]
  },
  {
   "cell_type": "code",
   "execution_count": 31,
   "id": "11251a2b-7ec6-4bb3-a063-e5e0fd9b0836",
   "metadata": {},
   "outputs": [
    {
     "name": "stdin",
     "output_type": "stream",
     "text": [
      "Enter your age: 20\n"
     ]
    },
    {
     "name": "stdout",
     "output_type": "stream",
     "text": [
      "I will give you guitar\n"
     ]
    }
   ],
   "source": [
    "user=int(input(\"Enter your age:\"))\n",
    "print(\"I will give you chocolate\") if user>=0 and user<=5 else print(\"I will give you guitar\")"
   ]
  },
  {
   "cell_type": "code",
   "execution_count": 32,
   "id": "ac6a1b83-5437-43ea-ba8b-52aa4864117b",
   "metadata": {},
   "outputs": [
    {
     "name": "stdin",
     "output_type": "stream",
     "text": [
      "Enter your age: 5\n"
     ]
    },
    {
     "name": "stdout",
     "output_type": "stream",
     "text": [
      "go to hell\n"
     ]
    }
   ],
   "source": [
    "user=int(input(\"Enter your age:\"))\n",
    "if user>18 and user<=100:\n",
    "    if user>18 and user<35:\n",
    "        print(\"I will give you h2r\")\n",
    "    else:\n",
    "        print(\"I will give you scarpio\")\n",
    "else:\n",
    "    print(\"go to hell\")"
   ]
  },
  {
   "cell_type": "code",
   "execution_count": 33,
   "id": "f49e01a1-6e01-4372-9cb6-2c113983fb90",
   "metadata": {},
   "outputs": [
    {
     "name": "stdin",
     "output_type": "stream",
     "text": [
      "Enter your age: 20\n"
     ]
    },
    {
     "name": "stdout",
     "output_type": "stream",
     "text": [
      "I will give you h2r\n"
     ]
    }
   ],
   "source": []
  },
  {
   "cell_type": "code",
   "execution_count": 36,
   "id": "4ff491d7-c3a4-4b0c-9b75-d5e337a05baa",
   "metadata": {},
   "outputs": [
    {
     "name": "stdin",
     "output_type": "stream",
     "text": [
      "Enter your age: 5\n"
     ]
    },
    {
     "name": "stdout",
     "output_type": "stream",
     "text": [
      "go to hell\n"
     ]
    }
   ],
   "source": [
    "user=int(input(\"Enter your age:\"))\n",
    "(print(\"I will give you h2r\") if user>18 and user<35 else print(\"I will give you car\")) if user>18 and user<=100 else print(\"go to hell\")"
   ]
  },
  {
   "cell_type": "code",
   "execution_count": 37,
   "id": "f10995ad-6983-4d10-bf5b-55fa15373801",
   "metadata": {},
   "outputs": [
    {
     "name": "stdin",
     "output_type": "stream",
     "text": [
      "Enter your age: 33\n"
     ]
    },
    {
     "name": "stdout",
     "output_type": "stream",
     "text": [
      "I will give you h2r\n"
     ]
    }
   ],
   "source": [
    "user=int(input(\"Enter your age:\"))\n",
    "(print(\"I will give you h2r\") if user>18 and user<35 else print(\"I will give you car\")) if user>18 and user<=100 else print(\"go to hell\")"
   ]
  },
  {
   "cell_type": "code",
   "execution_count": 38,
   "id": "3e6d39f0-0883-4f6a-8989-d592e6de3435",
   "metadata": {},
   "outputs": [
    {
     "name": "stdin",
     "output_type": "stream",
     "text": [
      "Enter your age: 70\n"
     ]
    },
    {
     "name": "stdout",
     "output_type": "stream",
     "text": [
      "I will give you car\n"
     ]
    }
   ],
   "source": [
    "user=int(input(\"Enter your age:\"))\n",
    "(print(\"I will give you h2r\") if user>18 and user<35 else print(\"I will give you car\")) if user>18 and user<=100 else print(\"go to hell\")"
   ]
  },
  {
   "cell_type": "code",
   "execution_count": 39,
   "id": "b6c4cd20-6d8e-49ff-aed7-d6a4a90cb36e",
   "metadata": {},
   "outputs": [
    {
     "name": "stdin",
     "output_type": "stream",
     "text": [
      "Enter your age: 5\n"
     ]
    },
    {
     "name": "stdout",
     "output_type": "stream",
     "text": [
      "go to hell\n"
     ]
    }
   ],
   "source": [
    "user=int(input(\"Enter your age:\"))\n",
    "(print(\"I will give you h2r\") if user>18 and user<35 else print(\"I will give you car\")) if user>18 and user<=100 else print(\"go to hell\")"
   ]
  },
  {
   "cell_type": "code",
   "execution_count": null,
   "id": "6cf35bae-464c-460e-a88a-9b0f58cb8841",
   "metadata": {},
   "outputs": [],
   "source": []
  }
 ],
 "metadata": {
  "kernelspec": {
   "display_name": "Python 3 (ipykernel)",
   "language": "python",
   "name": "python3"
  },
  "language_info": {
   "codemirror_mode": {
    "name": "ipython",
    "version": 3
   },
   "file_extension": ".py",
   "mimetype": "text/x-python",
   "name": "python",
   "nbconvert_exporter": "python",
   "pygments_lexer": "ipython3",
   "version": "3.11.4"
  }
 },
 "nbformat": 4,
 "nbformat_minor": 5
}
