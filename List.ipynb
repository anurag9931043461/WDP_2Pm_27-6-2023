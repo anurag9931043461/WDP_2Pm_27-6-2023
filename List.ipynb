{
 "cells": [
  {
   "cell_type": "code",
   "execution_count": 1,
   "id": "8f555ba9-dd6a-4fa1-9f20-7fa71a1f3e74",
   "metadata": {},
   "outputs": [],
   "source": [
    "# List\n",
    "# List constructor is list()\n",
    "# List literal is []\n",
    "# List is a set of sequence of elements\n",
    "# List support indexing\n",
    "# List support slicing \n",
    "# List is mutable(changable)\n",
    "# List support nested list(list inside list)\n",
    "# List support concatination \n",
    "# List has various methods."
   ]
  },
  {
   "cell_type": "code",
   "execution_count": 1,
   "id": "75f84069-04fe-4aef-b79d-cb5aade335ef",
   "metadata": {},
   "outputs": [],
   "source": [
    "a=[10,10.0,\"10\"]"
   ]
  },
  {
   "cell_type": "code",
   "execution_count": 2,
   "id": "b9470204-de81-41e0-9b4a-f4833c3e726f",
   "metadata": {},
   "outputs": [
    {
     "name": "stdout",
     "output_type": "stream",
     "text": [
      "[10, 10.0, '10']\n"
     ]
    }
   ],
   "source": [
    "print(a)"
   ]
  },
  {
   "cell_type": "code",
   "execution_count": 3,
   "id": "0d5fd821-8164-4210-851d-9353a51b6a4f",
   "metadata": {},
   "outputs": [
    {
     "name": "stdout",
     "output_type": "stream",
     "text": [
      "<class 'list'>\n"
     ]
    }
   ],
   "source": [
    "print(type(a))"
   ]
  },
  {
   "cell_type": "code",
   "execution_count": 4,
   "id": "4bcbf977-1d11-43ed-8640-889664967a53",
   "metadata": {},
   "outputs": [
    {
     "name": "stdout",
     "output_type": "stream",
     "text": [
      "2248393776064\n"
     ]
    }
   ],
   "source": [
    "print(id(a))"
   ]
  },
  {
   "cell_type": "code",
   "execution_count": 6,
   "id": "4882a629-7b4f-4b85-9122-3ff0a81bf2ed",
   "metadata": {},
   "outputs": [
    {
     "name": "stdout",
     "output_type": "stream",
     "text": [
      "Krishna\n"
     ]
    }
   ],
   "source": [
    "print(\"Krishna\")"
   ]
  },
  {
   "cell_type": "code",
   "execution_count": 9,
   "id": "f4c000a3-5a14-4f30-9697-1284c892e67f",
   "metadata": {},
   "outputs": [
    {
     "name": "stdout",
     "output_type": "stream",
     "text": [
      "[]\n",
      "2248393777216\n",
      "<class 'list'>\n"
     ]
    }
   ],
   "source": [
    "b=[]\n",
    "print(b)\n",
    "print(id(b))\n",
    "print(type(b))"
   ]
  },
  {
   "cell_type": "code",
   "execution_count": 10,
   "id": "bd307ac5-f23f-4052-9811-2124c9336533",
   "metadata": {},
   "outputs": [
    {
     "data": {
      "text/plain": [
       "78167"
      ]
     },
     "execution_count": 10,
     "metadata": {},
     "output_type": "execute_result"
    }
   ],
   "source": [
    "# Programming\n",
    "> top line programming (Analyst)\n",
    "> procedural/ functional programming(programmer)\n",
    "> Object oriented programming OOPs(95%)"
   ]
  },
  {
   "cell_type": "code",
   "execution_count": 11,
   "id": "b0445af8-6205-46c0-af76-48518cffb401",
   "metadata": {},
   "outputs": [
    {
     "name": "stdout",
     "output_type": "stream",
     "text": [
      "hello world\n"
     ]
    }
   ],
   "source": [
    "print(\"hello world\")"
   ]
  },
  {
   "cell_type": "code",
   "execution_count": 13,
   "id": "06e0dcf6-5dcd-4cea-9bba-50dc9af10486",
   "metadata": {},
   "outputs": [
    {
     "name": "stdout",
     "output_type": "stream",
     "text": [
      "hello world\n"
     ]
    }
   ],
   "source": [
    "def new():\n",
    "    print(\"hello world\")\n",
    "new()"
   ]
  },
  {
   "cell_type": "code",
   "execution_count": 15,
   "id": "65ff4969-b21c-4fc5-b65e-b7908060c8d6",
   "metadata": {},
   "outputs": [],
   "source": [
    "class A:\n",
    "    def new(self):\n",
    "        print(\"Hello world\")"
   ]
  },
  {
   "cell_type": "code",
   "execution_count": 16,
   "id": "4653526b-af1a-4ce2-8616-812dcbf1e501",
   "metadata": {},
   "outputs": [],
   "source": [
    "a=A()"
   ]
  },
  {
   "cell_type": "code",
   "execution_count": 17,
   "id": "1fa26a4c-eb77-4695-914d-aa172c9ea441",
   "metadata": {},
   "outputs": [
    {
     "name": "stdout",
     "output_type": "stream",
     "text": [
      "Hello world\n"
     ]
    }
   ],
   "source": [
    "a.new()"
   ]
  },
  {
   "cell_type": "code",
   "execution_count": 18,
   "id": "de0663a2-2a42-4751-80bc-d16a776be71e",
   "metadata": {},
   "outputs": [],
   "source": [
    "d=[1,2,3,4,5]\n",
    "e=[2,3,4,5,6]"
   ]
  },
  {
   "cell_type": "code",
   "execution_count": 21,
   "id": "fd110e8b-2523-4045-b7c3-1ea8593f4eba",
   "metadata": {},
   "outputs": [
    {
     "name": "stdout",
     "output_type": "stream",
     "text": [
      "[1, 2, 3, 4, 5, 2, 3, 4, 5, 6]\n"
     ]
    }
   ],
   "source": [
    "print(d+e)     #this is concatination"
   ]
  },
  {
   "cell_type": "code",
   "execution_count": 22,
   "id": "e55b84e5-b21b-4822-9019-8228da881564",
   "metadata": {},
   "outputs": [
    {
     "name": "stdout",
     "output_type": "stream",
     "text": [
      "[2, 3, 4, 5, 6, 1, 2, 3, 4, 5]\n"
     ]
    }
   ],
   "source": [
    "print(e+d)"
   ]
  },
  {
   "cell_type": "code",
   "execution_count": 26,
   "id": "fad41eb8-5620-4d38-a021-62fe586b8b43",
   "metadata": {},
   "outputs": [],
   "source": [
    "g=[\"krishna\",\"Mohan\",\"Sohan\"]   #indexing"
   ]
  },
  {
   "cell_type": "code",
   "execution_count": 27,
   "id": "da422979-32e8-498b-9e57-3235b94c1377",
   "metadata": {},
   "outputs": [
    {
     "data": {
      "text/plain": [
       "'krishna'"
      ]
     },
     "execution_count": 27,
     "metadata": {},
     "output_type": "execute_result"
    }
   ],
   "source": [
    "g[0]"
   ]
  },
  {
   "cell_type": "code",
   "execution_count": 28,
   "id": "6ab6c5c0-3b83-4cf9-b1d5-581a49c085a9",
   "metadata": {},
   "outputs": [
    {
     "data": {
      "text/plain": [
       "'krishna'"
      ]
     },
     "execution_count": 28,
     "metadata": {},
     "output_type": "execute_result"
    }
   ],
   "source": [
    "g[-3]"
   ]
  },
  {
   "cell_type": "code",
   "execution_count": 29,
   "id": "aa9e4dcd-b16a-4ecb-8e0a-b71d2573d30d",
   "metadata": {},
   "outputs": [
    {
     "name": "stdout",
     "output_type": "stream",
     "text": [
      "Sohan\n"
     ]
    }
   ],
   "source": [
    "print(g[-1])"
   ]
  },
  {
   "cell_type": "code",
   "execution_count": 30,
   "id": "094b4910-d702-47e2-99d8-687cb3067033",
   "metadata": {},
   "outputs": [
    {
     "name": "stdout",
     "output_type": "stream",
     "text": [
      "Sohan\n"
     ]
    }
   ],
   "source": [
    "print(g[2])"
   ]
  },
  {
   "cell_type": "code",
   "execution_count": 31,
   "id": "27e4405a-ff8f-4dfd-b6ef-51986e6cef13",
   "metadata": {},
   "outputs": [
    {
     "name": "stdout",
     "output_type": "stream",
     "text": [
      "['krishna', 'Mohan', 'Sohan']\n"
     ]
    }
   ],
   "source": [
    "print(g)"
   ]
  },
  {
   "cell_type": "code",
   "execution_count": 32,
   "id": "4142c1e8-d346-47e7-897f-6c46f286e91d",
   "metadata": {},
   "outputs": [],
   "source": [
    "h=[4,23,4,5,6,7,84,43]"
   ]
  },
  {
   "cell_type": "code",
   "execution_count": 35,
   "id": "f3f99d7d-0558-4459-8f25-3d0e3620849b",
   "metadata": {},
   "outputs": [
    {
     "name": "stdout",
     "output_type": "stream",
     "text": [
      "[23, 4, 5, 6]\n"
     ]
    }
   ],
   "source": [
    "print(h[1:5:1])"
   ]
  },
  {
   "cell_type": "code",
   "execution_count": 34,
   "id": "92db9f52-d64a-4ff0-b99c-066a505e8ee1",
   "metadata": {},
   "outputs": [
    {
     "name": "stdout",
     "output_type": "stream",
     "text": [
      "[23, 4, 5, 6]\n"
     ]
    }
   ],
   "source": [
    "print(h[-7:-3])"
   ]
  },
  {
   "cell_type": "code",
   "execution_count": 38,
   "id": "621cbc8d-5d78-4015-9ad4-1726f0fc7261",
   "metadata": {
    "scrolled": true
   },
   "outputs": [
    {
     "name": "stdout",
     "output_type": "stream",
     "text": [
      "[43, 84, 7, 6]\n"
     ]
    }
   ],
   "source": [
    "print(h[-1:-5:-1])"
   ]
  },
  {
   "cell_type": "code",
   "execution_count": 43,
   "id": "b00e4e92-7228-4f1b-b06a-c7cb092115a7",
   "metadata": {},
   "outputs": [
    {
     "name": "stdout",
     "output_type": "stream",
     "text": [
      "[6, 7, 84, 43]\n"
     ]
    }
   ],
   "source": [
    "print(h[-4::1])"
   ]
  },
  {
   "cell_type": "code",
   "execution_count": 44,
   "id": "9769479e-170c-45de-a5b3-86b5ed6c80d6",
   "metadata": {},
   "outputs": [
    {
     "name": "stdout",
     "output_type": "stream",
     "text": [
      "[6, 84]\n"
     ]
    }
   ],
   "source": [
    "print(h[-4::2])"
   ]
  },
  {
   "cell_type": "code",
   "execution_count": 45,
   "id": "a6352866-b27f-48fd-8c66-cd6289002dd6",
   "metadata": {},
   "outputs": [
    {
     "name": "stdout",
     "output_type": "stream",
     "text": [
      "[6, 43]\n"
     ]
    }
   ],
   "source": [
    "print(h[-4::3])"
   ]
  },
  {
   "cell_type": "code",
   "execution_count": 46,
   "id": "2317c117-d9f4-4e1f-8ab9-53033f57c391",
   "metadata": {},
   "outputs": [
    {
     "data": {
      "text/plain": [
       "[4, 23, 4, 5, 6, 7, 84, 43]"
      ]
     },
     "execution_count": 46,
     "metadata": {},
     "output_type": "execute_result"
    }
   ],
   "source": [
    "h"
   ]
  },
  {
   "cell_type": "code",
   "execution_count": 47,
   "id": "e801899b-5f1a-454c-b109-6e4f48f397ca",
   "metadata": {},
   "outputs": [
    {
     "name": "stdout",
     "output_type": "stream",
     "text": [
      "[4, 23, 5, 6, 84, 43]\n"
     ]
    }
   ],
   "source": [
    "print(h[0:2]+h[3:5]+h[6:])"
   ]
  },
  {
   "cell_type": "code",
   "execution_count": 48,
   "id": "55e813f3-9596-4dd0-8b36-6e6c0cdb44da",
   "metadata": {},
   "outputs": [],
   "source": [
    "a=[2,312,43,5,[43,54,64,32],323,43]"
   ]
  },
  {
   "cell_type": "code",
   "execution_count": 50,
   "id": "5e7ac68f-5072-4fd4-ae94-3687857944d1",
   "metadata": {},
   "outputs": [
    {
     "name": "stdout",
     "output_type": "stream",
     "text": [
      "[43, 54, 64, 32]\n"
     ]
    }
   ],
   "source": [
    "b=a[4]\n",
    "print(b)"
   ]
  },
  {
   "cell_type": "code",
   "execution_count": 53,
   "id": "d18884b4-5f5e-44bb-9882-34160db81e3c",
   "metadata": {},
   "outputs": [
    {
     "name": "stdout",
     "output_type": "stream",
     "text": [
      "64\n"
     ]
    }
   ],
   "source": [
    "print(b[2])"
   ]
  },
  {
   "cell_type": "code",
   "execution_count": 54,
   "id": "961f018e-06a2-478d-80c4-14a79b8a3fcc",
   "metadata": {},
   "outputs": [],
   "source": [
    "a=[2,312,43,5,[43,54,[3,4,5,6],64,32],323,43]"
   ]
  },
  {
   "cell_type": "code",
   "execution_count": 56,
   "id": "8456748a-daf1-467b-abac-cd2739d2ae1d",
   "metadata": {},
   "outputs": [
    {
     "name": "stdout",
     "output_type": "stream",
     "text": [
      "5\n"
     ]
    }
   ],
   "source": [
    "print(a[4][2][2])"
   ]
  },
  {
   "cell_type": "code",
   "execution_count": 58,
   "id": "7907d474-d6dc-44e4-a4e5-31010a12a4d2",
   "metadata": {},
   "outputs": [
    {
     "name": "stdout",
     "output_type": "stream",
     "text": [
      "5\n",
      "krishna\n"
     ]
    }
   ],
   "source": [
    "print(a[4][2][2])\n",
    "print(\"krishna\")"
   ]
  },
  {
   "cell_type": "code",
   "execution_count": 59,
   "id": "3f9b1496-1799-4087-a47c-5a6be8483ee2",
   "metadata": {},
   "outputs": [],
   "source": [
    "# methods of list"
   ]
  },
  {
   "cell_type": "code",
   "execution_count": 61,
   "id": "cb4b4dcf-823d-4c23-bbcc-e5d81cb98d5a",
   "metadata": {},
   "outputs": [
    {
     "name": "stdout",
     "output_type": "stream",
     "text": [
      "2248396641920\n"
     ]
    }
   ],
   "source": [
    "a=[1,2,3,4,5,6]\n",
    "print(id(a))"
   ]
  },
  {
   "cell_type": "code",
   "execution_count": 63,
   "id": "b596abe6-cf36-45a0-b794-722427eed8dd",
   "metadata": {},
   "outputs": [
    {
     "name": "stdout",
     "output_type": "stream",
     "text": [
      "[1, 2, 3, 4, 5, 6]\n",
      "2248396641920\n"
     ]
    }
   ],
   "source": [
    "print(a)\n",
    "print(id(a))"
   ]
  },
  {
   "cell_type": "code",
   "execution_count": 64,
   "id": "e5176a13-386a-4b99-ae40-80b43afc278b",
   "metadata": {},
   "outputs": [
    {
     "data": {
      "text/plain": [
       "6"
      ]
     },
     "execution_count": 64,
     "metadata": {},
     "output_type": "execute_result"
    }
   ],
   "source": [
    "a.pop()"
   ]
  },
  {
   "cell_type": "code",
   "execution_count": 65,
   "id": "b0e9e966-b895-4d47-b94b-e25e660c2b59",
   "metadata": {},
   "outputs": [
    {
     "name": "stdout",
     "output_type": "stream",
     "text": [
      "[1, 2, 3, 4, 5]\n"
     ]
    }
   ],
   "source": [
    "print(a)"
   ]
  },
  {
   "cell_type": "code",
   "execution_count": 66,
   "id": "97c82f17-318c-4805-990f-e21a87779453",
   "metadata": {},
   "outputs": [
    {
     "name": "stdout",
     "output_type": "stream",
     "text": [
      "2248396641920\n"
     ]
    }
   ],
   "source": [
    "print(id(a))"
   ]
  },
  {
   "cell_type": "code",
   "execution_count": 67,
   "id": "a8b132cd-be07-4f08-b9bb-885623f85b51",
   "metadata": {},
   "outputs": [],
   "source": [
    "a.clear()"
   ]
  },
  {
   "cell_type": "code",
   "execution_count": 68,
   "id": "b5614eb1-6474-498c-927d-9f161a8e7286",
   "metadata": {},
   "outputs": [
    {
     "name": "stdout",
     "output_type": "stream",
     "text": [
      "[]\n"
     ]
    }
   ],
   "source": [
    "print(a)"
   ]
  },
  {
   "cell_type": "code",
   "execution_count": 69,
   "id": "1b91e763-fb29-46f1-ab4e-2097e7563159",
   "metadata": {},
   "outputs": [
    {
     "name": "stdout",
     "output_type": "stream",
     "text": [
      "2248396641920\n"
     ]
    }
   ],
   "source": [
    "print(id(a))"
   ]
  },
  {
   "cell_type": "code",
   "execution_count": 70,
   "id": "c34eb705-5265-4570-b4f1-2d0fa8ab8952",
   "metadata": {},
   "outputs": [],
   "source": [
    "a.append(10)"
   ]
  },
  {
   "cell_type": "code",
   "execution_count": 71,
   "id": "d3224f72-0975-4150-8605-6e332ce65044",
   "metadata": {},
   "outputs": [
    {
     "name": "stdout",
     "output_type": "stream",
     "text": [
      "[10]\n"
     ]
    }
   ],
   "source": [
    "print(a)"
   ]
  },
  {
   "cell_type": "code",
   "execution_count": 72,
   "id": "c5f5e231-aa2a-45c7-84c0-adc07ea51bd0",
   "metadata": {},
   "outputs": [],
   "source": [
    "a.append([1,2,3,4,5,6])"
   ]
  },
  {
   "cell_type": "code",
   "execution_count": 73,
   "id": "eabce4e1-b41f-4f44-9b72-e94ee1fa8bd0",
   "metadata": {},
   "outputs": [
    {
     "name": "stdout",
     "output_type": "stream",
     "text": [
      "[10, [1, 2, 3, 4, 5, 6]]\n"
     ]
    }
   ],
   "source": [
    "print(a)"
   ]
  },
  {
   "cell_type": "code",
   "execution_count": 74,
   "id": "2ed3f17f-8ec5-4a37-9365-606e5f0c6cec",
   "metadata": {},
   "outputs": [],
   "source": [
    "a.extend([1,2,3,4,5,6,7,8])"
   ]
  },
  {
   "cell_type": "code",
   "execution_count": 75,
   "id": "d1210255-e66f-4733-a966-0dd5d8d192cc",
   "metadata": {},
   "outputs": [
    {
     "name": "stdout",
     "output_type": "stream",
     "text": [
      "[10, [1, 2, 3, 4, 5, 6], 1, 2, 3, 4, 5, 6, 7, 8]\n"
     ]
    }
   ],
   "source": [
    "print(a)"
   ]
  },
  {
   "cell_type": "code",
   "execution_count": 76,
   "id": "af603833-fbff-449f-b447-7357b45fae6f",
   "metadata": {},
   "outputs": [],
   "source": [
    "a.remove(6)"
   ]
  },
  {
   "cell_type": "code",
   "execution_count": 77,
   "id": "c285a9af-a074-41c6-9a64-7561ef3c83c7",
   "metadata": {},
   "outputs": [
    {
     "name": "stdout",
     "output_type": "stream",
     "text": [
      "[10, [1, 2, 3, 4, 5, 6], 1, 2, 3, 4, 5, 7, 8]\n"
     ]
    }
   ],
   "source": [
    "print(a)"
   ]
  },
  {
   "cell_type": "code",
   "execution_count": 78,
   "id": "ea5b3746-2f9b-4fd6-aa86-5d3dbf7cf21d",
   "metadata": {},
   "outputs": [
    {
     "data": {
      "text/plain": [
       "[1, 2, 3, 4, 5, 6]"
      ]
     },
     "execution_count": 78,
     "metadata": {},
     "output_type": "execute_result"
    }
   ],
   "source": [
    "a.pop(1)"
   ]
  },
  {
   "cell_type": "code",
   "execution_count": 79,
   "id": "d663b204-08a3-4e3e-908a-44aa5759856d",
   "metadata": {},
   "outputs": [
    {
     "name": "stdout",
     "output_type": "stream",
     "text": [
      "[10, 1, 2, 3, 4, 5, 7, 8]\n"
     ]
    }
   ],
   "source": [
    "print(a)"
   ]
  },
  {
   "cell_type": "code",
   "execution_count": 80,
   "id": "c21a81f7-30ea-4aa1-9ab5-6728c85387bd",
   "metadata": {},
   "outputs": [],
   "source": [
    "a.insert(4,\"krishna\")"
   ]
  },
  {
   "cell_type": "code",
   "execution_count": 81,
   "id": "dfaa0514-4611-4de6-b38c-b53fcfcd8ff8",
   "metadata": {},
   "outputs": [
    {
     "name": "stdout",
     "output_type": "stream",
     "text": [
      "[10, 1, 2, 3, 'krishna', 4, 5, 7, 8]\n"
     ]
    }
   ],
   "source": [
    "print(a)"
   ]
  },
  {
   "cell_type": "code",
   "execution_count": 82,
   "id": "c9cbf24b-b56c-49ce-9efb-bbd7ee6ecdfb",
   "metadata": {},
   "outputs": [
    {
     "data": {
      "text/plain": [
       "1"
      ]
     },
     "execution_count": 82,
     "metadata": {},
     "output_type": "execute_result"
    }
   ],
   "source": [
    "a.count(1)"
   ]
  },
  {
   "cell_type": "code",
   "execution_count": 83,
   "id": "ba169158-6b8e-41e3-b499-0e7f5bef227d",
   "metadata": {},
   "outputs": [
    {
     "ename": "TypeError",
     "evalue": "'<' not supported between instances of 'str' and 'int'",
     "output_type": "error",
     "traceback": [
      "\u001b[1;31m---------------------------------------------------------------------------\u001b[0m",
      "\u001b[1;31mTypeError\u001b[0m                                 Traceback (most recent call last)",
      "Cell \u001b[1;32mIn[83], line 1\u001b[0m\n\u001b[1;32m----> 1\u001b[0m \u001b[43ma\u001b[49m\u001b[38;5;241;43m.\u001b[39;49m\u001b[43msort\u001b[49m\u001b[43m(\u001b[49m\u001b[43m)\u001b[49m\n",
      "\u001b[1;31mTypeError\u001b[0m: '<' not supported between instances of 'str' and 'int'"
     ]
    }
   ],
   "source": [
    "a.sort()"
   ]
  },
  {
   "cell_type": "code",
   "execution_count": 84,
   "id": "6be51881-c4ed-4e6a-995c-c47984178a09",
   "metadata": {},
   "outputs": [],
   "source": [
    "a.remove(\"krishna\")"
   ]
  },
  {
   "cell_type": "code",
   "execution_count": 85,
   "id": "4a12b55c-597b-4a8f-aa50-1819cec6adbe",
   "metadata": {},
   "outputs": [
    {
     "name": "stdout",
     "output_type": "stream",
     "text": [
      "[1, 2, 3, 10, 4, 5, 7, 8]\n"
     ]
    }
   ],
   "source": [
    "print(a)"
   ]
  },
  {
   "cell_type": "code",
   "execution_count": 86,
   "id": "7e15e7f1-3aea-4c1e-9e18-3e1ec733a8e8",
   "metadata": {},
   "outputs": [],
   "source": [
    "a.sort()"
   ]
  },
  {
   "cell_type": "code",
   "execution_count": 87,
   "id": "9c679025-f0a8-4b03-8fd2-36ab533188a9",
   "metadata": {},
   "outputs": [
    {
     "name": "stdout",
     "output_type": "stream",
     "text": [
      "[1, 2, 3, 4, 5, 7, 8, 10]\n"
     ]
    }
   ],
   "source": [
    "print(a)"
   ]
  },
  {
   "cell_type": "code",
   "execution_count": 88,
   "id": "c32ef608-d364-4a71-a69f-e788d7ce1afc",
   "metadata": {},
   "outputs": [],
   "source": [
    "a.reverse()"
   ]
  },
  {
   "cell_type": "code",
   "execution_count": 89,
   "id": "3def5b9d-a4ef-4653-bb69-3d8ed0930392",
   "metadata": {},
   "outputs": [
    {
     "name": "stdout",
     "output_type": "stream",
     "text": [
      "[10, 8, 7, 5, 4, 3, 2, 1]\n"
     ]
    }
   ],
   "source": [
    "print(a)"
   ]
  },
  {
   "cell_type": "code",
   "execution_count": 90,
   "id": "be1e8900-9741-4824-9949-caebf6f88b65",
   "metadata": {},
   "outputs": [],
   "source": [
    "a.reverse()"
   ]
  },
  {
   "cell_type": "code",
   "execution_count": 91,
   "id": "d519c45a-782c-421c-ad73-17447ffed8a5",
   "metadata": {},
   "outputs": [
    {
     "name": "stdout",
     "output_type": "stream",
     "text": [
      "[1, 2, 3, 4, 5, 7, 8, 10]\n"
     ]
    }
   ],
   "source": [
    "print(a)"
   ]
  },
  {
   "cell_type": "code",
   "execution_count": 1,
   "id": "a6489759-56e4-4c0b-a461-02ba10e5a810",
   "metadata": {},
   "outputs": [],
   "source": [
    "a=[1,2,3,4,5,6,7]"
   ]
  },
  {
   "cell_type": "code",
   "execution_count": 2,
   "id": "18d8bb4d-97a7-4e81-89ad-85e0c2747c8a",
   "metadata": {},
   "outputs": [
    {
     "name": "stdout",
     "output_type": "stream",
     "text": [
      "7\n"
     ]
    }
   ],
   "source": [
    "print(len(a))"
   ]
  },
  {
   "cell_type": "code",
   "execution_count": 3,
   "id": "f12f25d2-a23a-4749-ba53-05ff22c64cef",
   "metadata": {},
   "outputs": [],
   "source": [
    "b=a"
   ]
  },
  {
   "cell_type": "code",
   "execution_count": 4,
   "id": "831770d9-41c7-4a20-bf2d-816ab2a48ea4",
   "metadata": {},
   "outputs": [
    {
     "name": "stdout",
     "output_type": "stream",
     "text": [
      "[1, 2, 3, 4, 5, 6, 7]\n"
     ]
    }
   ],
   "source": [
    "print(b)"
   ]
  },
  {
   "cell_type": "code",
   "execution_count": 5,
   "id": "a41da17c-8e67-4f6e-87b7-0a955dbde095",
   "metadata": {},
   "outputs": [],
   "source": [
    "a.append(10)"
   ]
  },
  {
   "cell_type": "code",
   "execution_count": 6,
   "id": "b1313248-160d-4e3b-808d-4cf9bc895983",
   "metadata": {},
   "outputs": [
    {
     "name": "stdout",
     "output_type": "stream",
     "text": [
      "[1, 2, 3, 4, 5, 6, 7, 10]\n"
     ]
    }
   ],
   "source": [
    "print(a)"
   ]
  },
  {
   "cell_type": "code",
   "execution_count": 7,
   "id": "3a5c607e-c74a-4bc2-9a4f-ff884a500ba7",
   "metadata": {},
   "outputs": [
    {
     "name": "stdout",
     "output_type": "stream",
     "text": [
      "[1, 2, 3, 4, 5, 6, 7, 10]\n"
     ]
    }
   ],
   "source": [
    "print(b)"
   ]
  },
  {
   "cell_type": "code",
   "execution_count": 8,
   "id": "f0a1583a-f1b7-4bee-93fc-6a14573f24f8",
   "metadata": {},
   "outputs": [],
   "source": [
    "b.append(1000)"
   ]
  },
  {
   "cell_type": "code",
   "execution_count": 11,
   "id": "ce649f2d-b8da-4055-afa4-0589f5e6cd4f",
   "metadata": {},
   "outputs": [
    {
     "name": "stdout",
     "output_type": "stream",
     "text": [
      "[1, 2, 3, 4, 5, 6, 7, 10, 1000]\n",
      "2040823637056\n"
     ]
    }
   ],
   "source": [
    "print(b)\n",
    "print(id(b))"
   ]
  },
  {
   "cell_type": "code",
   "execution_count": 12,
   "id": "0caa9ce3-6a4e-4b60-af69-4addb4d42171",
   "metadata": {},
   "outputs": [
    {
     "name": "stdout",
     "output_type": "stream",
     "text": [
      "[1, 2, 3, 4, 5, 6, 7, 10, 1000]\n",
      "2040823637056\n"
     ]
    }
   ],
   "source": [
    "print(a)\n",
    "print(id(a))"
   ]
  },
  {
   "cell_type": "code",
   "execution_count": 13,
   "id": "7ed4f5bb-9ff2-4a7d-bd13-1137033f4093",
   "metadata": {},
   "outputs": [],
   "source": [
    "c=a.copy()"
   ]
  },
  {
   "cell_type": "code",
   "execution_count": 14,
   "id": "b2f914c0-eb47-42d4-b247-19dc140b9712",
   "metadata": {},
   "outputs": [
    {
     "name": "stdout",
     "output_type": "stream",
     "text": [
      "[1, 2, 3, 4, 5, 6, 7, 10, 1000]\n"
     ]
    }
   ],
   "source": [
    "print(c)"
   ]
  },
  {
   "cell_type": "code",
   "execution_count": 15,
   "id": "d9812857-d9d6-447d-b9bd-8fd34b06f2a8",
   "metadata": {},
   "outputs": [],
   "source": [
    "c.append(999)"
   ]
  },
  {
   "cell_type": "code",
   "execution_count": 16,
   "id": "3e5fb9fb-26da-4a91-a82d-5239775b3188",
   "metadata": {},
   "outputs": [
    {
     "name": "stdout",
     "output_type": "stream",
     "text": [
      "[1, 2, 3, 4, 5, 6, 7, 10, 1000, 999]\n"
     ]
    }
   ],
   "source": [
    "print(c)"
   ]
  },
  {
   "cell_type": "code",
   "execution_count": 17,
   "id": "40a0fd4b-300a-4268-8ba5-1a589dbade11",
   "metadata": {},
   "outputs": [
    {
     "name": "stdout",
     "output_type": "stream",
     "text": [
      "[1, 2, 3, 4, 5, 6, 7, 10, 1000]\n"
     ]
    }
   ],
   "source": [
    "print(a)"
   ]
  },
  {
   "cell_type": "code",
   "execution_count": null,
   "id": "6b1f94a6-4e25-476f-bb05-5e0ea4094111",
   "metadata": {},
   "outputs": [],
   "source": []
  }
 ],
 "metadata": {
  "kernelspec": {
   "display_name": "Python 3 (ipykernel)",
   "language": "python",
   "name": "python3"
  },
  "language_info": {
   "codemirror_mode": {
    "name": "ipython",
    "version": 3
   },
   "file_extension": ".py",
   "mimetype": "text/x-python",
   "name": "python",
   "nbconvert_exporter": "python",
   "pygments_lexer": "ipython3",
   "version": "3.10.9"
  }
 },
 "nbformat": 4,
 "nbformat_minor": 5
}
