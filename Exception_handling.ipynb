{
 "cells": [
  {
   "cell_type": "code",
   "execution_count": 3,
   "id": "9823346a-9242-4e22-a49e-988843f8f61e",
   "metadata": {},
   "outputs": [
    {
     "name": "stdout",
     "output_type": "stream",
     "text": [
      "hello world\n"
     ]
    },
    {
     "ename": "ZeroDivisionError",
     "evalue": "division by zero",
     "output_type": "error",
     "traceback": [
      "\u001b[1;31m---------------------------------------------------------------------------\u001b[0m",
      "\u001b[1;31mZeroDivisionError\u001b[0m                         Traceback (most recent call last)",
      "Cell \u001b[1;32mIn[3], line 2\u001b[0m\n\u001b[0;32m      1\u001b[0m \u001b[38;5;28mprint\u001b[39m(\u001b[38;5;124m\"\u001b[39m\u001b[38;5;124mhello world\u001b[39m\u001b[38;5;124m\"\u001b[39m)\n\u001b[1;32m----> 2\u001b[0m \u001b[38;5;28mprint\u001b[39m(\u001b[38;5;241;43m2\u001b[39;49m\u001b[38;5;241;43m/\u001b[39;49m\u001b[38;5;241;43m0\u001b[39;49m)\n\u001b[0;32m      3\u001b[0m \u001b[38;5;28mprint\u001b[39m(\u001b[38;5;124m\"\u001b[39m\u001b[38;5;124mbye\u001b[39m\u001b[38;5;124m\"\u001b[39m)\n",
      "\u001b[1;31mZeroDivisionError\u001b[0m: division by zero"
     ]
    }
   ],
   "source": [
    "print(\"hello world\")\n",
    "print(2/0)\n",
    "print(\"bye\")"
   ]
  },
  {
   "cell_type": "code",
   "execution_count": 4,
   "id": "b0e0fb09-08a0-4e87-a57a-debf258a56a0",
   "metadata": {},
   "outputs": [
    {
     "name": "stdout",
     "output_type": "stream",
     "text": [
      "hello world\n",
      "a number is not divisible by 0\n",
      "bye\n"
     ]
    }
   ],
   "source": [
    "print(\"hello world\")\n",
    "try:\n",
    "    print(2/0)\n",
    "except:\n",
    "    print(\"a number is not divisible by 0\")\n",
    "    \n",
    "    \n",
    "print(\"bye\")"
   ]
  },
  {
   "cell_type": "code",
   "execution_count": 6,
   "id": "b592e8c0-e971-46f2-9e58-993bd95882b5",
   "metadata": {},
   "outputs": [
    {
     "name": "stdin",
     "output_type": "stream",
     "text": [
      "Enter a number : 10\n"
     ]
    },
    {
     "name": "stdout",
     "output_type": "stream",
     "text": [
      "10\n",
      "<class 'str'>\n"
     ]
    }
   ],
   "source": [
    "a=input(\"Enter a number :\")\n",
    "b=int(a)\n",
    "print(b)\n",
    "print(type(a))"
   ]
  },
  {
   "cell_type": "code",
   "execution_count": 10,
   "id": "9ac8ab9d-8dce-4636-b88a-f7ca59182650",
   "metadata": {},
   "outputs": [
    {
     "name": "stdin",
     "output_type": "stream",
     "text": [
      "Enter a number : \n"
     ]
    },
    {
     "name": "stdout",
     "output_type": "stream",
     "text": [
      "invalid literal for int() with base 10: ''\n",
      "<class 'str'>\n"
     ]
    }
   ],
   "source": [
    "try:\n",
    "    a=input(\"Enter a number :\")\n",
    "    b=int(a)\n",
    "    print(b)\n",
    "except ValueError as e:\n",
    "    print(e)\n",
    "\n",
    "print(type(a))"
   ]
  },
  {
   "cell_type": "code",
   "execution_count": 11,
   "id": "aa5937be-5cdc-43f6-ad69-22322a543113",
   "metadata": {},
   "outputs": [
    {
     "name": "stdin",
     "output_type": "stream",
     "text": [
      "Enter a number : 10\n",
      "Enter a second number: 1.99\n"
     ]
    },
    {
     "name": "stdout",
     "output_type": "stream",
     "text": [
      "5.025125628140704\n",
      "<class 'str'>\n"
     ]
    }
   ],
   "source": [
    "try:\n",
    "    a=input(\"Enter a number :\")\n",
    "    z=eval(input(\"Enter a second number:\"))\n",
    "    b=int(a)\n",
    "    result=b/z\n",
    "    print(result)\n",
    "except ValueError as e:\n",
    "    print(e)\n",
    "\n",
    "print(type(a))"
   ]
  },
  {
   "cell_type": "code",
   "execution_count": 12,
   "id": "cf185f18-51b3-41dd-a267-a1b0c3061023",
   "metadata": {},
   "outputs": [
    {
     "name": "stdin",
     "output_type": "stream",
     "text": [
      "Enter a number : 10\n",
      "Enter a second number: 45hujh\n"
     ]
    },
    {
     "ename": "SyntaxError",
     "evalue": "invalid decimal literal (<string>, line 1)",
     "output_type": "error",
     "traceback": [
      "Traceback \u001b[1;36m(most recent call last)\u001b[0m:\n",
      "\u001b[0m  File \u001b[0;32m~\\AppData\\Local\\Programs\\Python\\Python311\\Lib\\site-packages\\IPython\\core\\interactiveshell.py:3508\u001b[0m in \u001b[0;35mrun_code\u001b[0m\n    exec(code_obj, self.user_global_ns, self.user_ns)\u001b[0m\n",
      "\u001b[1;36m  Cell \u001b[1;32mIn[12], line 3\u001b[1;36m\n\u001b[1;33m    z=eval(input(\"Enter a second number:\"))\u001b[1;36m\n",
      "\u001b[1;36m  File \u001b[1;32m<string>:1\u001b[1;36m\u001b[0m\n\u001b[1;33m    45hujh\u001b[0m\n\u001b[1;37m     ^\u001b[0m\n\u001b[1;31mSyntaxError\u001b[0m\u001b[1;31m:\u001b[0m invalid decimal literal\n"
     ]
    }
   ],
   "source": [
    "try:\n",
    "    a=input(\"Enter a number :\")\n",
    "    z=eval(input(\"Enter a second number:\"))\n",
    "    b=int(a)\n",
    "    result=b/z\n",
    "    print(result)\n",
    "except ValueError as e:\n",
    "    print(e)\n",
    "\n",
    "print(type(a))"
   ]
  },
  {
   "cell_type": "code",
   "execution_count": 15,
   "id": "a37b2436-6294-4d40-8c19-6f2c45974f93",
   "metadata": {},
   "outputs": [
    {
     "name": "stdin",
     "output_type": "stream",
     "text": [
      "Enter a number : 10\n",
      "Enter a second number: 45dfsdf\n"
     ]
    },
    {
     "name": "stdout",
     "output_type": "stream",
     "text": [
      "invalid decimal literal (<string>, line 1)\n",
      "<class 'str'>\n"
     ]
    }
   ],
   "source": [
    "try:\n",
    "    a=input(\"Enter a number :\")\n",
    "    z=eval(input(\"Enter a second number:\"))\n",
    "    b=int(a)\n",
    "    result=b/z\n",
    "    print(result)\n",
    "except ValueError as e:\n",
    "    print(e)\n",
    "except SyntaxError as e:\n",
    "    print(e)\n",
    "\n",
    "print(type(a))"
   ]
  },
  {
   "cell_type": "code",
   "execution_count": 16,
   "id": "ec257116-ba1a-41a5-b1cc-4c0fe1ef142a",
   "metadata": {},
   "outputs": [
    {
     "name": "stdin",
     "output_type": "stream",
     "text": [
      "Enter a number : 10\n",
      "Enter a second number: hgfjyfgjdf\n"
     ]
    },
    {
     "ename": "NameError",
     "evalue": "name 'hgfjyfgjdf' is not defined",
     "output_type": "error",
     "traceback": [
      "\u001b[1;31m---------------------------------------------------------------------------\u001b[0m",
      "\u001b[1;31mNameError\u001b[0m                                 Traceback (most recent call last)",
      "Cell \u001b[1;32mIn[16], line 3\u001b[0m\n\u001b[0;32m      1\u001b[0m \u001b[38;5;28;01mtry\u001b[39;00m:\n\u001b[0;32m      2\u001b[0m     a\u001b[38;5;241m=\u001b[39m\u001b[38;5;28minput\u001b[39m(\u001b[38;5;124m\"\u001b[39m\u001b[38;5;124mEnter a number :\u001b[39m\u001b[38;5;124m\"\u001b[39m)\n\u001b[1;32m----> 3\u001b[0m     z\u001b[38;5;241m=\u001b[39m\u001b[38;5;28;43meval\u001b[39;49m\u001b[43m(\u001b[49m\u001b[38;5;28;43minput\u001b[39;49m\u001b[43m(\u001b[49m\u001b[38;5;124;43m\"\u001b[39;49m\u001b[38;5;124;43mEnter a second number:\u001b[39;49m\u001b[38;5;124;43m\"\u001b[39;49m\u001b[43m)\u001b[49m\u001b[43m)\u001b[49m\n\u001b[0;32m      4\u001b[0m     b\u001b[38;5;241m=\u001b[39m\u001b[38;5;28mint\u001b[39m(a)\n\u001b[0;32m      5\u001b[0m     result\u001b[38;5;241m=\u001b[39mb\u001b[38;5;241m/\u001b[39mz\n",
      "File \u001b[1;32m<string>:1\u001b[0m\n",
      "\u001b[1;31mNameError\u001b[0m: name 'hgfjyfgjdf' is not defined"
     ]
    }
   ],
   "source": [
    "try:\n",
    "    a=input(\"Enter a number :\")\n",
    "    z=eval(input(\"Enter a second number:\"))\n",
    "    b=int(a)\n",
    "    result=b/z\n",
    "    print(result)\n",
    "except ValueError as e:\n",
    "    print(e)\n",
    "except SyntaxError as e:\n",
    "    print(e)\n",
    "\n",
    "print(type(a))"
   ]
  },
  {
   "cell_type": "markdown",
   "id": "a1d3900a-5950-4f50-91c5-946d2878a400",
   "metadata": {},
   "source": [
    "# Name error"
   ]
  },
  {
   "cell_type": "code",
   "execution_count": 17,
   "id": "b078acbb-231b-449f-a6f8-95764b472aa6",
   "metadata": {},
   "outputs": [
    {
     "name": "stdin",
     "output_type": "stream",
     "text": [
      "Enter a number : 1\n",
      "Enter a second number: dfasfds\n"
     ]
    },
    {
     "name": "stdout",
     "output_type": "stream",
     "text": [
      "name 'dfasfds' is not defined\n",
      "<class 'str'>\n"
     ]
    }
   ],
   "source": [
    "try:\n",
    "    a=input(\"Enter a number :\")\n",
    "    z=eval(input(\"Enter a second number:\"))\n",
    "    b=int(a)\n",
    "    result=b/z\n",
    "    print(result)\n",
    "except ValueError as e:\n",
    "    print(e)\n",
    "except SyntaxError as e:\n",
    "    print(e)\n",
    "except NameError as e:\n",
    "    print(e)\n",
    "\n",
    "print(type(a))"
   ]
  },
  {
   "cell_type": "code",
   "execution_count": 18,
   "id": "48a9d185-9b26-4978-ac78-e5155790827f",
   "metadata": {},
   "outputs": [
    {
     "name": "stdin",
     "output_type": "stream",
     "text": [
      "Enter a number : 10\n",
      "Enter a second number: 0\n"
     ]
    },
    {
     "ename": "ZeroDivisionError",
     "evalue": "division by zero",
     "output_type": "error",
     "traceback": [
      "\u001b[1;31m---------------------------------------------------------------------------\u001b[0m",
      "\u001b[1;31mZeroDivisionError\u001b[0m                         Traceback (most recent call last)",
      "Cell \u001b[1;32mIn[18], line 5\u001b[0m\n\u001b[0;32m      3\u001b[0m     z\u001b[38;5;241m=\u001b[39m\u001b[38;5;28meval\u001b[39m(\u001b[38;5;28minput\u001b[39m(\u001b[38;5;124m\"\u001b[39m\u001b[38;5;124mEnter a second number:\u001b[39m\u001b[38;5;124m\"\u001b[39m))\n\u001b[0;32m      4\u001b[0m     b\u001b[38;5;241m=\u001b[39m\u001b[38;5;28mint\u001b[39m(a)\n\u001b[1;32m----> 5\u001b[0m     result\u001b[38;5;241m=\u001b[39m\u001b[43mb\u001b[49m\u001b[38;5;241;43m/\u001b[39;49m\u001b[43mz\u001b[49m\n\u001b[0;32m      6\u001b[0m     \u001b[38;5;28mprint\u001b[39m(result)\n\u001b[0;32m      7\u001b[0m \u001b[38;5;28;01mexcept\u001b[39;00m \u001b[38;5;167;01mValueError\u001b[39;00m \u001b[38;5;28;01mas\u001b[39;00m e:\n",
      "\u001b[1;31mZeroDivisionError\u001b[0m: division by zero"
     ]
    }
   ],
   "source": [
    "try:\n",
    "    a=input(\"Enter a number :\")\n",
    "    z=eval(input(\"Enter a second number:\"))\n",
    "    b=int(a)\n",
    "    result=b/z\n",
    "    print(result)\n",
    "except ValueError as e:\n",
    "    print(e)\n",
    "except SyntaxError as e:\n",
    "    print(e)\n",
    "except NameError as e:\n",
    "    print(e)\n",
    "\n",
    "print(\"bye\")"
   ]
  },
  {
   "cell_type": "code",
   "execution_count": 22,
   "id": "6f1da0d5-ad4c-4af5-93c3-f38342267b47",
   "metadata": {},
   "outputs": [
    {
     "name": "stdin",
     "output_type": "stream",
     "text": [
      "Enter a number : 10\n",
      "Enter a second number: 20\n"
     ]
    },
    {
     "name": "stdout",
     "output_type": "stream",
     "text": [
      "0.5 [0.5, '10', 20, 10]\n",
      "bye\n"
     ]
    }
   ],
   "source": [
    "try:\n",
    "    a=input(\"Enter a number :\")\n",
    "    z=eval(input(\"Enter a second number:\"))\n",
    "    b=int(a)\n",
    "    result=b/z\n",
    "    k=[result,a,z,b]\n",
    "    print(k[0],k)\n",
    "except ValueError as e:\n",
    "    print(e)\n",
    "except SyntaxError as e:\n",
    "    print(e)\n",
    "except NameError as e:\n",
    "    print(e)\n",
    "except ZeroDivisionError as e:\n",
    "    print(e)\n",
    "print(\"bye\")"
   ]
  },
  {
   "cell_type": "code",
   "execution_count": 21,
   "id": "e2c27edb-6b66-41ce-b62a-48bc860c0459",
   "metadata": {},
   "outputs": [
    {
     "data": {
      "text/plain": [
       "1"
      ]
     },
     "execution_count": 21,
     "metadata": {},
     "output_type": "execute_result"
    }
   ],
   "source": [
    "a=[1,2,3,4]\n",
    "a[0]"
   ]
  },
  {
   "cell_type": "code",
   "execution_count": 23,
   "id": "fced5724-a750-4cc6-b8f2-3fa9b1309d53",
   "metadata": {
    "scrolled": true
   },
   "outputs": [
    {
     "name": "stdin",
     "output_type": "stream",
     "text": [
      "Enter a number : 10\n",
      "Enter a second number: 20\n"
     ]
    },
    {
     "ename": "IndexError",
     "evalue": "list index out of range",
     "output_type": "error",
     "traceback": [
      "\u001b[1;31m---------------------------------------------------------------------------\u001b[0m",
      "\u001b[1;31mIndexError\u001b[0m                                Traceback (most recent call last)",
      "Cell \u001b[1;32mIn[23], line 7\u001b[0m\n\u001b[0;32m      5\u001b[0m     result\u001b[38;5;241m=\u001b[39mb\u001b[38;5;241m/\u001b[39mz\n\u001b[0;32m      6\u001b[0m     k\u001b[38;5;241m=\u001b[39m[result,a,z,b]\n\u001b[1;32m----> 7\u001b[0m     \u001b[38;5;28mprint\u001b[39m(\u001b[43mk\u001b[49m\u001b[43m[\u001b[49m\u001b[38;5;241;43m10\u001b[39;49m\u001b[43m]\u001b[49m,k)\n\u001b[0;32m      8\u001b[0m \u001b[38;5;28;01mexcept\u001b[39;00m \u001b[38;5;167;01mValueError\u001b[39;00m \u001b[38;5;28;01mas\u001b[39;00m e:\n\u001b[0;32m      9\u001b[0m     \u001b[38;5;28mprint\u001b[39m(e)\n",
      "\u001b[1;31mIndexError\u001b[0m: list index out of range"
     ]
    }
   ],
   "source": [
    "try:\n",
    "    a=input(\"Enter a number :\")\n",
    "    z=eval(input(\"Enter a second number:\"))\n",
    "    b=int(a)\n",
    "    result=b/z\n",
    "    k=[result,a,z,b]\n",
    "    print(k[10],k)\n",
    "except ValueError as e:\n",
    "    print(e)\n",
    "except SyntaxError as e:\n",
    "    print(e)\n",
    "except NameError as e:\n",
    "    print(e)\n",
    "except ZeroDivisionError as e:\n",
    "    print(e)\n",
    "print(\"bye\")"
   ]
  },
  {
   "cell_type": "code",
   "execution_count": 25,
   "id": "985dad49-9243-403e-971f-8a33186a1b6f",
   "metadata": {},
   "outputs": [
    {
     "name": "stdin",
     "output_type": "stream",
     "text": [
      "Enter a number : 10\n",
      "Enter a second number: 20\n"
     ]
    },
    {
     "name": "stdout",
     "output_type": "stream",
     "text": [
      "list index out of range\n",
      "bye\n"
     ]
    }
   ],
   "source": [
    "try:\n",
    "    a=input(\"Enter a number :\")\n",
    "    z=eval(input(\"Enter a second number:\"))\n",
    "    b=int(a)\n",
    "    result=b/z\n",
    "    k=[result,a,z,b]\n",
    "    print(k[10],k)\n",
    "except ValueError as e:\n",
    "    print(e)\n",
    "except SyntaxError as e:\n",
    "    print(e)\n",
    "except NameError as e:\n",
    "    print(e)\n",
    "except ZeroDivisionError as e:\n",
    "    print(e)\n",
    "except IndexError as e:\n",
    "    print(e)\n",
    "except Exception as e:\n",
    "    print(e)\n",
    "print(\"bye\")"
   ]
  },
  {
   "cell_type": "code",
   "execution_count": 26,
   "id": "be69fbe6-7e8f-4bbd-be71-0fd0d742cda1",
   "metadata": {},
   "outputs": [
    {
     "name": "stdin",
     "output_type": "stream",
     "text": [
      "Enter a number : 10\n",
      "Enter a second number: 20\n"
     ]
    },
    {
     "name": "stdout",
     "output_type": "stream",
     "text": [
      "list index out of range\n",
      "bye\n"
     ]
    }
   ],
   "source": [
    "try:\n",
    "    a=input(\"Enter a number :\")\n",
    "    z=eval(input(\"Enter a second number:\"))\n",
    "    b=int(a)\n",
    "    result=b/z\n",
    "    k=[result,a,z,b]\n",
    "    print(k[10],k)\n",
    "\n",
    "except Exception as e:\n",
    "    print(e)\n",
    "print(\"bye\")"
   ]
  },
  {
   "cell_type": "code",
   "execution_count": 27,
   "id": "7340f86b-0411-45b3-9b6c-81fabafd406f",
   "metadata": {},
   "outputs": [
    {
     "name": "stdin",
     "output_type": "stream",
     "text": [
      "Enter a number : 10.22\n",
      "Enter a second number: 20\n"
     ]
    },
    {
     "name": "stdout",
     "output_type": "stream",
     "text": [
      "invalid literal for int() with base 10: '10.22'\n",
      "bye\n"
     ]
    }
   ],
   "source": [
    "try:\n",
    "    a=input(\"Enter a number :\")\n",
    "    z=eval(input(\"Enter a second number:\"))\n",
    "    b=int(a)\n",
    "    result=b/z\n",
    "    k=[result,a,z,b]\n",
    "    print(k[10],k)\n",
    "\n",
    "except Exception as e:\n",
    "    print(e)\n",
    "print(\"bye\")"
   ]
  },
  {
   "cell_type": "code",
   "execution_count": 28,
   "id": "19f2a6e0-3dea-4b0e-a7dd-70a46f9e86eb",
   "metadata": {},
   "outputs": [
    {
     "name": "stdin",
     "output_type": "stream",
     "text": [
      "Enter a number : 10\n",
      "Enter a second number: 0\n"
     ]
    },
    {
     "name": "stdout",
     "output_type": "stream",
     "text": [
      "division by zero\n",
      "bye\n"
     ]
    }
   ],
   "source": [
    "try:\n",
    "    a=input(\"Enter a number :\")\n",
    "    z=eval(input(\"Enter a second number:\"))\n",
    "    b=int(a)\n",
    "    result=b/z\n",
    "    k=[result,a,z,b]\n",
    "    print(k[10],k)\n",
    "\n",
    "except Exception as e:\n",
    "    print(e)\n",
    "print(\"bye\")"
   ]
  },
  {
   "cell_type": "code",
   "execution_count": 29,
   "id": "4ad0ee59-4548-46a3-8833-515bc6bf6510",
   "metadata": {},
   "outputs": [
    {
     "name": "stdin",
     "output_type": "stream",
     "text": [
      "Enter a number : 10\n",
      "Enter a second number: 20\n"
     ]
    },
    {
     "name": "stdout",
     "output_type": "stream",
     "text": [
      "list index out of range\n",
      "bye\n"
     ]
    }
   ],
   "source": [
    "try:\n",
    "    a=input(\"Enter a number :\")\n",
    "    z=eval(input(\"Enter a second number:\"))\n",
    "    b=int(a)\n",
    "    result=b/z\n",
    "    k=[result,a,z,b]\n",
    "    print(k[10],k)\n",
    "\n",
    "except Exception as e:\n",
    "    print(e)\n",
    "print(\"bye\")"
   ]
  },
  {
   "cell_type": "code",
   "execution_count": 30,
   "id": "00ad3a63-c240-42e5-94dd-402439a9b26b",
   "metadata": {},
   "outputs": [
    {
     "name": "stdin",
     "output_type": "stream",
     "text": [
      "Enter a number : 10.00\n",
      "Enter a second number: 20\n"
     ]
    },
    {
     "name": "stdout",
     "output_type": "stream",
     "text": [
      "Out of service\n",
      "bye\n"
     ]
    }
   ],
   "source": [
    "try:\n",
    "    a=input(\"Enter a number :\")\n",
    "    z=eval(input(\"Enter a second number:\"))\n",
    "    b=int(a)\n",
    "    result=b/z\n",
    "    k=[result,a,z,b]\n",
    "    print(k[10],k)\n",
    "\n",
    "except:\n",
    "    print(\"Out of service\")\n",
    "print(\"bye\")"
   ]
  },
  {
   "cell_type": "code",
   "execution_count": 31,
   "id": "61017545-c081-487e-a9c9-e5a983c9e875",
   "metadata": {},
   "outputs": [
    {
     "name": "stdin",
     "output_type": "stream",
     "text": [
      "Enter a number : 10\n",
      "Enter a second number: 20\n"
     ]
    },
    {
     "name": "stdout",
     "output_type": "stream",
     "text": [
      "Out of service\n",
      "bye\n"
     ]
    }
   ],
   "source": [
    "try:\n",
    "    a=input(\"Enter a number :\")\n",
    "    z=eval(input(\"Enter a second number:\"))\n",
    "    b=int(a)\n",
    "    result=b/z\n",
    "    k=[result,a,z,b]\n",
    "    print(k[10],k)\n",
    "\n",
    "except:\n",
    "    print(\"Out of service\")\n",
    "print(\"bye\")"
   ]
  },
  {
   "cell_type": "code",
   "execution_count": 32,
   "id": "37b3b05c-b93a-48f8-82b8-d2dce70cfce7",
   "metadata": {},
   "outputs": [
    {
     "name": "stdin",
     "output_type": "stream",
     "text": [
      "Enter a number : 10\n",
      "Enter a second number: 0\n"
     ]
    },
    {
     "name": "stdout",
     "output_type": "stream",
     "text": [
      "Out of service\n",
      "bye\n"
     ]
    }
   ],
   "source": [
    "try:\n",
    "    a=input(\"Enter a number :\")\n",
    "    z=eval(input(\"Enter a second number:\"))\n",
    "    b=int(a)\n",
    "    result=b/z\n",
    "    k=[result,a,z,b]\n",
    "    print(k[10],k)\n",
    "\n",
    "except:\n",
    "    print(\"Out of service\")\n",
    "print(\"bye\")"
   ]
  },
  {
   "cell_type": "code",
   "execution_count": 33,
   "id": "74b52484-ca52-480e-9486-99570533db90",
   "metadata": {},
   "outputs": [
    {
     "name": "stdin",
     "output_type": "stream",
     "text": [
      "Enter a number : 10\n",
      "Enter a second number: 20\n"
     ]
    },
    {
     "name": "stdout",
     "output_type": "stream",
     "text": [
      "list index out of range\n",
      "bye\n"
     ]
    }
   ],
   "source": [
    "try:\n",
    "    a=input(\"Enter a number :\")\n",
    "    z=eval(input(\"Enter a second number:\"))\n",
    "    b=int(a)\n",
    "    result=b/z\n",
    "    k=[result,a,z,b]\n",
    "    print(k[10],k)\n",
    "except ValueError as e:\n",
    "    print(e)\n",
    "except SyntaxError as e:\n",
    "    print(e)\n",
    "except NameError as e:\n",
    "    print(e)\n",
    "except ZeroDivisionError as e:\n",
    "    print(e)\n",
    "except IndexError as e:\n",
    "    print(e)\n",
    "except Exception as e:\n",
    "    print(e)\n",
    "finally:\n",
    "    print(\"bye\")"
   ]
  },
  {
   "cell_type": "code",
   "execution_count": 34,
   "id": "b342ba76-dc7e-472e-96e4-0681fd48f1d1",
   "metadata": {},
   "outputs": [
    {
     "name": "stdin",
     "output_type": "stream",
     "text": [
      "Enter a number : 10\n",
      "Enter a second number: 20\n"
     ]
    },
    {
     "name": "stdout",
     "output_type": "stream",
     "text": [
      "0.5 [0.5, '10', 20, 10]\n",
      "bye\n"
     ]
    }
   ],
   "source": [
    "try:\n",
    "    a=input(\"Enter a number :\")\n",
    "    z=eval(input(\"Enter a second number:\"))\n",
    "    b=int(a)\n",
    "    result=b/z\n",
    "    k=[result,a,z,b]\n",
    "    print(k[0],k)\n",
    "except ValueError as e:\n",
    "    print(e)\n",
    "except SyntaxError as e:\n",
    "    print(e)\n",
    "except NameError as e:\n",
    "    print(e)\n",
    "except ZeroDivisionError as e:\n",
    "    print(e)\n",
    "except IndexError as e:\n",
    "    print(e)\n",
    "except Exception as e:\n",
    "    print(e)\n",
    "finally:\n",
    "    print(\"bye\")"
   ]
  },
  {
   "cell_type": "code",
   "execution_count": null,
   "id": "d53b3079-29bb-4931-a69f-9758888e4796",
   "metadata": {},
   "outputs": [],
   "source": []
  }
 ],
 "metadata": {
  "kernelspec": {
   "display_name": "Python 3 (ipykernel)",
   "language": "python",
   "name": "python3"
  },
  "language_info": {
   "codemirror_mode": {
    "name": "ipython",
    "version": 3
   },
   "file_extension": ".py",
   "mimetype": "text/x-python",
   "name": "python",
   "nbconvert_exporter": "python",
   "pygments_lexer": "ipython3",
   "version": "3.11.5"
  }
 },
 "nbformat": 4,
 "nbformat_minor": 5
}
