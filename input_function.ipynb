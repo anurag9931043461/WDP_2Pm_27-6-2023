{
 "cells": [
  {
   "cell_type": "code",
   "execution_count": 1,
   "id": "851234e6-7fd8-42af-95ee-5758763feab4",
   "metadata": {},
   "outputs": [
    {
     "name": "stdin",
     "output_type": "stream",
     "text": [
      "Enter your 4 digit pin:  9807\n"
     ]
    }
   ],
   "source": []
  },
  {
   "cell_type": "code",
   "execution_count": 2,
   "id": "7126daa3-f0b7-4d1c-984b-432bf93a4894",
   "metadata": {
    "tags": []
   },
   "outputs": [
    {
     "name": "stdout",
     "output_type": "stream",
     "text": [
      "9807\n"
     ]
    }
   ],
   "source": [
    "print(a)"
   ]
  },
  {
   "cell_type": "code",
   "execution_count": 4,
   "id": "d380fd4f-3a75-4463-b0c6-1df42557ca14",
   "metadata": {
    "tags": []
   },
   "outputs": [
    {
     "name": "stdin",
     "output_type": "stream",
     "text": [
      "Enter your card number:  123456789\n",
      "Enter your 4 digit pin:  9807\n"
     ]
    }
   ],
   "source": [
    "card=input(\"Enter your card number: \")\n",
    "a=input(\"Enter your 4 digit pin: \")"
   ]
  },
  {
   "cell_type": "code",
   "execution_count": 5,
   "id": "95caf0b2-0543-41bd-8189-312e315970f9",
   "metadata": {
    "tags": []
   },
   "outputs": [
    {
     "name": "stdin",
     "output_type": "stream",
     "text": [
      " 9807\n"
     ]
    }
   ],
   "source": [
    "b=input()"
   ]
  },
  {
   "cell_type": "code",
   "execution_count": 6,
   "id": "edd8efb4-32c2-492c-8fda-4f2939d87835",
   "metadata": {
    "tags": []
   },
   "outputs": [
    {
     "data": {
      "text/plain": [
       "str"
      ]
     },
     "execution_count": 6,
     "metadata": {},
     "output_type": "execute_result"
    }
   ],
   "source": [
    "type(b)"
   ]
  },
  {
   "cell_type": "code",
   "execution_count": 9,
   "id": "8e1b4b7a-e98f-4ce1-966f-f6982a40fa3d",
   "metadata": {
    "tags": []
   },
   "outputs": [],
   "source": [
    "a='1234567890.8098a'"
   ]
  },
  {
   "cell_type": "code",
   "execution_count": 11,
   "id": "36e9f118-8369-40c8-b7e4-e3bece693c01",
   "metadata": {
    "tags": []
   },
   "outputs": [
    {
     "name": "stdin",
     "output_type": "stream",
     "text": [
      "Enter your 1st number: 10\n",
      "Enter your 2nd number: 20\n"
     ]
    },
    {
     "name": "stdout",
     "output_type": "stream",
     "text": [
      "1020\n"
     ]
    }
   ],
   "source": [
    "b=input(\"Enter your 1st number:\")\n",
    "c=input(\"Enter your 2nd number:\")\n",
    "print(b+c)"
   ]
  },
  {
   "cell_type": "code",
   "execution_count": 12,
   "id": "053b7c45-1075-497c-af12-d61db9ba56be",
   "metadata": {
    "tags": []
   },
   "outputs": [
    {
     "name": "stdin",
     "output_type": "stream",
     "text": [
      "Enter your 1st number: 10\n",
      "Enter your 2nd number: 20\n"
     ]
    },
    {
     "name": "stdout",
     "output_type": "stream",
     "text": [
      "30\n"
     ]
    }
   ],
   "source": [
    "b=input(\"Enter your 1st number:\")\n",
    "d=int(b)\n",
    "c=input(\"Enter your 2nd number:\")\n",
    "e=int(c)\n",
    "print(d+e)"
   ]
  },
  {
   "cell_type": "code",
   "execution_count": 13,
   "id": "9ac1f09d-8d15-4a87-8a58-18850e8281f2",
   "metadata": {
    "tags": []
   },
   "outputs": [
    {
     "name": "stdin",
     "output_type": "stream",
     "text": [
      "Enter your 1st number: 10\n",
      "Enter your 2nd number: 20\n"
     ]
    },
    {
     "name": "stdout",
     "output_type": "stream",
     "text": [
      "30\n"
     ]
    }
   ],
   "source": [
    "d=int(input(\"Enter your 1st number:\"))\n",
    "e=int(input(\"Enter your 2nd number:\"))\n",
    "print(d+e)"
   ]
  },
  {
   "cell_type": "code",
   "execution_count": 14,
   "id": "7eb9ec5f-9982-4843-a1ff-7297592bf00c",
   "metadata": {
    "tags": []
   },
   "outputs": [
    {
     "name": "stdin",
     "output_type": "stream",
     "text": [
      "Enter your 1st number: 10\n",
      "Enter your 2nd number: 20\n"
     ]
    },
    {
     "name": "stdout",
     "output_type": "stream",
     "text": [
      "30\n"
     ]
    }
   ],
   "source": [
    "print(int(input(\"Enter your 1st number:\"))+int(input(\"Enter your 2nd number:\")))"
   ]
  },
  {
   "cell_type": "code",
   "execution_count": 15,
   "id": "4a863641-50ec-4b6a-883b-1be713d8155e",
   "metadata": {
    "tags": []
   },
   "outputs": [
    {
     "name": "stdin",
     "output_type": "stream",
     "text": [
      "Enter your 1st number: 10.45\n"
     ]
    },
    {
     "ename": "ValueError",
     "evalue": "invalid literal for int() with base 10: '10.45'",
     "output_type": "error",
     "traceback": [
      "\u001b[1;31m---------------------------------------------------------------------------\u001b[0m",
      "\u001b[1;31mValueError\u001b[0m                                Traceback (most recent call last)",
      "Cell \u001b[1;32mIn[15], line 2\u001b[0m\n\u001b[0;32m      1\u001b[0m b\u001b[38;5;241m=\u001b[39m\u001b[38;5;28minput\u001b[39m(\u001b[38;5;124m\"\u001b[39m\u001b[38;5;124mEnter your 1st number:\u001b[39m\u001b[38;5;124m\"\u001b[39m)\n\u001b[1;32m----> 2\u001b[0m d\u001b[38;5;241m=\u001b[39m\u001b[38;5;28mint\u001b[39m(b)\n\u001b[0;32m      3\u001b[0m c\u001b[38;5;241m=\u001b[39m\u001b[38;5;28minput\u001b[39m(\u001b[38;5;124m\"\u001b[39m\u001b[38;5;124mEnter your 2nd number:\u001b[39m\u001b[38;5;124m\"\u001b[39m)\n\u001b[0;32m      4\u001b[0m e\u001b[38;5;241m=\u001b[39m\u001b[38;5;28mint\u001b[39m(c)\n",
      "\u001b[1;31mValueError\u001b[0m: invalid literal for int() with base 10: '10.45'"
     ]
    }
   ],
   "source": [
    "b=input(\"Enter your 1st number:\")\n",
    "d=int(b)\n",
    "c=input(\"Enter your 2nd number:\")\n",
    "e=int(c)\n",
    "print(d+e)"
   ]
  },
  {
   "cell_type": "code",
   "execution_count": 16,
   "id": "2755eb55-d2f8-40d9-a740-47697f332e4a",
   "metadata": {
    "tags": []
   },
   "outputs": [
    {
     "name": "stdin",
     "output_type": "stream",
     "text": [
      "Enter your 1st number: 10.45\n",
      "Enter your 2nd number: 20\n"
     ]
    },
    {
     "name": "stdout",
     "output_type": "stream",
     "text": [
      "30.45\n"
     ]
    }
   ],
   "source": [
    "b=input(\"Enter your 1st number:\")\n",
    "d=eval(b)\n",
    "c=input(\"Enter your 2nd number:\")\n",
    "e=eval(c)\n",
    "print(d+e)"
   ]
  },
  {
   "cell_type": "code",
   "execution_count": 17,
   "id": "b857a857-96d2-421d-adf9-d192840671a3",
   "metadata": {
    "tags": []
   },
   "outputs": [
    {
     "name": "stdin",
     "output_type": "stream",
     "text": [
      "Enter your 1st number: 10.05\n"
     ]
    },
    {
     "name": "stdout",
     "output_type": "stream",
     "text": [
      "b <class 'str'> 10.05\n",
      "d <class 'float'> 10.05\n"
     ]
    },
    {
     "name": "stdin",
     "output_type": "stream",
     "text": [
      "Enter your 2nd number: 20\n"
     ]
    },
    {
     "name": "stdout",
     "output_type": "stream",
     "text": [
      "c <class 'str'> 20\n",
      "e <class 'int'> 20\n",
      "30.05\n"
     ]
    }
   ],
   "source": [
    "b=input(\"Enter your 1st number:\")\n",
    "print(\"b\",type(b),b)\n",
    "d=eval(b)\n",
    "print(\"d\",type(d),d)\n",
    "c=input(\"Enter your 2nd number:\")\n",
    "print(\"c\",type(c),c)\n",
    "e=eval(c)\n",
    "print(\"e\",type(e),e)\n",
    "print(d+e)"
   ]
  },
  {
   "cell_type": "code",
   "execution_count": 18,
   "id": "4200c5b1-54ec-490f-9ec3-01588f497f38",
   "metadata": {
    "tags": []
   },
   "outputs": [
    {
     "name": "stdin",
     "output_type": "stream",
     "text": [
      "Enter your 1st number: 10.25\n",
      "Enter your 2nd number: 25.54\n"
     ]
    },
    {
     "name": "stdout",
     "output_type": "stream",
     "text": [
      "35.79\n"
     ]
    }
   ],
   "source": [
    "d=eval(input(\"Enter your 1st number:\"))\n",
    "e=eval(input(\"Enter your 2nd number:\"))\n",
    "print(d+e)"
   ]
  },
  {
   "cell_type": "code",
   "execution_count": 19,
   "id": "a177ee64-177f-45e3-8c17-5727fb3e4e23",
   "metadata": {
    "tags": []
   },
   "outputs": [
    {
     "name": "stdin",
     "output_type": "stream",
     "text": [
      "Enter your 1st number: 10.25454654654654654654654\n",
      "Enter your 2nd number: 20.46546546542165465165165465\n"
     ]
    },
    {
     "name": "stdout",
     "output_type": "stream",
     "text": [
      "30.7200120119682\n"
     ]
    }
   ],
   "source": [
    "print(eval(input(\"Enter your 1st number:\"))+eval(input(\"Enter your 2nd number:\")))"
   ]
  },
  {
   "cell_type": "code",
   "execution_count": 21,
   "id": "82c259ac-9e7e-4e15-b519-d8661a4c8eee",
   "metadata": {
    "tags": []
   },
   "outputs": [
    {
     "name": "stdin",
     "output_type": "stream",
     "text": [
      "enter your number: 10\n"
     ]
    },
    {
     "name": "stdout",
     "output_type": "stream",
     "text": [
      "<class 'str'> 10\n",
      "<class 'int'> 10\n"
     ]
    }
   ],
   "source": [
    "a=input(\"enter your number:\")\n",
    "print(type(a),a)\n",
    "c=int(a)\n",
    "print(type(c),c)"
   ]
  },
  {
   "cell_type": "code",
   "execution_count": 22,
   "id": "ed9d56bd-6b16-4cb0-9c21-b24aff99ad1b",
   "metadata": {
    "tags": []
   },
   "outputs": [
    {
     "name": "stdin",
     "output_type": "stream",
     "text": [
      "enter your number: 10\n"
     ]
    },
    {
     "name": "stdout",
     "output_type": "stream",
     "text": [
      "<class 'str'> 10\n",
      "<class 'float'> 10.0\n"
     ]
    }
   ],
   "source": [
    "a=input(\"enter your number:\")\n",
    "print(type(a),a)\n",
    "c=float(a)\n",
    "print(type(c),c)"
   ]
  },
  {
   "cell_type": "code",
   "execution_count": 23,
   "id": "c9de0051-c466-4f7d-b6e2-af3bdc3e2c48",
   "metadata": {
    "tags": []
   },
   "outputs": [
    {
     "name": "stdin",
     "output_type": "stream",
     "text": [
      "enter your number: 10.25\n"
     ]
    },
    {
     "name": "stdout",
     "output_type": "stream",
     "text": [
      "<class 'str'> 10.25\n"
     ]
    },
    {
     "ename": "ValueError",
     "evalue": "invalid literal for int() with base 10: '10.25'",
     "output_type": "error",
     "traceback": [
      "\u001b[1;31m---------------------------------------------------------------------------\u001b[0m",
      "\u001b[1;31mValueError\u001b[0m                                Traceback (most recent call last)",
      "Cell \u001b[1;32mIn[23], line 3\u001b[0m\n\u001b[0;32m      1\u001b[0m a\u001b[38;5;241m=\u001b[39m\u001b[38;5;28minput\u001b[39m(\u001b[38;5;124m\"\u001b[39m\u001b[38;5;124menter your number:\u001b[39m\u001b[38;5;124m\"\u001b[39m)\n\u001b[0;32m      2\u001b[0m \u001b[38;5;28mprint\u001b[39m(\u001b[38;5;28mtype\u001b[39m(a),a)\n\u001b[1;32m----> 3\u001b[0m c\u001b[38;5;241m=\u001b[39m\u001b[38;5;28mint\u001b[39m(a)\n\u001b[0;32m      4\u001b[0m \u001b[38;5;28mprint\u001b[39m(\u001b[38;5;28mtype\u001b[39m(c),c)\n",
      "\u001b[1;31mValueError\u001b[0m: invalid literal for int() with base 10: '10.25'"
     ]
    }
   ],
   "source": [
    "a=input(\"enter your number:\")\n",
    "print(type(a),a)\n",
    "c=int(a)\n",
    "print(type(c),c)"
   ]
  },
  {
   "cell_type": "code",
   "execution_count": 24,
   "id": "4495649a-e386-4b05-97e7-758dd9aae52e",
   "metadata": {
    "tags": []
   },
   "outputs": [
    {
     "name": "stdin",
     "output_type": "stream",
     "text": [
      "enter your number: 10.25\n"
     ]
    },
    {
     "name": "stdout",
     "output_type": "stream",
     "text": [
      "<class 'str'> 10.25\n",
      "<class 'int'> 10\n"
     ]
    }
   ],
   "source": [
    "a=input(\"enter your number:\")\n",
    "print(type(a),a)\n",
    "c=int(float(a))\n",
    "print(type(c),c)"
   ]
  },
  {
   "cell_type": "code",
   "execution_count": 25,
   "id": "81679644-c11c-4cdc-8bae-7a7ef6a722b1",
   "metadata": {
    "tags": []
   },
   "outputs": [
    {
     "name": "stdin",
     "output_type": "stream",
     "text": [
      "enter your number: 10.25\n"
     ]
    },
    {
     "name": "stdout",
     "output_type": "stream",
     "text": [
      "<class 'str'> 10.25\n",
      "<class 'float'> 10.25\n"
     ]
    }
   ],
   "source": [
    "a=input(\"enter your number:\")\n",
    "print(type(a),a)\n",
    "c=eval(a)\n",
    "print(type(c),c)"
   ]
  },
  {
   "cell_type": "code",
   "execution_count": 27,
   "id": "010c352a-7dbf-401b-878c-62003d2e3741",
   "metadata": {
    "tags": []
   },
   "outputs": [
    {
     "name": "stdin",
     "output_type": "stream",
     "text": [
      "enter your number: 10.25k\n"
     ]
    },
    {
     "name": "stdout",
     "output_type": "stream",
     "text": [
      "<class 'str'> 10.25k\n"
     ]
    },
    {
     "ename": "SyntaxError",
     "evalue": "invalid decimal literal (<string>, line 1)",
     "output_type": "error",
     "traceback": [
      "Traceback \u001b[1;36m(most recent call last)\u001b[0m:\n",
      "\u001b[0m  File \u001b[0;32m~\\anaconda2\\Lib\\site-packages\\IPython\\core\\interactiveshell.py:3505\u001b[0m in \u001b[0;35mrun_code\u001b[0m\n    exec(code_obj, self.user_global_ns, self.user_ns)\u001b[0m\n",
      "\u001b[1;36m  Cell \u001b[1;32mIn[27], line 3\u001b[1;36m\n\u001b[1;33m    c=eval(a)\u001b[1;36m\n",
      "\u001b[1;36m  File \u001b[1;32m<string>:1\u001b[1;36m\u001b[0m\n\u001b[1;33m    10.25k\u001b[0m\n\u001b[1;37m        ^\u001b[0m\n\u001b[1;31mSyntaxError\u001b[0m\u001b[1;31m:\u001b[0m invalid decimal literal\n"
     ]
    }
   ],
   "source": [
    "a=input(\"enter your number:\")\n",
    "print(type(a),a)\n",
    "c=eval(a)\n",
    "print(type(c),c)"
   ]
  },
  {
   "cell_type": "code",
   "execution_count": 29,
   "id": "8d4a9e33-f440-486b-abd0-97c37f49e29a",
   "metadata": {
    "tags": []
   },
   "outputs": [],
   "source": [
    "import re"
   ]
  },
  {
   "cell_type": "code",
   "execution_count": 43,
   "id": "1858da4c-a3d9-423f-bef9-f3b48f821430",
   "metadata": {
    "tags": []
   },
   "outputs": [],
   "source": [
    "a=\"10.25k\""
   ]
  },
  {
   "cell_type": "code",
   "execution_count": 45,
   "id": "70e79c98-58f8-4775-b069-21f5f1f18af3",
   "metadata": {
    "tags": []
   },
   "outputs": [],
   "source": [
    "b=re.sub(\"[A-z]\",\"\",a)"
   ]
  },
  {
   "cell_type": "code",
   "execution_count": 48,
   "id": "2c5fb837-eed2-4cb8-9246-1945b7f2de81",
   "metadata": {
    "tags": []
   },
   "outputs": [
    {
     "name": "stdout",
     "output_type": "stream",
     "text": [
      "<class 'float'>\n"
     ]
    }
   ],
   "source": [
    "c=eval(b)\n",
    "print(type(c))"
   ]
  },
  {
   "cell_type": "code",
   "execution_count": null,
   "id": "1a737fd4-6ceb-4bca-b2ba-40e9a1137934",
   "metadata": {},
   "outputs": [],
   "source": []
  }
 ],
 "metadata": {
  "kernelspec": {
   "display_name": "Python 3 (ipykernel)",
   "language": "python",
   "name": "python3"
  },
  "language_info": {
   "codemirror_mode": {
    "name": "ipython",
    "version": 3
   },
   "file_extension": ".py",
   "mimetype": "text/x-python",
   "name": "python",
   "nbconvert_exporter": "python",
   "pygments_lexer": "ipython3",
   "version": "3.11.3"
  }
 },
 "nbformat": 4,
 "nbformat_minor": 5
}
