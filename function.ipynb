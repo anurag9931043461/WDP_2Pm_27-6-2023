{
 "cells": [
  {
   "cell_type": "markdown",
   "id": "c7f8d082-8d4f-4b1c-9c64-9b3cd0ccb692",
   "metadata": {},
   "source": [
    "# function \n",
    "    > def \n",
    "\n",
    "        > key value argument\n",
    "        \n",
    "        > arbitrary argument. \n",
    "        \n",
    "        > keyword argument\n",
    "        \n",
    "        > arbitrary position argument\n",
    "\n",
    "        > arbitrary keyword argument\n",
    "        \n",
    "    > return \n",
    "    \n",
    "    > local variable\n",
    "    \n",
    "    > global variable\n",
    "    \n",
    "    > local scope \n",
    "    \n",
    "    > global scope\n",
    "    \n",
    "    > lambda(anonymous function, fat function )\n",
    "    \n",
    "    > decorator\n",
    "    \n",
    "    > generator"
   ]
  },
  {
   "cell_type": "code",
   "execution_count": 3,
   "id": "9dbc1b85-0c26-4f48-b1de-9766ee731df2",
   "metadata": {},
   "outputs": [
    {
     "name": "stdout",
     "output_type": "stream",
     "text": [
      "hello world\n",
      "hello world\n",
      "hello world\n",
      "hello world\n",
      "hello world\n"
     ]
    }
   ],
   "source": [
    "print(\"hello world\")\n",
    "print(\"hello world\")\n",
    "print(\"hello world\")\n",
    "print(\"hello world\")\n",
    "print(\"hello world\")"
   ]
  },
  {
   "cell_type": "code",
   "execution_count": 9,
   "id": "b7fdeac2-eb56-4cb7-b57e-ced916f98675",
   "metadata": {},
   "outputs": [],
   "source": [
    "def hello():\n",
    "    for i in range(5):\n",
    "        print(\"hello world\")"
   ]
  },
  {
   "cell_type": "code",
   "execution_count": 10,
   "id": "8063774d-254d-404f-87d1-2db6974a0c01",
   "metadata": {},
   "outputs": [
    {
     "name": "stdout",
     "output_type": "stream",
     "text": [
      "hello world\n",
      "hello world\n",
      "hello world\n",
      "hello world\n",
      "hello world\n"
     ]
    }
   ],
   "source": [
    "hello()"
   ]
  },
  {
   "cell_type": "code",
   "execution_count": 5,
   "id": "b8f69dd0-8fba-4b83-8b5c-06ae17ac3c65",
   "metadata": {},
   "outputs": [
    {
     "name": "stdout",
     "output_type": "stream",
     "text": [
      "I am krishna\n"
     ]
    }
   ],
   "source": [
    "print(\"I am krishna\")"
   ]
  },
  {
   "cell_type": "code",
   "execution_count": 13,
   "id": "ff9682ac-eb66-42ec-b094-d3cedf37b863",
   "metadata": {},
   "outputs": [
    {
     "name": "stdout",
     "output_type": "stream",
     "text": [
      "hello world\n",
      "hello world\n",
      "hello world\n",
      "hello world\n",
      "hello world\n"
     ]
    }
   ],
   "source": [
    "# for i in range(5):\n",
    "#     print(\"hello world\")\n",
    "hello()"
   ]
  },
  {
   "cell_type": "code",
   "execution_count": 7,
   "id": "221635d5-8298-4669-9d3c-3684c7ab3a3c",
   "metadata": {},
   "outputs": [
    {
     "name": "stdout",
     "output_type": "stream",
     "text": [
      "I am AI Trainer\n"
     ]
    }
   ],
   "source": [
    "print(\"I am AI Trainer\")"
   ]
  },
  {
   "cell_type": "code",
   "execution_count": 14,
   "id": "3d785374-4746-49de-bbad-e363ed206f3f",
   "metadata": {},
   "outputs": [
    {
     "name": "stdout",
     "output_type": "stream",
     "text": [
      "hello world\n",
      "hello world\n",
      "hello world\n",
      "hello world\n",
      "hello world\n"
     ]
    }
   ],
   "source": [
    "hello()"
   ]
  },
  {
   "cell_type": "code",
   "execution_count": 19,
   "id": "390a9057-2a63-4c42-9e0e-eaafbc186101",
   "metadata": {},
   "outputs": [],
   "source": [
    "def pattern():\n",
    "    for i in range(5):\n",
    "        for j in range(i+1):\n",
    "            print(\"*\",end=\"\")\n",
    "        print()"
   ]
  },
  {
   "cell_type": "code",
   "execution_count": 22,
   "id": "9e527cba-b9f3-4be9-8667-e5f4ff271390",
   "metadata": {},
   "outputs": [
    {
     "name": "stdout",
     "output_type": "stream",
     "text": [
      "*\n",
      "**\n",
      "***\n",
      "****\n",
      "*****\n"
     ]
    }
   ],
   "source": [
    "pattern()"
   ]
  },
  {
   "cell_type": "code",
   "execution_count": 23,
   "id": "1da1288f-76e4-48a7-bb36-708a4f325171",
   "metadata": {},
   "outputs": [],
   "source": [
    "def intro():\n",
    "    print(\"I am krishna\")"
   ]
  },
  {
   "cell_type": "code",
   "execution_count": 24,
   "id": "03d5c078-3aa7-4fd8-a4dc-16d165e83f4a",
   "metadata": {},
   "outputs": [
    {
     "name": "stdout",
     "output_type": "stream",
     "text": [
      "I am krishna\n"
     ]
    }
   ],
   "source": [
    "intro()"
   ]
  },
  {
   "cell_type": "code",
   "execution_count": 25,
   "id": "d16ba657-d83f-4355-98a7-3d7a9d198bd3",
   "metadata": {},
   "outputs": [
    {
     "name": "stdout",
     "output_type": "stream",
     "text": [
      "I am krishna\n"
     ]
    }
   ],
   "source": [
    "intro()"
   ]
  },
  {
   "cell_type": "code",
   "execution_count": 26,
   "id": "4c96e1fa-599b-4da0-bed1-2fdd1bfa540e",
   "metadata": {},
   "outputs": [],
   "source": [
    "def intro2(name):\n",
    "    print(\"I am {}\".format(name))"
   ]
  },
  {
   "cell_type": "code",
   "execution_count": 27,
   "id": "93122780-35fe-480e-8e75-a079898e474c",
   "metadata": {},
   "outputs": [
    {
     "name": "stdout",
     "output_type": "stream",
     "text": [
      "I am Dipanshu\n"
     ]
    }
   ],
   "source": [
    "intro2(\"Dipanshu\")"
   ]
  },
  {
   "cell_type": "code",
   "execution_count": 28,
   "id": "24b6d231-038a-49c5-81b8-355061037e28",
   "metadata": {},
   "outputs": [
    {
     "name": "stdout",
     "output_type": "stream",
     "text": [
      "I am Krishna\n"
     ]
    }
   ],
   "source": [
    "intro2(\"Krishna\")"
   ]
  },
  {
   "cell_type": "code",
   "execution_count": 29,
   "id": "791af439-812c-4f4c-9f1b-b36f40aa4528",
   "metadata": {},
   "outputs": [
    {
     "ename": "TypeError",
     "evalue": "intro2() takes 1 positional argument but 2 were given",
     "output_type": "error",
     "traceback": [
      "\u001b[1;31m---------------------------------------------------------------------------\u001b[0m",
      "\u001b[1;31mTypeError\u001b[0m                                 Traceback (most recent call last)",
      "Cell \u001b[1;32mIn[29], line 1\u001b[0m\n\u001b[1;32m----> 1\u001b[0m \u001b[43mintro2\u001b[49m\u001b[43m(\u001b[49m\u001b[38;5;124;43m\"\u001b[39;49m\u001b[38;5;124;43mkrishna\u001b[39;49m\u001b[38;5;124;43m\"\u001b[39;49m\u001b[43m,\u001b[49m\u001b[38;5;124;43m\"\u001b[39;49m\u001b[38;5;124;43mRadha\u001b[39;49m\u001b[38;5;124;43m\"\u001b[39;49m\u001b[43m)\u001b[49m\n",
      "\u001b[1;31mTypeError\u001b[0m: intro2() takes 1 positional argument but 2 were given"
     ]
    }
   ],
   "source": [
    "intro2(\"krishna\",\"Radha\")"
   ]
  },
  {
   "cell_type": "code",
   "execution_count": 30,
   "id": "e12a452d-cf2b-41a6-818c-6a4de93d9216",
   "metadata": {},
   "outputs": [],
   "source": [
    "a=10"
   ]
  },
  {
   "cell_type": "code",
   "execution_count": 31,
   "id": "72d58268-c1a1-4f9e-9c40-7d6f066e0245",
   "metadata": {},
   "outputs": [
    {
     "data": {
      "text/plain": [
       "140732323587144"
      ]
     },
     "execution_count": 31,
     "metadata": {},
     "output_type": "execute_result"
    }
   ],
   "source": [
    "id(a)"
   ]
  },
  {
   "cell_type": "code",
   "execution_count": null,
   "id": "e3c23939-5dcc-4e31-9db1-22553efd42ed",
   "metadata": {},
   "outputs": [],
   "source": [
    "id()"
   ]
  },
  {
   "cell_type": "code",
   "execution_count": 32,
   "id": "c5057341-7cd9-45bb-b4a6-46df7e36b028",
   "metadata": {},
   "outputs": [
    {
     "data": {
      "text/plain": [
       "int"
      ]
     },
     "execution_count": 32,
     "metadata": {},
     "output_type": "execute_result"
    }
   ],
   "source": [
    "type()"
   ]
  },
  {
   "cell_type": "code",
   "execution_count": null,
   "id": "882fa6b9-766b-46d9-bbd9-6617361fa8ce",
   "metadata": {},
   "outputs": [],
   "source": [
    "intro2()"
   ]
  },
  {
   "cell_type": "code",
   "execution_count": 33,
   "id": "677b2be8-ef06-4466-9acd-7cc66cccb6fa",
   "metadata": {},
   "outputs": [
    {
     "name": "stdout",
     "output_type": "stream",
     "text": [
      "I am krishna\n"
     ]
    }
   ],
   "source": [
    "intro()"
   ]
  },
  {
   "cell_type": "code",
   "execution_count": 34,
   "id": "2c66309b-fdda-4787-92d6-429dd4bb6b08",
   "metadata": {},
   "outputs": [],
   "source": [
    "def intro3():\n",
    "    print(\"I am krishna, My father's name is Sunil and My mother name is Suman\")"
   ]
  },
  {
   "cell_type": "code",
   "execution_count": 35,
   "id": "77d5e3cc-34ea-4986-92af-2eee079c2690",
   "metadata": {},
   "outputs": [
    {
     "name": "stdout",
     "output_type": "stream",
     "text": [
      "I am krishna, My father's name is Sunil and My mother name is Suman\n"
     ]
    }
   ],
   "source": [
    "intro3()"
   ]
  },
  {
   "cell_type": "code",
   "execution_count": 36,
   "id": "6040e0e0-bae0-4b33-95bf-50bee93ffadf",
   "metadata": {},
   "outputs": [],
   "source": [
    "def intro3(name,father_name,Mother_name):\n",
    "    print(\"I am {}, My father's name is {} and My mother name is {}\".format(name,father_name,Mother_name))"
   ]
  },
  {
   "cell_type": "code",
   "execution_count": 37,
   "id": "f27af3f9-ddab-404c-8781-883e0adb2aad",
   "metadata": {},
   "outputs": [
    {
     "ename": "TypeError",
     "evalue": "intro3() missing 3 required positional arguments: 'name', 'father_name', and 'Mother_name'",
     "output_type": "error",
     "traceback": [
      "\u001b[1;31m---------------------------------------------------------------------------\u001b[0m",
      "\u001b[1;31mTypeError\u001b[0m                                 Traceback (most recent call last)",
      "Cell \u001b[1;32mIn[37], line 1\u001b[0m\n\u001b[1;32m----> 1\u001b[0m \u001b[43mintro3\u001b[49m\u001b[43m(\u001b[49m\u001b[43m)\u001b[49m\n",
      "\u001b[1;31mTypeError\u001b[0m: intro3() missing 3 required positional arguments: 'name', 'father_name', and 'Mother_name'"
     ]
    }
   ],
   "source": [
    "intro3()"
   ]
  },
  {
   "cell_type": "code",
   "execution_count": 38,
   "id": "e768a2eb-d35b-484c-9e47-01902507e5a3",
   "metadata": {},
   "outputs": [
    {
     "name": "stdout",
     "output_type": "stream",
     "text": [
      "I am Krishna, My father's name is Sunil and My mother name is Suman\n"
     ]
    }
   ],
   "source": [
    "intro3(\"Krishna\",\"Sunil\",\"Suman\")"
   ]
  },
  {
   "cell_type": "code",
   "execution_count": 46,
   "id": "0ba380c0-c336-4e19-a712-46ab68c11bc0",
   "metadata": {},
   "outputs": [],
   "source": [
    "def intro3(name,father_name,Mother_name):\n",
    "    print(F\"I am {name}, My father's name is {father_name} and My mother name is {Mother_name}\")"
   ]
  },
  {
   "cell_type": "code",
   "execution_count": 47,
   "id": "d45b2a73-12df-4555-bc7e-ebaef987b4d8",
   "metadata": {},
   "outputs": [
    {
     "name": "stdout",
     "output_type": "stream",
     "text": [
      "I am Krishna, My father's name is Sunil and My mother name is Suman\n"
     ]
    }
   ],
   "source": [
    "intro3(\"Krishna\",\"Sunil\",\"Suman\")"
   ]
  },
  {
   "cell_type": "code",
   "execution_count": 1,
   "id": "2b56d1fb-8fb1-45c2-9eea-c356be7524e9",
   "metadata": {},
   "outputs": [],
   "source": [
    "def add(a,b):\n",
    "    print(a+b)"
   ]
  },
  {
   "cell_type": "code",
   "execution_count": 4,
   "id": "22f47be2-6a1e-4008-a6c5-8bb6c539b4a8",
   "metadata": {},
   "outputs": [
    {
     "name": "stdout",
     "output_type": "stream",
     "text": [
      "30\n"
     ]
    }
   ],
   "source": [
    "a=add(10,20)"
   ]
  },
  {
   "cell_type": "code",
   "execution_count": 3,
   "id": "ad2d27f9-8b89-4079-aab8-1aa24b9de6c5",
   "metadata": {},
   "outputs": [
    {
     "name": "stdout",
     "output_type": "stream",
     "text": [
      "435543543543525423452744226\n"
     ]
    }
   ],
   "source": [
    "add(100000000000000000398884,435443543543525423452345342)"
   ]
  },
  {
   "cell_type": "code",
   "execution_count": 5,
   "id": "1d6367e6-7d3e-43e4-84f2-4ba9b79d7fae",
   "metadata": {},
   "outputs": [
    {
     "name": "stdout",
     "output_type": "stream",
     "text": [
      "None\n"
     ]
    }
   ],
   "source": [
    "print(a)"
   ]
  },
  {
   "cell_type": "markdown",
   "id": "90286ccd-8f6c-48b5-94ca-17bc277bbc54",
   "metadata": {},
   "source": [
    "# return "
   ]
  },
  {
   "cell_type": "code",
   "execution_count": 10,
   "id": "14cc1f6a-c140-442b-b4b8-9856c34ca07b",
   "metadata": {},
   "outputs": [],
   "source": [
    "def add(a,b):\n",
    "    return a+b"
   ]
  },
  {
   "cell_type": "code",
   "execution_count": 17,
   "id": "9a0bf961-12ae-4d50-9f95-77f7e39227d7",
   "metadata": {},
   "outputs": [
    {
     "name": "stdout",
     "output_type": "stream",
     "text": [
      "hello world\n"
     ]
    }
   ],
   "source": [
    "a=add(10,20)\n",
    "print(\"hello world\")"
   ]
  },
  {
   "cell_type": "code",
   "execution_count": 19,
   "id": "7364eab1-5005-4ac8-a42e-6f8032d24359",
   "metadata": {},
   "outputs": [
    {
     "data": {
      "text/plain": [
       "50"
      ]
     },
     "execution_count": 19,
     "metadata": {},
     "output_type": "execute_result"
    }
   ],
   "source": [
    "a+20"
   ]
  },
  {
   "cell_type": "code",
   "execution_count": 20,
   "id": "eba2b1ff-bdf1-4a4e-9d30-dd874b8ab0df",
   "metadata": {},
   "outputs": [
    {
     "name": "stdout",
     "output_type": "stream",
     "text": [
      "30\n"
     ]
    }
   ],
   "source": [
    "print(a)"
   ]
  },
  {
   "cell_type": "code",
   "execution_count": 27,
   "id": "bf1f87d8-0f3a-4426-b42d-099b4ac61ed4",
   "metadata": {},
   "outputs": [],
   "source": [
    "def add(a,b):\n",
    "    return(a+b)"
   ]
  },
  {
   "cell_type": "code",
   "execution_count": 28,
   "id": "feed62d8-9c0b-490c-8789-f9090e9a74ab",
   "metadata": {},
   "outputs": [
    {
     "name": "stdout",
     "output_type": "stream",
     "text": [
      "30\n",
      "hello world\n"
     ]
    }
   ],
   "source": [
    "print(add(10,20))\n",
    "print(\"hello world\")"
   ]
  },
  {
   "cell_type": "code",
   "execution_count": 26,
   "id": "125b8c66-0d67-4cd6-94d3-bb2dbfb09cda",
   "metadata": {},
   "outputs": [
    {
     "name": "stdout",
     "output_type": "stream",
     "text": [
      "hello\n",
      "None\n"
     ]
    }
   ],
   "source": [
    "print(print(\"hello\"))"
   ]
  },
  {
   "cell_type": "code",
   "execution_count": 29,
   "id": "7cb8877c-c9a7-4c47-8781-fa772424fd2c",
   "metadata": {},
   "outputs": [],
   "source": [
    "b=add(10,20)"
   ]
  },
  {
   "cell_type": "code",
   "execution_count": 30,
   "id": "aa3d252f-7fdb-4403-900d-07fa5840e39f",
   "metadata": {},
   "outputs": [
    {
     "data": {
      "text/plain": [
       "30"
      ]
     },
     "execution_count": 30,
     "metadata": {},
     "output_type": "execute_result"
    }
   ],
   "source": [
    "b"
   ]
  },
  {
   "cell_type": "code",
   "execution_count": 37,
   "id": "78136d2b-7dff-4459-8530-3d303e89e710",
   "metadata": {},
   "outputs": [],
   "source": [
    "def add(a,b):\n",
    "    return(a+b)"
   ]
  },
  {
   "cell_type": "code",
   "execution_count": 38,
   "id": "39968246-8557-4632-b3bd-cfd84b5aefb4",
   "metadata": {},
   "outputs": [],
   "source": [
    "def div(c):\n",
    "    return(c/2)"
   ]
  },
  {
   "cell_type": "code",
   "execution_count": 39,
   "id": "bcada451-7a72-4ae8-90dd-0950fdd0f302",
   "metadata": {},
   "outputs": [],
   "source": [
    "a=add(2,3)"
   ]
  },
  {
   "cell_type": "code",
   "execution_count": 40,
   "id": "f65c20de-23a8-4c40-87de-75748e4242c0",
   "metadata": {},
   "outputs": [
    {
     "data": {
      "text/plain": [
       "2.5"
      ]
     },
     "execution_count": 40,
     "metadata": {},
     "output_type": "execute_result"
    }
   ],
   "source": [
    "div(a)"
   ]
  },
  {
   "cell_type": "code",
   "execution_count": 41,
   "id": "da412156-3fb4-437b-8ea5-ce1f99a32f41",
   "metadata": {},
   "outputs": [],
   "source": [
    "def add_multiple():\n",
    "    a=(33,4,2,4)\n",
    "    b=0\n",
    "    for i in a:\n",
    "        b=b+i\n",
    "    return b"
   ]
  },
  {
   "cell_type": "code",
   "execution_count": 42,
   "id": "4f761494-9374-4ebd-86c4-7d02c4fb9ccf",
   "metadata": {},
   "outputs": [
    {
     "data": {
      "text/plain": [
       "43"
      ]
     },
     "execution_count": 42,
     "metadata": {},
     "output_type": "execute_result"
    }
   ],
   "source": [
    "add_multiple()"
   ]
  },
  {
   "cell_type": "code",
   "execution_count": 43,
   "id": "7f6a7ee4-b2be-4d80-b2bf-3b19eb6b7d1e",
   "metadata": {},
   "outputs": [],
   "source": [
    "def add_multiple(*n):\n",
    "    b=0\n",
    "    for i in n:\n",
    "        b=b+i\n",
    "    return b"
   ]
  },
  {
   "cell_type": "code",
   "execution_count": 48,
   "id": "b3515747-01c2-4deb-8be6-de722b588d54",
   "metadata": {},
   "outputs": [],
   "source": [
    "a=add_multiple(33,4,2,4,34,546,67,78,898 ,7,65,54,453,43,545)"
   ]
  },
  {
   "cell_type": "code",
   "execution_count": 49,
   "id": "bae9552f-8e40-4f6f-b21e-ce0cc019e2be",
   "metadata": {},
   "outputs": [
    {
     "name": "stdout",
     "output_type": "stream",
     "text": [
      "2833\n"
     ]
    }
   ],
   "source": [
    "print(a)"
   ]
  },
  {
   "cell_type": "code",
   "execution_count": 47,
   "id": "a0c37984-c553-4020-aeda-be562904886a",
   "metadata": {},
   "outputs": [
    {
     "data": {
      "text/plain": [
       "143"
      ]
     },
     "execution_count": 47,
     "metadata": {},
     "output_type": "execute_result"
    }
   ],
   "source": [
    "a+100"
   ]
  },
  {
   "cell_type": "code",
   "execution_count": 78,
   "id": "8a21d6d8-f3c6-4d4a-b205-4b7cff0dacad",
   "metadata": {},
   "outputs": [],
   "source": [
    "def add_multiple(*n):\n",
    "    print(n)\n",
    "    b=1\n",
    "    for i in n:\n",
    "        b=b*i\n",
    "    return b"
   ]
  },
  {
   "cell_type": "code",
   "execution_count": 79,
   "id": "d0eab1e2-23c2-4e4b-a942-23c02846392e",
   "metadata": {},
   "outputs": [
    {
     "name": "stdout",
     "output_type": "stream",
     "text": [
      "(3, 4, 5, 6, 3, 4, 5, 67, 7)\n"
     ]
    },
    {
     "data": {
      "text/plain": [
       "10130400"
      ]
     },
     "execution_count": 79,
     "metadata": {},
     "output_type": "execute_result"
    }
   ],
   "source": [
    "add_multiple(3,4,5,6,3,4,5,67,7)"
   ]
  },
  {
   "cell_type": "code",
   "execution_count": 53,
   "id": "5b2f36b0-d07c-4b8f-a334-eae4b61cdd65",
   "metadata": {},
   "outputs": [],
   "source": [
    "def intro(first_name,last_name):\n",
    "    print(first_name+last_name)"
   ]
  },
  {
   "cell_type": "code",
   "execution_count": 55,
   "id": "d0f8e31b-3b13-4442-bc23-e5146385a0eb",
   "metadata": {},
   "outputs": [
    {
     "name": "stdout",
     "output_type": "stream",
     "text": [
      "Nicky Kumar\n"
     ]
    }
   ],
   "source": [
    "intro(first_name=\"Nicky \",last_name=\"Kumar\")"
   ]
  },
  {
   "cell_type": "code",
   "execution_count": 56,
   "id": "588111cc-12a9-4919-8325-e998a9e418cc",
   "metadata": {},
   "outputs": [
    {
     "name": "stdout",
     "output_type": "stream",
     "text": [
      "Nicky Kumar\n"
     ]
    }
   ],
   "source": [
    "intro(first_name=\"Nicky\",last_name=\" Kumar\")"
   ]
  },
  {
   "cell_type": "code",
   "execution_count": 69,
   "id": "d14312ba-6e32-479b-ba3e-e6fa6c0f5cfb",
   "metadata": {},
   "outputs": [],
   "source": [
    "def pattern(n=5):\n",
    "    for i in range(n):\n",
    "        print(\"*\"*(i+1))"
   ]
  },
  {
   "cell_type": "code",
   "execution_count": 70,
   "id": "2c057cc6-05f8-4c64-b909-773fbbe02fab",
   "metadata": {},
   "outputs": [
    {
     "name": "stdout",
     "output_type": "stream",
     "text": [
      "*\n",
      "**\n",
      "***\n",
      "****\n",
      "*****\n"
     ]
    }
   ],
   "source": [
    "pattern()"
   ]
  },
  {
   "cell_type": "code",
   "execution_count": 71,
   "id": "671f4365-be11-4643-9958-3fa5ab4ae7ba",
   "metadata": {},
   "outputs": [
    {
     "name": "stdout",
     "output_type": "stream",
     "text": [
      "*\n",
      "**\n",
      "***\n",
      "****\n",
      "*****\n",
      "******\n",
      "*******\n",
      "********\n",
      "*********\n",
      "**********\n"
     ]
    }
   ],
   "source": [
    "pattern(10)"
   ]
  },
  {
   "cell_type": "code",
   "execution_count": 72,
   "id": "62538d67-6ea4-4dda-99e1-a2b32503e519",
   "metadata": {},
   "outputs": [
    {
     "name": "stdout",
     "output_type": "stream",
     "text": [
      "*\n",
      "**\n",
      "***\n",
      "****\n",
      "*****\n"
     ]
    }
   ],
   "source": [
    "pattern()"
   ]
  },
  {
   "cell_type": "code",
   "execution_count": 73,
   "id": "53c25574-6b77-44b6-a4a3-41b50c19281e",
   "metadata": {},
   "outputs": [],
   "source": [
    "def pattern(a,n=5):\n",
    "    for i in range(a,n):\n",
    "        print(\"*\"*(i+1))"
   ]
  },
  {
   "cell_type": "code",
   "execution_count": 75,
   "id": "ac3a2785-27bd-4a52-9be7-74fd14aa20cb",
   "metadata": {},
   "outputs": [
    {
     "name": "stdout",
     "output_type": "stream",
     "text": [
      "*\n",
      "**\n",
      "***\n",
      "****\n",
      "*****\n"
     ]
    }
   ],
   "source": [
    "pattern(0)"
   ]
  },
  {
   "cell_type": "code",
   "execution_count": 77,
   "id": "dffd9370-a58d-4214-965d-888db9dd4c47",
   "metadata": {},
   "outputs": [
    {
     "name": "stdout",
     "output_type": "stream",
     "text": [
      "*\n",
      "**\n",
      "***\n",
      "****\n",
      "*****\n",
      "******\n",
      "*******\n",
      "********\n",
      "*********\n",
      "**********\n"
     ]
    }
   ],
   "source": [
    "pattern(0,n=10)"
   ]
  },
  {
   "cell_type": "markdown",
   "id": "03fea4a4-1f0e-484e-b73d-65149cb2419f",
   "metadata": {},
   "source": [
    "# lambda function(anonymous function, => function )"
   ]
  },
  {
   "cell_type": "code",
   "execution_count": 80,
   "id": "07f25ed4-dd4c-4a86-bd76-b6e72523b039",
   "metadata": {},
   "outputs": [],
   "source": [
    "def add(a,b):\n",
    "    return a+b"
   ]
  },
  {
   "cell_type": "code",
   "execution_count": 85,
   "id": "57b739c0-4a90-4a18-8a60-d1504f128d7b",
   "metadata": {},
   "outputs": [
    {
     "name": "stdout",
     "output_type": "stream",
     "text": [
      "5\n"
     ]
    }
   ],
   "source": [
    "a=add(2,3)\n",
    "print(a)"
   ]
  },
  {
   "cell_type": "code",
   "execution_count": 82,
   "id": "dbc9cf20-e54c-47b1-8417-af10eb2cd37d",
   "metadata": {},
   "outputs": [],
   "source": [
    "x=lambda a,b:a+b"
   ]
  },
  {
   "cell_type": "code",
   "execution_count": 83,
   "id": "d86391ce-e4b2-4eea-980a-d63f8d789aab",
   "metadata": {},
   "outputs": [
    {
     "data": {
      "text/plain": [
       "5"
      ]
     },
     "execution_count": 83,
     "metadata": {},
     "output_type": "execute_result"
    }
   ],
   "source": [
    "x(2,3)"
   ]
  },
  {
   "cell_type": "code",
   "execution_count": 86,
   "id": "05871d54-c865-413e-8ad3-45802312e514",
   "metadata": {},
   "outputs": [],
   "source": [
    "b=lambda :print(2)"
   ]
  },
  {
   "cell_type": "code",
   "execution_count": 89,
   "id": "8adc9499-2343-45b5-ba91-c1bbae6f9ed3",
   "metadata": {},
   "outputs": [
    {
     "name": "stdout",
     "output_type": "stream",
     "text": [
      "2\n"
     ]
    }
   ],
   "source": [
    "b()"
   ]
  },
  {
   "cell_type": "code",
   "execution_count": 1,
   "id": "b3a42c21-1269-42fa-b4ae-eebc6251f44f",
   "metadata": {},
   "outputs": [],
   "source": [
    "def name():\n",
    "    print(\"I am krishna\")"
   ]
  },
  {
   "cell_type": "code",
   "execution_count": 2,
   "id": "d0b0dd00-9367-4762-a8fd-45b9a5d7c55a",
   "metadata": {},
   "outputs": [
    {
     "name": "stdout",
     "output_type": "stream",
     "text": [
      "I am krishna\n"
     ]
    }
   ],
   "source": [
    "name()"
   ]
  },
  {
   "cell_type": "markdown",
   "id": "f1769afb-b051-4fe2-917f-dbb5ce881c17",
   "metadata": {},
   "source": [
    "# function and argument"
   ]
  },
  {
   "cell_type": "code",
   "execution_count": 3,
   "id": "8c7a996d-50eb-47a7-affa-94033e483c98",
   "metadata": {},
   "outputs": [],
   "source": [
    "def name1(a):       # positional argument \n",
    "    print(\"I am {}\".format(a))"
   ]
  },
  {
   "cell_type": "code",
   "execution_count": 4,
   "id": "8eee891a-cc9a-4df1-b1bd-d2632aac32a1",
   "metadata": {},
   "outputs": [
    {
     "name": "stdout",
     "output_type": "stream",
     "text": [
      "I am Krishna\n"
     ]
    }
   ],
   "source": [
    "name1(\"Krishna\")"
   ]
  },
  {
   "cell_type": "code",
   "execution_count": 5,
   "id": "e88c88e6-5cf6-45dc-bf7a-f6e4420dcb42",
   "metadata": {},
   "outputs": [],
   "source": [
    "def arithmetic(a,b):    #two positional argument a,b\n",
    "    print(a+b)"
   ]
  },
  {
   "cell_type": "code",
   "execution_count": 6,
   "id": "f5ddb093-e7d7-43c9-8481-7c4589a5f910",
   "metadata": {},
   "outputs": [
    {
     "name": "stdout",
     "output_type": "stream",
     "text": [
      "30\n"
     ]
    }
   ],
   "source": [
    "arithmetic(10,20)"
   ]
  },
  {
   "cell_type": "code",
   "execution_count": 7,
   "id": "9ce33ac7-3c4e-4913-ac3c-362996b19a6c",
   "metadata": {},
   "outputs": [],
   "source": [
    "def arithmetic1(a,b):    #two positional argument a,b\n",
    "    print(\"a:\",a)\n",
    "    print(\"b:\",b)\n",
    "    print(a+b)"
   ]
  },
  {
   "cell_type": "code",
   "execution_count": 8,
   "id": "a17f3d71-4416-4d76-a278-abc0bcabb935",
   "metadata": {},
   "outputs": [
    {
     "name": "stdout",
     "output_type": "stream",
     "text": [
      "a: 10\n",
      "b: 20\n",
      "30\n"
     ]
    }
   ],
   "source": [
    "arithmetic1(10,20)"
   ]
  },
  {
   "cell_type": "code",
   "execution_count": 9,
   "id": "d2707e26-ccad-4029-b651-4e911890bddd",
   "metadata": {},
   "outputs": [],
   "source": [
    "def arithmetic2(b,a):    #two positional argument a,b\n",
    "    print(\"a:\",a)\n",
    "    print(\"b:\",b)\n",
    "    print(a+b)"
   ]
  },
  {
   "cell_type": "code",
   "execution_count": 10,
   "id": "ffef1f34-3f43-426b-9664-9049dfe591fc",
   "metadata": {},
   "outputs": [
    {
     "name": "stdout",
     "output_type": "stream",
     "text": [
      "a: 20\n",
      "b: 10\n",
      "30\n"
     ]
    }
   ],
   "source": [
    "arithmetic2(10,20)"
   ]
  },
  {
   "cell_type": "code",
   "execution_count": 11,
   "id": "f5bf2b0d-f551-4301-a6ed-538ce57d9d21",
   "metadata": {},
   "outputs": [],
   "source": [
    "def rate_of_interest(p,r,t):\n",
    "    result=(p*r*t)/100\n",
    "    print(result)"
   ]
  },
  {
   "cell_type": "code",
   "execution_count": 12,
   "id": "f45dabca-63d6-4898-b6e9-b86861b7a0d4",
   "metadata": {},
   "outputs": [
    {
     "name": "stdout",
     "output_type": "stream",
     "text": [
      "1000.0\n"
     ]
    }
   ],
   "source": [
    "rate_of_interest(10000,5,2)"
   ]
  },
  {
   "cell_type": "code",
   "execution_count": 13,
   "id": "a6d1f65b-b681-4b99-9ab0-ab41e3503dfb",
   "metadata": {},
   "outputs": [
    {
     "name": "stdout",
     "output_type": "stream",
     "text": [
      "1250.0\n"
     ]
    }
   ],
   "source": [
    "rate_of_interest(10000,5,5/2)"
   ]
  },
  {
   "cell_type": "code",
   "execution_count": 14,
   "id": "a344c1d8-33f9-457b-8deb-e5596b9023eb",
   "metadata": {},
   "outputs": [
    {
     "name": "stdout",
     "output_type": "stream",
     "text": [
      "1500.0\n"
     ]
    }
   ],
   "source": [
    "rate_of_interest(20000,1.5,5)"
   ]
  },
  {
   "cell_type": "code",
   "execution_count": 15,
   "id": "fe146816-fbc0-42f7-a67a-c203664fa2b0",
   "metadata": {},
   "outputs": [],
   "source": [
    "def compound_interest(p,r,n,t):\n",
    "    result=p*(1+r/n)**(n*t)\n",
    "    print(result)"
   ]
  },
  {
   "cell_type": "code",
   "execution_count": 16,
   "id": "c6a2edc7-a48f-42ae-975f-053ad6c23e9a",
   "metadata": {},
   "outputs": [
    {
     "name": "stdout",
     "output_type": "stream",
     "text": [
      "12752430004280.992\n"
     ]
    }
   ],
   "source": [
    "compound_interest(20000,5,10,5)"
   ]
  },
  {
   "cell_type": "markdown",
   "id": "2a456bf1-a7ad-496a-9e59-114455a5d1d9",
   "metadata": {},
   "source": [
    "# key value argument"
   ]
  },
  {
   "cell_type": "code",
   "execution_count": 2,
   "id": "4d95a313-bb9d-4dcb-ad86-95576e1309f1",
   "metadata": {},
   "outputs": [
    {
     "name": "stdout",
     "output_type": "stream",
     "text": [
      "0 hello world\n",
      "1 hello world\n",
      "2 hello world\n",
      "3 hello world\n",
      "4 hello world\n"
     ]
    }
   ],
   "source": [
    "for i in range(5):\n",
    "    print(i,\"hello world\")"
   ]
  },
  {
   "cell_type": "code",
   "execution_count": 3,
   "id": "521cecd6-b8ea-4a83-910c-571b6c894c4b",
   "metadata": {},
   "outputs": [],
   "source": [
    "def hello():\n",
    "    for i in range(5):\n",
    "        print(i,\"hello world\")"
   ]
  },
  {
   "cell_type": "code",
   "execution_count": 4,
   "id": "9ceb3b59-ff1c-44d9-94f6-10c26ac1236b",
   "metadata": {},
   "outputs": [
    {
     "name": "stdout",
     "output_type": "stream",
     "text": [
      "0 hello world\n",
      "1 hello world\n",
      "2 hello world\n",
      "3 hello world\n",
      "4 hello world\n"
     ]
    }
   ],
   "source": [
    "hello()"
   ]
  },
  {
   "cell_type": "code",
   "execution_count": 5,
   "id": "54659278-767b-4a46-bc76-0ab38ce9994b",
   "metadata": {},
   "outputs": [],
   "source": [
    "def hello1(n):\n",
    "    for i in range(n,5):\n",
    "        print(i,\"hello world\")"
   ]
  },
  {
   "cell_type": "code",
   "execution_count": 6,
   "id": "02db9487-bb75-4e75-946a-870fe5525085",
   "metadata": {},
   "outputs": [
    {
     "name": "stdout",
     "output_type": "stream",
     "text": [
      "1 hello world\n",
      "2 hello world\n",
      "3 hello world\n",
      "4 hello world\n"
     ]
    }
   ],
   "source": [
    "hello1(1)"
   ]
  },
  {
   "cell_type": "code",
   "execution_count": 7,
   "id": "c667818d-3669-4ea3-9d3d-7b13c29031bf",
   "metadata": {},
   "outputs": [],
   "source": [
    "def hello2(n,m):\n",
    "    for i in range(n,m):\n",
    "        print(i,\"hello world\")"
   ]
  },
  {
   "cell_type": "code",
   "execution_count": 8,
   "id": "0821abb7-794f-465a-92e2-23a3c34d8e0f",
   "metadata": {},
   "outputs": [
    {
     "name": "stdout",
     "output_type": "stream",
     "text": [
      "2 hello world\n",
      "3 hello world\n",
      "4 hello world\n",
      "5 hello world\n",
      "6 hello world\n",
      "7 hello world\n",
      "8 hello world\n",
      "9 hello world\n"
     ]
    }
   ],
   "source": [
    "hello2(2,10)"
   ]
  },
  {
   "cell_type": "code",
   "execution_count": 9,
   "id": "9da64fbd-3f10-4b5e-807f-a8257cc879d9",
   "metadata": {},
   "outputs": [],
   "source": [
    "def hello3(n,m):\n",
    "    for i in range(n,m+1):\n",
    "        print(i,\"hello world\")"
   ]
  },
  {
   "cell_type": "code",
   "execution_count": 10,
   "id": "7b7759c1-bda6-4d0f-953a-3023314bff73",
   "metadata": {},
   "outputs": [
    {
     "name": "stdout",
     "output_type": "stream",
     "text": [
      "2 hello world\n",
      "3 hello world\n",
      "4 hello world\n",
      "5 hello world\n",
      "6 hello world\n",
      "7 hello world\n",
      "8 hello world\n",
      "9 hello world\n",
      "10 hello world\n"
     ]
    }
   ],
   "source": [
    "hello3(2,10)"
   ]
  },
  {
   "cell_type": "code",
   "execution_count": 11,
   "id": "24605e65-0dbf-4132-bcd1-9ac9cb573d0a",
   "metadata": {},
   "outputs": [],
   "source": [
    "def hello4(n,m,o):\n",
    "    for i in range(n,m+1,o):\n",
    "        print(i,\"hello world\")"
   ]
  },
  {
   "cell_type": "code",
   "execution_count": 12,
   "id": "8e82fa0a-e78a-463c-ad7f-90535181b23c",
   "metadata": {},
   "outputs": [
    {
     "ename": "TypeError",
     "evalue": "hello4() missing 1 required positional argument: 'o'",
     "output_type": "error",
     "traceback": [
      "\u001b[1;31m---------------------------------------------------------------------------\u001b[0m",
      "\u001b[1;31mTypeError\u001b[0m                                 Traceback (most recent call last)",
      "Cell \u001b[1;32mIn[12], line 1\u001b[0m\n\u001b[1;32m----> 1\u001b[0m \u001b[43mhello4\u001b[49m\u001b[43m(\u001b[49m\u001b[38;5;241;43m2\u001b[39;49m\u001b[43m,\u001b[49m\u001b[38;5;241;43m10\u001b[39;49m\u001b[43m)\u001b[49m\n",
      "\u001b[1;31mTypeError\u001b[0m: hello4() missing 1 required positional argument: 'o'"
     ]
    }
   ],
   "source": [
    "hello4(2,10)"
   ]
  },
  {
   "cell_type": "code",
   "execution_count": 13,
   "id": "b852696e-af76-4888-a1f7-f37dbd98ac41",
   "metadata": {},
   "outputs": [],
   "source": [
    "def hello4(n,m,o=1):\n",
    "    for i in range(n,m+1,o):\n",
    "        print(i,\"hello world\")"
   ]
  },
  {
   "cell_type": "code",
   "execution_count": 15,
   "id": "1bc11eb6-c04d-4df8-8d88-f98517955447",
   "metadata": {},
   "outputs": [
    {
     "name": "stdout",
     "output_type": "stream",
     "text": [
      "2 hello world\n",
      "4 hello world\n",
      "6 hello world\n",
      "8 hello world\n",
      "10 hello world\n"
     ]
    }
   ],
   "source": [
    "hello4(2,10,2)"
   ]
  },
  {
   "cell_type": "markdown",
   "id": "e3c17f19-f8be-43a9-9dcc-60abf17feb4b",
   "metadata": {},
   "source": [
    "> default argument\n",
    "\n",
    "> keyword arguemnt\n",
    "\n",
    "> positional argument\n",
    "\n",
    "> arbitrary positional argument\n",
    "\n",
    "> arbitrary keyword argument"
   ]
  },
  {
   "cell_type": "code",
   "execution_count": 16,
   "id": "724fd68e-c757-427e-9be0-9f4d2f1d3520",
   "metadata": {},
   "outputs": [],
   "source": [
    "# positional argument"
   ]
  },
  {
   "cell_type": "code",
   "execution_count": 20,
   "id": "87753804-2d2f-4b84-8d58-3005017c7750",
   "metadata": {},
   "outputs": [],
   "source": [
    "def add(a,b):\n",
    "    print(a+b)"
   ]
  },
  {
   "cell_type": "code",
   "execution_count": 21,
   "id": "3cff0739-86f4-454b-9a45-c60b2aec78f3",
   "metadata": {},
   "outputs": [
    {
     "name": "stdout",
     "output_type": "stream",
     "text": [
      "5\n"
     ]
    }
   ],
   "source": [
    "add(2,3)"
   ]
  },
  {
   "cell_type": "code",
   "execution_count": 25,
   "id": "d7fe137e-0120-458a-8311-8eae0b2145ac",
   "metadata": {},
   "outputs": [],
   "source": [
    "#default argument"
   ]
  },
  {
   "cell_type": "code",
   "execution_count": 22,
   "id": "e54f577f-e423-4ebf-a4b0-85ff283caf8c",
   "metadata": {},
   "outputs": [],
   "source": [
    "def add2(a=10,b=20):\n",
    "    print(a+b)"
   ]
  },
  {
   "cell_type": "code",
   "execution_count": 46,
   "id": "1b8fca5a-6ad7-441b-bb9b-f98f03102404",
   "metadata": {},
   "outputs": [
    {
     "name": "stdout",
     "output_type": "stream",
     "text": [
      "300\n"
     ]
    }
   ],
   "source": [
    "add2(100,200)"
   ]
  },
  {
   "cell_type": "markdown",
   "id": "076541c9-5b5f-4595-a975-ebbc70c15cac",
   "metadata": {},
   "source": [
    "# keyword argument"
   ]
  },
  {
   "cell_type": "code",
   "execution_count": 26,
   "id": "c875f162-22cc-48d1-a3d3-864d64846591",
   "metadata": {},
   "outputs": [],
   "source": [
    "def add3(a,b):\n",
    "    print(a+b)"
   ]
  },
  {
   "cell_type": "code",
   "execution_count": 27,
   "id": "f2aeb356-aee1-4458-9a6b-6af26c3376e4",
   "metadata": {},
   "outputs": [
    {
     "name": "stdout",
     "output_type": "stream",
     "text": [
      "60\n"
     ]
    }
   ],
   "source": [
    "add3(a=20,b=40)"
   ]
  },
  {
   "cell_type": "code",
   "execution_count": 28,
   "id": "7a70124c-eb84-4af5-9c2e-7b54d124e727",
   "metadata": {},
   "outputs": [
    {
     "name": "stdout",
     "output_type": "stream",
     "text": [
      "70\n"
     ]
    }
   ],
   "source": [
    "add3(b=50,a=20)"
   ]
  },
  {
   "cell_type": "code",
   "execution_count": 29,
   "id": "c483afc4-2fd4-4475-bfe5-e994d47fb349",
   "metadata": {},
   "outputs": [],
   "source": [
    "# arbitrary argument"
   ]
  },
  {
   "cell_type": "code",
   "execution_count": 39,
   "id": "f59c989d-65dc-4ad8-ad9c-f060893368b4",
   "metadata": {},
   "outputs": [],
   "source": [
    "def add4(*n):\n",
    "    a=0\n",
    "    for i in n:\n",
    "        a=a+i\n",
    "    print(a)"
   ]
  },
  {
   "cell_type": "code",
   "execution_count": 38,
   "id": "f2c478f0-5fb2-475d-81b0-ea643b666b44",
   "metadata": {},
   "outputs": [
    {
     "name": "stdout",
     "output_type": "stream",
     "text": [
      "0.0\n"
     ]
    }
   ],
   "source": [
    "add4(2,3,4,5,6,7)"
   ]
  },
  {
   "cell_type": "markdown",
   "id": "622af1bb-f8fe-4231-a9fa-1149acdbceeb",
   "metadata": {},
   "source": [
    "# keyword arbitrary argument  **n"
   ]
  },
  {
   "cell_type": "code",
   "execution_count": 44,
   "id": "9d14ac5f-3017-4b1d-835e-42dcf287f815",
   "metadata": {},
   "outputs": [],
   "source": [
    "def add5(**n):\n",
    "    print(n.values())"
   ]
  },
  {
   "cell_type": "code",
   "execution_count": 45,
   "id": "aa2dcdca-15f8-4600-991c-1b7c4bd46d7c",
   "metadata": {},
   "outputs": [
    {
     "name": "stdout",
     "output_type": "stream",
     "text": [
      "dict_values(['krishna', 27, 72])\n"
     ]
    }
   ],
   "source": [
    "add5(name=\"krishna\",age=27,weight=72)"
   ]
  },
  {
   "cell_type": "code",
   "execution_count": 47,
   "id": "fd60c3b5-9e41-46e9-a598-4b08ba2b66d5",
   "metadata": {},
   "outputs": [],
   "source": [
    "def a():\n",
    "    print(\"this is python class\")"
   ]
  },
  {
   "cell_type": "markdown",
   "id": "34511f12-641d-49a2-9a02-da855c724dbc",
   "metadata": {},
   "source": [
    "# return "
   ]
  },
  {
   "cell_type": "code",
   "execution_count": 52,
   "id": "382ac4d0-0027-468e-be24-a9728f543df3",
   "metadata": {},
   "outputs": [],
   "source": [
    "def add(a=10,b=20):\n",
    "    result=a+b\n",
    "    return(result)"
   ]
  },
  {
   "cell_type": "code",
   "execution_count": 58,
   "id": "dc99ab24-0dd9-49cf-a288-5919cf90669a",
   "metadata": {},
   "outputs": [
    {
     "name": "stdout",
     "output_type": "stream",
     "text": [
      "70\n"
     ]
    }
   ],
   "source": [
    "a=add(a=20,b=50)\n",
    "print(a)"
   ]
  },
  {
   "cell_type": "code",
   "execution_count": 59,
   "id": "c9b459ec-e705-4674-b538-2b9aabdec7b0",
   "metadata": {},
   "outputs": [
    {
     "data": {
      "text/plain": [
       "90"
      ]
     },
     "execution_count": 59,
     "metadata": {},
     "output_type": "execute_result"
    }
   ],
   "source": [
    "a+20"
   ]
  },
  {
   "cell_type": "markdown",
   "id": "24893640-192a-4aff-a27e-b4c459e860d5",
   "metadata": {},
   "source": [
    "> local variable\n",
    "\n",
    "> global variable\n",
    "\n",
    "> Local scope \n",
    "\n",
    "> global scope\n",
    "\n",
    "> nested function\n",
    "\n",
    "> decorator \n",
    "\n",
    "> generator"
   ]
  },
  {
   "cell_type": "code",
   "execution_count": 5,
   "id": "5d3e7679-1161-4cf3-b2c8-49116e710747",
   "metadata": {},
   "outputs": [],
   "source": [
    "def add():\n",
    "    global a,b\n",
    "    a=10\n",
    "    b=20\n",
    "    print(a+b)"
   ]
  },
  {
   "cell_type": "code",
   "execution_count": 6,
   "id": "b2814730-a4ef-4b20-96f1-957d8c13e389",
   "metadata": {},
   "outputs": [
    {
     "name": "stdout",
     "output_type": "stream",
     "text": [
      "30\n"
     ]
    }
   ],
   "source": [
    "add()"
   ]
  },
  {
   "cell_type": "code",
   "execution_count": 7,
   "id": "3b245742-f5b7-448d-b46b-eb20bb048ecd",
   "metadata": {},
   "outputs": [
    {
     "name": "stdout",
     "output_type": "stream",
     "text": [
      "10\n"
     ]
    }
   ],
   "source": [
    "print(a)"
   ]
  },
  {
   "cell_type": "code",
   "execution_count": 8,
   "id": "92cb9da7-f85c-44d0-abcb-a9eda7da55de",
   "metadata": {},
   "outputs": [
    {
     "name": "stdout",
     "output_type": "stream",
     "text": [
      "20\n"
     ]
    }
   ],
   "source": [
    "print(b)"
   ]
  },
  {
   "cell_type": "code",
   "execution_count": 9,
   "id": "5ee236f7-3f5d-492d-ae62-396a9f29af23",
   "metadata": {},
   "outputs": [],
   "source": [
    "x=10"
   ]
  },
  {
   "cell_type": "code",
   "execution_count": 10,
   "id": "d62156ba-90af-4d42-965f-c3b60dd727ef",
   "metadata": {},
   "outputs": [],
   "source": [
    "y=20"
   ]
  },
  {
   "cell_type": "code",
   "execution_count": 11,
   "id": "e9834c95-3ced-411b-9672-2b5ab1f6bd64",
   "metadata": {},
   "outputs": [],
   "source": [
    "def add2():\n",
    "    print(x+y)"
   ]
  },
  {
   "cell_type": "code",
   "execution_count": 12,
   "id": "cca0631d-2cea-4f4e-9221-5a52a6d2891b",
   "metadata": {},
   "outputs": [
    {
     "name": "stdout",
     "output_type": "stream",
     "text": [
      "30\n"
     ]
    }
   ],
   "source": [
    "add2()"
   ]
  },
  {
   "cell_type": "markdown",
   "id": "e02ead57-4be6-488e-91f6-46a6c63c3cdb",
   "metadata": {},
   "source": [
    "# nested function"
   ]
  },
  {
   "cell_type": "code",
   "execution_count": 13,
   "id": "8403415f-0e56-4d06-b8b8-c4e2b4d7b2f1",
   "metadata": {},
   "outputs": [],
   "source": [
    "def new():\n",
    "    print(\"I am in MCA final year\")"
   ]
  },
  {
   "cell_type": "code",
   "execution_count": 14,
   "id": "999c3709-46cb-4df8-8205-3a824bc05cd6",
   "metadata": {},
   "outputs": [
    {
     "name": "stdout",
     "output_type": "stream",
     "text": [
      "I am in MCA final year\n"
     ]
    }
   ],
   "source": [
    "new()"
   ]
  },
  {
   "cell_type": "code",
   "execution_count": 15,
   "id": "30265126-1ee2-4c55-b641-5803d6ce2a8d",
   "metadata": {},
   "outputs": [
    {
     "name": "stdout",
     "output_type": "stream",
     "text": [
      "I am krishna\n",
      "I am in MCA final year\n"
     ]
    }
   ],
   "source": [
    "print(\"I am krishna\")\n",
    "new()"
   ]
  },
  {
   "cell_type": "code",
   "execution_count": 16,
   "id": "f57e0966-9c68-4dd8-bd2d-9cd79b492c6a",
   "metadata": {},
   "outputs": [],
   "source": [
    "def super(arg):\n",
    "    def inner():\n",
    "        print(\"I am krishna\")\n",
    "        arg()\n",
    "    return inner\n"
   ]
  },
  {
   "cell_type": "code",
   "execution_count": 21,
   "id": "3d557055-4e24-4504-956e-6bd23ccae3ca",
   "metadata": {},
   "outputs": [
    {
     "name": "stdout",
     "output_type": "stream",
     "text": [
      "I am krishna\n",
      "I am in MCA final year\n"
     ]
    }
   ],
   "source": [
    "val=super(new)\n",
    "val()"
   ]
  },
  {
   "cell_type": "code",
   "execution_count": 18,
   "id": "37d43084-728a-4a79-a8d1-948cc0d21c2d",
   "metadata": {},
   "outputs": [],
   "source": [
    "def sum(a):\n",
    "    return a"
   ]
  },
  {
   "cell_type": "code",
   "execution_count": 20,
   "id": "9aade73f-988f-4197-833e-319676be1d79",
   "metadata": {},
   "outputs": [
    {
     "data": {
      "text/plain": [
       "10"
      ]
     },
     "execution_count": 20,
     "metadata": {},
     "output_type": "execute_result"
    }
   ],
   "source": [
    "sum(10)\n",
    "# print(\"krishna\")"
   ]
  },
  {
   "cell_type": "code",
   "execution_count": 26,
   "id": "4e83a22c-ae6c-4e42-bafa-18a505743b1c",
   "metadata": {},
   "outputs": [],
   "source": [
    "def sum():\n",
    "    return (10)"
   ]
  },
  {
   "cell_type": "code",
   "execution_count": 32,
   "id": "ba401752-9c64-4152-8975-f56c6bdd540e",
   "metadata": {},
   "outputs": [],
   "source": [
    "a=sum()"
   ]
  },
  {
   "cell_type": "code",
   "execution_count": 34,
   "id": "b5044776-7d6b-4d36-8260-a058543ce8eb",
   "metadata": {},
   "outputs": [
    {
     "data": {
      "text/plain": [
       "10"
      ]
     },
     "execution_count": 34,
     "metadata": {},
     "output_type": "execute_result"
    }
   ],
   "source": [
    "a"
   ]
  },
  {
   "cell_type": "markdown",
   "id": "13053806-b3fa-4f9c-9e03-5288dd5cce0a",
   "metadata": {},
   "source": [
    "# decorator"
   ]
  },
  {
   "cell_type": "code",
   "execution_count": 36,
   "id": "9c2c8b6b-a11b-4f54-9ba6-4b6a48c73a2a",
   "metadata": {},
   "outputs": [],
   "source": [
    "def krishna(arg):\n",
    "    def inner():\n",
    "        print(\"krishna is deepak's friend\")\n",
    "        arg()\n",
    "    return inner"
   ]
  },
  {
   "cell_type": "code",
   "execution_count": 41,
   "id": "9a5be90e-31ae-4ffa-bcdf-50a823576209",
   "metadata": {},
   "outputs": [],
   "source": [
    "@krishna\n",
    "def deepak():\n",
    "    print(\"I am deepak\")"
   ]
  },
  {
   "cell_type": "code",
   "execution_count": 42,
   "id": "40b2d6bb-3ddc-4a1d-83fb-84130805fe1f",
   "metadata": {},
   "outputs": [
    {
     "name": "stdout",
     "output_type": "stream",
     "text": [
      "krishna is deepak's friend\n",
      "I am deepak\n"
     ]
    }
   ],
   "source": [
    "deepak()"
   ]
  },
  {
   "cell_type": "code",
   "execution_count": 45,
   "id": "f765fcb9-2c44-45e1-a368-5dac5b60aa8c",
   "metadata": {},
   "outputs": [],
   "source": [
    "@krishna\n",
    "def utkarsh():\n",
    "    print(\"I am utkarsh\")"
   ]
  },
  {
   "cell_type": "code",
   "execution_count": 46,
   "id": "789b259e-8c35-4666-8ad0-1926c447090c",
   "metadata": {},
   "outputs": [
    {
     "name": "stdout",
     "output_type": "stream",
     "text": [
      "krishna is deepak's friend\n",
      "I am utkarsh\n"
     ]
    }
   ],
   "source": [
    "utkarsh()"
   ]
  },
  {
   "cell_type": "markdown",
   "id": "5c866bc6-cc68-4e47-9c08-74591a52f596",
   "metadata": {},
   "source": [
    "# generator"
   ]
  },
  {
   "cell_type": "code",
   "execution_count": 47,
   "id": "5e248901-2a42-48e4-a447-7688e9c5ef48",
   "metadata": {},
   "outputs": [],
   "source": [
    "def count():\n",
    "    yield 1\n",
    "    yield 2\n",
    "    yield 3"
   ]
  },
  {
   "cell_type": "code",
   "execution_count": 49,
   "id": "72f02573-b93b-43c0-a437-f6e18227a016",
   "metadata": {},
   "outputs": [],
   "source": [
    "a=count()"
   ]
  },
  {
   "cell_type": "code",
   "execution_count": 50,
   "id": "a214f13a-d9ed-48d5-834f-f60c41e64640",
   "metadata": {},
   "outputs": [
    {
     "data": {
      "text/plain": [
       "1"
      ]
     },
     "execution_count": 50,
     "metadata": {},
     "output_type": "execute_result"
    }
   ],
   "source": [
    "next(a)"
   ]
  },
  {
   "cell_type": "code",
   "execution_count": 51,
   "id": "ab88420f-1f66-4b5f-8f56-abd2a8560688",
   "metadata": {},
   "outputs": [
    {
     "data": {
      "text/plain": [
       "2"
      ]
     },
     "execution_count": 51,
     "metadata": {},
     "output_type": "execute_result"
    }
   ],
   "source": [
    "next(a)"
   ]
  },
  {
   "cell_type": "code",
   "execution_count": 52,
   "id": "9d6356fa-ec7f-483e-b3bc-75016aec5f8a",
   "metadata": {},
   "outputs": [
    {
     "data": {
      "text/plain": [
       "3"
      ]
     },
     "execution_count": 52,
     "metadata": {},
     "output_type": "execute_result"
    }
   ],
   "source": [
    "next(a)"
   ]
  },
  {
   "cell_type": "code",
   "execution_count": 53,
   "id": "2a7e71cd-8478-401c-a846-320cc1ce5144",
   "metadata": {},
   "outputs": [
    {
     "ename": "StopIteration",
     "evalue": "",
     "output_type": "error",
     "traceback": [
      "\u001b[1;31m---------------------------------------------------------------------------\u001b[0m",
      "\u001b[1;31mStopIteration\u001b[0m                             Traceback (most recent call last)",
      "Cell \u001b[1;32mIn[53], line 1\u001b[0m\n\u001b[1;32m----> 1\u001b[0m \u001b[38;5;28;43mnext\u001b[39;49m\u001b[43m(\u001b[49m\u001b[43ma\u001b[49m\u001b[43m)\u001b[49m\n",
      "\u001b[1;31mStopIteration\u001b[0m: "
     ]
    }
   ],
   "source": [
    "next(a)"
   ]
  },
  {
   "cell_type": "code",
   "execution_count": 54,
   "id": "d0cc66f4-0a74-419a-845b-da3a49e59ef6",
   "metadata": {},
   "outputs": [],
   "source": [
    "b=count()"
   ]
  },
  {
   "cell_type": "code",
   "execution_count": 55,
   "id": "8067832f-f784-4304-aee5-eda151c071d2",
   "metadata": {},
   "outputs": [
    {
     "data": {
      "text/plain": [
       "1"
      ]
     },
     "execution_count": 55,
     "metadata": {},
     "output_type": "execute_result"
    }
   ],
   "source": [
    "b.__next__()"
   ]
  },
  {
   "cell_type": "code",
   "execution_count": 56,
   "id": "ab750ed7-9696-4703-b40c-9c48be3b6cd1",
   "metadata": {},
   "outputs": [
    {
     "data": {
      "text/plain": [
       "2"
      ]
     },
     "execution_count": 56,
     "metadata": {},
     "output_type": "execute_result"
    }
   ],
   "source": [
    "b.__next__()"
   ]
  },
  {
   "cell_type": "code",
   "execution_count": 57,
   "id": "b88acb8e-ef61-41e9-b03e-2c360577c089",
   "metadata": {},
   "outputs": [
    {
     "data": {
      "text/plain": [
       "3"
      ]
     },
     "execution_count": 57,
     "metadata": {},
     "output_type": "execute_result"
    }
   ],
   "source": [
    "b.__next__()"
   ]
  },
  {
   "cell_type": "code",
   "execution_count": 58,
   "id": "0161c992-8fd7-4321-893b-67f29393ce8d",
   "metadata": {},
   "outputs": [
    {
     "ename": "StopIteration",
     "evalue": "",
     "output_type": "error",
     "traceback": [
      "\u001b[1;31m---------------------------------------------------------------------------\u001b[0m",
      "\u001b[1;31mStopIteration\u001b[0m                             Traceback (most recent call last)",
      "Cell \u001b[1;32mIn[58], line 1\u001b[0m\n\u001b[1;32m----> 1\u001b[0m \u001b[43mb\u001b[49m\u001b[38;5;241;43m.\u001b[39;49m\u001b[38;5;21;43m__next__\u001b[39;49m\u001b[43m(\u001b[49m\u001b[43m)\u001b[49m\n",
      "\u001b[1;31mStopIteration\u001b[0m: "
     ]
    }
   ],
   "source": [
    "b.__next__()"
   ]
  },
  {
   "cell_type": "code",
   "execution_count": null,
   "id": "efa04504-2bb1-49e8-b2ba-ac3dbac7edc2",
   "metadata": {},
   "outputs": [],
   "source": []
  }
 ],
 "metadata": {
  "kernelspec": {
   "display_name": "Python 3 (ipykernel)",
   "language": "python",
   "name": "python3"
  },
  "language_info": {
   "codemirror_mode": {
    "name": "ipython",
    "version": 3
   },
   "file_extension": ".py",
   "mimetype": "text/x-python",
   "name": "python",
   "nbconvert_exporter": "python",
   "pygments_lexer": "ipython3",
   "version": "3.11.4"
  }
 },
 "nbformat": 4,
 "nbformat_minor": 5
}
