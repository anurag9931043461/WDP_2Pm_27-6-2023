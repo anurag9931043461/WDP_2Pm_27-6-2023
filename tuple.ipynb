{
 "cells": [
  {
   "cell_type": "markdown",
   "id": "e9d35d7d-256e-48a8-8705-2318bb2b0750",
   "metadata": {},
   "source": [
    "# tuple \n",
    "\n",
    "> tuple constructor is tuple()\n",
    "\n",
    "> tuple literal is ()\n",
    "\n",
    "> tuple is a set of sequence of elements\n",
    "\n",
    "> tuple is immutable(hasable)\n",
    "\n",
    "> tuple support indexing\n",
    "\n",
    "> tuple support slicing \n",
    "\n",
    "> tuple support nested tuple\n",
    "\n",
    "> tuple is faster then list\n",
    "\n",
    "> tuple has two methods index() and count()"
   ]
  },
  {
   "cell_type": "code",
   "execution_count": 1,
   "id": "d1b02ab1-3dca-4097-a169-1e51244a87a7",
   "metadata": {},
   "outputs": [],
   "source": [
    "a=(10,10.0,\"10\",[1,2,3],(1,2,3))"
   ]
  },
  {
   "cell_type": "code",
   "execution_count": 2,
   "id": "58172589-1908-4519-ad16-ea3464ea5db6",
   "metadata": {},
   "outputs": [
    {
     "name": "stdout",
     "output_type": "stream",
     "text": [
      "(10, 10.0, '10', [1, 2, 3], (1, 2, 3))\n"
     ]
    }
   ],
   "source": [
    "print(a)"
   ]
  },
  {
   "cell_type": "code",
   "execution_count": 3,
   "id": "b53b5971-48bb-402d-96ef-b926603258a5",
   "metadata": {},
   "outputs": [
    {
     "name": "stdout",
     "output_type": "stream",
     "text": [
      "<class 'tuple'>\n"
     ]
    }
   ],
   "source": [
    "print(type(a))"
   ]
  },
  {
   "cell_type": "code",
   "execution_count": 4,
   "id": "0d90b5a0-17bc-4fef-a8b6-acb473b03aa9",
   "metadata": {},
   "outputs": [],
   "source": [
    "b=tuple()"
   ]
  },
  {
   "cell_type": "code",
   "execution_count": 7,
   "id": "4c65e0c7-d289-4c29-8c29-cb46cf351596",
   "metadata": {},
   "outputs": [
    {
     "name": "stdout",
     "output_type": "stream",
     "text": [
      "()\n",
      "<class 'tuple'>\n"
     ]
    }
   ],
   "source": [
    "print(b)\n",
    "print(type(b))"
   ]
  },
  {
   "cell_type": "code",
   "execution_count": 8,
   "id": "38441bee-8735-44d3-a233-d7c384dfd479",
   "metadata": {},
   "outputs": [
    {
     "name": "stdout",
     "output_type": "stream",
     "text": [
      "()\n",
      "<class 'tuple'>\n"
     ]
    }
   ],
   "source": [
    "c=()\n",
    "print(c)\n",
    "print(type(c))"
   ]
  },
  {
   "cell_type": "code",
   "execution_count": 9,
   "id": "cc408479-9969-4263-9756-f542bc241def",
   "metadata": {},
   "outputs": [
    {
     "name": "stdout",
     "output_type": "stream",
     "text": [
      "(10, 10.0, '10', [1, 2, 3], (1, 2, 3))\n"
     ]
    }
   ],
   "source": [
    "print(a)"
   ]
  },
  {
   "cell_type": "code",
   "execution_count": 11,
   "id": "a373c611-5f14-4b3c-851c-fd797a0f6e93",
   "metadata": {},
   "outputs": [
    {
     "name": "stdout",
     "output_type": "stream",
     "text": [
      "5\n"
     ]
    }
   ],
   "source": [
    "print(len(a)) # len() function is use to get the length of iterable"
   ]
  },
  {
   "cell_type": "code",
   "execution_count": 14,
   "id": "141534b5-8298-4086-a4e0-67ef110c4c5c",
   "metadata": {},
   "outputs": [
    {
     "name": "stdout",
     "output_type": "stream",
     "text": [
      "[1, 2, 3]\n"
     ]
    }
   ],
   "source": [
    "print(a[3])   # indexing"
   ]
  },
  {
   "cell_type": "code",
   "execution_count": 16,
   "id": "a3f8c662-8726-4756-b547-76aa98476be0",
   "metadata": {},
   "outputs": [
    {
     "name": "stdout",
     "output_type": "stream",
     "text": [
      "[1, 2, 3]\n"
     ]
    }
   ],
   "source": [
    "print(a[-2]) #indexing"
   ]
  },
  {
   "cell_type": "markdown",
   "id": "6d4ea7ba-90f6-4dc3-b3c5-ddf692ac0639",
   "metadata": {},
   "source": [
    "# slicing"
   ]
  },
  {
   "cell_type": "code",
   "execution_count": 17,
   "id": "b581603c-9b63-4e1c-9a76-855a4604ae5a",
   "metadata": {},
   "outputs": [
    {
     "name": "stdout",
     "output_type": "stream",
     "text": [
      "(10, 10.0, '10', [1, 2, 3], (1, 2, 3))\n"
     ]
    }
   ],
   "source": [
    "print(a)"
   ]
  },
  {
   "cell_type": "code",
   "execution_count": 19,
   "id": "189d812b-a173-401d-928d-78f1392fc638",
   "metadata": {},
   "outputs": [
    {
     "name": "stdout",
     "output_type": "stream",
     "text": [
      "(10.0, '10')\n"
     ]
    }
   ],
   "source": [
    "print(a[1:3:1])   # a[start:end+1: step]"
   ]
  },
  {
   "cell_type": "code",
   "execution_count": 20,
   "id": "482d4d3a-996f-4a4f-a397-aac645aa008c",
   "metadata": {},
   "outputs": [
    {
     "name": "stdout",
     "output_type": "stream",
     "text": [
      "((1, 2, 3), [1, 2, 3], '10', 10.0, 10)\n"
     ]
    }
   ],
   "source": [
    "print(a[-1::-1])"
   ]
  },
  {
   "cell_type": "code",
   "execution_count": 21,
   "id": "cfd46382-6bd6-4b4a-8aac-9b0a4157ff69",
   "metadata": {},
   "outputs": [
    {
     "name": "stdout",
     "output_type": "stream",
     "text": [
      "((1, 2, 3), [1, 2, 3], '10', 10.0, 10)\n"
     ]
    }
   ],
   "source": [
    "print(a[4::-1])"
   ]
  },
  {
   "cell_type": "code",
   "execution_count": 23,
   "id": "ba2dcf22-52b9-4f78-8fde-38e4ce5072d1",
   "metadata": {},
   "outputs": [
    {
     "name": "stdout",
     "output_type": "stream",
     "text": [
      "(10, 10.0, '10', [1, 2, 3], (1, 2, 3))\n"
     ]
    }
   ],
   "source": [
    "print(a)"
   ]
  },
  {
   "cell_type": "code",
   "execution_count": 24,
   "id": "3608e6c1-ad6c-4211-8777-66219ec5cd5e",
   "metadata": {},
   "outputs": [
    {
     "data": {
      "text/plain": [
       "1"
      ]
     },
     "execution_count": 24,
     "metadata": {},
     "output_type": "execute_result"
    }
   ],
   "source": [
    "a.count('10')"
   ]
  },
  {
   "cell_type": "code",
   "execution_count": 25,
   "id": "9d67879c-56ee-4f40-8680-6980d8da22ac",
   "metadata": {},
   "outputs": [
    {
     "data": {
      "text/plain": [
       "3"
      ]
     },
     "execution_count": 25,
     "metadata": {},
     "output_type": "execute_result"
    }
   ],
   "source": [
    "a.index([1,2,3])"
   ]
  },
  {
   "cell_type": "code",
   "execution_count": 26,
   "id": "9d98b3d7-8670-4887-9084-6f0488d2a317",
   "metadata": {},
   "outputs": [],
   "source": [
    "# Packing unpacking"
   ]
  },
  {
   "cell_type": "code",
   "execution_count": 30,
   "id": "20614a57-1d48-4857-b83a-55dc6fa05a0c",
   "metadata": {},
   "outputs": [],
   "source": [
    "a=1,2,3,4,5   # packing "
   ]
  },
  {
   "cell_type": "code",
   "execution_count": 31,
   "id": "12b90475-5ce8-443d-95e2-10d012c9c774",
   "metadata": {},
   "outputs": [
    {
     "name": "stdout",
     "output_type": "stream",
     "text": [
      "(1, 2, 3, 4, 5)\n"
     ]
    }
   ],
   "source": [
    "print(a)"
   ]
  },
  {
   "cell_type": "code",
   "execution_count": 32,
   "id": "93dc1585-df86-40cc-809e-e6a26f8fa779",
   "metadata": {},
   "outputs": [
    {
     "name": "stdout",
     "output_type": "stream",
     "text": [
      "<class 'tuple'>\n"
     ]
    }
   ],
   "source": [
    "print(type(a))"
   ]
  },
  {
   "cell_type": "code",
   "execution_count": 33,
   "id": "a7a42742-35d0-4df3-ab29-8fd3737bf6f8",
   "metadata": {},
   "outputs": [],
   "source": [
    "d,e,f,g,h=a"
   ]
  },
  {
   "cell_type": "code",
   "execution_count": 34,
   "id": "0c97b077-0ef4-4974-9cfd-85fd5c2f0677",
   "metadata": {},
   "outputs": [
    {
     "name": "stdout",
     "output_type": "stream",
     "text": [
      "1\n"
     ]
    }
   ],
   "source": [
    "print(d)"
   ]
  },
  {
   "cell_type": "code",
   "execution_count": 35,
   "id": "f7954ecb-e6a1-4338-826c-db086b014971",
   "metadata": {},
   "outputs": [
    {
     "name": "stdout",
     "output_type": "stream",
     "text": [
      "2\n"
     ]
    }
   ],
   "source": [
    "print(e)"
   ]
  },
  {
   "cell_type": "code",
   "execution_count": 36,
   "id": "c135da0f-ce67-4098-8bdf-e62322883732",
   "metadata": {},
   "outputs": [
    {
     "name": "stdout",
     "output_type": "stream",
     "text": [
      "3\n"
     ]
    }
   ],
   "source": [
    "print(f)"
   ]
  },
  {
   "cell_type": "code",
   "execution_count": 37,
   "id": "4ae8b10b-c68d-4b17-b4e4-8e7fa0a63a1a",
   "metadata": {},
   "outputs": [
    {
     "name": "stdout",
     "output_type": "stream",
     "text": [
      "4\n"
     ]
    }
   ],
   "source": [
    "print(g)"
   ]
  },
  {
   "cell_type": "code",
   "execution_count": 38,
   "id": "f20fcc3b-f6ed-49cd-9dab-c7f59e191ae2",
   "metadata": {},
   "outputs": [
    {
     "name": "stdout",
     "output_type": "stream",
     "text": [
      "5\n"
     ]
    }
   ],
   "source": [
    "print(h)"
   ]
  },
  {
   "cell_type": "code",
   "execution_count": 39,
   "id": "f5538ad9-318d-4f4e-a42e-d4844e246613",
   "metadata": {},
   "outputs": [
    {
     "ename": "ValueError",
     "evalue": "too many values to unpack (expected 4)",
     "output_type": "error",
     "traceback": [
      "\u001b[1;31m---------------------------------------------------------------------------\u001b[0m",
      "\u001b[1;31mValueError\u001b[0m                                Traceback (most recent call last)",
      "Cell \u001b[1;32mIn[39], line 1\u001b[0m\n\u001b[1;32m----> 1\u001b[0m k,l,m,n\u001b[38;5;241m=\u001b[39m(\u001b[38;5;241m1\u001b[39m,\u001b[38;5;241m2\u001b[39m,\u001b[38;5;241m3\u001b[39m,\u001b[38;5;241m4\u001b[39m,\u001b[38;5;241m5\u001b[39m)\n",
      "\u001b[1;31mValueError\u001b[0m: too many values to unpack (expected 4)"
     ]
    }
   ],
   "source": [
    "k,l,m,n=(1,2,3,4,5)"
   ]
  },
  {
   "cell_type": "code",
   "execution_count": 42,
   "id": "ef1a8b2a-d7c8-473f-a88f-2cd90b99af69",
   "metadata": {},
   "outputs": [],
   "source": [
    "k,l,m,*n=(1,2,3,4,5)"
   ]
  },
  {
   "cell_type": "code",
   "execution_count": 43,
   "id": "d6eec6f3-adb0-415a-b89c-ef88d4e5b61b",
   "metadata": {},
   "outputs": [
    {
     "name": "stdout",
     "output_type": "stream",
     "text": [
      "1\n"
     ]
    }
   ],
   "source": [
    "print(k)"
   ]
  },
  {
   "cell_type": "code",
   "execution_count": 44,
   "id": "a7574657-0ef7-42ae-a8d0-d7494641269e",
   "metadata": {},
   "outputs": [
    {
     "name": "stdout",
     "output_type": "stream",
     "text": [
      "2\n"
     ]
    }
   ],
   "source": [
    "print(l)"
   ]
  },
  {
   "cell_type": "code",
   "execution_count": 45,
   "id": "0766e522-e263-45a1-b472-5f3f2697f119",
   "metadata": {},
   "outputs": [
    {
     "name": "stdout",
     "output_type": "stream",
     "text": [
      "3\n"
     ]
    }
   ],
   "source": [
    "print(m)"
   ]
  },
  {
   "cell_type": "code",
   "execution_count": 46,
   "id": "e3923a6d-21a5-4309-9c3c-49088d16864a",
   "metadata": {},
   "outputs": [
    {
     "name": "stdout",
     "output_type": "stream",
     "text": [
      "[4, 5]\n"
     ]
    }
   ],
   "source": [
    "print(n)"
   ]
  },
  {
   "cell_type": "code",
   "execution_count": 47,
   "id": "e2bd7449-e03a-4fb4-9cc1-23ee018b8940",
   "metadata": {},
   "outputs": [
    {
     "ename": "SyntaxError",
     "evalue": "multiple starred expressions in assignment (2395078967.py, line 1)",
     "output_type": "error",
     "traceback": [
      "\u001b[1;36m  Cell \u001b[1;32mIn[47], line 1\u001b[1;36m\u001b[0m\n\u001b[1;33m    k,l,*m,*n=(1,2,3,4,5)\u001b[0m\n\u001b[1;37m    ^\u001b[0m\n\u001b[1;31mSyntaxError\u001b[0m\u001b[1;31m:\u001b[0m multiple starred expressions in assignment\n"
     ]
    }
   ],
   "source": [
    "k,l,*m,*n=(1,2,3,4,5)"
   ]
  },
  {
   "cell_type": "code",
   "execution_count": 48,
   "id": "bd13dc68-672b-463b-be28-28190d8b7f99",
   "metadata": {},
   "outputs": [],
   "source": [
    "k,l,*m,n=(1,2,3,4,5)"
   ]
  },
  {
   "cell_type": "code",
   "execution_count": 49,
   "id": "aacf9d6a-e456-47e8-b6d2-20d2f77e032c",
   "metadata": {},
   "outputs": [
    {
     "name": "stdout",
     "output_type": "stream",
     "text": [
      "1\n"
     ]
    }
   ],
   "source": [
    "print(k)"
   ]
  },
  {
   "cell_type": "code",
   "execution_count": 50,
   "id": "50f8caef-8183-4853-8bb0-a79c27514822",
   "metadata": {},
   "outputs": [
    {
     "name": "stdout",
     "output_type": "stream",
     "text": [
      "2\n"
     ]
    }
   ],
   "source": [
    "print(l)"
   ]
  },
  {
   "cell_type": "code",
   "execution_count": 51,
   "id": "f44d7773-882a-488c-92ea-c3400691bd16",
   "metadata": {},
   "outputs": [
    {
     "name": "stdout",
     "output_type": "stream",
     "text": [
      "[3, 4]\n"
     ]
    }
   ],
   "source": [
    "print(m)"
   ]
  },
  {
   "cell_type": "code",
   "execution_count": 52,
   "id": "524238cc-85ee-475b-b0d8-42829d502bc2",
   "metadata": {},
   "outputs": [
    {
     "name": "stdout",
     "output_type": "stream",
     "text": [
      "5\n"
     ]
    }
   ],
   "source": [
    "print(n)"
   ]
  },
  {
   "cell_type": "code",
   "execution_count": null,
   "id": "9833773b-e1e4-4263-a470-5c74543ca771",
   "metadata": {},
   "outputs": [],
   "source": []
  }
 ],
 "metadata": {
  "kernelspec": {
   "display_name": "Python 3 (ipykernel)",
   "language": "python",
   "name": "python3"
  },
  "language_info": {
   "codemirror_mode": {
    "name": "ipython",
    "version": 3
   },
   "file_extension": ".py",
   "mimetype": "text/x-python",
   "name": "python",
   "nbconvert_exporter": "python",
   "pygments_lexer": "ipython3",
   "version": "3.10.9"
  }
 },
 "nbformat": 4,
 "nbformat_minor": 5
}
