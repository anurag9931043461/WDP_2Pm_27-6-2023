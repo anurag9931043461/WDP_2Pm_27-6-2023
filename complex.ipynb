{
 "cells": [
  {
   "cell_type": "code",
   "execution_count": 1,
   "id": "2f5ed1b1-fc6e-43e4-aa1d-8b720749aca5",
   "metadata": {},
   "outputs": [],
   "source": [
    "# complex\n",
    "\n",
    "# complex constructor is complex()\n",
    "\n",
    "# complex literal is 0j\n"
   ]
  },
  {
   "cell_type": "code",
   "execution_count": 2,
   "id": "e3567b09-ce5a-46f8-a119-bad1fda74ba3",
   "metadata": {},
   "outputs": [],
   "source": [
    "a=complex()"
   ]
  },
  {
   "cell_type": "code",
   "execution_count": 3,
   "id": "f7fa06d0-014b-4ca7-8eae-34d89b23cafd",
   "metadata": {},
   "outputs": [
    {
     "name": "stdout",
     "output_type": "stream",
     "text": [
      "0j\n"
     ]
    }
   ],
   "source": [
    "print(a)"
   ]
  },
  {
   "cell_type": "code",
   "execution_count": 4,
   "id": "af769393-41e8-4478-b52f-5dc3d5f8291a",
   "metadata": {},
   "outputs": [],
   "source": [
    "a=23j"
   ]
  },
  {
   "cell_type": "code",
   "execution_count": 5,
   "id": "7801d79e-3693-4199-a1cf-3dafa9ba81e8",
   "metadata": {},
   "outputs": [
    {
     "name": "stdout",
     "output_type": "stream",
     "text": [
      "23j\n"
     ]
    }
   ],
   "source": [
    "print(a)"
   ]
  },
  {
   "cell_type": "code",
   "execution_count": 6,
   "id": "0a93495f-9312-4e7c-bae3-7a1a988af831",
   "metadata": {},
   "outputs": [
    {
     "data": {
      "text/plain": [
       "(2+2j)"
      ]
     },
     "execution_count": 6,
     "metadata": {},
     "output_type": "execute_result"
    }
   ],
   "source": [
    "2+2j"
   ]
  },
  {
   "cell_type": "code",
   "execution_count": 7,
   "id": "15b118a4-c1ee-40b5-8de9-5f39eeecf2ef",
   "metadata": {},
   "outputs": [
    {
     "data": {
      "text/plain": [
       "(1+0j)"
      ]
     },
     "execution_count": 7,
     "metadata": {},
     "output_type": "execute_result"
    }
   ],
   "source": [
    "complex(1)"
   ]
  },
  {
   "cell_type": "code",
   "execution_count": 8,
   "id": "c73010f4-3b5f-4692-a83b-d9b02165a71e",
   "metadata": {},
   "outputs": [
    {
     "data": {
      "text/plain": [
       "(1+10j)"
      ]
     },
     "execution_count": 8,
     "metadata": {},
     "output_type": "execute_result"
    }
   ],
   "source": [
    "complex(1,10)"
   ]
  },
  {
   "cell_type": "code",
   "execution_count": 9,
   "id": "6b93d4fc-ab05-42d7-962e-43989bc8113c",
   "metadata": {},
   "outputs": [
    {
     "ename": "TypeError",
     "evalue": "complex() takes at most 2 arguments (3 given)",
     "output_type": "error",
     "traceback": [
      "\u001b[1;31m---------------------------------------------------------------------------\u001b[0m",
      "\u001b[1;31mTypeError\u001b[0m                                 Traceback (most recent call last)",
      "Cell \u001b[1;32mIn[9], line 1\u001b[0m\n\u001b[1;32m----> 1\u001b[0m \u001b[38;5;28;43mcomplex\u001b[39;49m\u001b[43m(\u001b[49m\u001b[38;5;241;43m1\u001b[39;49m\u001b[43m,\u001b[49m\u001b[38;5;241;43m10\u001b[39;49m\u001b[43m,\u001b[49m\u001b[38;5;241;43m10\u001b[39;49m\u001b[43m)\u001b[49m\n",
      "\u001b[1;31mTypeError\u001b[0m: complex() takes at most 2 arguments (3 given)"
     ]
    }
   ],
   "source": [
    "complex(1,10,10)"
   ]
  },
  {
   "cell_type": "code",
   "execution_count": 11,
   "id": "1a91cbbe-9722-4d22-9e33-e0a45831ef22",
   "metadata": {},
   "outputs": [],
   "source": [
    "a=(2+2j)"
   ]
  },
  {
   "cell_type": "code",
   "execution_count": 12,
   "id": "85fe0378-a649-4f51-84dd-4a5c9333c5e5",
   "metadata": {},
   "outputs": [],
   "source": [
    "b=(2+5j)"
   ]
  },
  {
   "cell_type": "code",
   "execution_count": 13,
   "id": "d1daf681-aca5-45f6-b2aa-8d97699c4408",
   "metadata": {},
   "outputs": [
    {
     "data": {
      "text/plain": [
       "(4+7j)"
      ]
     },
     "execution_count": 13,
     "metadata": {},
     "output_type": "execute_result"
    }
   ],
   "source": [
    "a+b"
   ]
  },
  {
   "cell_type": "code",
   "execution_count": 14,
   "id": "053c678b-253e-4679-9a66-df55b924b27d",
   "metadata": {},
   "outputs": [
    {
     "data": {
      "text/plain": [
       "-3j"
      ]
     },
     "execution_count": 14,
     "metadata": {},
     "output_type": "execute_result"
    }
   ],
   "source": [
    "a-b"
   ]
  },
  {
   "cell_type": "code",
   "execution_count": 15,
   "id": "59587dad-9174-421c-a9fb-93620f96aab9",
   "metadata": {},
   "outputs": [
    {
     "data": {
      "text/plain": [
       "(-6+14j)"
      ]
     },
     "execution_count": 15,
     "metadata": {},
     "output_type": "execute_result"
    }
   ],
   "source": [
    "a*b"
   ]
  },
  {
   "cell_type": "code",
   "execution_count": 16,
   "id": "2bd966bb-fb2a-484d-ae01-70e9faba8da1",
   "metadata": {},
   "outputs": [
    {
     "data": {
      "text/plain": [
       "(0.48275862068965514-0.20689655172413793j)"
      ]
     },
     "execution_count": 16,
     "metadata": {},
     "output_type": "execute_result"
    }
   ],
   "source": [
    "a/b"
   ]
  },
  {
   "cell_type": "code",
   "execution_count": null,
   "id": "f9c1eb3d-8cbe-48bd-b9ba-6b161b040f19",
   "metadata": {},
   "outputs": [],
   "source": []
  }
 ],
 "metadata": {
  "kernelspec": {
   "display_name": "Python 3 (ipykernel)",
   "language": "python",
   "name": "python3"
  },
  "language_info": {
   "codemirror_mode": {
    "name": "ipython",
    "version": 3
   },
   "file_extension": ".py",
   "mimetype": "text/x-python",
   "name": "python",
   "nbconvert_exporter": "python",
   "pygments_lexer": "ipython3",
   "version": "3.10.9"
  }
 },
 "nbformat": 4,
 "nbformat_minor": 5
}
